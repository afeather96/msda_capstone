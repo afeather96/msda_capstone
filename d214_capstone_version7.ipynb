{
 "cells": [
  {
   "cell_type": "code",
   "execution_count": 1,
   "id": "c67ce71c-71a9-4054-9717-e9231ac835cd",
   "metadata": {},
   "outputs": [],
   "source": [
    "import pandas as pd\n",
    "import numpy as np\n",
    "import matplotlib.pyplot as plt\n",
    "import seaborn as sns\n",
    "from collections import deque\n",
    "from surprise import Dataset, NormalPredictor, Reader\n",
    "from surprise.model_selection import cross_validate\n",
    "import os\n",
    "from sklearn.model_selection import train_test_split\n",
    "import pickle\n",
    "from surprise import accuracy\n",
    "from surprise import accuracy, Dataset, Reader, SVD, KNNBaseline\n",
    "from surprise.model_selection import PredefinedKFold\n",
    "import pprint\n",
    "import tempfile\n",
    "from typing import Dict, Text\n",
    "import tensorflow as tf\n",
    "import tensorflow_recommenders as tfrs\n",
    "from collections import defaultdict\n",
    "import joblib"
   ]
  },
  {
   "cell_type": "code",
   "execution_count": 2,
   "id": "677943da-6770-4783-a53a-15bd21f217a7",
   "metadata": {},
   "outputs": [
    {
     "name": "stdout",
     "output_type": "stream",
     "text": [
      "/Users/alecclarkfeather/capstone_project\n"
     ]
    }
   ],
   "source": [
    "#!pwd"
   ]
  },
  {
   "cell_type": "code",
   "execution_count": 3,
   "id": "a07f0d13-03a9-4350-be20-09e831c932a1",
   "metadata": {},
   "outputs": [],
   "source": [
    "PATH = '/Users/alecclarkfeather/capstone_project/'\n",
    "\n",
    "train_hr0 = pd.read_csv(PATH + 'hit_rate_folds_actual/train_hr0.csv', header=None)\n",
    "test_hr0 = pd.read_csv(PATH + 'hit_rate_folds_actual/test_hr0.csv', header=None)"
   ]
  },
  {
   "cell_type": "code",
   "execution_count": 4,
   "id": "ca5179c1-a02e-4ac8-9846-c6951ecf038e",
   "metadata": {},
   "outputs": [],
   "source": [
    "train_hr0.columns = ['user_id', 'movie_id', 'rating']\n",
    "test_hr0.columns = ['user_id', 'movie_id', 'rating']"
   ]
  },
  {
   "cell_type": "code",
   "execution_count": 5,
   "id": "993c1b38-f6b6-4454-8b5f-df8fe0310fbf",
   "metadata": {},
   "outputs": [
    {
     "data": {
      "text/html": [
       "<div>\n",
       "<style scoped>\n",
       "    .dataframe tbody tr th:only-of-type {\n",
       "        vertical-align: middle;\n",
       "    }\n",
       "\n",
       "    .dataframe tbody tr th {\n",
       "        vertical-align: top;\n",
       "    }\n",
       "\n",
       "    .dataframe thead th {\n",
       "        text-align: right;\n",
       "    }\n",
       "</style>\n",
       "<table border=\"1\" class=\"dataframe\">\n",
       "  <thead>\n",
       "    <tr style=\"text-align: right;\">\n",
       "      <th></th>\n",
       "      <th>user_id</th>\n",
       "      <th>movie_id</th>\n",
       "      <th>rating</th>\n",
       "    </tr>\n",
       "  </thead>\n",
       "  <tbody>\n",
       "    <tr>\n",
       "      <th>0</th>\n",
       "      <td>826574</td>\n",
       "      <td>9729</td>\n",
       "      <td>4.0</td>\n",
       "    </tr>\n",
       "    <tr>\n",
       "      <th>1</th>\n",
       "      <td>2200645</td>\n",
       "      <td>1719</td>\n",
       "      <td>4.0</td>\n",
       "    </tr>\n",
       "    <tr>\n",
       "      <th>2</th>\n",
       "      <td>2150434</td>\n",
       "      <td>5356</td>\n",
       "      <td>5.0</td>\n",
       "    </tr>\n",
       "    <tr>\n",
       "      <th>3</th>\n",
       "      <td>2142065</td>\n",
       "      <td>8753</td>\n",
       "      <td>3.0</td>\n",
       "    </tr>\n",
       "    <tr>\n",
       "      <th>4</th>\n",
       "      <td>867086</td>\n",
       "      <td>6721</td>\n",
       "      <td>4.0</td>\n",
       "    </tr>\n",
       "  </tbody>\n",
       "</table>\n",
       "</div>"
      ],
      "text/plain": [
       "   user_id  movie_id  rating\n",
       "0   826574      9729     4.0\n",
       "1  2200645      1719     4.0\n",
       "2  2150434      5356     5.0\n",
       "3  2142065      8753     3.0\n",
       "4   867086      6721     4.0"
      ]
     },
     "execution_count": 5,
     "metadata": {},
     "output_type": "execute_result"
    }
   ],
   "source": [
    "train_hr0.head()"
   ]
  },
  {
   "cell_type": "code",
   "execution_count": 6,
   "id": "a4b42254-a0b3-4865-8a8b-61b5a8d334b9",
   "metadata": {},
   "outputs": [
    {
     "data": {
      "text/html": [
       "<div>\n",
       "<style scoped>\n",
       "    .dataframe tbody tr th:only-of-type {\n",
       "        vertical-align: middle;\n",
       "    }\n",
       "\n",
       "    .dataframe tbody tr th {\n",
       "        vertical-align: top;\n",
       "    }\n",
       "\n",
       "    .dataframe thead th {\n",
       "        text-align: right;\n",
       "    }\n",
       "</style>\n",
       "<table border=\"1\" class=\"dataframe\">\n",
       "  <thead>\n",
       "    <tr style=\"text-align: right;\">\n",
       "      <th></th>\n",
       "      <th>user_id</th>\n",
       "      <th>movie_id</th>\n",
       "      <th>rating</th>\n",
       "    </tr>\n",
       "  </thead>\n",
       "  <tbody>\n",
       "    <tr>\n",
       "      <th>0</th>\n",
       "      <td>1667994</td>\n",
       "      <td>7904</td>\n",
       "      <td>3.0</td>\n",
       "    </tr>\n",
       "    <tr>\n",
       "      <th>1</th>\n",
       "      <td>1105606</td>\n",
       "      <td>10359</td>\n",
       "      <td>2.0</td>\n",
       "    </tr>\n",
       "    <tr>\n",
       "      <th>2</th>\n",
       "      <td>2129781</td>\n",
       "      <td>8636</td>\n",
       "      <td>4.0</td>\n",
       "    </tr>\n",
       "    <tr>\n",
       "      <th>3</th>\n",
       "      <td>1129575</td>\n",
       "      <td>2519</td>\n",
       "      <td>4.0</td>\n",
       "    </tr>\n",
       "    <tr>\n",
       "      <th>4</th>\n",
       "      <td>1001105</td>\n",
       "      <td>8966</td>\n",
       "      <td>4.0</td>\n",
       "    </tr>\n",
       "  </tbody>\n",
       "</table>\n",
       "</div>"
      ],
      "text/plain": [
       "   user_id  movie_id  rating\n",
       "0  1667994      7904     3.0\n",
       "1  1105606     10359     2.0\n",
       "2  2129781      8636     4.0\n",
       "3  1129575      2519     4.0\n",
       "4  1001105      8966     4.0"
      ]
     },
     "execution_count": 6,
     "metadata": {},
     "output_type": "execute_result"
    }
   ],
   "source": [
    "test_hr0.head()"
   ]
  },
  {
   "cell_type": "code",
   "execution_count": 7,
   "id": "21d93fa8-cbf0-4c6d-9c42-0b569bea543a",
   "metadata": {},
   "outputs": [
    {
     "data": {
      "text/html": [
       "<div>\n",
       "<style scoped>\n",
       "    .dataframe tbody tr th:only-of-type {\n",
       "        vertical-align: middle;\n",
       "    }\n",
       "\n",
       "    .dataframe tbody tr th {\n",
       "        vertical-align: top;\n",
       "    }\n",
       "\n",
       "    .dataframe thead th {\n",
       "        text-align: right;\n",
       "    }\n",
       "</style>\n",
       "<table border=\"1\" class=\"dataframe\">\n",
       "  <thead>\n",
       "    <tr style=\"text-align: right;\">\n",
       "      <th></th>\n",
       "      <th>user_id</th>\n",
       "      <th>movie_id</th>\n",
       "      <th>rating</th>\n",
       "    </tr>\n",
       "  </thead>\n",
       "  <tbody>\n",
       "    <tr>\n",
       "      <th>0</th>\n",
       "      <td>841872</td>\n",
       "      <td>14454</td>\n",
       "      <td>5.0</td>\n",
       "    </tr>\n",
       "    <tr>\n",
       "      <th>1</th>\n",
       "      <td>689085</td>\n",
       "      <td>299</td>\n",
       "      <td>5.0</td>\n",
       "    </tr>\n",
       "    <tr>\n",
       "      <th>2</th>\n",
       "      <td>2529854</td>\n",
       "      <td>11165</td>\n",
       "      <td>5.0</td>\n",
       "    </tr>\n",
       "    <tr>\n",
       "      <th>3</th>\n",
       "      <td>2597445</td>\n",
       "      <td>10886</td>\n",
       "      <td>4.0</td>\n",
       "    </tr>\n",
       "    <tr>\n",
       "      <th>4</th>\n",
       "      <td>2336656</td>\n",
       "      <td>3282</td>\n",
       "      <td>5.0</td>\n",
       "    </tr>\n",
       "  </tbody>\n",
       "</table>\n",
       "</div>"
      ],
      "text/plain": [
       "   user_id  movie_id  rating\n",
       "0   841872     14454     5.0\n",
       "1   689085       299     5.0\n",
       "2  2529854     11165     5.0\n",
       "3  2597445     10886     4.0\n",
       "4  2336656      3282     5.0"
      ]
     },
     "execution_count": 7,
     "metadata": {},
     "output_type": "execute_result"
    }
   ],
   "source": [
    "top_ratings_df = pd.read_csv(PATH + 'top_ratings_df.csv')\n",
    "top_ratings_df.head()"
   ]
  },
  {
   "cell_type": "code",
   "execution_count": 8,
   "id": "5be76371-45cf-4449-94bb-f96e99696116",
   "metadata": {},
   "outputs": [
    {
     "data": {
      "text/plain": [
       "True"
      ]
     },
     "execution_count": 8,
     "metadata": {},
     "output_type": "execute_result"
    }
   ],
   "source": [
    "len(top_ratings_df) == len(top_ratings_df['user_id'].unique())"
   ]
  },
  {
   "cell_type": "code",
   "execution_count": 10,
   "id": "ce1c429a-624f-4d46-be7c-ec5e84aaa957",
   "metadata": {},
   "outputs": [],
   "source": [
    "hr_model_0a = joblib.load(open(PATH + 'model0a.pkl', 'rb'))"
   ]
  },
  {
   "cell_type": "code",
   "execution_count": 11,
   "id": "6fb158a1-6102-42da-9ffa-5187ae012d69",
   "metadata": {},
   "outputs": [
    {
     "data": {
      "text/plain": [
       "keras.saving.saved_model.load.NetflixRmseModel"
      ]
     },
     "execution_count": 11,
     "metadata": {},
     "output_type": "execute_result"
    }
   ],
   "source": [
    "#type(hr_model_0a)"
   ]
  },
  {
   "cell_type": "code",
   "execution_count": 12,
   "id": "8233610a-39b7-492f-9ecb-03c1b4b27272",
   "metadata": {},
   "outputs": [
    {
     "name": "stdout",
     "output_type": "stream",
     "text": [
      "Model: \"netflix_rmse_model_4\"\n",
      "_________________________________________________________________\n",
      " Layer (type)                Output Shape              Param #   \n",
      "=================================================================\n",
      " deep_rec_rmse_model_4 (Deep  multiple                 4449105   \n",
      " RecRmseModel)                                                   \n",
      "                                                                 \n",
      " ranking_4 (Ranking)         multiple                  0         \n",
      "                                                                 \n",
      "=================================================================\n",
      "Total params: 4,449,105\n",
      "Trainable params: 4,449,105\n",
      "Non-trainable params: 0\n",
      "_________________________________________________________________\n"
     ]
    }
   ],
   "source": [
    "#hr_model_0a.summary()"
   ]
  },
  {
   "cell_type": "code",
   "execution_count": 13,
   "id": "2c245b93-c697-4cbe-978d-d8d71eb37f91",
   "metadata": {},
   "outputs": [
    {
     "data": {
      "text/plain": [
       "841872"
      ]
     },
     "execution_count": 13,
     "metadata": {},
     "output_type": "execute_result"
    }
   ],
   "source": [
    "top_ratings_df['user_id'].loc[0]"
   ]
  },
  {
   "cell_type": "code",
   "execution_count": 14,
   "id": "50f07252-0397-4fac-8dd1-b738ded94b77",
   "metadata": {},
   "outputs": [],
   "source": [
    "test_pred = hr_model_0a({'user_id': np.array([top_ratings_df['user_id'].loc[0]]),\n",
    "                        'movie_id': np.array([top_ratings_df['movie_id'].loc[0]])})"
   ]
  },
  {
   "cell_type": "code",
   "execution_count": 30,
   "id": "21713838-980f-49d1-9671-8192004f7f8f",
   "metadata": {},
   "outputs": [
    {
     "data": {
      "text/plain": [
       "3.6029956"
      ]
     },
     "execution_count": 30,
     "metadata": {},
     "output_type": "execute_result"
    }
   ],
   "source": [
    "test_pred.numpy()[0][0]"
   ]
  },
  {
   "cell_type": "code",
   "execution_count": 39,
   "id": "3b276c6e-4a48-450d-b89b-604bd7d74c29",
   "metadata": {},
   "outputs": [
    {
     "data": {
      "text/plain": [
       "(264059,)"
      ]
     },
     "execution_count": 39,
     "metadata": {},
     "output_type": "execute_result"
    }
   ],
   "source": [
    "top_ratings_df['user_id'].values.shape"
   ]
  },
  {
   "cell_type": "code",
   "execution_count": 40,
   "id": "b9853733-e6f7-4172-8af9-ae9766e0b547",
   "metadata": {},
   "outputs": [
    {
     "data": {
      "text/plain": [
       "(264059,)"
      ]
     },
     "execution_count": 40,
     "metadata": {},
     "output_type": "execute_result"
    }
   ],
   "source": [
    "np.random.randn(264059).shape"
   ]
  },
  {
   "cell_type": "code",
   "execution_count": 41,
   "id": "add3ccd7-f4bc-4648-81dd-60d737d65699",
   "metadata": {},
   "outputs": [
    {
     "data": {
      "text/plain": [
       "1529188.2514990915"
      ]
     },
     "execution_count": 41,
     "metadata": {},
     "output_type": "execute_result"
    }
   ],
   "source": [
    "np.sqrt(np.mean((top_ratings_df['user_id'].values - np.random.randn(264059))**2))"
   ]
  },
  {
   "cell_type": "code",
   "execution_count": 42,
   "id": "010f683f-563e-438c-b869-056b137f481c",
   "metadata": {},
   "outputs": [
    {
     "data": {
      "text/plain": [
       "(4,)"
      ]
     },
     "execution_count": 42,
     "metadata": {},
     "output_type": "execute_result"
    }
   ],
   "source": [
    "xyz = [1,2,3,4]\n",
    "np.array(xyz).shape"
   ]
  },
  {
   "cell_type": "code",
   "execution_count": 38,
   "id": "2b4fc532-60fb-4d1e-ba95-8ee967fa8b9e",
   "metadata": {},
   "outputs": [],
   "source": [
    "#predictions_1a = defaultdict(list)\n",
    "\n",
    "#for i in range(len(test_hr0)):\n",
    "    #user = test_hr0['user_id'].loc[i]\n",
    "    #movie = test_hr0['movie_id'].loc[i]\n",
    "    #predicted_rating = hr_model_0a({'user_id': np.array([user]),\n",
    "                                           #'movie_id': np.array([movie])})\n",
    "   # predictions_1a[user].append((movie, predicted_rating.numpy()[0][0]))"
   ]
  },
  {
   "cell_type": "code",
   "execution_count": 37,
   "id": "8361c12e-15b6-463d-a141-9657e1b82968",
   "metadata": {},
   "outputs": [
    {
     "data": {
      "text/plain": [
       "[(7904, 2.782896),\n",
       " (16703, 3.440704),\n",
       " (12435, 3.8466794),\n",
       " (3148, 3.601721),\n",
       " (3446, 4.0607963),\n",
       " (8159, 3.6908143),\n",
       " (3320, 3.529143),\n",
       " (16108, 2.7437606),\n",
       " (16223, 4.0090284),\n",
       " (1220, 3.9485912),\n",
       " (5805, 3.9380841),\n",
       " (963, 3.8927152),\n",
       " (9108, 2.6777651),\n",
       " (16969, 3.9435968)]"
      ]
     },
     "execution_count": 37,
     "metadata": {},
     "output_type": "execute_result"
    }
   ],
   "source": [
    "#len(predictions_1a)\n",
    "#predictions_1a[1667994]"
   ]
  },
  {
   "cell_type": "code",
   "execution_count": null,
   "id": "9c7815e4-d52b-429e-97d5-1e7146b6b154",
   "metadata": {},
   "outputs": [],
   "source": [
    "hr_model_0b = joblib.load(open(PATH + 'model0b.pkl', 'rb'))\n",
    "\n",
    "predictions_1b = defaultdict(list)\n",
    "\n",
    "for i in range(len(train_hr0)):\n",
    "    user = train_hr0['user_id'].loc[i]\n",
    "    movie = train_hr0['movie_id'].loc[i]\n",
    "    predicted_rating = hr_model_0b({'user_id': np.array([user]),\n",
    "                                           'movie_id': np.array([movie])})\n",
    "    predictions_1b[user].append((movie, predicted_rating.numpy()[0][0]))"
   ]
  },
  {
   "cell_type": "code",
   "execution_count": null,
   "id": "467d4020-50de-4830-aac7-7efae0275073",
   "metadata": {},
   "outputs": [],
   "source": [
    "for user_id, user_ratings in predictions_1a.items():\n",
    "    user_ratings.sort(key=lambda x: x[1], reverse=True)\n",
    "    predictions_1a[user_id] = user_ratings[:100]"
   ]
  },
  {
   "cell_type": "code",
   "execution_count": null,
   "id": "6c157e70-2ce8-412d-a6c0-7ef84cd39cc9",
   "metadata": {},
   "outputs": [],
   "source": [
    "for user_id, user_ratings in predictions_1b.items():\n",
    "    user_ratings.sort(key=lambda x: x[1], reverse=True)\n",
    "    predictions_1b[user_id] = user_ratings[:100]"
   ]
  },
  {
   "cell_type": "code",
   "execution_count": null,
   "id": "fe28b579-62eb-4897-bb2f-5eed2994fdef",
   "metadata": {},
   "outputs": [],
   "source": [
    "num_users = 0\n",
    "hits = 0\n",
    "\n",
    "for user_id in predictions_1a.keys():\n",
    "    top_movie = top_ratings_df[top_ratings_df['user_id']==user_id]['movie_id']\n",
    "    num_users += 1\n",
    "    num_recs = len(predictions_1a[user_id])\n",
    "    top_number = int(num_recs*0.25)\n",
    "    boundary_for_user = [rec[1] for rec in predictions_1a[user_id]][top_number]\n",
    "    pred_top_movie = hr_model_0a({'user_id': np.array([user_id]),\n",
    "                                         'movie_id': np.array([top_movie])})\n",
    "    if pred_top_movie.numpy()[0][0] > boundary_for_user:\n",
    "        hits += 1\n",
    "        \n",
    "hit_rate_1a = hits / num_users\n",
    "print(hit_rate_1a)"
   ]
  },
  {
   "cell_type": "code",
   "execution_count": null,
   "id": "52851ece-9a3d-4212-a571-376f355654d0",
   "metadata": {},
   "outputs": [],
   "source": [
    "num_users = 0\n",
    "hits = 0\n",
    "\n",
    "for user_id in predictions_1b.keys():\n",
    "    top_movie = top_ratings_df[top_ratings_df['user_id']==user_id]['movie_id']\n",
    "    num_users += 1\n",
    "    num_recs = len(predictions_1b[user_id])\n",
    "    top_number = int(num_recs*0.25)\n",
    "    boundary_for_user = [rec[1] for rec in predictions_1b[user_id]][top_number]\n",
    "    pred_top_movie = hr_model_0b({'user_id': np.array([user_id]),\n",
    "                                         'movie_id': np.array([top_movie])})\n",
    "    if pred_top_movie.numpy()[0][0] > boundary_for_user:\n",
    "        hits += 1\n",
    "        \n",
    "hit_rate_1b = hits / num_users\n",
    "print(hit_rate_1b)"
   ]
  },
  {
   "cell_type": "code",
   "execution_count": null,
   "id": "21e0310e-6b3a-4edd-beca-4bae5de08fa9",
   "metadata": {},
   "outputs": [],
   "source": [
    "hit_rates_nn = []\n",
    "hit_rates_nn.append(hit_rate_1a)\n",
    "hit_rates_nn.append(hit_rate_1b)\n",
    "\n",
    "for i in range(1, 5):\n",
    "    hr_model_1a = joblib.load(open(PATH + f'model{i}a.pkl', 'rb'))\n",
    "    hr_model_1b = joblib.load(open(PATH + f'model{i}b.pkl', 'rb'))\n",
    "    train_hr = pd.read_csv(PATH + f'hit_rate_folds_actual/train_hr{i}.csv', header=None)\n",
    "    test_hr = pd.read_csv(PATH + f'hit_rate_folds_actual/test_hr{i}.csv', header=None)\n",
    "    train_hr.columns = ['user_id', 'movie_id', 'rating']\n",
    "    test_hr.columns = ['user_id', 'movie_id', 'rating']\n",
    "    \n",
    "    predictions_a = defaultdict(list)\n",
    "    for i in range(len(test_hr)):\n",
    "        user = test_hr['user_id'].loc[i]\n",
    "        movie = test_hr['movie_id'].loc[i]\n",
    "        predicted_rating = hr_model_1a({'user_id': np.array([user]),\n",
    "                                           'movie_id': np.array([movie])})\n",
    "        predictions_a[user].append((movie, predicted_rating.numpy()[0][0]))\n",
    "        \n",
    "    for user_id, user_ratings in predictions_a.items():\n",
    "        user_ratings.sort(key=lambda x: x[1], reverse=True)\n",
    "        predictions_a[user_id] = user_ratings[:100]\n",
    "        \n",
    "    predictions_b = defaultdict(list)\n",
    "\n",
    "    for i in range(len(train_hr)):\n",
    "        user = train_hr['user_id'].loc[i]\n",
    "        movie = train_hr['movie_id'].loc[i]\n",
    "        predicted_rating = hr_model_1b({'user_id': np.array([user]),\n",
    "                                           'movie_id': np.array([movie])})\n",
    "        predictions_b[user].append((movie, predicted_rating.numpy()[0][0]))\n",
    "        \n",
    "    \n",
    "    for user_id, user_ratings in predictions_b.items():\n",
    "        user_ratings.sort(key=lambda x: x[1], reverse=True)\n",
    "        predictions_b[user_id] = user_ratings[:100]\n",
    "        \n",
    "    num_users_a = 0\n",
    "    num_users_b = 0\n",
    "    num_hits_a = 0\n",
    "    num_hits_b = 0\n",
    "    \n",
    "    for user_id in predictions_a.keys():\n",
    "        top_movie = top_ratings_df[top_ratings_df['user_id']==user_id]['movie_id']\n",
    "        num_users_a += 1\n",
    "        num_recs = len(predictions_a[user_id])\n",
    "        top_number = int(num_recs*0.25)\n",
    "        boundary_for_user = [rec[1] for rec in predictions_a[user_id]][top_number]\n",
    "        pred_top_movie = hr_model_1a({'user_id': np.array([user_id]),\n",
    "                                         'movie_id': np.array([top_movie])})\n",
    "        if pred_top_movie.numpy()[0][0] > boundary_for_user:\n",
    "            num_hits_a += 1\n",
    "            \n",
    "    for user_id in predictions_b.keys():\n",
    "        top_movie = top_ratings_df[top_ratings_df['user_id']==user_id]['movie_id']\n",
    "        num_users_b += 1\n",
    "        num_recs = len(predictions_b[user_id])\n",
    "        top_number = int(num_recs*0.25)\n",
    "        boundary_for_user = [rec[1] for rec in predictions_b[user_id]][top_number]\n",
    "        pred_top_movie = hr_model_1b({'user_id': np.array([user_id]),\n",
    "                                         'movie_id': np.array([top_movie])})\n",
    "        if pred_top_movie.numpy()[0][0] > boundary_for_user:\n",
    "            num_hits_b += 1\n",
    "            \n",
    "    hit_rates_nn.append(num_hits_a / num_users_a)\n",
    "    hit_rates_nn.append(num_hits_b / num_users_b)\n",
    "    \n",
    "    \n",
    "    "
   ]
  }
 ],
 "metadata": {
  "kernelspec": {
   "display_name": "Python 3",
   "language": "python",
   "name": "python3"
  },
  "language_info": {
   "codemirror_mode": {
    "name": "ipython",
    "version": 3
   },
   "file_extension": ".py",
   "mimetype": "text/x-python",
   "name": "python",
   "nbconvert_exporter": "python",
   "pygments_lexer": "ipython3",
   "version": "3.8.8"
  }
 },
 "nbformat": 4,
 "nbformat_minor": 5
}
