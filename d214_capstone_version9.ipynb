{
 "cells": [
  {
   "cell_type": "code",
   "execution_count": 1,
   "id": "79d17996-ba7f-466f-a4cc-9d9b5b4642ff",
   "metadata": {},
   "outputs": [],
   "source": [
    "import pandas as pd\n",
    "import numpy as np\n",
    "import matplotlib.pyplot as plt\n",
    "import seaborn as sns\n",
    "from collections import deque\n",
    "from surprise import Dataset, NormalPredictor, Reader\n",
    "from surprise.model_selection import cross_validate\n",
    "import os\n",
    "from sklearn.model_selection import train_test_split\n",
    "import pickle\n",
    "from surprise import accuracy\n",
    "from surprise import accuracy, Dataset, Reader, SVD, KNNBaseline\n",
    "from surprise.model_selection import PredefinedKFold\n",
    "import pprint\n",
    "import tempfile\n",
    "from typing import Dict, Text\n",
    "import tensorflow as tf\n",
    "import tensorflow_recommenders as tfrs\n",
    "from collections import defaultdict\n",
    "import joblib\n",
    "from scipy import stats"
   ]
  },
  {
   "cell_type": "code",
   "execution_count": 2,
   "id": "400c6b9e-038d-47df-a02e-e105c0884648",
   "metadata": {},
   "outputs": [],
   "source": [
    "PATH = '/Users/alecclarkfeather/capstone_project/'"
   ]
  },
  {
   "cell_type": "code",
   "execution_count": 3,
   "id": "2a591f58-35c9-4d2e-b999-1f37fd5d1643",
   "metadata": {},
   "outputs": [],
   "source": [
    "def five_by_two_paired_t_test(df, col1, col2):\n",
    "    variances = []\n",
    "    diffs = []\n",
    "    for i in range(2, 12, 2):\n",
    "        group1 = df[col1].iloc[:i].values\n",
    "        group2 = df[col2].iloc[:i].values\n",
    "        result1a = group1[i-2]\n",
    "        result1b = group1[i-1]\n",
    "        result2a = group2[i-2]\n",
    "        result2b = group2[i-1]\n",
    "        performance1 = result1a - result2a\n",
    "        performance2 = result1b - result2b\n",
    "        mean_performance = (performance1 + performance2) / 2\n",
    "        variance_performance = (performance1 - mean_performance)**2 + (performance2 - mean_performance)**2\n",
    "        variances.append(variance_performance)\n",
    "        diffs.append(performance1)\n",
    "        \n",
    "    t_statistic = diffs[0] / np.sqrt((1/len(variances))*np.sum(variances))\n",
    "    p_value = stats.t.sf(abs(t_statistic), df=len(variances))\n",
    "    \n",
    "    return t_statistic, p_value\n",
    "        "
   ]
  },
  {
   "cell_type": "code",
   "execution_count": 4,
   "id": "d50c6b97-06a2-43e0-8aba-97442a8b14eb",
   "metadata": {},
   "outputs": [
    {
     "data": {
      "text/html": [
       "<div>\n",
       "<style scoped>\n",
       "    .dataframe tbody tr th:only-of-type {\n",
       "        vertical-align: middle;\n",
       "    }\n",
       "\n",
       "    .dataframe tbody tr th {\n",
       "        vertical-align: top;\n",
       "    }\n",
       "\n",
       "    .dataframe thead th {\n",
       "        text-align: right;\n",
       "    }\n",
       "</style>\n",
       "<table border=\"1\" class=\"dataframe\">\n",
       "  <thead>\n",
       "    <tr style=\"text-align: right;\">\n",
       "      <th></th>\n",
       "      <th>neural_network_rmse</th>\n",
       "    </tr>\n",
       "  </thead>\n",
       "  <tbody>\n",
       "    <tr>\n",
       "      <th>0</th>\n",
       "      <td>1.031356</td>\n",
       "    </tr>\n",
       "    <tr>\n",
       "      <th>1</th>\n",
       "      <td>1.024157</td>\n",
       "    </tr>\n",
       "    <tr>\n",
       "      <th>2</th>\n",
       "      <td>1.033121</td>\n",
       "    </tr>\n",
       "    <tr>\n",
       "      <th>3</th>\n",
       "      <td>1.028123</td>\n",
       "    </tr>\n",
       "    <tr>\n",
       "      <th>4</th>\n",
       "      <td>1.031856</td>\n",
       "    </tr>\n",
       "    <tr>\n",
       "      <th>5</th>\n",
       "      <td>1.021747</td>\n",
       "    </tr>\n",
       "    <tr>\n",
       "      <th>6</th>\n",
       "      <td>1.031770</td>\n",
       "    </tr>\n",
       "    <tr>\n",
       "      <th>7</th>\n",
       "      <td>1.024254</td>\n",
       "    </tr>\n",
       "    <tr>\n",
       "      <th>8</th>\n",
       "      <td>1.033011</td>\n",
       "    </tr>\n",
       "    <tr>\n",
       "      <th>9</th>\n",
       "      <td>1.026739</td>\n",
       "    </tr>\n",
       "  </tbody>\n",
       "</table>\n",
       "</div>"
      ],
      "text/plain": [
       "   neural_network_rmse\n",
       "0             1.031356\n",
       "1             1.024157\n",
       "2             1.033121\n",
       "3             1.028123\n",
       "4             1.031856\n",
       "5             1.021747\n",
       "6             1.031770\n",
       "7             1.024254\n",
       "8             1.033011\n",
       "9             1.026739"
      ]
     },
     "execution_count": 4,
     "metadata": {},
     "output_type": "execute_result"
    }
   ],
   "source": [
    "rmse_nn_df = pd.read_csv(PATH + 'rmse_nn_df.csv')\n",
    "rmse_nn_df"
   ]
  },
  {
   "cell_type": "code",
   "execution_count": 5,
   "id": "1857ef88-93a1-49c5-a862-4e9deeed3652",
   "metadata": {},
   "outputs": [
    {
     "data": {
      "text/html": [
       "<div>\n",
       "<style scoped>\n",
       "    .dataframe tbody tr th:only-of-type {\n",
       "        vertical-align: middle;\n",
       "    }\n",
       "\n",
       "    .dataframe tbody tr th {\n",
       "        vertical-align: top;\n",
       "    }\n",
       "\n",
       "    .dataframe thead th {\n",
       "        text-align: right;\n",
       "    }\n",
       "</style>\n",
       "<table border=\"1\" class=\"dataframe\">\n",
       "  <thead>\n",
       "    <tr style=\"text-align: right;\">\n",
       "      <th></th>\n",
       "      <th>baseline</th>\n",
       "      <th>cf</th>\n",
       "      <th>svd</th>\n",
       "    </tr>\n",
       "  </thead>\n",
       "  <tbody>\n",
       "    <tr>\n",
       "      <th>0</th>\n",
       "      <td>1.478618</td>\n",
       "      <td>1.066947</td>\n",
       "      <td>1.006683</td>\n",
       "    </tr>\n",
       "    <tr>\n",
       "      <th>1</th>\n",
       "      <td>1.477799</td>\n",
       "      <td>1.067403</td>\n",
       "      <td>1.006872</td>\n",
       "    </tr>\n",
       "    <tr>\n",
       "      <th>2</th>\n",
       "      <td>1.478326</td>\n",
       "      <td>1.067594</td>\n",
       "      <td>1.007039</td>\n",
       "    </tr>\n",
       "    <tr>\n",
       "      <th>3</th>\n",
       "      <td>1.478533</td>\n",
       "      <td>1.067073</td>\n",
       "      <td>1.007092</td>\n",
       "    </tr>\n",
       "    <tr>\n",
       "      <th>4</th>\n",
       "      <td>1.478335</td>\n",
       "      <td>1.066790</td>\n",
       "      <td>1.007514</td>\n",
       "    </tr>\n",
       "    <tr>\n",
       "      <th>5</th>\n",
       "      <td>1.477217</td>\n",
       "      <td>1.066989</td>\n",
       "      <td>1.006884</td>\n",
       "    </tr>\n",
       "    <tr>\n",
       "      <th>6</th>\n",
       "      <td>1.477425</td>\n",
       "      <td>1.067445</td>\n",
       "      <td>1.006484</td>\n",
       "    </tr>\n",
       "    <tr>\n",
       "      <th>7</th>\n",
       "      <td>1.478469</td>\n",
       "      <td>1.067561</td>\n",
       "      <td>1.007107</td>\n",
       "    </tr>\n",
       "    <tr>\n",
       "      <th>8</th>\n",
       "      <td>1.477504</td>\n",
       "      <td>1.067057</td>\n",
       "      <td>1.007069</td>\n",
       "    </tr>\n",
       "    <tr>\n",
       "      <th>9</th>\n",
       "      <td>1.478085</td>\n",
       "      <td>1.067257</td>\n",
       "      <td>1.006919</td>\n",
       "    </tr>\n",
       "  </tbody>\n",
       "</table>\n",
       "</div>"
      ],
      "text/plain": [
       "   baseline        cf       svd\n",
       "0  1.478618  1.066947  1.006683\n",
       "1  1.477799  1.067403  1.006872\n",
       "2  1.478326  1.067594  1.007039\n",
       "3  1.478533  1.067073  1.007092\n",
       "4  1.478335  1.066790  1.007514\n",
       "5  1.477217  1.066989  1.006884\n",
       "6  1.477425  1.067445  1.006484\n",
       "7  1.478469  1.067561  1.007107\n",
       "8  1.477504  1.067057  1.007069\n",
       "9  1.478085  1.067257  1.006919"
      ]
     },
     "execution_count": 5,
     "metadata": {},
     "output_type": "execute_result"
    }
   ],
   "source": [
    "rmse_results_df = pd.read_csv(PATH + 'rmse_results_df.csv')\n",
    "rmse_results_df"
   ]
  },
  {
   "cell_type": "code",
   "execution_count": 6,
   "id": "dd7370c7-8902-49ca-8246-6a9372547267",
   "metadata": {},
   "outputs": [
    {
     "data": {
      "text/html": [
       "<div>\n",
       "<style scoped>\n",
       "    .dataframe tbody tr th:only-of-type {\n",
       "        vertical-align: middle;\n",
       "    }\n",
       "\n",
       "    .dataframe tbody tr th {\n",
       "        vertical-align: top;\n",
       "    }\n",
       "\n",
       "    .dataframe thead th {\n",
       "        text-align: right;\n",
       "    }\n",
       "</style>\n",
       "<table border=\"1\" class=\"dataframe\">\n",
       "  <thead>\n",
       "    <tr style=\"text-align: right;\">\n",
       "      <th></th>\n",
       "      <th>baseline</th>\n",
       "      <th>cf</th>\n",
       "      <th>svd</th>\n",
       "      <th>neural_network_rmse</th>\n",
       "    </tr>\n",
       "  </thead>\n",
       "  <tbody>\n",
       "    <tr>\n",
       "      <th>0</th>\n",
       "      <td>1.478618</td>\n",
       "      <td>1.066947</td>\n",
       "      <td>1.006683</td>\n",
       "      <td>1.031356</td>\n",
       "    </tr>\n",
       "    <tr>\n",
       "      <th>1</th>\n",
       "      <td>1.477799</td>\n",
       "      <td>1.067403</td>\n",
       "      <td>1.006872</td>\n",
       "      <td>1.024157</td>\n",
       "    </tr>\n",
       "    <tr>\n",
       "      <th>2</th>\n",
       "      <td>1.478326</td>\n",
       "      <td>1.067594</td>\n",
       "      <td>1.007039</td>\n",
       "      <td>1.033121</td>\n",
       "    </tr>\n",
       "    <tr>\n",
       "      <th>3</th>\n",
       "      <td>1.478533</td>\n",
       "      <td>1.067073</td>\n",
       "      <td>1.007092</td>\n",
       "      <td>1.028123</td>\n",
       "    </tr>\n",
       "    <tr>\n",
       "      <th>4</th>\n",
       "      <td>1.478335</td>\n",
       "      <td>1.066790</td>\n",
       "      <td>1.007514</td>\n",
       "      <td>1.031856</td>\n",
       "    </tr>\n",
       "    <tr>\n",
       "      <th>5</th>\n",
       "      <td>1.477217</td>\n",
       "      <td>1.066989</td>\n",
       "      <td>1.006884</td>\n",
       "      <td>1.021747</td>\n",
       "    </tr>\n",
       "    <tr>\n",
       "      <th>6</th>\n",
       "      <td>1.477425</td>\n",
       "      <td>1.067445</td>\n",
       "      <td>1.006484</td>\n",
       "      <td>1.031770</td>\n",
       "    </tr>\n",
       "    <tr>\n",
       "      <th>7</th>\n",
       "      <td>1.478469</td>\n",
       "      <td>1.067561</td>\n",
       "      <td>1.007107</td>\n",
       "      <td>1.024254</td>\n",
       "    </tr>\n",
       "    <tr>\n",
       "      <th>8</th>\n",
       "      <td>1.477504</td>\n",
       "      <td>1.067057</td>\n",
       "      <td>1.007069</td>\n",
       "      <td>1.033011</td>\n",
       "    </tr>\n",
       "    <tr>\n",
       "      <th>9</th>\n",
       "      <td>1.478085</td>\n",
       "      <td>1.067257</td>\n",
       "      <td>1.006919</td>\n",
       "      <td>1.026739</td>\n",
       "    </tr>\n",
       "  </tbody>\n",
       "</table>\n",
       "</div>"
      ],
      "text/plain": [
       "   baseline        cf       svd  neural_network_rmse\n",
       "0  1.478618  1.066947  1.006683             1.031356\n",
       "1  1.477799  1.067403  1.006872             1.024157\n",
       "2  1.478326  1.067594  1.007039             1.033121\n",
       "3  1.478533  1.067073  1.007092             1.028123\n",
       "4  1.478335  1.066790  1.007514             1.031856\n",
       "5  1.477217  1.066989  1.006884             1.021747\n",
       "6  1.477425  1.067445  1.006484             1.031770\n",
       "7  1.478469  1.067561  1.007107             1.024254\n",
       "8  1.477504  1.067057  1.007069             1.033011\n",
       "9  1.478085  1.067257  1.006919             1.026739"
      ]
     },
     "execution_count": 6,
     "metadata": {},
     "output_type": "execute_result"
    }
   ],
   "source": [
    "rmse_results_df_final = pd.concat([rmse_results_df, rmse_nn_df], axis=1)\n",
    "rmse_results_df_final"
   ]
  },
  {
   "cell_type": "code",
   "execution_count": 7,
   "id": "2561deef-89b8-46c1-bab4-276b2a3f3772",
   "metadata": {},
   "outputs": [
    {
     "data": {
      "text/html": [
       "<div>\n",
       "<style scoped>\n",
       "    .dataframe tbody tr th:only-of-type {\n",
       "        vertical-align: middle;\n",
       "    }\n",
       "\n",
       "    .dataframe tbody tr th {\n",
       "        vertical-align: top;\n",
       "    }\n",
       "\n",
       "    .dataframe thead th {\n",
       "        text-align: right;\n",
       "    }\n",
       "</style>\n",
       "<table border=\"1\" class=\"dataframe\">\n",
       "  <thead>\n",
       "    <tr style=\"text-align: right;\">\n",
       "      <th></th>\n",
       "      <th>t_statistic</th>\n",
       "      <th>p_value_unadjusted</th>\n",
       "    </tr>\n",
       "  </thead>\n",
       "  <tbody>\n",
       "    <tr>\n",
       "      <th>0</th>\n",
       "      <td>588.374640</td>\n",
       "      <td>1.345832e-13</td>\n",
       "    </tr>\n",
       "    <tr>\n",
       "      <th>1</th>\n",
       "      <td>1058.543343</td>\n",
       "      <td>7.140465e-15</td>\n",
       "    </tr>\n",
       "    <tr>\n",
       "      <th>2</th>\n",
       "      <td>157.250991</td>\n",
       "      <td>9.865492e-11</td>\n",
       "    </tr>\n",
       "  </tbody>\n",
       "</table>\n",
       "</div>"
      ],
      "text/plain": [
       "   t_statistic  p_value_unadjusted\n",
       "0   588.374640        1.345832e-13\n",
       "1  1058.543343        7.140465e-15\n",
       "2   157.250991        9.865492e-11"
      ]
     },
     "execution_count": 7,
     "metadata": {},
     "output_type": "execute_result"
    }
   ],
   "source": [
    "t_test_results_rmse_df = pd.read_csv(PATH + 't_test_results_rmse_df.csv')\n",
    "t_test_results_rmse_df"
   ]
  },
  {
   "cell_type": "code",
   "execution_count": 8,
   "id": "e4bbe720-4818-4c5b-8c08-a430d4beff6e",
   "metadata": {},
   "outputs": [
    {
     "data": {
      "text/html": [
       "<div>\n",
       "<style scoped>\n",
       "    .dataframe tbody tr th:only-of-type {\n",
       "        vertical-align: middle;\n",
       "    }\n",
       "\n",
       "    .dataframe tbody tr th {\n",
       "        vertical-align: top;\n",
       "    }\n",
       "\n",
       "    .dataframe thead th {\n",
       "        text-align: right;\n",
       "    }\n",
       "</style>\n",
       "<table border=\"1\" class=\"dataframe\">\n",
       "  <thead>\n",
       "    <tr style=\"text-align: right;\">\n",
       "      <th></th>\n",
       "      <th>t_statistic</th>\n",
       "      <th>p_value_unadjusted</th>\n",
       "    </tr>\n",
       "  </thead>\n",
       "  <tbody>\n",
       "    <tr>\n",
       "      <th>baseline_vs_cf</th>\n",
       "      <td>588.374640</td>\n",
       "      <td>1.345832e-13</td>\n",
       "    </tr>\n",
       "    <tr>\n",
       "      <th>baseline_vs_svd</th>\n",
       "      <td>1058.543343</td>\n",
       "      <td>7.140465e-15</td>\n",
       "    </tr>\n",
       "    <tr>\n",
       "      <th>cf_vs_svd</th>\n",
       "      <td>157.250991</td>\n",
       "      <td>9.865492e-11</td>\n",
       "    </tr>\n",
       "  </tbody>\n",
       "</table>\n",
       "</div>"
      ],
      "text/plain": [
       "                 t_statistic  p_value_unadjusted\n",
       "baseline_vs_cf    588.374640        1.345832e-13\n",
       "baseline_vs_svd  1058.543343        7.140465e-15\n",
       "cf_vs_svd         157.250991        9.865492e-11"
      ]
     },
     "execution_count": 8,
     "metadata": {},
     "output_type": "execute_result"
    }
   ],
   "source": [
    "index=['baseline_vs_cf','baseline_vs_svd','cf_vs_svd']\n",
    "t_test_results_rmse_df.index = index\n",
    "t_test_results_rmse_df"
   ]
  },
  {
   "cell_type": "code",
   "execution_count": 9,
   "id": "78503ee9-d6f8-4f75-a846-a49163c5cbd6",
   "metadata": {},
   "outputs": [],
   "source": [
    "nn_rmse_t_stats = []\n",
    "nn_rmse_p_vals = []\n",
    "\n",
    "t_b_vs_nn, p_b_vs_nn = five_by_two_paired_t_test(rmse_results_df_final, 'baseline', 'neural_network_rmse')\n",
    "t_cf_vs_nn, p_cf_vs_nn = five_by_two_paired_t_test(rmse_results_df_final, 'cf', 'neural_network_rmse')\n",
    "t_svd_vs_nn, p_svd_vs_nn = five_by_two_paired_t_test(rmse_results_df_final, 'svd', 'neural_network_rmse')\n",
    "\n",
    "nn_rmse_t_stats.append(t_b_vs_nn)\n",
    "nn_rmse_t_stats.append(t_cf_vs_nn)\n",
    "nn_rmse_t_stats.append(t_svd_vs_nn)\n",
    "\n",
    "nn_rmse_p_vals.append(p_b_vs_nn)\n",
    "nn_rmse_p_vals.append(p_cf_vs_nn)\n",
    "nn_rmse_p_vals.append(p_svd_vs_nn)"
   ]
  },
  {
   "cell_type": "code",
   "execution_count": 10,
   "id": "c9b155ee-a676-4b67-93cf-f72e07dcc1f6",
   "metadata": {},
   "outputs": [
    {
     "data": {
      "text/plain": [
       "[86.25609332643153, 6.6666985618208585, -4.716380452651623]"
      ]
     },
     "execution_count": 10,
     "metadata": {},
     "output_type": "execute_result"
    }
   ],
   "source": [
    "nn_rmse_t_stats"
   ]
  },
  {
   "cell_type": "code",
   "execution_count": 11,
   "id": "520a52d0-8534-4c67-9d26-ce7a451b4b8c",
   "metadata": {},
   "outputs": [
    {
     "data": {
      "text/plain": [
       "[1.984722225383396e-09, 0.0005732410979249241, 0.0026297893205232134]"
      ]
     },
     "execution_count": 11,
     "metadata": {},
     "output_type": "execute_result"
    }
   ],
   "source": [
    "nn_rmse_p_vals"
   ]
  },
  {
   "cell_type": "code",
   "execution_count": 12,
   "id": "7efd30ee-67cb-40c9-8efd-1f991cf6c400",
   "metadata": {},
   "outputs": [
    {
     "data": {
      "text/plain": [
       "{'t_statistic': [86.25609332643153, 6.6666985618208585, -4.716380452651623],\n",
       " 'p_value_unadjusted': [1.984722225383396e-09,\n",
       "  0.0005732410979249241,\n",
       "  0.0026297893205232134]}"
      ]
     },
     "execution_count": 12,
     "metadata": {},
     "output_type": "execute_result"
    }
   ],
   "source": [
    "t_test_results_dict_nn_rmse = dict(t_statistic=nn_rmse_t_stats, p_value_unadjusted=nn_rmse_p_vals)\n",
    "t_test_results_dict_nn_rmse"
   ]
  },
  {
   "cell_type": "code",
   "execution_count": 13,
   "id": "039c9f23-c210-4dff-924e-6aa22cbcce54",
   "metadata": {},
   "outputs": [
    {
     "data": {
      "text/html": [
       "<div>\n",
       "<style scoped>\n",
       "    .dataframe tbody tr th:only-of-type {\n",
       "        vertical-align: middle;\n",
       "    }\n",
       "\n",
       "    .dataframe tbody tr th {\n",
       "        vertical-align: top;\n",
       "    }\n",
       "\n",
       "    .dataframe thead th {\n",
       "        text-align: right;\n",
       "    }\n",
       "</style>\n",
       "<table border=\"1\" class=\"dataframe\">\n",
       "  <thead>\n",
       "    <tr style=\"text-align: right;\">\n",
       "      <th></th>\n",
       "      <th>t_statistic</th>\n",
       "      <th>p_value_unadjusted</th>\n",
       "    </tr>\n",
       "  </thead>\n",
       "  <tbody>\n",
       "    <tr>\n",
       "      <th>baseline_vs_neural_network</th>\n",
       "      <td>86.256093</td>\n",
       "      <td>1.984722e-09</td>\n",
       "    </tr>\n",
       "    <tr>\n",
       "      <th>cf_vs_neural_network</th>\n",
       "      <td>6.666699</td>\n",
       "      <td>5.732411e-04</td>\n",
       "    </tr>\n",
       "    <tr>\n",
       "      <th>svd_vs_neural_network</th>\n",
       "      <td>-4.716380</td>\n",
       "      <td>2.629789e-03</td>\n",
       "    </tr>\n",
       "  </tbody>\n",
       "</table>\n",
       "</div>"
      ],
      "text/plain": [
       "                            t_statistic  p_value_unadjusted\n",
       "baseline_vs_neural_network    86.256093        1.984722e-09\n",
       "cf_vs_neural_network           6.666699        5.732411e-04\n",
       "svd_vs_neural_network         -4.716380        2.629789e-03"
      ]
     },
     "execution_count": 13,
     "metadata": {},
     "output_type": "execute_result"
    }
   ],
   "source": [
    "t_test_results_rmse_nn_df = pd.DataFrame(t_test_results_dict_nn_rmse, index=['baseline_vs_neural_network',\n",
    "                                                                 'cf_vs_neural_network',\n",
    "                                                                 'svd_vs_neural_network'])\n",
    "t_test_results_rmse_nn_df"
   ]
  },
  {
   "cell_type": "code",
   "execution_count": 14,
   "id": "1361a22e-6c25-4a74-903d-e97f174aab45",
   "metadata": {},
   "outputs": [
    {
     "data": {
      "text/html": [
       "<div>\n",
       "<style scoped>\n",
       "    .dataframe tbody tr th:only-of-type {\n",
       "        vertical-align: middle;\n",
       "    }\n",
       "\n",
       "    .dataframe tbody tr th {\n",
       "        vertical-align: top;\n",
       "    }\n",
       "\n",
       "    .dataframe thead th {\n",
       "        text-align: right;\n",
       "    }\n",
       "</style>\n",
       "<table border=\"1\" class=\"dataframe\">\n",
       "  <thead>\n",
       "    <tr style=\"text-align: right;\">\n",
       "      <th></th>\n",
       "      <th>t_statistic</th>\n",
       "      <th>p_value_unadjusted</th>\n",
       "    </tr>\n",
       "  </thead>\n",
       "  <tbody>\n",
       "    <tr>\n",
       "      <th>baseline_vs_cf</th>\n",
       "      <td>588.374640</td>\n",
       "      <td>1.345832e-13</td>\n",
       "    </tr>\n",
       "    <tr>\n",
       "      <th>baseline_vs_svd</th>\n",
       "      <td>1058.543343</td>\n",
       "      <td>7.140465e-15</td>\n",
       "    </tr>\n",
       "    <tr>\n",
       "      <th>cf_vs_svd</th>\n",
       "      <td>157.250991</td>\n",
       "      <td>9.865492e-11</td>\n",
       "    </tr>\n",
       "    <tr>\n",
       "      <th>baseline_vs_neural_network</th>\n",
       "      <td>86.256093</td>\n",
       "      <td>1.984722e-09</td>\n",
       "    </tr>\n",
       "    <tr>\n",
       "      <th>cf_vs_neural_network</th>\n",
       "      <td>6.666699</td>\n",
       "      <td>5.732411e-04</td>\n",
       "    </tr>\n",
       "    <tr>\n",
       "      <th>svd_vs_neural_network</th>\n",
       "      <td>-4.716380</td>\n",
       "      <td>2.629789e-03</td>\n",
       "    </tr>\n",
       "  </tbody>\n",
       "</table>\n",
       "</div>"
      ],
      "text/plain": [
       "                            t_statistic  p_value_unadjusted\n",
       "baseline_vs_cf               588.374640        1.345832e-13\n",
       "baseline_vs_svd             1058.543343        7.140465e-15\n",
       "cf_vs_svd                    157.250991        9.865492e-11\n",
       "baseline_vs_neural_network    86.256093        1.984722e-09\n",
       "cf_vs_neural_network           6.666699        5.732411e-04\n",
       "svd_vs_neural_network         -4.716380        2.629789e-03"
      ]
     },
     "execution_count": 14,
     "metadata": {},
     "output_type": "execute_result"
    }
   ],
   "source": [
    "t_test_results_rmse_final = pd.concat([t_test_results_rmse_df, t_test_results_rmse_nn_df], axis=0)\n",
    "t_test_results_rmse_final"
   ]
  },
  {
   "cell_type": "code",
   "execution_count": 15,
   "id": "03b89b5a-da79-498d-b10f-397583dc4f57",
   "metadata": {},
   "outputs": [
    {
     "data": {
      "text/plain": [
       "0.008333333333333333"
      ]
     },
     "execution_count": 15,
     "metadata": {},
     "output_type": "execute_result"
    }
   ],
   "source": [
    "original_alpha = 0.05\n",
    "bonferroni_adjusted_alpha = original_alpha / 6\n",
    "bonferroni_adjusted_alpha"
   ]
  },
  {
   "cell_type": "code",
   "execution_count": 16,
   "id": "e2984b1e-a317-4156-b142-cbda4515502f",
   "metadata": {},
   "outputs": [
    {
     "data": {
      "text/html": [
       "<div>\n",
       "<style scoped>\n",
       "    .dataframe tbody tr th:only-of-type {\n",
       "        vertical-align: middle;\n",
       "    }\n",
       "\n",
       "    .dataframe tbody tr th {\n",
       "        vertical-align: top;\n",
       "    }\n",
       "\n",
       "    .dataframe thead th {\n",
       "        text-align: right;\n",
       "    }\n",
       "</style>\n",
       "<table border=\"1\" class=\"dataframe\">\n",
       "  <thead>\n",
       "    <tr style=\"text-align: right;\">\n",
       "      <th></th>\n",
       "      <th>t_statistic</th>\n",
       "      <th>p_value_unadjusted</th>\n",
       "      <th>significant</th>\n",
       "    </tr>\n",
       "  </thead>\n",
       "  <tbody>\n",
       "    <tr>\n",
       "      <th>baseline_vs_cf</th>\n",
       "      <td>588.374640</td>\n",
       "      <td>1.345832e-13</td>\n",
       "      <td>Yes</td>\n",
       "    </tr>\n",
       "    <tr>\n",
       "      <th>baseline_vs_svd</th>\n",
       "      <td>1058.543343</td>\n",
       "      <td>7.140465e-15</td>\n",
       "      <td>Yes</td>\n",
       "    </tr>\n",
       "    <tr>\n",
       "      <th>cf_vs_svd</th>\n",
       "      <td>157.250991</td>\n",
       "      <td>9.865492e-11</td>\n",
       "      <td>Yes</td>\n",
       "    </tr>\n",
       "    <tr>\n",
       "      <th>baseline_vs_neural_network</th>\n",
       "      <td>86.256093</td>\n",
       "      <td>1.984722e-09</td>\n",
       "      <td>Yes</td>\n",
       "    </tr>\n",
       "    <tr>\n",
       "      <th>cf_vs_neural_network</th>\n",
       "      <td>6.666699</td>\n",
       "      <td>5.732411e-04</td>\n",
       "      <td>Yes</td>\n",
       "    </tr>\n",
       "    <tr>\n",
       "      <th>svd_vs_neural_network</th>\n",
       "      <td>-4.716380</td>\n",
       "      <td>2.629789e-03</td>\n",
       "      <td>Yes</td>\n",
       "    </tr>\n",
       "  </tbody>\n",
       "</table>\n",
       "</div>"
      ],
      "text/plain": [
       "                            t_statistic  p_value_unadjusted significant\n",
       "baseline_vs_cf               588.374640        1.345832e-13         Yes\n",
       "baseline_vs_svd             1058.543343        7.140465e-15         Yes\n",
       "cf_vs_svd                    157.250991        9.865492e-11         Yes\n",
       "baseline_vs_neural_network    86.256093        1.984722e-09         Yes\n",
       "cf_vs_neural_network           6.666699        5.732411e-04         Yes\n",
       "svd_vs_neural_network         -4.716380        2.629789e-03         Yes"
      ]
     },
     "execution_count": 16,
     "metadata": {},
     "output_type": "execute_result"
    }
   ],
   "source": [
    "t_test_results_rmse_final['significant'] = \\\n",
    "t_test_results_rmse_final['p_value_unadjusted'].apply(lambda x: 'Yes' if x <= bonferroni_adjusted_alpha\n",
    "                                                   else 'No')\n",
    "\n",
    "t_test_results_rmse_final"
   ]
  },
  {
   "cell_type": "code",
   "execution_count": 17,
   "id": "bd5b2427-a697-4f6b-808b-6531eb107b64",
   "metadata": {},
   "outputs": [],
   "source": [
    "rmse_means = {}\n",
    "rmse_stds = {}\n",
    "\n",
    "for col in rmse_results_df_final.columns:\n",
    "    rmse_means[col] = np.mean(rmse_results_df_final[col].values)\n",
    "    rmse_stds[col] = np.std(rmse_results_df_final[col].values, ddof=1)\n"
   ]
  },
  {
   "cell_type": "code",
   "execution_count": 18,
   "id": "a3ba20df-5946-4510-85dd-0db4951b1d3c",
   "metadata": {},
   "outputs": [
    {
     "data": {
      "text/plain": [
       "{'baseline': 1.4780310223914437,\n",
       " 'cf': 1.0672115886736289,\n",
       " 'svd': 1.0069664447184459,\n",
       " 'neural_network_rmse': 1.028613376769359}"
      ]
     },
     "execution_count": 18,
     "metadata": {},
     "output_type": "execute_result"
    }
   ],
   "source": [
    "rmse_means"
   ]
  },
  {
   "cell_type": "code",
   "execution_count": 19,
   "id": "cb4fc011-c1a2-4d67-a563-bcee8b346b72",
   "metadata": {},
   "outputs": [
    {
     "data": {
      "text/plain": [
       "{'baseline': 0.00050898120189072,\n",
       " 'cf': 0.00027915446090659543,\n",
       " 'svd': 0.0002753880770122459,\n",
       " 'neural_network_rmse': 0.004182222257101177}"
      ]
     },
     "execution_count": 19,
     "metadata": {},
     "output_type": "execute_result"
    }
   ],
   "source": [
    "rmse_stds"
   ]
  },
  {
   "cell_type": "code",
   "execution_count": 20,
   "id": "b953caf1-167c-4acc-975d-6c92de4edb80",
   "metadata": {},
   "outputs": [
    {
     "data": {
      "text/html": [
       "<div>\n",
       "<style scoped>\n",
       "    .dataframe tbody tr th:only-of-type {\n",
       "        vertical-align: middle;\n",
       "    }\n",
       "\n",
       "    .dataframe tbody tr th {\n",
       "        vertical-align: top;\n",
       "    }\n",
       "\n",
       "    .dataframe thead th {\n",
       "        text-align: right;\n",
       "    }\n",
       "</style>\n",
       "<table border=\"1\" class=\"dataframe\">\n",
       "  <thead>\n",
       "    <tr style=\"text-align: right;\">\n",
       "      <th></th>\n",
       "      <th>baseline</th>\n",
       "      <th>cf</th>\n",
       "      <th>svd</th>\n",
       "      <th>neural_network_rmse</th>\n",
       "    </tr>\n",
       "  </thead>\n",
       "  <tbody>\n",
       "    <tr>\n",
       "      <th>mean</th>\n",
       "      <td>1.478031</td>\n",
       "      <td>1.067212</td>\n",
       "      <td>1.006966</td>\n",
       "      <td>1.028613</td>\n",
       "    </tr>\n",
       "    <tr>\n",
       "      <th>standard deviation</th>\n",
       "      <td>0.000509</td>\n",
       "      <td>0.000279</td>\n",
       "      <td>0.000275</td>\n",
       "      <td>0.004182</td>\n",
       "    </tr>\n",
       "  </tbody>\n",
       "</table>\n",
       "</div>"
      ],
      "text/plain": [
       "                    baseline        cf       svd  neural_network_rmse\n",
       "mean                1.478031  1.067212  1.006966             1.028613\n",
       "standard deviation  0.000509  0.000279  0.000275             0.004182"
      ]
     },
     "execution_count": 20,
     "metadata": {},
     "output_type": "execute_result"
    }
   ],
   "source": [
    "rmse_means_df = pd.DataFrame(rmse_means, index=['mean'])\n",
    "rmse_stds_df = pd.DataFrame(rmse_stds, index=['standard deviation'])\n",
    "\n",
    "rmse_summary_statistics_final = pd.concat([rmse_means_df, rmse_stds_df], axis=0)\n",
    "\n",
    "rmse_summary_statistics_final"
   ]
  },
  {
   "cell_type": "code",
   "execution_count": 21,
   "id": "75a037f3-151b-4a33-8ddd-749c258e5564",
   "metadata": {},
   "outputs": [],
   "source": [
    "rmse_summary_statistics_final.to_csv(PATH + 'rmse_summary_statistics_final.csv')\n",
    "rmse_results_df_final.to_csv(PATH + 'rmse_results_df_final.csv')\n",
    "t_test_results_rmse_final.to_csv(PATH + 't_test_results_rmse_final.csv')"
   ]
  },
  {
   "cell_type": "code",
   "execution_count": 22,
   "id": "dcb7825b-1bf5-4087-bb45-e7ba484a33d8",
   "metadata": {},
   "outputs": [
    {
     "name": "stdout",
     "output_type": "stream",
     "text": [
      "588.3746395042142\n",
      "1.345831530364664e-13\n"
     ]
    }
   ],
   "source": [
    "sample_t, sample_p = five_by_two_paired_t_test(rmse_results_df_final, 'baseline', 'cf')\n",
    "print(sample_t)\n",
    "print(sample_p)"
   ]
  },
  {
   "cell_type": "code",
   "execution_count": null,
   "id": "f9eac7e9-2dc5-4aa5-8ff0-fcbdb6b86353",
   "metadata": {},
   "outputs": [],
   "source": []
  }
 ],
 "metadata": {
  "kernelspec": {
   "display_name": "Python 3",
   "language": "python",
   "name": "python3"
  },
  "language_info": {
   "codemirror_mode": {
    "name": "ipython",
    "version": 3
   },
   "file_extension": ".py",
   "mimetype": "text/x-python",
   "name": "python",
   "nbconvert_exporter": "python",
   "pygments_lexer": "ipython3",
   "version": "3.8.8"
  }
 },
 "nbformat": 4,
 "nbformat_minor": 5
}
