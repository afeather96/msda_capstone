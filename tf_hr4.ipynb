{
 "cells": [
  {
   "cell_type": "code",
   "execution_count": 1,
   "id": "28268b9a-5505-485b-897e-a4169775f957",
   "metadata": {},
   "outputs": [
    {
     "name": "stdout",
     "output_type": "stream",
     "text": [
      "\u001b[33mWARNING: Running pip as the 'root' user can result in broken permissions and conflicting behaviour with the system package manager. It is recommended to use a virtual environment instead: https://pip.pypa.io/warnings/venv\u001b[0m\u001b[33m\n",
      "\u001b[0m"
     ]
    }
   ],
   "source": [
    "!pip install -q tensorflow-recommenders"
   ]
  },
  {
   "cell_type": "code",
   "execution_count": 2,
   "id": "5fcb3c79-30ab-4be4-a26e-23cc1484a325",
   "metadata": {},
   "outputs": [],
   "source": [
    "import pandas as pd\n",
    "import numpy as np\n",
    "import matplotlib.pyplot as plt\n",
    "import seaborn as sns\n",
    "from collections import deque\n",
    "#from surprise import Dataset, NormalPredictor, Reader\n",
    "#from surprise.model_selection import cross_validate\n",
    "import os\n",
    "from sklearn.model_selection import train_test_split\n",
    "import pickle\n",
    "#from surprise import accuracy\n",
    "#from surprise import accuracy, Dataset, Reader, SVD, KNNBaseline\n",
    "#from surprise.model_selection import PredefinedKFold\n",
    "import pprint\n",
    "import tempfile\n",
    "from typing import Dict, Text\n",
    "import tensorflow as tf\n",
    "import tensorflow_recommenders as tfrs\n",
    "from collections import defaultdict\n",
    "import joblib"
   ]
  },
  {
   "cell_type": "code",
   "execution_count": null,
   "id": "85890a34-a69c-4ea4-8467-38fc4f189a01",
   "metadata": {},
   "outputs": [],
   "source": [
    "train_hr0 = pd.read_csv('rmse/hit_rate_folds_actual/train_hr0.csv', header=None)\n",
    "test_hr0 = pd.read_csv('rmse/hit_rate_folds_actual/test_hr0.csv', header=None)"
   ]
  },
  {
   "cell_type": "code",
   "execution_count": null,
   "id": "a469f5b1-7949-4d93-9fa9-bfed764e55f7",
   "metadata": {},
   "outputs": [],
   "source": [
    "train_hr0.columns = ['user_id', 'movie_id', 'rating']\n",
    "test_hr0.columns = ['user_id', 'movie_id', 'rating']"
   ]
  },
  {
   "cell_type": "code",
   "execution_count": 8,
   "id": "056b2e58-9fe1-45bf-9f5f-6a897eadbc59",
   "metadata": {},
   "outputs": [
    {
     "data": {
      "text/html": [
       "<div>\n",
       "<style scoped>\n",
       "    .dataframe tbody tr th:only-of-type {\n",
       "        vertical-align: middle;\n",
       "    }\n",
       "\n",
       "    .dataframe tbody tr th {\n",
       "        vertical-align: top;\n",
       "    }\n",
       "\n",
       "    .dataframe thead th {\n",
       "        text-align: right;\n",
       "    }\n",
       "</style>\n",
       "<table border=\"1\" class=\"dataframe\">\n",
       "  <thead>\n",
       "    <tr style=\"text-align: right;\">\n",
       "      <th></th>\n",
       "      <th>user_id</th>\n",
       "      <th>movie_id</th>\n",
       "      <th>rating</th>\n",
       "    </tr>\n",
       "  </thead>\n",
       "  <tbody>\n",
       "    <tr>\n",
       "      <th>0</th>\n",
       "      <td>841872</td>\n",
       "      <td>14454</td>\n",
       "      <td>5.0</td>\n",
       "    </tr>\n",
       "    <tr>\n",
       "      <th>1</th>\n",
       "      <td>689085</td>\n",
       "      <td>299</td>\n",
       "      <td>5.0</td>\n",
       "    </tr>\n",
       "    <tr>\n",
       "      <th>2</th>\n",
       "      <td>2529854</td>\n",
       "      <td>11165</td>\n",
       "      <td>5.0</td>\n",
       "    </tr>\n",
       "    <tr>\n",
       "      <th>3</th>\n",
       "      <td>2597445</td>\n",
       "      <td>10886</td>\n",
       "      <td>4.0</td>\n",
       "    </tr>\n",
       "    <tr>\n",
       "      <th>4</th>\n",
       "      <td>2336656</td>\n",
       "      <td>3282</td>\n",
       "      <td>5.0</td>\n",
       "    </tr>\n",
       "  </tbody>\n",
       "</table>\n",
       "</div>"
      ],
      "text/plain": [
       "   user_id  movie_id  rating\n",
       "0   841872     14454     5.0\n",
       "1   689085       299     5.0\n",
       "2  2529854     11165     5.0\n",
       "3  2597445     10886     4.0\n",
       "4  2336656      3282     5.0"
      ]
     },
     "execution_count": 8,
     "metadata": {},
     "output_type": "execute_result"
    }
   ],
   "source": [
    "top_ratings_df = pd.read_csv('rmse/top_ratings_df.csv')\n",
    "top_ratings_df.head()"
   ]
  },
  {
   "cell_type": "code",
   "execution_count": 11,
   "id": "15775e3f-67c5-48c5-9e15-c523ab9d68eb",
   "metadata": {},
   "outputs": [
    {
     "data": {
      "text/plain": [
       "14454"
      ]
     },
     "execution_count": 11,
     "metadata": {},
     "output_type": "execute_result"
    }
   ],
   "source": [
    "top_ratings_df[top_ratings_df['user_id']==841872]['movie_id'].values[0]"
   ]
  },
  {
   "cell_type": "code",
   "execution_count": null,
   "id": "d98358d5-bda9-4d2b-8c74-fe35180c500b",
   "metadata": {},
   "outputs": [],
   "source": [
    "hr_model_0a = joblib.load(open('model0a.pkl', 'rb'))\n",
    "\n",
    "predictions_1a = defaultdict(list)\n",
    "\n",
    "print('First dataframe inference loop')\n",
    "\n",
    "for i in range(len(test_hr0)):\n",
    "    user = test_hr0['user_id'].loc[i]\n",
    "    movie = test_hr0['movie_id'].loc[i]\n",
    "    predicted_rating = hr_model_0a({'user_id': np.array([user]),\n",
    "                                           'movie_id': np.array([movie])})\n",
    "    predictions_1a[user].append((movie, predicted_rating.numpy()[0][0]))\n",
    "    \n",
    "hr_model_0b = joblib.load(open('model0b.pkl', 'rb'))\n",
    "\n",
    "predictions_1b = defaultdict(list)\n",
    "\n",
    "print('Second dataframe inference loop')\n",
    "\n",
    "for i in range(len(train_hr0)):\n",
    "    user = train_hr0['user_id'].loc[i]\n",
    "    movie = train_hr0['movie_id'].loc[i]\n",
    "    predicted_rating = hr_model_0b({'user_id': np.array([user]),\n",
    "                                           'movie_id': np.array([movie])})\n",
    "    predictions_1b[user].append((movie, predicted_rating.numpy()[0][0]))\n",
    "    \n",
    "for user_id, user_ratings in predictions_1a.items():\n",
    "    user_ratings.sort(key=lambda x: x[1], reverse=True)\n",
    "    predictions_1a[user_id] = user_ratings[:100]\n",
    "    \n",
    "for user_id, user_ratings in predictions_1b.items():\n",
    "    user_ratings.sort(key=lambda x: x[1], reverse=True)\n",
    "    predictions_1b[user_id] = user_ratings[:100]"
   ]
  },
  {
   "cell_type": "code",
   "execution_count": null,
   "id": "9c7461b2-8e7b-4a82-bf76-635c15cc560d",
   "metadata": {},
   "outputs": [],
   "source": [
    "num_users = 0\n",
    "hits = 0\n",
    "\n",
    "for user_id in predictions_1a.keys():\n",
    "    top_movie = top_ratings_df[top_ratings_df['user_id']==user_id]['movie_id']\n",
    "    num_users += 1\n",
    "    num_recs = len(predictions_1a[user_id])\n",
    "    top_number = int(num_recs*0.25)\n",
    "    boundary_for_user = [rec[1] for rec in predictions_1a[user_id]][top_number]\n",
    "    pred_top_movie = hr_model_0a({'user_id': np.array([user_id]),\n",
    "                                         'movie_id': np.array([top_movie])})\n",
    "    if pred_top_movie.numpy()[0][0] > boundary_for_user:\n",
    "        hits += 1\n",
    "        \n",
    "hit_rate_1a = hits / num_users\n",
    "print(hit_rate_1a)"
   ]
  },
  {
   "cell_type": "code",
   "execution_count": null,
   "id": "d6c8d86d-a2c6-49bd-851b-318a99d8603c",
   "metadata": {},
   "outputs": [],
   "source": [
    "num_users = 0\n",
    "hits = 0\n",
    "\n",
    "for user_id in predictions_1b.keys():\n",
    "    top_movie = top_ratings_df[top_ratings_df['user_id']==user_id]['movie_id']\n",
    "    num_users += 1\n",
    "    num_recs = len(predictions_1b[user_id])\n",
    "    top_number = int(num_recs*0.25)\n",
    "    boundary_for_user = [rec[1] for rec in predictions_1b[user_id]][top_number]\n",
    "    pred_top_movie = hr_model_0b({'user_id': np.array([user_id]),\n",
    "                                         'movie_id': np.array([top_movie])})\n",
    "    if pred_top_movie.numpy()[0][0] > boundary_for_user:\n",
    "        hits += 1\n",
    "        \n",
    "hit_rate_1b = hits / num_users\n",
    "print(hit_rate_1b)"
   ]
  },
  {
   "cell_type": "code",
   "execution_count": null,
   "id": "b87545e8-f2fd-4dd7-93e6-afb272397ceb",
   "metadata": {},
   "outputs": [
    {
     "name": "stdout",
     "output_type": "stream",
     "text": [
      "First iteration 0\n",
      "Second iteration 0\n",
      "Calculating hit rate 0\n",
      "First iteration 1\n",
      "Second iteration 1\n",
      "Calculating hit rate 1\n",
      "First iteration 2\n",
      "Second iteration 2\n",
      "Calculating hit rate 2\n",
      "First iteration 3\n",
      "Second iteration 3\n",
      "Calculating hit rate 3\n",
      "First iteration 4\n",
      "Second iteration 4\n",
      "Calculating hit rate 4\n"
     ]
    }
   ],
   "source": [
    "hit_rates_nn = []\n",
    "\n",
    "\n",
    "for i in range(5):\n",
    "    hr_model_1a = joblib.load(open(f'model{i}a.pkl', 'rb'))\n",
    "    hr_model_1b = joblib.load(open(f'model{i}b.pkl', 'rb'))\n",
    "    train_hr = pd.read_csv(f'rmse/hit_rate_folds_actual/train_hr{i}.csv', header=None)\n",
    "    test_hr = pd.read_csv(f'rmse/hit_rate_folds_actual/test_hr{i}.csv', header=None)\n",
    "    train_hr.columns = ['user_id', 'movie_id', 'rating']\n",
    "    test_hr.columns = ['user_id', 'movie_id', 'rating']\n",
    "    \n",
    "    predictions_a = defaultdict(list)\n",
    "    \n",
    "    print(f'First iteration {i}')\n",
    "    \n",
    "    for ii in range(len(test_hr)):\n",
    "        user = test_hr['user_id'].loc[ii]\n",
    "        movie = test_hr['movie_id'].loc[ii]\n",
    "        predicted_rating = hr_model_1a({'user_id': np.array([user]),\n",
    "                                           'movie_id': np.array([movie])})\n",
    "        predictions_a[user].append((movie, predicted_rating.numpy()[0][0]))\n",
    "        \n",
    "    for user_id, user_ratings in predictions_a.items():\n",
    "        user_ratings.sort(key=lambda x: x[1], reverse=True)\n",
    "        predictions_a[user_id] = user_ratings[:100]\n",
    "        \n",
    "    predictions_b = defaultdict(list)\n",
    "    \n",
    "    print(f'Second iteration {i}')\n",
    "\n",
    "    for iii in range(len(train_hr)):\n",
    "        user = train_hr['user_id'].loc[iii]\n",
    "        movie = train_hr['movie_id'].loc[iii]\n",
    "        predicted_rating = hr_model_1b({'user_id': np.array([user]),\n",
    "                                           'movie_id': np.array([movie])})\n",
    "        predictions_b[user].append((movie, predicted_rating.numpy()[0][0]))\n",
    "        \n",
    "    \n",
    "    for user_id, user_ratings in predictions_b.items():\n",
    "        user_ratings.sort(key=lambda x: x[1], reverse=True)\n",
    "        predictions_b[user_id] = user_ratings[:100]\n",
    "        \n",
    "    num_users_a = 0\n",
    "    num_users_b = 0\n",
    "    num_hits_a = 0\n",
    "    num_hits_b = 0\n",
    "    \n",
    "    print(f'Calculating hit rate {i}')\n",
    "    \n",
    "    for user_id in predictions_a.keys():\n",
    "        top_movie = top_ratings_df[top_ratings_df['user_id']==user_id]['movie_id'].values[0]\n",
    "        num_users_a += 1\n",
    "        num_recs = len(predictions_a[user_id])\n",
    "        top_number = int(num_recs*0.25)\n",
    "        boundary_for_user = [rec[1] for rec in predictions_a[user_id]][top_number]\n",
    "        pred_top_movie = hr_model_1a({'user_id': np.array([user_id]),\n",
    "                                         'movie_id': np.array([top_movie])})\n",
    "        if pred_top_movie.numpy()[0][0] > boundary_for_user:\n",
    "            num_hits_a += 1\n",
    "            \n",
    "    for user_id in predictions_b.keys():\n",
    "        top_movie = top_ratings_df[top_ratings_df['user_id']==user_id]['movie_id'].values[0]\n",
    "        num_users_b += 1\n",
    "        num_recs = len(predictions_b[user_id])\n",
    "        top_number = int(num_recs*0.25)\n",
    "        boundary_for_user = [rec[1] for rec in predictions_b[user_id]][top_number]\n",
    "        pred_top_movie = hr_model_1b({'user_id': np.array([user_id]),\n",
    "                                         'movie_id': np.array([top_movie])})\n",
    "        if pred_top_movie.numpy()[0][0] > boundary_for_user:\n",
    "            num_hits_b += 1\n",
    "            \n",
    "    hit_rates_nn.append(num_hits_a / num_users_a)\n",
    "    hit_rates_nn.append(num_hits_b / num_users_b)\n",
    "    \n",
    "    "
   ]
  },
  {
   "cell_type": "code",
   "execution_count": 13,
   "id": "8ee20a70-9636-42c3-9557-f54928ef7d91",
   "metadata": {},
   "outputs": [
    {
     "data": {
      "text/plain": [
       "[0.4881216091016192,\n",
       " 0.48702184750956684,\n",
       " 0.4885011683712562,\n",
       " 0.48638756829090685,\n",
       " 0.48784170193297494,\n",
       " 0.48601130684395716,\n",
       " 0.4870200664816566,\n",
       " 0.4862847930236724,\n",
       " 0.48787433996073126,\n",
       " 0.4867752090431654]"
      ]
     },
     "execution_count": 13,
     "metadata": {},
     "output_type": "execute_result"
    }
   ],
   "source": [
    "hit_rates_nn"
   ]
  },
  {
   "cell_type": "code",
   "execution_count": null,
   "id": "e9e652de-13ca-4e3b-a794-cbbb8907e8f5",
   "metadata": {},
   "outputs": [],
   "source": [
    "train_rmse0 = pd.read_csv('rmse/rmse_folds_actual/actual_rmse_train0.csv', header=None)\n",
    "test_rmse0 = pd.read_csv('rmse/rmse_folds_actual/actual_rmse_test0.csv', header=None)\n",
    "\n",
    "train_rmse0.columns = ['user_id', 'movie_id', 'rating']\n",
    "test_rmse0.columns = ['user_id', 'movie_id', 'rating']\n",
    "\n",
    "rmse_model_0a = joblib.load(open('model_rmse0a.pkl', 'rb'))\n",
    "rmse_model_0b = joblib.load(open('model_rmse0b.pkl', 'rb'))\n",
    "\n",
    "preds_0a = []\n",
    "preds_0b = []\n",
    "\n",
    "rmse_nn = []\n",
    "\n",
    "for i in range(len(test_rmse0)):\n",
    "    user = test_rmse0['user_id'].loc[i]\n",
    "    movie = test_rmse0['movie_id'].loc[i]\n",
    "    predicted_rating = rmse_model_0a({'user_id': np.array([user]),\n",
    "                                           'movie_id': np.array([movie])})\n",
    "    preds_0a.append(predicted_rating.numpy()[0][0])\n",
    "    \n",
    "for i in range(len(train_rmse0)):\n",
    "    user = train_rmse0['user_id'].loc[i]\n",
    "    movie = train_rmse0['movie_id'].loc[i]\n",
    "    predicted_rating = rmse_model_0b({'user_id': np.array([user]),\n",
    "                                           'movie_id': np.array([movie])})\n",
    "    preds_0b.append(predicted_rating.numpy()[0][0])\n",
    "    \n",
    "actual_ratings_0a = test_rmse0['rating'].values\n",
    "actual_ratings_0b = train_rmse0['rating'].values\n",
    "\n",
    "rmse_nn.append(np.sqrt(np.mean((actual_ratings_0a - np.array(preds_0a))**2)))\n",
    "rmse_nn.append(np.sqrt(np.mean((actual_ratings_0b - np.array(preds_0b))**2)))"
   ]
  },
  {
   "cell_type": "code",
   "execution_count": null,
   "id": "4c2acc29-8842-4e2b-ba64-61671e9b95f6",
   "metadata": {},
   "outputs": [],
   "source": [
    "rmse_nn = []\n",
    "\n",
    "for i in range(5):\n",
    "    train_rmse = pd.read_csv(f'rmse/rmse_folds_actual/actual_rmse_train{i}.csv', header=None)\n",
    "    test_rmse = pd.read_csv(f'rmse/rmse_folds_actual/actual_rmse_test{i}.csv', header=None)\n",
    "    train_rmse.columns = ['user_id', 'movie_id', 'rating']\n",
    "    test_rmse.columns = ['user_id', 'movie_id', 'rating']\n",
    "    rmse_model_a = joblib.load(open(f'model_rmse{i}a.pkl', 'rb'))\n",
    "    rmse_model_b = joblib.load(open(f'model_rmse{i}b.pkl', 'rb'))\n",
    "    \n",
    "    preds_a = []\n",
    "    preds_b = []\n",
    "    \n",
    "    for ii in range(len(test_rmse)):\n",
    "        user = test_rmse['user_id'].loc[ii]\n",
    "        movie = test_rmse['movie_id'].loc[ii]\n",
    "        predicted_rating = rmse_model_a({'user_id': np.array([user]),\n",
    "                                           'movie_id': np.array([movie])})\n",
    "        preds_a.append(predicted_rating.numpy()[0][0])\n",
    "        \n",
    "    for iii in range(len(train_rmse)):\n",
    "        user = train_rmse['user_id'].loc[iii]\n",
    "        movie = train_rmse['movie_id'].loc[iii]\n",
    "        predicted_rating = rmse_model_b({'user_id': np.array([user]),\n",
    "                                           'movie_id': np.array([movie])})\n",
    "        preds_b.append(predicted_rating.numpy()[0][0])\n",
    "        \n",
    "    \n",
    "    rmse_nn.append(np.sqrt(np.mean((test_rmse['rating'].values - np.array(preds_a))**2)))\n",
    "    rmse_nn.append(np.sqrt(np.mean((train_rmse['rating'].values - np.array(preds_b))**2)))\n",
    "    \n",
    "\n",
    "    "
   ]
  },
  {
   "cell_type": "code",
   "execution_count": 15,
   "id": "500b31c1-e2e2-4a49-9a0f-20f23f1a54ef",
   "metadata": {},
   "outputs": [],
   "source": [
    "hr_nn_dict = dict(neural_network_hr=hit_rates_nn)\n",
    "rmse_nn_dict = dict(neural_network_rmse=rmse_nn)\n",
    "\n",
    "hr_nn_df = pd.DataFrame(hr_nn_dict)\n",
    "rmse_nn_df = pd.DataFrame(rmse_nn_dict)\n",
    "\n",
    "hr_nn_df\n",
    "hr_nn_df.to_csv('hr_nn_df.csv', index=False)\n",
    "rmse_nn_df.to_csv('rmse_nn_df.csv', index=False)"
   ]
  },
  {
   "cell_type": "code",
   "execution_count": null,
   "id": "930bc47d-682f-4d1b-a4ad-dbd44a016807",
   "metadata": {},
   "outputs": [],
   "source": []
  }
 ],
 "metadata": {
  "kernelspec": {
   "display_name": "Python 3",
   "language": "python",
   "name": "python3"
  },
  "language_info": {
   "codemirror_mode": {
    "name": "ipython",
    "version": 3
   },
   "file_extension": ".py",
   "mimetype": "text/x-python",
   "name": "python",
   "nbconvert_exporter": "python",
   "pygments_lexer": "ipython3",
   "version": "3.8.8"
  }
 },
 "nbformat": 4,
 "nbformat_minor": 5
}
