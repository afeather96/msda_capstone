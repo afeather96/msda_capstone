{
 "cells": [
  {
   "cell_type": "code",
   "execution_count": 28,
   "id": "badcd68b-8931-475f-bca4-51ead3d300eb",
   "metadata": {},
   "outputs": [],
   "source": [
    "import pandas as pd\n",
    "import numpy as np\n",
    "import matplotlib.pyplot as plt\n",
    "import seaborn as sns\n",
    "from collections import deque\n",
    "from surprise import Dataset, NormalPredictor, Reader\n",
    "from surprise.model_selection import cross_validate\n",
    "import os\n",
    "from sklearn.model_selection import train_test_split\n",
    "import pickle\n",
    "from surprise import accuracy\n",
    "from surprise import accuracy, Dataset, Reader, SVD, KNNBaseline\n",
    "from surprise.model_selection import PredefinedKFold\n",
    "import pprint\n",
    "import tempfile\n",
    "from typing import Dict, Text\n",
    "import tensorflow as tf\n",
    "import tensorflow_recommenders as tfrs\n",
    "from collections import defaultdict\n",
    "from scipy import stats"
   ]
  },
  {
   "cell_type": "code",
   "execution_count": 2,
   "id": "f98bf504-3e3a-43bd-b1d8-5f4b78f92554",
   "metadata": {},
   "outputs": [
    {
     "name": "stdout",
     "output_type": "stream",
     "text": [
      "/Users/alecclarkfeather/capstone_project\n"
     ]
    }
   ],
   "source": [
    "#!pwd"
   ]
  },
  {
   "cell_type": "code",
   "execution_count": 3,
   "id": "87ca58b6-53a1-4a1a-b959-9b4599f0acc5",
   "metadata": {},
   "outputs": [],
   "source": [
    "PATH = '/Users/alecclarkfeather/capstone_project/'"
   ]
  },
  {
   "cell_type": "code",
   "execution_count": 4,
   "id": "13b439a2-8554-4ebf-871b-70fdd0ddf2bf",
   "metadata": {},
   "outputs": [
    {
     "data": {
      "text/html": [
       "<div>\n",
       "<style scoped>\n",
       "    .dataframe tbody tr th:only-of-type {\n",
       "        vertical-align: middle;\n",
       "    }\n",
       "\n",
       "    .dataframe tbody tr th {\n",
       "        vertical-align: top;\n",
       "    }\n",
       "\n",
       "    .dataframe thead th {\n",
       "        text-align: right;\n",
       "    }\n",
       "</style>\n",
       "<table border=\"1\" class=\"dataframe\">\n",
       "  <thead>\n",
       "    <tr style=\"text-align: right;\">\n",
       "      <th></th>\n",
       "      <th>0</th>\n",
       "      <th>1</th>\n",
       "      <th>2</th>\n",
       "    </tr>\n",
       "  </thead>\n",
       "  <tbody>\n",
       "    <tr>\n",
       "      <th>0</th>\n",
       "      <td>826574</td>\n",
       "      <td>9729</td>\n",
       "      <td>4.0</td>\n",
       "    </tr>\n",
       "    <tr>\n",
       "      <th>1</th>\n",
       "      <td>2200645</td>\n",
       "      <td>1719</td>\n",
       "      <td>4.0</td>\n",
       "    </tr>\n",
       "    <tr>\n",
       "      <th>2</th>\n",
       "      <td>2150434</td>\n",
       "      <td>5356</td>\n",
       "      <td>5.0</td>\n",
       "    </tr>\n",
       "    <tr>\n",
       "      <th>3</th>\n",
       "      <td>2142065</td>\n",
       "      <td>8753</td>\n",
       "      <td>3.0</td>\n",
       "    </tr>\n",
       "    <tr>\n",
       "      <th>4</th>\n",
       "      <td>867086</td>\n",
       "      <td>6721</td>\n",
       "      <td>4.0</td>\n",
       "    </tr>\n",
       "  </tbody>\n",
       "</table>\n",
       "</div>"
      ],
      "text/plain": [
       "         0     1    2\n",
       "0   826574  9729  4.0\n",
       "1  2200645  1719  4.0\n",
       "2  2150434  5356  5.0\n",
       "3  2142065  8753  3.0\n",
       "4   867086  6721  4.0"
      ]
     },
     "execution_count": 4,
     "metadata": {},
     "output_type": "execute_result"
    }
   ],
   "source": [
    "#sample = pd.read_csv(PATH + 'hit_rate_folds_actual/train_hr0.csv', header=None)\n",
    "#sample.head()"
   ]
  },
  {
   "cell_type": "code",
   "execution_count": 5,
   "id": "a6b73455-9d6b-4f7c-8278-0b9741ca6c54",
   "metadata": {},
   "outputs": [
    {
     "data": {
      "text/plain": [
       "(2333222, 3)"
      ]
     },
     "execution_count": 5,
     "metadata": {},
     "output_type": "execute_result"
    }
   ],
   "source": [
    "#sample.shape"
   ]
  },
  {
   "cell_type": "code",
   "execution_count": 6,
   "id": "36a9ef0f-4796-4d03-a14c-0eea39d3376c",
   "metadata": {},
   "outputs": [],
   "source": [
    "hr_results_df = pd.read_csv(PATH + 'hr_results_df.csv')\n",
    "rmse_results_df = pd.read_csv(PATH + 'rmse_results_df.csv')"
   ]
  },
  {
   "cell_type": "code",
   "execution_count": 7,
   "id": "aa148a17-37c3-4093-971a-4df30de879de",
   "metadata": {},
   "outputs": [
    {
     "data": {
      "text/html": [
       "<div>\n",
       "<style scoped>\n",
       "    .dataframe tbody tr th:only-of-type {\n",
       "        vertical-align: middle;\n",
       "    }\n",
       "\n",
       "    .dataframe tbody tr th {\n",
       "        vertical-align: top;\n",
       "    }\n",
       "\n",
       "    .dataframe thead th {\n",
       "        text-align: right;\n",
       "    }\n",
       "</style>\n",
       "<table border=\"1\" class=\"dataframe\">\n",
       "  <thead>\n",
       "    <tr style=\"text-align: right;\">\n",
       "      <th></th>\n",
       "      <th>baseline</th>\n",
       "      <th>cf</th>\n",
       "      <th>svd</th>\n",
       "    </tr>\n",
       "  </thead>\n",
       "  <tbody>\n",
       "    <tr>\n",
       "      <th>0</th>\n",
       "      <td>0.296561</td>\n",
       "      <td>0.439228</td>\n",
       "      <td>0.458413</td>\n",
       "    </tr>\n",
       "    <tr>\n",
       "      <th>1</th>\n",
       "      <td>0.297034</td>\n",
       "      <td>0.439001</td>\n",
       "      <td>0.460726</td>\n",
       "    </tr>\n",
       "    <tr>\n",
       "      <th>2</th>\n",
       "      <td>0.297715</td>\n",
       "      <td>0.438900</td>\n",
       "      <td>0.459328</td>\n",
       "    </tr>\n",
       "    <tr>\n",
       "      <th>3</th>\n",
       "      <td>0.298997</td>\n",
       "      <td>0.437977</td>\n",
       "      <td>0.460333</td>\n",
       "    </tr>\n",
       "    <tr>\n",
       "      <th>4</th>\n",
       "      <td>0.295871</td>\n",
       "      <td>0.439655</td>\n",
       "      <td>0.460662</td>\n",
       "    </tr>\n",
       "    <tr>\n",
       "      <th>5</th>\n",
       "      <td>0.298046</td>\n",
       "      <td>0.438874</td>\n",
       "      <td>0.459719</td>\n",
       "    </tr>\n",
       "    <tr>\n",
       "      <th>6</th>\n",
       "      <td>0.297368</td>\n",
       "      <td>0.439560</td>\n",
       "      <td>0.461304</td>\n",
       "    </tr>\n",
       "    <tr>\n",
       "      <th>7</th>\n",
       "      <td>0.298030</td>\n",
       "      <td>0.439275</td>\n",
       "      <td>0.460432</td>\n",
       "    </tr>\n",
       "    <tr>\n",
       "      <th>8</th>\n",
       "      <td>0.296864</td>\n",
       "      <td>0.438533</td>\n",
       "      <td>0.459555</td>\n",
       "    </tr>\n",
       "    <tr>\n",
       "      <th>9</th>\n",
       "      <td>0.298423</td>\n",
       "      <td>0.439623</td>\n",
       "      <td>0.459121</td>\n",
       "    </tr>\n",
       "  </tbody>\n",
       "</table>\n",
       "</div>"
      ],
      "text/plain": [
       "   baseline        cf       svd\n",
       "0  0.296561  0.439228  0.458413\n",
       "1  0.297034  0.439001  0.460726\n",
       "2  0.297715  0.438900  0.459328\n",
       "3  0.298997  0.437977  0.460333\n",
       "4  0.295871  0.439655  0.460662\n",
       "5  0.298046  0.438874  0.459719\n",
       "6  0.297368  0.439560  0.461304\n",
       "7  0.298030  0.439275  0.460432\n",
       "8  0.296864  0.438533  0.459555\n",
       "9  0.298423  0.439623  0.459121"
      ]
     },
     "execution_count": 7,
     "metadata": {},
     "output_type": "execute_result"
    }
   ],
   "source": [
    "hr_results_df"
   ]
  },
  {
   "cell_type": "code",
   "execution_count": 8,
   "id": "ba3ccd52-532b-4e5b-878b-9d8d348ac0ee",
   "metadata": {},
   "outputs": [
    {
     "data": {
      "text/html": [
       "<div>\n",
       "<style scoped>\n",
       "    .dataframe tbody tr th:only-of-type {\n",
       "        vertical-align: middle;\n",
       "    }\n",
       "\n",
       "    .dataframe tbody tr th {\n",
       "        vertical-align: top;\n",
       "    }\n",
       "\n",
       "    .dataframe thead th {\n",
       "        text-align: right;\n",
       "    }\n",
       "</style>\n",
       "<table border=\"1\" class=\"dataframe\">\n",
       "  <thead>\n",
       "    <tr style=\"text-align: right;\">\n",
       "      <th></th>\n",
       "      <th>baseline</th>\n",
       "      <th>cf</th>\n",
       "      <th>svd</th>\n",
       "    </tr>\n",
       "  </thead>\n",
       "  <tbody>\n",
       "    <tr>\n",
       "      <th>0</th>\n",
       "      <td>1.478618</td>\n",
       "      <td>1.066947</td>\n",
       "      <td>1.006683</td>\n",
       "    </tr>\n",
       "    <tr>\n",
       "      <th>1</th>\n",
       "      <td>1.477799</td>\n",
       "      <td>1.067403</td>\n",
       "      <td>1.006872</td>\n",
       "    </tr>\n",
       "    <tr>\n",
       "      <th>2</th>\n",
       "      <td>1.478326</td>\n",
       "      <td>1.067594</td>\n",
       "      <td>1.007039</td>\n",
       "    </tr>\n",
       "    <tr>\n",
       "      <th>3</th>\n",
       "      <td>1.478533</td>\n",
       "      <td>1.067073</td>\n",
       "      <td>1.007092</td>\n",
       "    </tr>\n",
       "    <tr>\n",
       "      <th>4</th>\n",
       "      <td>1.478335</td>\n",
       "      <td>1.066790</td>\n",
       "      <td>1.007514</td>\n",
       "    </tr>\n",
       "    <tr>\n",
       "      <th>5</th>\n",
       "      <td>1.477217</td>\n",
       "      <td>1.066989</td>\n",
       "      <td>1.006884</td>\n",
       "    </tr>\n",
       "    <tr>\n",
       "      <th>6</th>\n",
       "      <td>1.477425</td>\n",
       "      <td>1.067445</td>\n",
       "      <td>1.006484</td>\n",
       "    </tr>\n",
       "    <tr>\n",
       "      <th>7</th>\n",
       "      <td>1.478469</td>\n",
       "      <td>1.067561</td>\n",
       "      <td>1.007107</td>\n",
       "    </tr>\n",
       "    <tr>\n",
       "      <th>8</th>\n",
       "      <td>1.477504</td>\n",
       "      <td>1.067057</td>\n",
       "      <td>1.007069</td>\n",
       "    </tr>\n",
       "    <tr>\n",
       "      <th>9</th>\n",
       "      <td>1.478085</td>\n",
       "      <td>1.067257</td>\n",
       "      <td>1.006919</td>\n",
       "    </tr>\n",
       "  </tbody>\n",
       "</table>\n",
       "</div>"
      ],
      "text/plain": [
       "   baseline        cf       svd\n",
       "0  1.478618  1.066947  1.006683\n",
       "1  1.477799  1.067403  1.006872\n",
       "2  1.478326  1.067594  1.007039\n",
       "3  1.478533  1.067073  1.007092\n",
       "4  1.478335  1.066790  1.007514\n",
       "5  1.477217  1.066989  1.006884\n",
       "6  1.477425  1.067445  1.006484\n",
       "7  1.478469  1.067561  1.007107\n",
       "8  1.477504  1.067057  1.007069\n",
       "9  1.478085  1.067257  1.006919"
      ]
     },
     "execution_count": 8,
     "metadata": {},
     "output_type": "execute_result"
    }
   ],
   "source": [
    "rmse_results_df"
   ]
  },
  {
   "cell_type": "code",
   "execution_count": 13,
   "id": "a1384bf4-1301-4deb-bae1-61fb104e974b",
   "metadata": {},
   "outputs": [
    {
     "data": {
      "text/plain": [
       "1.477799085109755"
      ]
     },
     "execution_count": 13,
     "metadata": {},
     "output_type": "execute_result"
    }
   ],
   "source": [
    "rmse_results_df['baseline'].iloc[:2].values[1]"
   ]
  },
  {
   "cell_type": "code",
   "execution_count": 30,
   "id": "728664e6-d7fa-4424-ab29-2b0fc051c15a",
   "metadata": {},
   "outputs": [],
   "source": [
    "def five_by_two_paired_t_test(df, col1, col2):\n",
    "    variances = []\n",
    "    diffs = []\n",
    "    for i in range(2, 12, 2):\n",
    "        group1 = df[col1].iloc[:i].values\n",
    "        group2 = df[col2].iloc[:i].values\n",
    "        result1a = group1[i-2]\n",
    "        result1b = group1[i-1]\n",
    "        result2a = group2[i-2]\n",
    "        result2b = group2[i-1]\n",
    "        performance1 = result1a - result2a\n",
    "        performance2 = result1b - result2b\n",
    "        mean_performance = (performance1 + performance2) / 2\n",
    "        variance_performance = (performance1 - mean_performance)**2 + (performance2 - mean_performance)**2\n",
    "        variances.append(variance_performance)\n",
    "        diffs.append(performance1)\n",
    "        \n",
    "    t_statistic = diffs[0] / np.sqrt((1/len(variances))*np.sum(variances))\n",
    "    p_value = stats.t.sf(abs(t_statistic), df=len(variances))\n",
    "    \n",
    "    return t_statistic, p_value\n",
    "        "
   ]
  },
  {
   "cell_type": "code",
   "execution_count": 31,
   "id": "8a9fa2ab-8c56-4bbb-9376-825feea39bad",
   "metadata": {},
   "outputs": [],
   "source": [
    "t_statistic, p_value = five_by_two_paired_t_test(rmse_results_df, 'baseline', 'cf')"
   ]
  },
  {
   "cell_type": "code",
   "execution_count": 20,
   "id": "11c157ec-8a8f-4ea6-9c27-a09a86e35eec",
   "metadata": {},
   "outputs": [
    {
     "data": {
      "text/html": [
       "<div>\n",
       "<style scoped>\n",
       "    .dataframe tbody tr th:only-of-type {\n",
       "        vertical-align: middle;\n",
       "    }\n",
       "\n",
       "    .dataframe tbody tr th {\n",
       "        vertical-align: top;\n",
       "    }\n",
       "\n",
       "    .dataframe thead th {\n",
       "        text-align: right;\n",
       "    }\n",
       "</style>\n",
       "<table border=\"1\" class=\"dataframe\">\n",
       "  <thead>\n",
       "    <tr style=\"text-align: right;\">\n",
       "      <th></th>\n",
       "      <th>baseline</th>\n",
       "      <th>cf</th>\n",
       "      <th>svd</th>\n",
       "    </tr>\n",
       "  </thead>\n",
       "  <tbody>\n",
       "    <tr>\n",
       "      <th>0</th>\n",
       "      <td>1.478618</td>\n",
       "      <td>1.066947</td>\n",
       "      <td>1.006683</td>\n",
       "    </tr>\n",
       "    <tr>\n",
       "      <th>1</th>\n",
       "      <td>1.477799</td>\n",
       "      <td>1.067403</td>\n",
       "      <td>1.006872</td>\n",
       "    </tr>\n",
       "    <tr>\n",
       "      <th>2</th>\n",
       "      <td>1.478326</td>\n",
       "      <td>1.067594</td>\n",
       "      <td>1.007039</td>\n",
       "    </tr>\n",
       "    <tr>\n",
       "      <th>3</th>\n",
       "      <td>1.478533</td>\n",
       "      <td>1.067073</td>\n",
       "      <td>1.007092</td>\n",
       "    </tr>\n",
       "    <tr>\n",
       "      <th>4</th>\n",
       "      <td>1.478335</td>\n",
       "      <td>1.066790</td>\n",
       "      <td>1.007514</td>\n",
       "    </tr>\n",
       "    <tr>\n",
       "      <th>5</th>\n",
       "      <td>1.477217</td>\n",
       "      <td>1.066989</td>\n",
       "      <td>1.006884</td>\n",
       "    </tr>\n",
       "    <tr>\n",
       "      <th>6</th>\n",
       "      <td>1.477425</td>\n",
       "      <td>1.067445</td>\n",
       "      <td>1.006484</td>\n",
       "    </tr>\n",
       "    <tr>\n",
       "      <th>7</th>\n",
       "      <td>1.478469</td>\n",
       "      <td>1.067561</td>\n",
       "      <td>1.007107</td>\n",
       "    </tr>\n",
       "    <tr>\n",
       "      <th>8</th>\n",
       "      <td>1.477504</td>\n",
       "      <td>1.067057</td>\n",
       "      <td>1.007069</td>\n",
       "    </tr>\n",
       "    <tr>\n",
       "      <th>9</th>\n",
       "      <td>1.478085</td>\n",
       "      <td>1.067257</td>\n",
       "      <td>1.006919</td>\n",
       "    </tr>\n",
       "  </tbody>\n",
       "</table>\n",
       "</div>"
      ],
      "text/plain": [
       "   baseline        cf       svd\n",
       "0  1.478618  1.066947  1.006683\n",
       "1  1.477799  1.067403  1.006872\n",
       "2  1.478326  1.067594  1.007039\n",
       "3  1.478533  1.067073  1.007092\n",
       "4  1.478335  1.066790  1.007514\n",
       "5  1.477217  1.066989  1.006884\n",
       "6  1.477425  1.067445  1.006484\n",
       "7  1.478469  1.067561  1.007107\n",
       "8  1.477504  1.067057  1.007069\n",
       "9  1.478085  1.067257  1.006919"
      ]
     },
     "execution_count": 20,
     "metadata": {},
     "output_type": "execute_result"
    }
   ],
   "source": [
    "#rmse_results_df"
   ]
  },
  {
   "cell_type": "code",
   "execution_count": 32,
   "id": "1d221c98-24ec-4453-b25f-a562eca2a131",
   "metadata": {},
   "outputs": [
    {
     "data": {
      "text/plain": [
       "(588.3746395042142, 1.345831530364664e-13)"
      ]
     },
     "execution_count": 32,
     "metadata": {},
     "output_type": "execute_result"
    }
   ],
   "source": [
    "t_statistic, p_value"
   ]
  },
  {
   "cell_type": "code",
   "execution_count": 26,
   "id": "5eb79816-c6bd-41ae-a1de-9888c0aeed16",
   "metadata": {},
   "outputs": [
    {
     "data": {
      "text/plain": [
       "[0.411670735709343,\n",
       " 0.41073179188007924,\n",
       " 0.41154476245618166,\n",
       " 0.4099797285168356,\n",
       " 0.4104470085509342]"
      ]
     },
     "execution_count": 26,
     "metadata": {},
     "output_type": "execute_result"
    }
   ],
   "source": [
    "#diff_test"
   ]
  },
  {
   "cell_type": "code",
   "execution_count": 27,
   "id": "bed522f2-cfd8-4bff-ba4b-8d69320c7ffc",
   "metadata": {},
   "outputs": [
    {
     "data": {
      "text/plain": [
       "588.3746395042142"
      ]
     },
     "execution_count": 27,
     "metadata": {},
     "output_type": "execute_result"
    }
   ],
   "source": [
    "#t_statistic"
   ]
  },
  {
   "cell_type": "code",
   "execution_count": 29,
   "id": "ff73c109-33e8-4d9a-aaab-cfe4926e99b7",
   "metadata": {},
   "outputs": [
    {
     "data": {
      "text/plain": [
       "1.345831530364664e-13"
      ]
     },
     "execution_count": 29,
     "metadata": {},
     "output_type": "execute_result"
    }
   ],
   "source": [
    "#stats.t.sf(abs(t_statistic), df=5)"
   ]
  },
  {
   "cell_type": "code",
   "execution_count": 33,
   "id": "d5f667e0-5906-4600-96d9-568fe4a96dd3",
   "metadata": {},
   "outputs": [],
   "source": [
    "t_stats_rmse = []\n",
    "p_values_rmse = []\n",
    "\n",
    "t_b_vs_cf, p_b_vs_cf = five_by_two_paired_t_test(rmse_results_df, 'baseline', 'cf')\n",
    "t_b_vs_svd, p_b_vs_svd = five_by_two_paired_t_test(rmse_results_df, 'baseline', 'svd')\n",
    "t_cf_vs_svd, p_cf_vs_svd = five_by_two_paired_t_test(rmse_results_df, 'cf', 'svd')\n",
    "\n",
    "t_stats_rmse.append(t_b_vs_cf)\n",
    "t_stats_rmse.append(t_b_vs_svd)\n",
    "t_stats_rmse.append(t_cf_vs_svd)\n",
    "\n",
    "p_values_rmse.append(p_b_vs_cf)\n",
    "p_values_rmse.append(p_b_vs_svd)\n",
    "p_values_rmse.append(p_cf_vs_svd)"
   ]
  },
  {
   "cell_type": "code",
   "execution_count": 34,
   "id": "d07f592d-ab30-4d21-ba57-5f119ea72cf2",
   "metadata": {},
   "outputs": [
    {
     "data": {
      "text/plain": [
       "[588.3746395042142, 1058.5433431916879, 157.2509913257679]"
      ]
     },
     "execution_count": 34,
     "metadata": {},
     "output_type": "execute_result"
    }
   ],
   "source": [
    "t_stats_rmse"
   ]
  },
  {
   "cell_type": "code",
   "execution_count": 35,
   "id": "7f7b5d19-f62a-4633-91c4-9c0fcd76a5bc",
   "metadata": {},
   "outputs": [
    {
     "data": {
      "text/plain": [
       "[1.345831530364664e-13, 7.140464865047784e-15, 9.865492033175221e-11]"
      ]
     },
     "execution_count": 35,
     "metadata": {},
     "output_type": "execute_result"
    }
   ],
   "source": [
    "p_values_rmse"
   ]
  },
  {
   "cell_type": "code",
   "execution_count": 36,
   "id": "7c8d068b-1ba0-45c4-85f2-6b9a5520ddf8",
   "metadata": {},
   "outputs": [
    {
     "data": {
      "text/plain": [
       "{'t_statistic': [588.3746395042142, 1058.5433431916879, 157.2509913257679],\n",
       " 'p_value_unadjusted': [1.345831530364664e-13,\n",
       "  7.140464865047784e-15,\n",
       "  9.865492033175221e-11]}"
      ]
     },
     "execution_count": 36,
     "metadata": {},
     "output_type": "execute_result"
    }
   ],
   "source": [
    "t_test_results_dict = dict(t_statistic=t_stats_rmse, p_value_unadjusted=p_values_rmse)\n",
    "t_test_results_dict"
   ]
  },
  {
   "cell_type": "code",
   "execution_count": 37,
   "id": "ca04bda7-532b-4ece-bcee-1d92417b58d5",
   "metadata": {},
   "outputs": [
    {
     "data": {
      "text/html": [
       "<div>\n",
       "<style scoped>\n",
       "    .dataframe tbody tr th:only-of-type {\n",
       "        vertical-align: middle;\n",
       "    }\n",
       "\n",
       "    .dataframe tbody tr th {\n",
       "        vertical-align: top;\n",
       "    }\n",
       "\n",
       "    .dataframe thead th {\n",
       "        text-align: right;\n",
       "    }\n",
       "</style>\n",
       "<table border=\"1\" class=\"dataframe\">\n",
       "  <thead>\n",
       "    <tr style=\"text-align: right;\">\n",
       "      <th></th>\n",
       "      <th>t_statistic</th>\n",
       "      <th>p_value_unadjusted</th>\n",
       "    </tr>\n",
       "  </thead>\n",
       "  <tbody>\n",
       "    <tr>\n",
       "      <th>baseline_vs_cf</th>\n",
       "      <td>588.374640</td>\n",
       "      <td>1.345832e-13</td>\n",
       "    </tr>\n",
       "    <tr>\n",
       "      <th>baseline_vs_svd</th>\n",
       "      <td>1058.543343</td>\n",
       "      <td>7.140465e-15</td>\n",
       "    </tr>\n",
       "    <tr>\n",
       "      <th>cf_vs_svd</th>\n",
       "      <td>157.250991</td>\n",
       "      <td>9.865492e-11</td>\n",
       "    </tr>\n",
       "  </tbody>\n",
       "</table>\n",
       "</div>"
      ],
      "text/plain": [
       "                 t_statistic  p_value_unadjusted\n",
       "baseline_vs_cf    588.374640        1.345832e-13\n",
       "baseline_vs_svd  1058.543343        7.140465e-15\n",
       "cf_vs_svd         157.250991        9.865492e-11"
      ]
     },
     "execution_count": 37,
     "metadata": {},
     "output_type": "execute_result"
    }
   ],
   "source": [
    "t_test_results_rmse_df = pd.DataFrame(t_test_results_dict, index=['baseline_vs_cf',\n",
    "                                                                 'baseline_vs_svd',\n",
    "                                                                 'cf_vs_svd'])\n",
    "t_test_results_rmse_df"
   ]
  },
  {
   "cell_type": "code",
   "execution_count": 38,
   "id": "0590b20c-aa53-449d-99ca-9548e866cabd",
   "metadata": {},
   "outputs": [],
   "source": [
    "t_stats_hr = []\n",
    "p_values_hr = []\n",
    "\n",
    "t_b_vs_cf, p_b_vs_cf = five_by_two_paired_t_test(hr_results_df, 'baseline', 'cf')\n",
    "t_b_vs_svd, p_b_vs_svd = five_by_two_paired_t_test(hr_results_df, 'baseline', 'svd')\n",
    "t_cf_vs_svd, p_cf_vs_svd = five_by_two_paired_t_test(hr_results_df, 'cf', 'svd')\n",
    "\n",
    "t_stats_hr.append(t_b_vs_cf)\n",
    "t_stats_hr.append(t_b_vs_svd)\n",
    "t_stats_hr.append(t_cf_vs_svd)\n",
    "\n",
    "p_values_hr.append(p_b_vs_cf)\n",
    "p_values_hr.append(p_b_vs_svd)\n",
    "p_values_hr.append(p_cf_vs_svd)"
   ]
  },
  {
   "cell_type": "code",
   "execution_count": 39,
   "id": "a90038ad-b628-455f-b226-898f67b2f555",
   "metadata": {},
   "outputs": [
    {
     "data": {
      "text/plain": [
       "[-115.72996706768873, -115.89031618960854, -16.915945970664175]"
      ]
     },
     "execution_count": 39,
     "metadata": {},
     "output_type": "execute_result"
    }
   ],
   "source": [
    "t_stats_hr"
   ]
  },
  {
   "cell_type": "code",
   "execution_count": 40,
   "id": "95867b50-526e-456a-8f3c-aaa7454602fc",
   "metadata": {},
   "outputs": [
    {
     "data": {
      "text/plain": [
       "[4.5676977700525175e-10, 4.5361951459958135e-10, 6.601872454475318e-06]"
      ]
     },
     "execution_count": 40,
     "metadata": {},
     "output_type": "execute_result"
    }
   ],
   "source": [
    "p_values_hr"
   ]
  },
  {
   "cell_type": "code",
   "execution_count": 41,
   "id": "329b479c-9536-4bf0-a60e-f4023c6e56d0",
   "metadata": {},
   "outputs": [
    {
     "data": {
      "text/plain": [
       "{'t_statistic': [-115.72996706768873,\n",
       "  -115.89031618960854,\n",
       "  -16.915945970664175],\n",
       " 'p_value_unadjusted': [4.5676977700525175e-10,\n",
       "  4.5361951459958135e-10,\n",
       "  6.601872454475318e-06]}"
      ]
     },
     "execution_count": 41,
     "metadata": {},
     "output_type": "execute_result"
    }
   ],
   "source": [
    "t_test_results_dict_hr = dict(t_statistic=t_stats_hr, p_value_unadjusted=p_values_hr)\n",
    "t_test_results_dict_hr"
   ]
  },
  {
   "cell_type": "code",
   "execution_count": 42,
   "id": "bc18d0f2-9616-4055-b63e-cde72eb0b727",
   "metadata": {},
   "outputs": [
    {
     "data": {
      "text/html": [
       "<div>\n",
       "<style scoped>\n",
       "    .dataframe tbody tr th:only-of-type {\n",
       "        vertical-align: middle;\n",
       "    }\n",
       "\n",
       "    .dataframe tbody tr th {\n",
       "        vertical-align: top;\n",
       "    }\n",
       "\n",
       "    .dataframe thead th {\n",
       "        text-align: right;\n",
       "    }\n",
       "</style>\n",
       "<table border=\"1\" class=\"dataframe\">\n",
       "  <thead>\n",
       "    <tr style=\"text-align: right;\">\n",
       "      <th></th>\n",
       "      <th>t_statistic</th>\n",
       "      <th>p_value_unadjusted</th>\n",
       "    </tr>\n",
       "  </thead>\n",
       "  <tbody>\n",
       "    <tr>\n",
       "      <th>baseline_vs_cf</th>\n",
       "      <td>-115.729967</td>\n",
       "      <td>4.567698e-10</td>\n",
       "    </tr>\n",
       "    <tr>\n",
       "      <th>baseline_vs_svd</th>\n",
       "      <td>-115.890316</td>\n",
       "      <td>4.536195e-10</td>\n",
       "    </tr>\n",
       "    <tr>\n",
       "      <th>cf_vs_svd</th>\n",
       "      <td>-16.915946</td>\n",
       "      <td>6.601872e-06</td>\n",
       "    </tr>\n",
       "  </tbody>\n",
       "</table>\n",
       "</div>"
      ],
      "text/plain": [
       "                 t_statistic  p_value_unadjusted\n",
       "baseline_vs_cf   -115.729967        4.567698e-10\n",
       "baseline_vs_svd  -115.890316        4.536195e-10\n",
       "cf_vs_svd         -16.915946        6.601872e-06"
      ]
     },
     "execution_count": 42,
     "metadata": {},
     "output_type": "execute_result"
    }
   ],
   "source": [
    "t_test_results_hr_df = pd.DataFrame(t_test_results_dict_hr, index=['baseline_vs_cf',\n",
    "                                                                 'baseline_vs_svd',\n",
    "                                                                 'cf_vs_svd'])\n",
    "t_test_results_hr_df"
   ]
  },
  {
   "cell_type": "code",
   "execution_count": 43,
   "id": "b2e299c2-7c18-485f-9d93-0ddc71881bf7",
   "metadata": {},
   "outputs": [],
   "source": [
    "t_test_results_rmse_df.to_csv(PATH + 't_test_results_rmse_df.csv', index=False)\n",
    "t_test_results_hr_df.to_csv(PATH + 't_test_results_hr_df.csv', index=False)"
   ]
  },
  {
   "cell_type": "code",
   "execution_count": null,
   "id": "efa3708e-e076-48eb-8beb-27dc3adecb1e",
   "metadata": {},
   "outputs": [],
   "source": [
    "def get_top_n_tf(predictions, n=100):\n",
    "    top_n = defaultdict(list)\n",
    "    for uid, iid, true_r, est, _ in predictions:\n",
    "        top_n[uid].append((iid, est))\n",
    "    for uid, user_ratings in top_n.items():\n",
    "        user_ratings.sort(key=lambda x: x[1], reverse=True)\n",
    "        top_n[uid] = user_ratings[:n]\n",
    "    return top_n"
   ]
  },
  {
   "cell_type": "code",
   "execution_count": null,
   "id": "708886f2-d335-4bd0-acf4-a8cce7e03a7e",
   "metadata": {},
   "outputs": [],
   "source": [
    "PATH = 'rmse/hit_rate_folds_actual/'\n",
    "\n",
    "hit_rates_nn = []\n",
    "\n",
    "for i in range(5):\n",
    "    train_file1 = PATH + f'train_hr{i}.csv'\n",
    "    test_file1 = PATH + f'test_hr{i}.csv'\n",
    "    df_train1 = pd.read_csv(train_file1, header=None)\n",
    "    df_test1 = pd.read_csv(test_file1, header=None)\n",
    "    df_train1.columns = ['user_id', 'movie_id', 'rating']\n",
    "    df_test1.columns = ['user_id', 'movie_id', 'rating']\n",
    "    \n",
    "    deep_model1 = NetflixRmseModel()\n",
    "    deep_model1.compile(optimizer=tf.keras.optimizers.Adagrad(learning_rate=0.1))\n",
    "    \n",
    "    deep_model2 = NetflixRmseModel()\n",
    "    deep_model2.compile(optimizer=tf.keras.optimizers.Adagrad(learning_rate=0.1))\n",
    "    \n",
    "    df_train_tf1 = tf.data.Dataset.from_tensor_slices(dict(df_train1))\n",
    "    df_test_tf1 = tf.data.Dataset.from_tensor_slices(dict(df_test1))\n",
    "    \n",
    "    df_train_tf1 = df_train_tf1.map(lambda x: {'user_id': x['user_id'],\n",
    "    'movie_id': x['movie_id'],\n",
    "    'rating': x['rating']})\n",
    "    \n",
    "    df_test_tf1 = df_test_tf1.map(lambda x: {'user_id': x['user_id'],\n",
    "    'movie_id': x['movie_id'],\n",
    "    'rating': x['rating']})\n",
    "    \n",
    "    df_train_tf1 = df_train_tf1.batch(8192).cache()\n",
    "    df_test_tf1 = df_test_tf1.batch(8192).cache()\n",
    "    \n",
    "    history_baseline1 = deep_model1.fit(df_train_tf1, epochs=10)\n",
    "    history_baseline2 = deep_model2.fit(df_test_tf1, epochs=10)\n",
    "    \n",
    "    num_users1 = 0\n",
    "    num_users2 = 0\n",
    "    num_hits1 = 0\n",
    "    num_hits2 = 0\n",
    "    \n",
    "    predictions_1a = defaultdict(list)\n",
    "\n",
    "    for i, row in df_test1.iterrows():\n",
    "        user = row['user_id']\n",
    "        movie = row['movie_id']\n",
    "        predicted_rating = deep_model1({'user_id': np.array([user]),\n",
    "                                           'movie_id': np.array([movie])})\n",
    "        predictions_1a[user].append((movie, predicted_rating[0][0]))\n",
    "        \n",
    "    for user_id, user_ratings in predictions_1a.items():\n",
    "        user_ratings.sort(key=lambda x: x[1], reverse=True)\n",
    "        predictions_1a[user_id] = user_ratings[:100]\n",
    "        \n",
    "    predictions_1b = defaultdict(list)\n",
    "\n",
    "    for i, row in df_train1.iterrows():\n",
    "        user = row['user_id']\n",
    "        movie = row['movie_id']\n",
    "        predicted_rating = deep_model2({'user_id': np.array([user]),\n",
    "                                           'movie_id': np.array([movie])})\n",
    "        predictions_1b[user].append((movie, predicted_rating[0][0]))\n",
    "        \n",
    "    for user_id in predictions_1a.keys():\n",
    "        top_movie = top_ratings_df[top_ratings_df['user_id']==user_id]['movie_id']\n",
    "        num_users1 += 1\n",
    "        num_recs = len(predictions_1a[user_id])\n",
    "        top_number = int(num_recs*0.25)\n",
    "        boundary_for_user = [rec[1] for rec in predictions_1a[user_id]][top_number]\n",
    "        pred_top_movie = deep__model1({'user_id': np.array([user_id]),\n",
    "                                         'movie_id': np.array([top_movie])})\n",
    "        if pred_top_movie[0][0] > boundary_for_user:\n",
    "            num_hits1 += 1\n",
    "            \n",
    "    for user_id in predictions_1b.keys():\n",
    "        top_movie = top_ratings_df[top_ratings_df['user_id']==user_id]['movie_id']\n",
    "        num_users2 += 1\n",
    "        num_recs = len(predictions_1b[user_id])\n",
    "        top_number = int(num_recs*0.25)\n",
    "        boundary_for_user = [rec[1] for rec in predictions_1b[user_id]][top_number]\n",
    "        pred_top_movie = deep_model2({'user_id': np.array([user_id]),\n",
    "                                         'movie_id': np.array([top_movie])})\n",
    "        if pred_top_movie[0][0] > boundary_for_user:\n",
    "            num_hits2 += 1\n",
    "            \n",
    "            \n",
    "    hit_rates_nn.append(num_hits1 / num_users1)\n",
    "    hit_rates_nn.append(num_hits2 / num_users2)\n",
    "    \n",
    "    "
   ]
  }
 ],
 "metadata": {
  "kernelspec": {
   "display_name": "Python 3",
   "language": "python",
   "name": "python3"
  },
  "language_info": {
   "codemirror_mode": {
    "name": "ipython",
    "version": 3
   },
   "file_extension": ".py",
   "mimetype": "text/x-python",
   "name": "python",
   "nbconvert_exporter": "python",
   "pygments_lexer": "ipython3",
   "version": "3.8.8"
  }
 },
 "nbformat": 4,
 "nbformat_minor": 5
}
