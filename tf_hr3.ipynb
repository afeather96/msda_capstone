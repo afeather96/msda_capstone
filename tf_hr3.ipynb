{
 "cells": [
  {
   "cell_type": "code",
   "execution_count": 1,
   "id": "bf7f2d34-ad9c-4ae5-8e16-b76fe7008d46",
   "metadata": {},
   "outputs": [
    {
     "name": "stdout",
     "output_type": "stream",
     "text": [
      "\u001b[33mWARNING: Running pip as the 'root' user can result in broken permissions and conflicting behaviour with the system package manager. It is recommended to use a virtual environment instead: https://pip.pypa.io/warnings/venv\u001b[0m\u001b[33m\n",
      "\u001b[0m"
     ]
    }
   ],
   "source": [
    "!pip install -q tensorflow-recommenders"
   ]
  },
  {
   "cell_type": "code",
   "execution_count": 2,
   "id": "2a9adf1f-237d-454e-a57f-2f3049bf5fbe",
   "metadata": {},
   "outputs": [],
   "source": [
    "import pandas as pd\n",
    "import numpy as np\n",
    "import matplotlib.pyplot as plt\n",
    "import seaborn as sns\n",
    "from collections import deque\n",
    "#from surprise import Dataset, NormalPredictor, Reader\n",
    "#from surprise.model_selection import cross_validate\n",
    "import os\n",
    "from sklearn.model_selection import train_test_split\n",
    "import pickle\n",
    "#from surprise import accuracy\n",
    "#from surprise import accuracy, Dataset, Reader, SVD, KNNBaseline\n",
    "#from surprise.model_selection import PredefinedKFold\n",
    "import pprint\n",
    "import tempfile\n",
    "from typing import Dict, Text\n",
    "import tensorflow as tf\n",
    "import tensorflow_recommenders as tfrs\n",
    "from collections import defaultdict\n",
    "import joblib"
   ]
  },
  {
   "cell_type": "code",
   "execution_count": 3,
   "id": "61f0a223-b6f4-4049-99c3-08123fafeec3",
   "metadata": {},
   "outputs": [],
   "source": [
    "train_rmse0 = pd.read_csv('rmse/rmse_folds_actual/actual_rmse_train0.csv', header=None)\n",
    "test_rmse0 = pd.read_csv('rmse/rmse_folds_actual/actual_rmse_test0.csv', header=None)"
   ]
  },
  {
   "cell_type": "code",
   "execution_count": 4,
   "id": "8ab8b37d-98b1-4540-8865-855474920e72",
   "metadata": {},
   "outputs": [
    {
     "data": {
      "text/html": [
       "<div>\n",
       "<style scoped>\n",
       "    .dataframe tbody tr th:only-of-type {\n",
       "        vertical-align: middle;\n",
       "    }\n",
       "\n",
       "    .dataframe tbody tr th {\n",
       "        vertical-align: top;\n",
       "    }\n",
       "\n",
       "    .dataframe thead th {\n",
       "        text-align: right;\n",
       "    }\n",
       "</style>\n",
       "<table border=\"1\" class=\"dataframe\">\n",
       "  <thead>\n",
       "    <tr style=\"text-align: right;\">\n",
       "      <th></th>\n",
       "      <th>0</th>\n",
       "      <th>1</th>\n",
       "      <th>2</th>\n",
       "    </tr>\n",
       "  </thead>\n",
       "  <tbody>\n",
       "    <tr>\n",
       "      <th>0</th>\n",
       "      <td>1590329</td>\n",
       "      <td>7627</td>\n",
       "      <td>3.0</td>\n",
       "    </tr>\n",
       "    <tr>\n",
       "      <th>1</th>\n",
       "      <td>576570</td>\n",
       "      <td>14606</td>\n",
       "      <td>4.0</td>\n",
       "    </tr>\n",
       "    <tr>\n",
       "      <th>2</th>\n",
       "      <td>1757599</td>\n",
       "      <td>9156</td>\n",
       "      <td>3.0</td>\n",
       "    </tr>\n",
       "    <tr>\n",
       "      <th>3</th>\n",
       "      <td>1048852</td>\n",
       "      <td>15107</td>\n",
       "      <td>4.0</td>\n",
       "    </tr>\n",
       "    <tr>\n",
       "      <th>4</th>\n",
       "      <td>2187348</td>\n",
       "      <td>14644</td>\n",
       "      <td>3.0</td>\n",
       "    </tr>\n",
       "  </tbody>\n",
       "</table>\n",
       "</div>"
      ],
      "text/plain": [
       "         0      1    2\n",
       "0  1590329   7627  3.0\n",
       "1   576570  14606  4.0\n",
       "2  1757599   9156  3.0\n",
       "3  1048852  15107  4.0\n",
       "4  2187348  14644  3.0"
      ]
     },
     "execution_count": 4,
     "metadata": {},
     "output_type": "execute_result"
    }
   ],
   "source": [
    "train_rmse0.head()"
   ]
  },
  {
   "cell_type": "code",
   "execution_count": 5,
   "id": "4109078b-3548-4189-95d8-a8966d8bbb63",
   "metadata": {},
   "outputs": [
    {
     "data": {
      "text/html": [
       "<div>\n",
       "<style scoped>\n",
       "    .dataframe tbody tr th:only-of-type {\n",
       "        vertical-align: middle;\n",
       "    }\n",
       "\n",
       "    .dataframe tbody tr th {\n",
       "        vertical-align: top;\n",
       "    }\n",
       "\n",
       "    .dataframe thead th {\n",
       "        text-align: right;\n",
       "    }\n",
       "</style>\n",
       "<table border=\"1\" class=\"dataframe\">\n",
       "  <thead>\n",
       "    <tr style=\"text-align: right;\">\n",
       "      <th></th>\n",
       "      <th>0</th>\n",
       "      <th>1</th>\n",
       "      <th>2</th>\n",
       "    </tr>\n",
       "  </thead>\n",
       "  <tbody>\n",
       "    <tr>\n",
       "      <th>0</th>\n",
       "      <td>573762</td>\n",
       "      <td>9438</td>\n",
       "      <td>4.0</td>\n",
       "    </tr>\n",
       "    <tr>\n",
       "      <th>1</th>\n",
       "      <td>1560019</td>\n",
       "      <td>5760</td>\n",
       "      <td>4.0</td>\n",
       "    </tr>\n",
       "    <tr>\n",
       "      <th>2</th>\n",
       "      <td>2120159</td>\n",
       "      <td>1542</td>\n",
       "      <td>1.0</td>\n",
       "    </tr>\n",
       "    <tr>\n",
       "      <th>3</th>\n",
       "      <td>1388182</td>\n",
       "      <td>12034</td>\n",
       "      <td>1.0</td>\n",
       "    </tr>\n",
       "    <tr>\n",
       "      <th>4</th>\n",
       "      <td>142077</td>\n",
       "      <td>15755</td>\n",
       "      <td>3.0</td>\n",
       "    </tr>\n",
       "  </tbody>\n",
       "</table>\n",
       "</div>"
      ],
      "text/plain": [
       "         0      1    2\n",
       "0   573762   9438  4.0\n",
       "1  1560019   5760  4.0\n",
       "2  2120159   1542  1.0\n",
       "3  1388182  12034  1.0\n",
       "4   142077  15755  3.0"
      ]
     },
     "execution_count": 5,
     "metadata": {},
     "output_type": "execute_result"
    }
   ],
   "source": [
    "test_rmse0.head()"
   ]
  },
  {
   "cell_type": "code",
   "execution_count": 6,
   "id": "abd6e2e0-7871-4ef0-9dd7-66f04557bf47",
   "metadata": {},
   "outputs": [],
   "source": [
    "train_rmse0.columns = ['user_id', 'movie_id', 'rating']\n",
    "test_rmse0.columns = ['user_id', 'movie_id', 'rating']"
   ]
  },
  {
   "cell_type": "code",
   "execution_count": 7,
   "id": "be15c0a2-4a19-443d-8d44-3d73f74b1ec9",
   "metadata": {},
   "outputs": [],
   "source": [
    "train_movie_ids = list(df_rating['movie_id'].unique())\n",
    "train_user_ids = list(df_rating['user_id'].unique())"
   ]
  },
  {
   "cell_type": "code",
   "execution_count": 8,
   "id": "46000646-6803-4375-9ff1-24e38d9a8cd1",
   "metadata": {},
   "outputs": [],
   "source": [
    "class DeepRecRmseModel(tf.keras.Model):\n",
    "    \n",
    "    def __init__(self):\n",
    "        super().__init__()\n",
    "        embedding_dimension = 16\n",
    "        \n",
    "        self.user_embeddings = tf.keras.Sequential([\n",
    "            tf.keras.layers.IntegerLookup(vocabulary=train_user_ids, mask_token=None),\n",
    "            tf.keras.layers.Embedding(len(train_user_ids)+1, embedding_dimension)\n",
    "        ])\n",
    "        \n",
    "        self.movie_embeddings = tf.keras.Sequential([\n",
    "            tf.keras.layers.IntegerLookup(vocabulary=train_movie_ids, mask_token=None),\n",
    "            tf.keras.layers.Embedding(len(train_movie_ids)+1, embedding_dimension)\n",
    "        ])\n",
    "        \n",
    "        self.ratings = tf.keras.Sequential([\n",
    "            tf.keras.layers.Dense(32, activation='relu'),\n",
    "            tf.keras.layers.Dense(16, activation='relu'),\n",
    "            tf.keras.layers.Dense(1)\n",
    "        ])\n",
    "        \n",
    "    def call(self, inputs):\n",
    "        user_id, movie_id = inputs\n",
    "        user_embedding = self.user_embeddings(user_id)\n",
    "        movie_embedding = self.movie_embeddings(movie_id)\n",
    "        return self.ratings(tf.concat([user_embedding, movie_embedding], axis=1))\n",
    "    \n",
    "    "
   ]
  },
  {
   "cell_type": "code",
   "execution_count": 9,
   "id": "7c3b2de8-a752-465e-aff4-8a7b9c1907d0",
   "metadata": {},
   "outputs": [],
   "source": [
    "class NetflixRmseModel(tfrs.models.Model):\n",
    "    \n",
    "    def __init__(self):\n",
    "        super().__init__()\n",
    "        self.rmse_model: tf.keras.Model = DeepRecRmseModel()\n",
    "        self.task: tf.keras.layers.Layer = tfrs.tasks.Ranking(loss=tf.keras.losses.MeanSquaredError(),\n",
    "                                                             metrics=[tf.keras.metrics.RootMeanSquaredError()])\n",
    "        \n",
    "    def call(self, features: Dict[str, tf.Tensor]) -> tf.Tensor:\n",
    "        return self.rmse_model((features['user_id'], features['movie_id']))\n",
    "    \n",
    "    def compute_loss(self, features: Dict[Text, tf.Tensor], training=False) -> tf.Tensor:\n",
    "        labels = features.pop('rating')\n",
    "        predicted_ratings = self(features)\n",
    "        return self.task(labels=labels, predictions=predicted_ratings)"
   ]
  },
  {
   "cell_type": "code",
   "execution_count": 10,
   "id": "4873224d-88e3-456f-8bb4-6ef6065cd9d2",
   "metadata": {},
   "outputs": [
    {
     "name": "stdout",
     "output_type": "stream",
     "text": [
      "Epoch 1/10\n",
      "301/301 [==============================] - 89s 275ms/step - root_mean_squared_error: 1.1208 - loss: 1.2554 - regularization_loss: 0.0000e+00 - total_loss: 1.2554\n",
      "Epoch 2/10\n",
      "301/301 [==============================] - 74s 246ms/step - root_mean_squared_error: 1.0432 - loss: 1.0881 - regularization_loss: 0.0000e+00 - total_loss: 1.0881\n",
      "Epoch 3/10\n",
      "301/301 [==============================] - 74s 246ms/step - root_mean_squared_error: 1.0384 - loss: 1.0781 - regularization_loss: 0.0000e+00 - total_loss: 1.0781\n",
      "Epoch 4/10\n",
      "301/301 [==============================] - 74s 247ms/step - root_mean_squared_error: 1.0358 - loss: 1.0727 - regularization_loss: 0.0000e+00 - total_loss: 1.0727\n",
      "Epoch 5/10\n",
      "301/301 [==============================] - 75s 248ms/step - root_mean_squared_error: 1.0340 - loss: 1.0690 - regularization_loss: 0.0000e+00 - total_loss: 1.0690\n",
      "Epoch 6/10\n",
      "301/301 [==============================] - 74s 246ms/step - root_mean_squared_error: 1.0326 - loss: 1.0661 - regularization_loss: 0.0000e+00 - total_loss: 1.0661\n",
      "Epoch 7/10\n",
      "301/301 [==============================] - 74s 247ms/step - root_mean_squared_error: 1.0312 - loss: 1.0634 - regularization_loss: 0.0000e+00 - total_loss: 1.0634\n",
      "Epoch 8/10\n",
      "301/301 [==============================] - 76s 252ms/step - root_mean_squared_error: 1.0298 - loss: 1.0605 - regularization_loss: 0.0000e+00 - total_loss: 1.0605\n",
      "Epoch 9/10\n",
      "301/301 [==============================] - 75s 248ms/step - root_mean_squared_error: 1.0282 - loss: 1.0570 - regularization_loss: 0.0000e+00 - total_loss: 1.0570\n",
      "Epoch 10/10\n",
      "301/301 [==============================] - 75s 248ms/step - root_mean_squared_error: 1.0259 - loss: 1.0524 - regularization_loss: 0.0000e+00 - total_loss: 1.0524\n"
     ]
    },
    {
     "name": "stderr",
     "output_type": "stream",
     "text": [
      "WARNING:absl:Found untraced functions such as ranking_layer_call_fn, ranking_layer_call_and_return_conditional_losses while saving (showing 2 of 2). These functions will not be directly callable after loading.\n"
     ]
    },
    {
     "name": "stdout",
     "output_type": "stream",
     "text": [
      "INFO:tensorflow:Assets written to: ram://e6b447f6-1158-4d92-8097-c993575ae58b/assets\n"
     ]
    },
    {
     "name": "stderr",
     "output_type": "stream",
     "text": [
      "INFO:tensorflow:Assets written to: ram://e6b447f6-1158-4d92-8097-c993575ae58b/assets\n"
     ]
    },
    {
     "name": "stdout",
     "output_type": "stream",
     "text": [
      "Epoch 1/10\n",
      "301/301 [==============================] - 88s 275ms/step - root_mean_squared_error: 1.1174 - loss: 1.2480 - regularization_loss: 0.0000e+00 - total_loss: 1.2480\n",
      "Epoch 2/10\n",
      "301/301 [==============================] - 74s 245ms/step - root_mean_squared_error: 1.0440 - loss: 1.0898 - regularization_loss: 0.0000e+00 - total_loss: 1.0898\n",
      "Epoch 3/10\n",
      "301/301 [==============================] - 74s 245ms/step - root_mean_squared_error: 1.0388 - loss: 1.0790 - regularization_loss: 0.0000e+00 - total_loss: 1.0790\n",
      "Epoch 4/10\n",
      "301/301 [==============================] - 74s 244ms/step - root_mean_squared_error: 1.0361 - loss: 1.0733 - regularization_loss: 0.0000e+00 - total_loss: 1.0733\n",
      "Epoch 5/10\n",
      "301/301 [==============================] - 74s 245ms/step - root_mean_squared_error: 1.0342 - loss: 1.0695 - regularization_loss: 0.0000e+00 - total_loss: 1.0695\n",
      "Epoch 6/10\n",
      "301/301 [==============================] - 74s 248ms/step - root_mean_squared_error: 1.0328 - loss: 1.0666 - regularization_loss: 0.0000e+00 - total_loss: 1.0666\n",
      "Epoch 7/10\n",
      "301/301 [==============================] - 74s 244ms/step - root_mean_squared_error: 1.0316 - loss: 1.0640 - regularization_loss: 0.0000e+00 - total_loss: 1.0640\n",
      "Epoch 8/10\n",
      "301/301 [==============================] - 73s 244ms/step - root_mean_squared_error: 1.0303 - loss: 1.0614 - regularization_loss: 0.0000e+00 - total_loss: 1.0614\n",
      "Epoch 9/10\n",
      "301/301 [==============================] - 74s 246ms/step - root_mean_squared_error: 1.0288 - loss: 1.0584 - regularization_loss: 0.0000e+00 - total_loss: 1.0584\n",
      "Epoch 10/10\n",
      "301/301 [==============================] - 74s 246ms/step - root_mean_squared_error: 1.0269 - loss: 1.0545 - regularization_loss: 0.0000e+00 - total_loss: 1.0545\n"
     ]
    },
    {
     "name": "stderr",
     "output_type": "stream",
     "text": [
      "WARNING:absl:Found untraced functions such as ranking_1_layer_call_fn, ranking_1_layer_call_and_return_conditional_losses while saving (showing 2 of 2). These functions will not be directly callable after loading.\n"
     ]
    },
    {
     "name": "stdout",
     "output_type": "stream",
     "text": [
      "INFO:tensorflow:Assets written to: ram://4ea7ae18-1144-49ed-ba10-59b5c0368286/assets\n"
     ]
    },
    {
     "name": "stderr",
     "output_type": "stream",
     "text": [
      "INFO:tensorflow:Assets written to: ram://4ea7ae18-1144-49ed-ba10-59b5c0368286/assets\n"
     ]
    },
    {
     "name": "stdout",
     "output_type": "stream",
     "text": [
      "Epoch 1/10\n",
      "301/301 [==============================] - 88s 274ms/step - root_mean_squared_error: 1.1178 - loss: 1.2490 - regularization_loss: 0.0000e+00 - total_loss: 1.2490\n",
      "Epoch 2/10\n",
      "301/301 [==============================] - 73s 243ms/step - root_mean_squared_error: 1.0434 - loss: 1.0888 - regularization_loss: 0.0000e+00 - total_loss: 1.0888\n",
      "Epoch 3/10\n",
      "301/301 [==============================] - 73s 244ms/step - root_mean_squared_error: 1.0384 - loss: 1.0784 - regularization_loss: 0.0000e+00 - total_loss: 1.0784\n",
      "Epoch 4/10\n",
      "301/301 [==============================] - 74s 244ms/step - root_mean_squared_error: 1.0358 - loss: 1.0728 - regularization_loss: 0.0000e+00 - total_loss: 1.0728\n",
      "Epoch 5/10\n",
      "301/301 [==============================] - 73s 243ms/step - root_mean_squared_error: 1.0340 - loss: 1.0691 - regularization_loss: 0.0000e+00 - total_loss: 1.0691\n",
      "Epoch 6/10\n",
      "301/301 [==============================] - 73s 244ms/step - root_mean_squared_error: 1.0326 - loss: 1.0663 - regularization_loss: 0.0000e+00 - total_loss: 1.0663\n",
      "Epoch 7/10\n",
      "301/301 [==============================] - 74s 244ms/step - root_mean_squared_error: 1.0314 - loss: 1.0638 - regularization_loss: 0.0000e+00 - total_loss: 1.0638\n",
      "Epoch 8/10\n",
      "301/301 [==============================] - 74s 245ms/step - root_mean_squared_error: 1.0302 - loss: 1.0614 - regularization_loss: 0.0000e+00 - total_loss: 1.0614\n",
      "Epoch 9/10\n",
      "301/301 [==============================] - 73s 244ms/step - root_mean_squared_error: 1.0289 - loss: 1.0588 - regularization_loss: 0.0000e+00 - total_loss: 1.0588\n",
      "Epoch 10/10\n",
      "301/301 [==============================] - 73s 243ms/step - root_mean_squared_error: 1.0273 - loss: 1.0555 - regularization_loss: 0.0000e+00 - total_loss: 1.0555\n"
     ]
    },
    {
     "name": "stderr",
     "output_type": "stream",
     "text": [
      "WARNING:absl:Found untraced functions such as ranking_2_layer_call_fn, ranking_2_layer_call_and_return_conditional_losses while saving (showing 2 of 2). These functions will not be directly callable after loading.\n"
     ]
    },
    {
     "name": "stdout",
     "output_type": "stream",
     "text": [
      "INFO:tensorflow:Assets written to: ram://120017db-5c53-4618-8537-662ba8fad572/assets\n"
     ]
    },
    {
     "name": "stderr",
     "output_type": "stream",
     "text": [
      "INFO:tensorflow:Assets written to: ram://120017db-5c53-4618-8537-662ba8fad572/assets\n"
     ]
    },
    {
     "name": "stdout",
     "output_type": "stream",
     "text": [
      "Epoch 1/10\n",
      "301/301 [==============================] - 87s 272ms/step - root_mean_squared_error: 1.1122 - loss: 1.2365 - regularization_loss: 0.0000e+00 - total_loss: 1.2365\n",
      "Epoch 2/10\n",
      "301/301 [==============================] - 73s 244ms/step - root_mean_squared_error: 1.0430 - loss: 1.0878 - regularization_loss: 0.0000e+00 - total_loss: 1.0878\n",
      "Epoch 3/10\n",
      "301/301 [==============================] - 73s 244ms/step - root_mean_squared_error: 1.0381 - loss: 1.0777 - regularization_loss: 0.0000e+00 - total_loss: 1.0777\n",
      "Epoch 4/10\n",
      "301/301 [==============================] - 74s 245ms/step - root_mean_squared_error: 1.0356 - loss: 1.0725 - regularization_loss: 0.0000e+00 - total_loss: 1.0725\n",
      "Epoch 5/10\n",
      "301/301 [==============================] - 73s 243ms/step - root_mean_squared_error: 1.0339 - loss: 1.0690 - regularization_loss: 0.0000e+00 - total_loss: 1.0690\n",
      "Epoch 6/10\n",
      "301/301 [==============================] - 75s 250ms/step - root_mean_squared_error: 1.0327 - loss: 1.0665 - regularization_loss: 0.0000e+00 - total_loss: 1.0665\n",
      "Epoch 7/10\n",
      "301/301 [==============================] - 75s 250ms/step - root_mean_squared_error: 1.0318 - loss: 1.0646 - regularization_loss: 0.0000e+00 - total_loss: 1.0646\n",
      "Epoch 8/10\n",
      "301/301 [==============================] - 77s 256ms/step - root_mean_squared_error: 1.0309 - loss: 1.0629 - regularization_loss: 0.0000e+00 - total_loss: 1.0629\n",
      "Epoch 9/10\n",
      "301/301 [==============================] - 76s 252ms/step - root_mean_squared_error: 1.0301 - loss: 1.0612 - regularization_loss: 0.0000e+00 - total_loss: 1.0612\n",
      "Epoch 10/10\n",
      "301/301 [==============================] - 77s 255ms/step - root_mean_squared_error: 1.0293 - loss: 1.0595 - regularization_loss: 0.0000e+00 - total_loss: 1.0595\n"
     ]
    },
    {
     "name": "stderr",
     "output_type": "stream",
     "text": [
      "WARNING:absl:Found untraced functions such as ranking_3_layer_call_fn, ranking_3_layer_call_and_return_conditional_losses while saving (showing 2 of 2). These functions will not be directly callable after loading.\n"
     ]
    },
    {
     "name": "stdout",
     "output_type": "stream",
     "text": [
      "INFO:tensorflow:Assets written to: ram://e72dadc5-3b22-4b50-a213-b0146a96040b/assets\n"
     ]
    },
    {
     "name": "stderr",
     "output_type": "stream",
     "text": [
      "INFO:tensorflow:Assets written to: ram://e72dadc5-3b22-4b50-a213-b0146a96040b/assets\n"
     ]
    },
    {
     "name": "stdout",
     "output_type": "stream",
     "text": [
      "Epoch 1/10\n",
      "301/301 [==============================] - 91s 285ms/step - root_mean_squared_error: 1.1293 - loss: 1.2746 - regularization_loss: 0.0000e+00 - total_loss: 1.2746\n",
      "Epoch 2/10\n",
      "301/301 [==============================] - 73s 244ms/step - root_mean_squared_error: 1.0433 - loss: 1.0885 - regularization_loss: 0.0000e+00 - total_loss: 1.0885\n",
      "Epoch 3/10\n",
      "301/301 [==============================] - 73s 243ms/step - root_mean_squared_error: 1.0383 - loss: 1.0781 - regularization_loss: 0.0000e+00 - total_loss: 1.0781\n",
      "Epoch 4/10\n",
      "301/301 [==============================] - 74s 247ms/step - root_mean_squared_error: 1.0356 - loss: 1.0725 - regularization_loss: 0.0000e+00 - total_loss: 1.0725\n",
      "Epoch 5/10\n",
      "301/301 [==============================] - 73s 242ms/step - root_mean_squared_error: 1.0338 - loss: 1.0687 - regularization_loss: 0.0000e+00 - total_loss: 1.0687\n",
      "Epoch 6/10\n",
      "301/301 [==============================] - 73s 242ms/step - root_mean_squared_error: 1.0323 - loss: 1.0656 - regularization_loss: 0.0000e+00 - total_loss: 1.0656\n",
      "Epoch 7/10\n",
      "301/301 [==============================] - 73s 242ms/step - root_mean_squared_error: 1.0309 - loss: 1.0628 - regularization_loss: 0.0000e+00 - total_loss: 1.0628\n",
      "Epoch 8/10\n",
      "301/301 [==============================] - 73s 242ms/step - root_mean_squared_error: 1.0295 - loss: 1.0598 - regularization_loss: 0.0000e+00 - total_loss: 1.0598\n",
      "Epoch 9/10\n",
      "301/301 [==============================] - 73s 243ms/step - root_mean_squared_error: 1.0278 - loss: 1.0563 - regularization_loss: 0.0000e+00 - total_loss: 1.0563\n",
      "Epoch 10/10\n",
      "301/301 [==============================] - 73s 242ms/step - root_mean_squared_error: 1.0255 - loss: 1.0517 - regularization_loss: 0.0000e+00 - total_loss: 1.0517\n"
     ]
    },
    {
     "name": "stderr",
     "output_type": "stream",
     "text": [
      "WARNING:absl:Found untraced functions such as ranking_4_layer_call_fn, ranking_4_layer_call_and_return_conditional_losses while saving (showing 2 of 2). These functions will not be directly callable after loading.\n"
     ]
    },
    {
     "name": "stdout",
     "output_type": "stream",
     "text": [
      "INFO:tensorflow:Assets written to: ram://2dd0d2bb-c983-4318-a7ea-2dfc087a850e/assets\n"
     ]
    },
    {
     "name": "stderr",
     "output_type": "stream",
     "text": [
      "INFO:tensorflow:Assets written to: ram://2dd0d2bb-c983-4318-a7ea-2dfc087a850e/assets\n"
     ]
    },
    {
     "name": "stdout",
     "output_type": "stream",
     "text": [
      "Epoch 1/10\n",
      "301/301 [==============================] - 90s 280ms/step - root_mean_squared_error: 1.1123 - loss: 1.2367 - regularization_loss: 0.0000e+00 - total_loss: 1.2367\n",
      "Epoch 2/10\n",
      "301/301 [==============================] - 75s 249ms/step - root_mean_squared_error: 1.0432 - loss: 1.0883 - regularization_loss: 0.0000e+00 - total_loss: 1.0883\n",
      "Epoch 3/10\n",
      "301/301 [==============================] - 73s 243ms/step - root_mean_squared_error: 1.0382 - loss: 1.0779 - regularization_loss: 0.0000e+00 - total_loss: 1.0779\n",
      "Epoch 4/10\n",
      "301/301 [==============================] - 73s 244ms/step - root_mean_squared_error: 1.0355 - loss: 1.0723 - regularization_loss: 0.0000e+00 - total_loss: 1.0723\n",
      "Epoch 5/10\n",
      "301/301 [==============================] - 72s 240ms/step - root_mean_squared_error: 1.0337 - loss: 1.0685 - regularization_loss: 0.0000e+00 - total_loss: 1.0685\n",
      "Epoch 6/10\n",
      "301/301 [==============================] - 72s 240ms/step - root_mean_squared_error: 1.0322 - loss: 1.0653 - regularization_loss: 0.0000e+00 - total_loss: 1.0653\n",
      "Epoch 7/10\n",
      "301/301 [==============================] - 72s 240ms/step - root_mean_squared_error: 1.0307 - loss: 1.0624 - regularization_loss: 0.0000e+00 - total_loss: 1.0624\n",
      "Epoch 8/10\n",
      "301/301 [==============================] - 73s 243ms/step - root_mean_squared_error: 1.0329 - loss: 1.0670 - regularization_loss: 0.0000e+00 - total_loss: 1.0670\n",
      "Epoch 7/10\n",
      "301/301 [==============================] - 73s 243ms/step - root_mean_squared_error: 1.0317 - loss: 1.0643 - regularization_loss: 0.0000e+00 - total_loss: 1.0643\n",
      "Epoch 8/10\n",
      "301/301 [==============================] - 73s 241ms/step - root_mean_squared_error: 1.0304 - loss: 1.0617 - regularization_loss: 0.0000e+00 - total_loss: 1.0617\n",
      "Epoch 9/10\n",
      "301/301 [==============================] - 73s 243ms/step - root_mean_squared_error: 1.0289 - loss: 1.0587 - regularization_loss: 0.0000e+00 - total_loss: 1.0587\n",
      "Epoch 10/10\n",
      "301/301 [==============================] - 73s 243ms/step - root_mean_squared_error: 1.0271 - loss: 1.0549 - regularization_loss: 0.0000e+00 - total_loss: 1.0549\n"
     ]
    },
    {
     "name": "stderr",
     "output_type": "stream",
     "text": [
      "WARNING:absl:Found untraced functions such as ranking_6_layer_call_fn, ranking_6_layer_call_and_return_conditional_losses while saving (showing 2 of 2). These functions will not be directly callable after loading.\n"
     ]
    },
    {
     "name": "stdout",
     "output_type": "stream",
     "text": [
      "INFO:tensorflow:Assets written to: ram://ee063bb6-9eab-4a6d-a615-dd27986d8b95/assets\n"
     ]
    },
    {
     "name": "stderr",
     "output_type": "stream",
     "text": [
      "INFO:tensorflow:Assets written to: ram://ee063bb6-9eab-4a6d-a615-dd27986d8b95/assets\n"
     ]
    },
    {
     "name": "stdout",
     "output_type": "stream",
     "text": [
      "Epoch 1/10\n",
      "301/301 [==============================] - 87s 274ms/step - root_mean_squared_error: 1.1110 - loss: 1.2339 - regularization_loss: 0.0000e+00 - total_loss: 1.2339\n",
      "Epoch 2/10\n",
      "301/301 [==============================] - 74s 246ms/step - root_mean_squared_error: 1.0435 - loss: 1.0890 - regularization_loss: 0.0000e+00 - total_loss: 1.0890\n",
      "Epoch 3/10\n",
      "301/301 [==============================] - 75s 249ms/step - root_mean_squared_error: 1.0386 - loss: 1.0787 - regularization_loss: 0.0000e+00 - total_loss: 1.0787\n",
      "Epoch 4/10\n",
      "301/301 [==============================] - 74s 246ms/step - root_mean_squared_error: 1.0359 - loss: 1.0732 - regularization_loss: 0.0000e+00 - total_loss: 1.0732\n",
      "Epoch 5/10\n",
      "301/301 [==============================] - 73s 242ms/step - root_mean_squared_error: 1.0342 - loss: 1.0695 - regularization_loss: 0.0000e+00 - total_loss: 1.0695\n",
      "Epoch 6/10\n",
      "301/301 [==============================] - 73s 241ms/step - root_mean_squared_error: 1.0328 - loss: 1.0667 - regularization_loss: 0.0000e+00 - total_loss: 1.0667\n",
      "Epoch 7/10\n",
      "301/301 [==============================] - 72s 241ms/step - root_mean_squared_error: 1.0315 - loss: 1.0641 - regularization_loss: 0.0000e+00 - total_loss: 1.0641\n",
      "Epoch 8/10\n",
      "301/301 [==============================] - 73s 242ms/step - root_mean_squared_error: 1.0303 - loss: 1.0615 - regularization_loss: 0.0000e+00 - total_loss: 1.0615\n",
      "Epoch 9/10\n",
      "301/301 [==============================] - 72s 240ms/step - root_mean_squared_error: 1.0288 - loss: 1.0585 - regularization_loss: 0.0000e+00 - total_loss: 1.0585\n",
      "Epoch 10/10\n",
      "301/301 [==============================] - 75s 248ms/step - root_mean_squared_error: 1.0269 - loss: 1.0546 - regularization_loss: 0.0000e+00 - total_loss: 1.0546\n"
     ]
    },
    {
     "name": "stderr",
     "output_type": "stream",
     "text": [
      "WARNING:absl:Found untraced functions such as ranking_7_layer_call_fn, ranking_7_layer_call_and_return_conditional_losses while saving (showing 2 of 2). These functions will not be directly callable after loading.\n"
     ]
    },
    {
     "name": "stdout",
     "output_type": "stream",
     "text": [
      "INFO:tensorflow:Assets written to: ram://4229541d-d879-4841-8d10-6d3f97da7c99/assets\n"
     ]
    },
    {
     "name": "stderr",
     "output_type": "stream",
     "text": [
      "INFO:tensorflow:Assets written to: ram://4229541d-d879-4841-8d10-6d3f97da7c99/assets\n"
     ]
    },
    {
     "name": "stdout",
     "output_type": "stream",
     "text": [
      "Epoch 1/10\n",
      "301/301 [==============================] - 87s 273ms/step - root_mean_squared_error: 1.1097 - loss: 1.2311 - regularization_loss: 0.0000e+00 - total_loss: 1.2311\n",
      "Epoch 2/10\n",
      "301/301 [==============================] - 73s 241ms/step - root_mean_squared_error: 1.0438 - loss: 1.0896 - regularization_loss: 0.0000e+00 - total_loss: 1.0896\n",
      "Epoch 3/10\n",
      "301/301 [==============================] - 73s 242ms/step - root_mean_squared_error: 1.0388 - loss: 1.0792 - regularization_loss: 0.0000e+00 - total_loss: 1.0792\n",
      "Epoch 4/10\n",
      "301/301 [==============================] - 73s 242ms/step - root_mean_squared_error: 1.0363 - loss: 1.0738 - regularization_loss: 0.0000e+00 - total_loss: 1.0738\n",
      "Epoch 5/10\n",
      "301/301 [==============================] - 73s 242ms/step - root_mean_squared_error: 1.0346 - loss: 1.0704 - regularization_loss: 0.0000e+00 - total_loss: 1.0704\n",
      "Epoch 6/10\n",
      "301/301 [==============================] - 72s 240ms/step - root_mean_squared_error: 1.0334 - loss: 1.0678 - regularization_loss: 0.0000e+00 - total_loss: 1.0678\n",
      "Epoch 7/10\n",
      "301/301 [==============================] - 73s 242ms/step - root_mean_squared_error: 1.0324 - loss: 1.0657 - regularization_loss: 0.0000e+00 - total_loss: 1.0657\n",
      "Epoch 8/10\n",
      "301/301 [==============================] - 73s 241ms/step - root_mean_squared_error: 1.0315 - loss: 1.0639 - regularization_loss: 0.0000e+00 - total_loss: 1.0639\n",
      "Epoch 9/10\n",
      "301/301 [==============================] - 72s 241ms/step - root_mean_squared_error: 1.0306 - loss: 1.0621 - regularization_loss: 0.0000e+00 - total_loss: 1.0621\n",
      "Epoch 10/10\n",
      "301/301 [==============================] - 73s 242ms/step - root_mean_squared_error: 1.0296 - loss: 1.0601 - regularization_loss: 0.0000e+00 - total_loss: 1.0601\n"
     ]
    },
    {
     "name": "stderr",
     "output_type": "stream",
     "text": [
      "WARNING:absl:Found untraced functions such as ranking_8_layer_call_fn, ranking_8_layer_call_and_return_conditional_losses while saving (showing 2 of 2). These functions will not be directly callable after loading.\n"
     ]
    },
    {
     "name": "stdout",
     "output_type": "stream",
     "text": [
      "INFO:tensorflow:Assets written to: ram://e0483399-860f-40db-858b-f6c9ccfa6573/assets\n"
     ]
    },
    {
     "name": "stderr",
     "output_type": "stream",
     "text": [
      "INFO:tensorflow:Assets written to: ram://e0483399-860f-40db-858b-f6c9ccfa6573/assets\n"
     ]
    },
    {
     "name": "stdout",
     "output_type": "stream",
     "text": [
      "Epoch 1/10\n",
      "301/301 [==============================] - 88s 275ms/step - root_mean_squared_error: 1.1172 - loss: 1.2476 - regularization_loss: 0.0000e+00 - total_loss: 1.2476\n",
      "Epoch 2/10\n",
      "301/301 [==============================] - 74s 245ms/step - root_mean_squared_error: 1.0445 - loss: 1.0909 - regularization_loss: 0.0000e+00 - total_loss: 1.0909\n",
      "Epoch 3/10\n",
      "301/301 [==============================] - 74s 245ms/step - root_mean_squared_error: 1.0393 - loss: 1.0801 - regularization_loss: 0.0000e+00 - total_loss: 1.0801\n",
      "Epoch 4/10\n",
      "301/301 [==============================] - 73s 244ms/step - root_mean_squared_error: 1.0365 - loss: 1.0744 - regularization_loss: 0.0000e+00 - total_loss: 1.0744\n",
      "Epoch 5/10\n",
      "301/301 [==============================] - 74s 246ms/step - root_mean_squared_error: 1.0347 - loss: 1.0706 - regularization_loss: 0.0000e+00 - total_loss: 1.0706\n",
      "Epoch 6/10\n",
      "301/301 [==============================] - 74s 245ms/step - root_mean_squared_error: 1.0334 - loss: 1.0679 - regularization_loss: 0.0000e+00 - total_loss: 1.0679\n",
      "Epoch 7/10\n",
      "301/301 [==============================] - 73s 243ms/step - root_mean_squared_error: 1.0323 - loss: 1.0655 - regularization_loss: 0.0000e+00 - total_loss: 1.0655\n",
      "Epoch 8/10\n",
      "301/301 [==============================] - 74s 245ms/step - root_mean_squared_error: 1.0312 - loss: 1.0634 - regularization_loss: 0.0000e+00 - total_loss: 1.0634\n",
      "Epoch 9/10\n",
      "301/301 [==============================] - 74s 246ms/step - root_mean_squared_error: 1.0301 - loss: 1.0612 - regularization_loss: 0.0000e+00 - total_loss: 1.0612\n",
      "Epoch 10/10\n",
      "301/301 [==============================] - 73s 244ms/step - root_mean_squared_error: 1.0289 - loss: 1.0585 - regularization_loss: 0.0000e+00 - total_loss: 1.0585\n"
     ]
    },
    {
     "name": "stderr",
     "output_type": "stream",
     "text": [
      "WARNING:absl:Found untraced functions such as ranking_9_layer_call_fn, ranking_9_layer_call_and_return_conditional_losses while saving (showing 2 of 2). These functions will not be directly callable after loading.\n"
     ]
    },
    {
     "name": "stdout",
     "output_type": "stream",
     "text": [
      "INFO:tensorflow:Assets written to: ram://eed474f1-1343-48ef-ab00-eb80b2e2ca11/assets\n"
     ]
    },
    {
     "name": "stderr",
     "output_type": "stream",
     "text": [
      "INFO:tensorflow:Assets written to: ram://eed474f1-1343-48ef-ab00-eb80b2e2ca11/assets\n"
     ]
    }
   ],
   "source": [
    "for i in range(5):\n",
    "    train_file1 = f'rmse/rmse_folds_actual/actual_rmse_train{i}.csv'\n",
    "    test_file1 = f'rmse/rmse_folds_actual/actual_rmse_train{i}.csv'\n",
    "    df_train1 = pd.read_csv(train_file1, header=None)\n",
    "    df_test1 = pd.read_csv(test_file1, header=None)\n",
    "    df_train1.columns = ['user_id', 'movie_id', 'rating']\n",
    "    df_test1.columns = ['user_id', 'movie_id', 'rating']\n",
    "    \n",
    "    deep_model1 = NetflixRmseModel()\n",
    "    deep_model1.compile(optimizer=tf.keras.optimizers.Adagrad(learning_rate=0.1))\n",
    "    \n",
    "    deep_model2 = NetflixRmseModel()\n",
    "    deep_model2.compile(optimizer=tf.keras.optimizers.Adagrad(learning_rate=0.1))\n",
    "    \n",
    "    df_train_tf1 = tf.data.Dataset.from_tensor_slices(dict(df_train1))\n",
    "    df_test_tf1 = tf.data.Dataset.from_tensor_slices(dict(df_test1))\n",
    "    \n",
    "    df_train_tf1 = df_train_tf1.map(lambda x: {'user_id': x['user_id'],\n",
    "    'movie_id': x['movie_id'],\n",
    "    'rating': x['rating']})\n",
    "    \n",
    "    df_test_tf1 = df_test_tf1.map(lambda x: {'user_id': x['user_id'],\n",
    "    'movie_id': x['movie_id'],\n",
    "    'rating': x['rating']})\n",
    "    \n",
    "    df_train_tf1 = df_train_tf1.batch(8192).cache()\n",
    "    df_test_tf1 = df_test_tf1.batch(8192).cache()\n",
    "    \n",
    "    history_baseline1 = deep_model1.fit(df_train_tf1, epochs=10)\n",
    "    joblib.dump(deep_model1, f'model_rmse{i}a.pkl')\n",
    "    \n",
    "    history_baseline2 = deep_model2.fit(df_test_tf1, epochs=10)\n",
    "    joblib.dump(deep_model2, f'model_rmse{i}b.pkl')\n",
    "    "
   ]
  },
  {
   "cell_type": "code",
   "execution_count": null,
   "id": "3df3f7fd-a3c8-400a-8d3c-55b13791b31f",
   "metadata": {},
   "outputs": [],
   "source": []
  }
 ],
 "metadata": {
  "kernelspec": {
   "display_name": "Python 3",
   "language": "python",
   "name": "python3"
  },
  "language_info": {
   "codemirror_mode": {
    "name": "ipython",
    "version": 3
   },
   "file_extension": ".py",
   "mimetype": "text/x-python",
   "name": "python",
   "nbconvert_exporter": "python",
   "pygments_lexer": "ipython3",
   "version": "3.8.8"
  }
 },
 "nbformat": 4,
 "nbformat_minor": 5
}
