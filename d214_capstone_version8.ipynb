{
 "cells": [
  {
   "cell_type": "code",
   "execution_count": 23,
   "id": "8efa4e64-7940-45ac-9c60-eaba0629b9ef",
   "metadata": {},
   "outputs": [],
   "source": [
    "import pandas as pd\n",
    "import numpy as np\n",
    "import matplotlib.pyplot as plt\n",
    "import seaborn as sns\n",
    "from collections import deque\n",
    "from surprise import Dataset, NormalPredictor, Reader\n",
    "from surprise.model_selection import cross_validate\n",
    "import os\n",
    "from sklearn.model_selection import train_test_split\n",
    "import pickle\n",
    "from surprise import accuracy\n",
    "from surprise import accuracy, Dataset, Reader, SVD, KNNBaseline\n",
    "from surprise.model_selection import PredefinedKFold\n",
    "import pprint\n",
    "import tempfile\n",
    "from typing import Dict, Text\n",
    "import tensorflow as tf\n",
    "import tensorflow_recommenders as tfrs\n",
    "from collections import defaultdict\n",
    "import joblib\n",
    "from scipy import stats"
   ]
  },
  {
   "cell_type": "code",
   "execution_count": 2,
   "id": "e74be33b-ee3b-40c0-8a55-85a8e3f53274",
   "metadata": {},
   "outputs": [
    {
     "name": "stdout",
     "output_type": "stream",
     "text": [
      "/Users/alecclarkfeather/capstone_project\n"
     ]
    }
   ],
   "source": [
    "#!pwd"
   ]
  },
  {
   "cell_type": "code",
   "execution_count": 3,
   "id": "e00665f8-6b6a-4c0c-befe-08303eb37135",
   "metadata": {},
   "outputs": [],
   "source": [
    "PATH = '/Users/alecclarkfeather/capstone_project/'\n",
    "\n",
    "train_hr0 = pd.read_csv(PATH + 'hit_rate_folds_actual/train_hr0.csv', header=None)\n",
    "test_hr0 = pd.read_csv(PATH + 'hit_rate_folds_actual/test_hr0.csv', header=None)"
   ]
  },
  {
   "cell_type": "code",
   "execution_count": 4,
   "id": "9994853a-9a38-4ad9-b8b7-df1bff38e8c0",
   "metadata": {},
   "outputs": [],
   "source": [
    "train_hr0.columns = ['user_id', 'movie_id', 'rating']\n",
    "test_hr0.columns = ['user_id', 'movie_id', 'rating']"
   ]
  },
  {
   "cell_type": "code",
   "execution_count": 5,
   "id": "cc10a8f7-13f0-4665-a6b3-c06abc19dfb7",
   "metadata": {},
   "outputs": [
    {
     "data": {
      "text/html": [
       "<div>\n",
       "<style scoped>\n",
       "    .dataframe tbody tr th:only-of-type {\n",
       "        vertical-align: middle;\n",
       "    }\n",
       "\n",
       "    .dataframe tbody tr th {\n",
       "        vertical-align: top;\n",
       "    }\n",
       "\n",
       "    .dataframe thead th {\n",
       "        text-align: right;\n",
       "    }\n",
       "</style>\n",
       "<table border=\"1\" class=\"dataframe\">\n",
       "  <thead>\n",
       "    <tr style=\"text-align: right;\">\n",
       "      <th></th>\n",
       "      <th>user_id</th>\n",
       "      <th>movie_id</th>\n",
       "      <th>rating</th>\n",
       "    </tr>\n",
       "  </thead>\n",
       "  <tbody>\n",
       "    <tr>\n",
       "      <th>0</th>\n",
       "      <td>826574</td>\n",
       "      <td>9729</td>\n",
       "      <td>4.0</td>\n",
       "    </tr>\n",
       "    <tr>\n",
       "      <th>1</th>\n",
       "      <td>2200645</td>\n",
       "      <td>1719</td>\n",
       "      <td>4.0</td>\n",
       "    </tr>\n",
       "    <tr>\n",
       "      <th>2</th>\n",
       "      <td>2150434</td>\n",
       "      <td>5356</td>\n",
       "      <td>5.0</td>\n",
       "    </tr>\n",
       "    <tr>\n",
       "      <th>3</th>\n",
       "      <td>2142065</td>\n",
       "      <td>8753</td>\n",
       "      <td>3.0</td>\n",
       "    </tr>\n",
       "    <tr>\n",
       "      <th>4</th>\n",
       "      <td>867086</td>\n",
       "      <td>6721</td>\n",
       "      <td>4.0</td>\n",
       "    </tr>\n",
       "  </tbody>\n",
       "</table>\n",
       "</div>"
      ],
      "text/plain": [
       "   user_id  movie_id  rating\n",
       "0   826574      9729     4.0\n",
       "1  2200645      1719     4.0\n",
       "2  2150434      5356     5.0\n",
       "3  2142065      8753     3.0\n",
       "4   867086      6721     4.0"
      ]
     },
     "execution_count": 5,
     "metadata": {},
     "output_type": "execute_result"
    }
   ],
   "source": [
    "train_hr0.head()"
   ]
  },
  {
   "cell_type": "code",
   "execution_count": 10,
   "id": "ddb54745-0751-4588-8e0e-3f6197c80485",
   "metadata": {},
   "outputs": [
    {
     "data": {
      "text/plain": [
       "0    4.0\n",
       "1    4.0\n",
       "2    5.0\n",
       "3    3.0\n",
       "4    4.0\n",
       "Name: rating, dtype: float64"
      ]
     },
     "execution_count": 10,
     "metadata": {},
     "output_type": "execute_result"
    }
   ],
   "source": [
    "sample = train_hr0['rating'].loc[:4]\n",
    "sample"
   ]
  },
  {
   "cell_type": "code",
   "execution_count": 11,
   "id": "f5d74b63-3436-41e5-a705-34caa960a226",
   "metadata": {},
   "outputs": [],
   "source": [
    "sample_preds = [3, 3, 3, 3, 3]"
   ]
  },
  {
   "cell_type": "code",
   "execution_count": 12,
   "id": "a77ee5a5-c0a7-4ea3-ae2a-cccd4d40c01f",
   "metadata": {},
   "outputs": [],
   "source": [
    "sample_preds_arr = np.array(sample_preds)\n",
    "sample_actual = sample.values"
   ]
  },
  {
   "cell_type": "code",
   "execution_count": 13,
   "id": "6d8576b7-818d-497e-834e-881c1c4d34e5",
   "metadata": {},
   "outputs": [
    {
     "data": {
      "text/plain": [
       "1.1832159566199232"
      ]
     },
     "execution_count": 13,
     "metadata": {},
     "output_type": "execute_result"
    }
   ],
   "source": [
    "np.sqrt(np.mean((sample_actual - sample_preds_arr)**2))"
   ]
  },
  {
   "cell_type": "code",
   "execution_count": 15,
   "id": "e2c7b36b-215c-46c6-b480-0bfcda3511b7",
   "metadata": {},
   "outputs": [
    {
     "data": {
      "text/plain": [
       "1.1832159566199232"
      ]
     },
     "execution_count": 15,
     "metadata": {},
     "output_type": "execute_result"
    }
   ],
   "source": [
    "np.sqrt(7/5)"
   ]
  },
  {
   "cell_type": "code",
   "execution_count": 16,
   "id": "70c7f642-b724-48fc-97f2-fb3ca8487b26",
   "metadata": {},
   "outputs": [
    {
     "data": {
      "text/html": [
       "<div>\n",
       "<style scoped>\n",
       "    .dataframe tbody tr th:only-of-type {\n",
       "        vertical-align: middle;\n",
       "    }\n",
       "\n",
       "    .dataframe tbody tr th {\n",
       "        vertical-align: top;\n",
       "    }\n",
       "\n",
       "    .dataframe thead th {\n",
       "        text-align: right;\n",
       "    }\n",
       "</style>\n",
       "<table border=\"1\" class=\"dataframe\">\n",
       "  <thead>\n",
       "    <tr style=\"text-align: right;\">\n",
       "      <th></th>\n",
       "      <th>neural_network_hr</th>\n",
       "    </tr>\n",
       "  </thead>\n",
       "  <tbody>\n",
       "    <tr>\n",
       "      <th>0</th>\n",
       "      <td>0.488122</td>\n",
       "    </tr>\n",
       "    <tr>\n",
       "      <th>1</th>\n",
       "      <td>0.487022</td>\n",
       "    </tr>\n",
       "    <tr>\n",
       "      <th>2</th>\n",
       "      <td>0.488501</td>\n",
       "    </tr>\n",
       "    <tr>\n",
       "      <th>3</th>\n",
       "      <td>0.486388</td>\n",
       "    </tr>\n",
       "    <tr>\n",
       "      <th>4</th>\n",
       "      <td>0.487842</td>\n",
       "    </tr>\n",
       "    <tr>\n",
       "      <th>5</th>\n",
       "      <td>0.486011</td>\n",
       "    </tr>\n",
       "    <tr>\n",
       "      <th>6</th>\n",
       "      <td>0.487020</td>\n",
       "    </tr>\n",
       "    <tr>\n",
       "      <th>7</th>\n",
       "      <td>0.486285</td>\n",
       "    </tr>\n",
       "    <tr>\n",
       "      <th>8</th>\n",
       "      <td>0.487874</td>\n",
       "    </tr>\n",
       "    <tr>\n",
       "      <th>9</th>\n",
       "      <td>0.486775</td>\n",
       "    </tr>\n",
       "  </tbody>\n",
       "</table>\n",
       "</div>"
      ],
      "text/plain": [
       "   neural_network_hr\n",
       "0           0.488122\n",
       "1           0.487022\n",
       "2           0.488501\n",
       "3           0.486388\n",
       "4           0.487842\n",
       "5           0.486011\n",
       "6           0.487020\n",
       "7           0.486285\n",
       "8           0.487874\n",
       "9           0.486775"
      ]
     },
     "execution_count": 16,
     "metadata": {},
     "output_type": "execute_result"
    }
   ],
   "source": [
    "hr_nn_df = pd.read_csv(PATH + 'hr_nn_df.csv')\n",
    "hr_nn_df"
   ]
  },
  {
   "cell_type": "code",
   "execution_count": 17,
   "id": "c1b13e2b-0ab5-4649-be9f-14f33c2595fb",
   "metadata": {},
   "outputs": [
    {
     "data": {
      "text/html": [
       "<div>\n",
       "<style scoped>\n",
       "    .dataframe tbody tr th:only-of-type {\n",
       "        vertical-align: middle;\n",
       "    }\n",
       "\n",
       "    .dataframe tbody tr th {\n",
       "        vertical-align: top;\n",
       "    }\n",
       "\n",
       "    .dataframe thead th {\n",
       "        text-align: right;\n",
       "    }\n",
       "</style>\n",
       "<table border=\"1\" class=\"dataframe\">\n",
       "  <thead>\n",
       "    <tr style=\"text-align: right;\">\n",
       "      <th></th>\n",
       "      <th>baseline</th>\n",
       "      <th>cf</th>\n",
       "      <th>svd</th>\n",
       "    </tr>\n",
       "  </thead>\n",
       "  <tbody>\n",
       "    <tr>\n",
       "      <th>0</th>\n",
       "      <td>0.296561</td>\n",
       "      <td>0.439228</td>\n",
       "      <td>0.458413</td>\n",
       "    </tr>\n",
       "    <tr>\n",
       "      <th>1</th>\n",
       "      <td>0.297034</td>\n",
       "      <td>0.439001</td>\n",
       "      <td>0.460726</td>\n",
       "    </tr>\n",
       "    <tr>\n",
       "      <th>2</th>\n",
       "      <td>0.297715</td>\n",
       "      <td>0.438900</td>\n",
       "      <td>0.459328</td>\n",
       "    </tr>\n",
       "    <tr>\n",
       "      <th>3</th>\n",
       "      <td>0.298997</td>\n",
       "      <td>0.437977</td>\n",
       "      <td>0.460333</td>\n",
       "    </tr>\n",
       "    <tr>\n",
       "      <th>4</th>\n",
       "      <td>0.295871</td>\n",
       "      <td>0.439655</td>\n",
       "      <td>0.460662</td>\n",
       "    </tr>\n",
       "    <tr>\n",
       "      <th>5</th>\n",
       "      <td>0.298046</td>\n",
       "      <td>0.438874</td>\n",
       "      <td>0.459719</td>\n",
       "    </tr>\n",
       "    <tr>\n",
       "      <th>6</th>\n",
       "      <td>0.297368</td>\n",
       "      <td>0.439560</td>\n",
       "      <td>0.461304</td>\n",
       "    </tr>\n",
       "    <tr>\n",
       "      <th>7</th>\n",
       "      <td>0.298030</td>\n",
       "      <td>0.439275</td>\n",
       "      <td>0.460432</td>\n",
       "    </tr>\n",
       "    <tr>\n",
       "      <th>8</th>\n",
       "      <td>0.296864</td>\n",
       "      <td>0.438533</td>\n",
       "      <td>0.459555</td>\n",
       "    </tr>\n",
       "    <tr>\n",
       "      <th>9</th>\n",
       "      <td>0.298423</td>\n",
       "      <td>0.439623</td>\n",
       "      <td>0.459121</td>\n",
       "    </tr>\n",
       "  </tbody>\n",
       "</table>\n",
       "</div>"
      ],
      "text/plain": [
       "   baseline        cf       svd\n",
       "0  0.296561  0.439228  0.458413\n",
       "1  0.297034  0.439001  0.460726\n",
       "2  0.297715  0.438900  0.459328\n",
       "3  0.298997  0.437977  0.460333\n",
       "4  0.295871  0.439655  0.460662\n",
       "5  0.298046  0.438874  0.459719\n",
       "6  0.297368  0.439560  0.461304\n",
       "7  0.298030  0.439275  0.460432\n",
       "8  0.296864  0.438533  0.459555\n",
       "9  0.298423  0.439623  0.459121"
      ]
     },
     "execution_count": 17,
     "metadata": {},
     "output_type": "execute_result"
    }
   ],
   "source": [
    "hr_results_df = pd.read_csv(PATH + 'hr_results_df.csv')\n",
    "hr_results_df"
   ]
  },
  {
   "cell_type": "code",
   "execution_count": 18,
   "id": "e8f7dbe7-2adf-4dc3-9c5d-f0067ed7bf83",
   "metadata": {},
   "outputs": [
    {
     "data": {
      "text/html": [
       "<div>\n",
       "<style scoped>\n",
       "    .dataframe tbody tr th:only-of-type {\n",
       "        vertical-align: middle;\n",
       "    }\n",
       "\n",
       "    .dataframe tbody tr th {\n",
       "        vertical-align: top;\n",
       "    }\n",
       "\n",
       "    .dataframe thead th {\n",
       "        text-align: right;\n",
       "    }\n",
       "</style>\n",
       "<table border=\"1\" class=\"dataframe\">\n",
       "  <thead>\n",
       "    <tr style=\"text-align: right;\">\n",
       "      <th></th>\n",
       "      <th>baseline</th>\n",
       "      <th>cf</th>\n",
       "      <th>svd</th>\n",
       "      <th>neural_network_hr</th>\n",
       "    </tr>\n",
       "  </thead>\n",
       "  <tbody>\n",
       "    <tr>\n",
       "      <th>0</th>\n",
       "      <td>0.296561</td>\n",
       "      <td>0.439228</td>\n",
       "      <td>0.458413</td>\n",
       "      <td>0.488122</td>\n",
       "    </tr>\n",
       "    <tr>\n",
       "      <th>1</th>\n",
       "      <td>0.297034</td>\n",
       "      <td>0.439001</td>\n",
       "      <td>0.460726</td>\n",
       "      <td>0.487022</td>\n",
       "    </tr>\n",
       "    <tr>\n",
       "      <th>2</th>\n",
       "      <td>0.297715</td>\n",
       "      <td>0.438900</td>\n",
       "      <td>0.459328</td>\n",
       "      <td>0.488501</td>\n",
       "    </tr>\n",
       "    <tr>\n",
       "      <th>3</th>\n",
       "      <td>0.298997</td>\n",
       "      <td>0.437977</td>\n",
       "      <td>0.460333</td>\n",
       "      <td>0.486388</td>\n",
       "    </tr>\n",
       "    <tr>\n",
       "      <th>4</th>\n",
       "      <td>0.295871</td>\n",
       "      <td>0.439655</td>\n",
       "      <td>0.460662</td>\n",
       "      <td>0.487842</td>\n",
       "    </tr>\n",
       "    <tr>\n",
       "      <th>5</th>\n",
       "      <td>0.298046</td>\n",
       "      <td>0.438874</td>\n",
       "      <td>0.459719</td>\n",
       "      <td>0.486011</td>\n",
       "    </tr>\n",
       "    <tr>\n",
       "      <th>6</th>\n",
       "      <td>0.297368</td>\n",
       "      <td>0.439560</td>\n",
       "      <td>0.461304</td>\n",
       "      <td>0.487020</td>\n",
       "    </tr>\n",
       "    <tr>\n",
       "      <th>7</th>\n",
       "      <td>0.298030</td>\n",
       "      <td>0.439275</td>\n",
       "      <td>0.460432</td>\n",
       "      <td>0.486285</td>\n",
       "    </tr>\n",
       "    <tr>\n",
       "      <th>8</th>\n",
       "      <td>0.296864</td>\n",
       "      <td>0.438533</td>\n",
       "      <td>0.459555</td>\n",
       "      <td>0.487874</td>\n",
       "    </tr>\n",
       "    <tr>\n",
       "      <th>9</th>\n",
       "      <td>0.298423</td>\n",
       "      <td>0.439623</td>\n",
       "      <td>0.459121</td>\n",
       "      <td>0.486775</td>\n",
       "    </tr>\n",
       "  </tbody>\n",
       "</table>\n",
       "</div>"
      ],
      "text/plain": [
       "   baseline        cf       svd  neural_network_hr\n",
       "0  0.296561  0.439228  0.458413           0.488122\n",
       "1  0.297034  0.439001  0.460726           0.487022\n",
       "2  0.297715  0.438900  0.459328           0.488501\n",
       "3  0.298997  0.437977  0.460333           0.486388\n",
       "4  0.295871  0.439655  0.460662           0.487842\n",
       "5  0.298046  0.438874  0.459719           0.486011\n",
       "6  0.297368  0.439560  0.461304           0.487020\n",
       "7  0.298030  0.439275  0.460432           0.486285\n",
       "8  0.296864  0.438533  0.459555           0.487874\n",
       "9  0.298423  0.439623  0.459121           0.486775"
      ]
     },
     "execution_count": 18,
     "metadata": {},
     "output_type": "execute_result"
    }
   ],
   "source": [
    "hr_results_df_final = pd.concat([hr_results_df, hr_nn_df], axis=1)\n",
    "hr_results_df_final"
   ]
  },
  {
   "cell_type": "code",
   "execution_count": 24,
   "id": "59d9a9cb-2f28-4916-8569-2d5f4169b1e6",
   "metadata": {},
   "outputs": [],
   "source": [
    "def five_by_two_paired_t_test(df, col1, col2):\n",
    "    variances = []\n",
    "    diffs = []\n",
    "    for i in range(2, 12, 2):\n",
    "        group1 = df[col1].iloc[:i].values\n",
    "        group2 = df[col2].iloc[:i].values\n",
    "        result1a = group1[i-2]\n",
    "        result1b = group1[i-1]\n",
    "        result2a = group2[i-2]\n",
    "        result2b = group2[i-1]\n",
    "        performance1 = result1a - result2a\n",
    "        performance2 = result1b - result2b\n",
    "        mean_performance = (performance1 + performance2) / 2\n",
    "        variance_performance = (performance1 - mean_performance)**2 + (performance2 - mean_performance)**2\n",
    "        variances.append(variance_performance)\n",
    "        diffs.append(performance1)\n",
    "        \n",
    "    t_statistic = diffs[0] / np.sqrt((1/len(variances))*np.sum(variances))\n",
    "    p_value = stats.t.sf(abs(t_statistic), df=len(variances))\n",
    "    \n",
    "    return t_statistic, p_value\n",
    "        "
   ]
  },
  {
   "cell_type": "code",
   "execution_count": 20,
   "id": "f7925c7d-15ef-4734-a288-8ba64c39ec93",
   "metadata": {},
   "outputs": [
    {
     "data": {
      "text/html": [
       "<div>\n",
       "<style scoped>\n",
       "    .dataframe tbody tr th:only-of-type {\n",
       "        vertical-align: middle;\n",
       "    }\n",
       "\n",
       "    .dataframe tbody tr th {\n",
       "        vertical-align: top;\n",
       "    }\n",
       "\n",
       "    .dataframe thead th {\n",
       "        text-align: right;\n",
       "    }\n",
       "</style>\n",
       "<table border=\"1\" class=\"dataframe\">\n",
       "  <thead>\n",
       "    <tr style=\"text-align: right;\">\n",
       "      <th></th>\n",
       "      <th>t_statistic</th>\n",
       "      <th>p_value_unadjusted</th>\n",
       "    </tr>\n",
       "  </thead>\n",
       "  <tbody>\n",
       "    <tr>\n",
       "      <th>0</th>\n",
       "      <td>-115.729967</td>\n",
       "      <td>4.567698e-10</td>\n",
       "    </tr>\n",
       "    <tr>\n",
       "      <th>1</th>\n",
       "      <td>-115.890316</td>\n",
       "      <td>4.536195e-10</td>\n",
       "    </tr>\n",
       "    <tr>\n",
       "      <th>2</th>\n",
       "      <td>-16.915946</td>\n",
       "      <td>6.601872e-06</td>\n",
       "    </tr>\n",
       "  </tbody>\n",
       "</table>\n",
       "</div>"
      ],
      "text/plain": [
       "   t_statistic  p_value_unadjusted\n",
       "0  -115.729967        4.567698e-10\n",
       "1  -115.890316        4.536195e-10\n",
       "2   -16.915946        6.601872e-06"
      ]
     },
     "execution_count": 20,
     "metadata": {},
     "output_type": "execute_result"
    }
   ],
   "source": [
    "t_test_results_hr_df = pd.read_csv(PATH + 't_test_results_hr_df.csv')\n",
    "t_test_results_hr_df"
   ]
  },
  {
   "cell_type": "code",
   "execution_count": 21,
   "id": "6c35474d-e579-4cc7-8ec6-3d4a1345ad82",
   "metadata": {},
   "outputs": [
    {
     "data": {
      "text/html": [
       "<div>\n",
       "<style scoped>\n",
       "    .dataframe tbody tr th:only-of-type {\n",
       "        vertical-align: middle;\n",
       "    }\n",
       "\n",
       "    .dataframe tbody tr th {\n",
       "        vertical-align: top;\n",
       "    }\n",
       "\n",
       "    .dataframe thead th {\n",
       "        text-align: right;\n",
       "    }\n",
       "</style>\n",
       "<table border=\"1\" class=\"dataframe\">\n",
       "  <thead>\n",
       "    <tr style=\"text-align: right;\">\n",
       "      <th></th>\n",
       "      <th>t_statistic</th>\n",
       "      <th>p_value_unadjusted</th>\n",
       "    </tr>\n",
       "  </thead>\n",
       "  <tbody>\n",
       "    <tr>\n",
       "      <th>baseline_vs_cf</th>\n",
       "      <td>-115.729967</td>\n",
       "      <td>4.567698e-10</td>\n",
       "    </tr>\n",
       "    <tr>\n",
       "      <th>baseline_vs_svd</th>\n",
       "      <td>-115.890316</td>\n",
       "      <td>4.536195e-10</td>\n",
       "    </tr>\n",
       "    <tr>\n",
       "      <th>cf_vs_svd</th>\n",
       "      <td>-16.915946</td>\n",
       "      <td>6.601872e-06</td>\n",
       "    </tr>\n",
       "  </tbody>\n",
       "</table>\n",
       "</div>"
      ],
      "text/plain": [
       "                 t_statistic  p_value_unadjusted\n",
       "baseline_vs_cf   -115.729967        4.567698e-10\n",
       "baseline_vs_svd  -115.890316        4.536195e-10\n",
       "cf_vs_svd         -16.915946        6.601872e-06"
      ]
     },
     "execution_count": 21,
     "metadata": {},
     "output_type": "execute_result"
    }
   ],
   "source": [
    "index=['baseline_vs_cf','baseline_vs_svd','cf_vs_svd']\n",
    "t_test_results_hr_df.index = index\n",
    "t_test_results_hr_df"
   ]
  },
  {
   "cell_type": "code",
   "execution_count": 27,
   "id": "bbcbd318-b9d5-4cc3-8eff-aca071996ce9",
   "metadata": {},
   "outputs": [],
   "source": [
    "nn_hr_t_stats = []\n",
    "nn_hr_p_vals = []\n",
    "\n",
    "t_b_vs_nn, p_b_vs_nn = five_by_two_paired_t_test(hr_results_df_final, 'baseline', 'neural_network_hr')\n",
    "t_cf_vs_nn, p_cf_vs_nn = five_by_two_paired_t_test(hr_results_df_final, 'cf', 'neural_network_hr')\n",
    "t_svd_vs_nn, p_svd_vs_nn = five_by_two_paired_t_test(hr_results_df_final, 'svd', 'neural_network_hr')\n",
    "\n",
    "nn_hr_t_stats.append(t_b_vs_nn)\n",
    "nn_hr_t_stats.append(t_cf_vs_nn)\n",
    "nn_hr_t_stats.append(t_svd_vs_nn)\n",
    "\n",
    "nn_hr_p_vals.append(p_b_vs_nn)\n",
    "nn_hr_p_vals.append(p_cf_vs_nn)\n",
    "nn_hr_p_vals.append(p_svd_vs_nn)"
   ]
  },
  {
   "cell_type": "code",
   "execution_count": 28,
   "id": "5412e317-6a9e-4842-b88d-85e816d8f3d5",
   "metadata": {},
   "outputs": [
    {
     "data": {
      "text/plain": [
       "[-96.93358254993991, -53.738861718903244, -19.75200638954657]"
      ]
     },
     "execution_count": 28,
     "metadata": {},
     "output_type": "execute_result"
    }
   ],
   "source": [
    "nn_hr_t_stats"
   ]
  },
  {
   "cell_type": "code",
   "execution_count": 29,
   "id": "6ca7a050-6399-4f3d-9c53-af25cd580c6e",
   "metadata": {},
   "outputs": [
    {
     "data": {
      "text/plain": [
       "[1.107662498914664e-09, 2.109704460894901e-08, 3.0715976673604223e-06]"
      ]
     },
     "execution_count": 29,
     "metadata": {},
     "output_type": "execute_result"
    }
   ],
   "source": [
    "nn_hr_p_vals"
   ]
  },
  {
   "cell_type": "code",
   "execution_count": 30,
   "id": "7afef8ea-43f9-4d60-9c83-459889505c67",
   "metadata": {},
   "outputs": [
    {
     "data": {
      "text/plain": [
       "{'t_statistic': [-96.93358254993991, -53.738861718903244, -19.75200638954657],\n",
       " 'p_value_unadjusted': [1.107662498914664e-09,\n",
       "  2.109704460894901e-08,\n",
       "  3.0715976673604223e-06]}"
      ]
     },
     "execution_count": 30,
     "metadata": {},
     "output_type": "execute_result"
    }
   ],
   "source": [
    "t_test_results_dict_nn_hr = dict(t_statistic=nn_hr_t_stats, p_value_unadjusted=nn_hr_p_vals)\n",
    "t_test_results_dict_nn_hr"
   ]
  },
  {
   "cell_type": "code",
   "execution_count": 31,
   "id": "982f8b18-2e1b-4e04-8358-c73914e935e2",
   "metadata": {},
   "outputs": [
    {
     "data": {
      "text/html": [
       "<div>\n",
       "<style scoped>\n",
       "    .dataframe tbody tr th:only-of-type {\n",
       "        vertical-align: middle;\n",
       "    }\n",
       "\n",
       "    .dataframe tbody tr th {\n",
       "        vertical-align: top;\n",
       "    }\n",
       "\n",
       "    .dataframe thead th {\n",
       "        text-align: right;\n",
       "    }\n",
       "</style>\n",
       "<table border=\"1\" class=\"dataframe\">\n",
       "  <thead>\n",
       "    <tr style=\"text-align: right;\">\n",
       "      <th></th>\n",
       "      <th>t_statistic</th>\n",
       "      <th>p_value_unadjusted</th>\n",
       "    </tr>\n",
       "  </thead>\n",
       "  <tbody>\n",
       "    <tr>\n",
       "      <th>baseline_vs_neural_network</th>\n",
       "      <td>-96.933583</td>\n",
       "      <td>1.107662e-09</td>\n",
       "    </tr>\n",
       "    <tr>\n",
       "      <th>cf_vs_neural_network</th>\n",
       "      <td>-53.738862</td>\n",
       "      <td>2.109704e-08</td>\n",
       "    </tr>\n",
       "    <tr>\n",
       "      <th>svd_vs_neural_network</th>\n",
       "      <td>-19.752006</td>\n",
       "      <td>3.071598e-06</td>\n",
       "    </tr>\n",
       "  </tbody>\n",
       "</table>\n",
       "</div>"
      ],
      "text/plain": [
       "                            t_statistic  p_value_unadjusted\n",
       "baseline_vs_neural_network   -96.933583        1.107662e-09\n",
       "cf_vs_neural_network         -53.738862        2.109704e-08\n",
       "svd_vs_neural_network        -19.752006        3.071598e-06"
      ]
     },
     "execution_count": 31,
     "metadata": {},
     "output_type": "execute_result"
    }
   ],
   "source": [
    "t_test_results_hr_nn_df = pd.DataFrame(t_test_results_dict_nn_hr, index=['baseline_vs_neural_network',\n",
    "                                                                 'cf_vs_neural_network',\n",
    "                                                                 'svd_vs_neural_network'])\n",
    "t_test_results_hr_nn_df"
   ]
  },
  {
   "cell_type": "code",
   "execution_count": 32,
   "id": "01cdcc20-1964-4b40-b0bb-df175eac35db",
   "metadata": {},
   "outputs": [
    {
     "data": {
      "text/html": [
       "<div>\n",
       "<style scoped>\n",
       "    .dataframe tbody tr th:only-of-type {\n",
       "        vertical-align: middle;\n",
       "    }\n",
       "\n",
       "    .dataframe tbody tr th {\n",
       "        vertical-align: top;\n",
       "    }\n",
       "\n",
       "    .dataframe thead th {\n",
       "        text-align: right;\n",
       "    }\n",
       "</style>\n",
       "<table border=\"1\" class=\"dataframe\">\n",
       "  <thead>\n",
       "    <tr style=\"text-align: right;\">\n",
       "      <th></th>\n",
       "      <th>t_statistic</th>\n",
       "      <th>p_value_unadjusted</th>\n",
       "    </tr>\n",
       "  </thead>\n",
       "  <tbody>\n",
       "    <tr>\n",
       "      <th>baseline_vs_cf</th>\n",
       "      <td>-115.729967</td>\n",
       "      <td>4.567698e-10</td>\n",
       "    </tr>\n",
       "    <tr>\n",
       "      <th>baseline_vs_svd</th>\n",
       "      <td>-115.890316</td>\n",
       "      <td>4.536195e-10</td>\n",
       "    </tr>\n",
       "    <tr>\n",
       "      <th>cf_vs_svd</th>\n",
       "      <td>-16.915946</td>\n",
       "      <td>6.601872e-06</td>\n",
       "    </tr>\n",
       "    <tr>\n",
       "      <th>baseline_vs_neural_network</th>\n",
       "      <td>-96.933583</td>\n",
       "      <td>1.107662e-09</td>\n",
       "    </tr>\n",
       "    <tr>\n",
       "      <th>cf_vs_neural_network</th>\n",
       "      <td>-53.738862</td>\n",
       "      <td>2.109704e-08</td>\n",
       "    </tr>\n",
       "    <tr>\n",
       "      <th>svd_vs_neural_network</th>\n",
       "      <td>-19.752006</td>\n",
       "      <td>3.071598e-06</td>\n",
       "    </tr>\n",
       "  </tbody>\n",
       "</table>\n",
       "</div>"
      ],
      "text/plain": [
       "                            t_statistic  p_value_unadjusted\n",
       "baseline_vs_cf              -115.729967        4.567698e-10\n",
       "baseline_vs_svd             -115.890316        4.536195e-10\n",
       "cf_vs_svd                    -16.915946        6.601872e-06\n",
       "baseline_vs_neural_network   -96.933583        1.107662e-09\n",
       "cf_vs_neural_network         -53.738862        2.109704e-08\n",
       "svd_vs_neural_network        -19.752006        3.071598e-06"
      ]
     },
     "execution_count": 32,
     "metadata": {},
     "output_type": "execute_result"
    }
   ],
   "source": [
    "t_test_results_hr_final = pd.concat([t_test_results_hr_df, t_test_results_hr_nn_df], axis=0)\n",
    "t_test_results_hr_final"
   ]
  },
  {
   "cell_type": "code",
   "execution_count": 33,
   "id": "edd429bc-4b5a-476f-b89d-a6d878206a68",
   "metadata": {},
   "outputs": [
    {
     "data": {
      "text/plain": [
       "0.008333333333333333"
      ]
     },
     "execution_count": 33,
     "metadata": {},
     "output_type": "execute_result"
    }
   ],
   "source": [
    "original_alpha = 0.05\n",
    "bonferroni_adjusted_alpha = original_alpha / 6\n",
    "bonferroni_adjusted_alpha"
   ]
  },
  {
   "cell_type": "code",
   "execution_count": 34,
   "id": "18c2173d-097f-4cbc-a680-c0182bcca7a7",
   "metadata": {},
   "outputs": [
    {
     "data": {
      "text/html": [
       "<div>\n",
       "<style scoped>\n",
       "    .dataframe tbody tr th:only-of-type {\n",
       "        vertical-align: middle;\n",
       "    }\n",
       "\n",
       "    .dataframe tbody tr th {\n",
       "        vertical-align: top;\n",
       "    }\n",
       "\n",
       "    .dataframe thead th {\n",
       "        text-align: right;\n",
       "    }\n",
       "</style>\n",
       "<table border=\"1\" class=\"dataframe\">\n",
       "  <thead>\n",
       "    <tr style=\"text-align: right;\">\n",
       "      <th></th>\n",
       "      <th>t_statistic</th>\n",
       "      <th>p_value_unadjusted</th>\n",
       "      <th>significant</th>\n",
       "    </tr>\n",
       "  </thead>\n",
       "  <tbody>\n",
       "    <tr>\n",
       "      <th>baseline_vs_cf</th>\n",
       "      <td>-115.729967</td>\n",
       "      <td>4.567698e-10</td>\n",
       "      <td>Yes</td>\n",
       "    </tr>\n",
       "    <tr>\n",
       "      <th>baseline_vs_svd</th>\n",
       "      <td>-115.890316</td>\n",
       "      <td>4.536195e-10</td>\n",
       "      <td>Yes</td>\n",
       "    </tr>\n",
       "    <tr>\n",
       "      <th>cf_vs_svd</th>\n",
       "      <td>-16.915946</td>\n",
       "      <td>6.601872e-06</td>\n",
       "      <td>Yes</td>\n",
       "    </tr>\n",
       "    <tr>\n",
       "      <th>baseline_vs_neural_network</th>\n",
       "      <td>-96.933583</td>\n",
       "      <td>1.107662e-09</td>\n",
       "      <td>Yes</td>\n",
       "    </tr>\n",
       "    <tr>\n",
       "      <th>cf_vs_neural_network</th>\n",
       "      <td>-53.738862</td>\n",
       "      <td>2.109704e-08</td>\n",
       "      <td>Yes</td>\n",
       "    </tr>\n",
       "    <tr>\n",
       "      <th>svd_vs_neural_network</th>\n",
       "      <td>-19.752006</td>\n",
       "      <td>3.071598e-06</td>\n",
       "      <td>Yes</td>\n",
       "    </tr>\n",
       "  </tbody>\n",
       "</table>\n",
       "</div>"
      ],
      "text/plain": [
       "                            t_statistic  p_value_unadjusted significant\n",
       "baseline_vs_cf              -115.729967        4.567698e-10         Yes\n",
       "baseline_vs_svd             -115.890316        4.536195e-10         Yes\n",
       "cf_vs_svd                    -16.915946        6.601872e-06         Yes\n",
       "baseline_vs_neural_network   -96.933583        1.107662e-09         Yes\n",
       "cf_vs_neural_network         -53.738862        2.109704e-08         Yes\n",
       "svd_vs_neural_network        -19.752006        3.071598e-06         Yes"
      ]
     },
     "execution_count": 34,
     "metadata": {},
     "output_type": "execute_result"
    }
   ],
   "source": [
    "t_test_results_hr_final['significant'] = \\\n",
    "t_test_results_hr_final['p_value_unadjusted'].apply(lambda x: 'Yes' if x <= bonferroni_adjusted_alpha\n",
    "                                                   else 'No')\n",
    "\n",
    "t_test_results_hr_final"
   ]
  },
  {
   "cell_type": "code",
   "execution_count": 35,
   "id": "7fc5961d-230b-4cfb-a237-9e74a6f440f6",
   "metadata": {},
   "outputs": [
    {
     "data": {
      "text/html": [
       "<div>\n",
       "<style scoped>\n",
       "    .dataframe tbody tr th:only-of-type {\n",
       "        vertical-align: middle;\n",
       "    }\n",
       "\n",
       "    .dataframe tbody tr th {\n",
       "        vertical-align: top;\n",
       "    }\n",
       "\n",
       "    .dataframe thead th {\n",
       "        text-align: right;\n",
       "    }\n",
       "</style>\n",
       "<table border=\"1\" class=\"dataframe\">\n",
       "  <thead>\n",
       "    <tr style=\"text-align: right;\">\n",
       "      <th></th>\n",
       "      <th>baseline</th>\n",
       "      <th>cf</th>\n",
       "      <th>svd</th>\n",
       "      <th>neural_network_hr</th>\n",
       "    </tr>\n",
       "  </thead>\n",
       "  <tbody>\n",
       "    <tr>\n",
       "      <th>0</th>\n",
       "      <td>0.296561</td>\n",
       "      <td>0.439228</td>\n",
       "      <td>0.458413</td>\n",
       "      <td>0.488122</td>\n",
       "    </tr>\n",
       "    <tr>\n",
       "      <th>1</th>\n",
       "      <td>0.297034</td>\n",
       "      <td>0.439001</td>\n",
       "      <td>0.460726</td>\n",
       "      <td>0.487022</td>\n",
       "    </tr>\n",
       "    <tr>\n",
       "      <th>2</th>\n",
       "      <td>0.297715</td>\n",
       "      <td>0.438900</td>\n",
       "      <td>0.459328</td>\n",
       "      <td>0.488501</td>\n",
       "    </tr>\n",
       "    <tr>\n",
       "      <th>3</th>\n",
       "      <td>0.298997</td>\n",
       "      <td>0.437977</td>\n",
       "      <td>0.460333</td>\n",
       "      <td>0.486388</td>\n",
       "    </tr>\n",
       "    <tr>\n",
       "      <th>4</th>\n",
       "      <td>0.295871</td>\n",
       "      <td>0.439655</td>\n",
       "      <td>0.460662</td>\n",
       "      <td>0.487842</td>\n",
       "    </tr>\n",
       "    <tr>\n",
       "      <th>5</th>\n",
       "      <td>0.298046</td>\n",
       "      <td>0.438874</td>\n",
       "      <td>0.459719</td>\n",
       "      <td>0.486011</td>\n",
       "    </tr>\n",
       "    <tr>\n",
       "      <th>6</th>\n",
       "      <td>0.297368</td>\n",
       "      <td>0.439560</td>\n",
       "      <td>0.461304</td>\n",
       "      <td>0.487020</td>\n",
       "    </tr>\n",
       "    <tr>\n",
       "      <th>7</th>\n",
       "      <td>0.298030</td>\n",
       "      <td>0.439275</td>\n",
       "      <td>0.460432</td>\n",
       "      <td>0.486285</td>\n",
       "    </tr>\n",
       "    <tr>\n",
       "      <th>8</th>\n",
       "      <td>0.296864</td>\n",
       "      <td>0.438533</td>\n",
       "      <td>0.459555</td>\n",
       "      <td>0.487874</td>\n",
       "    </tr>\n",
       "    <tr>\n",
       "      <th>9</th>\n",
       "      <td>0.298423</td>\n",
       "      <td>0.439623</td>\n",
       "      <td>0.459121</td>\n",
       "      <td>0.486775</td>\n",
       "    </tr>\n",
       "  </tbody>\n",
       "</table>\n",
       "</div>"
      ],
      "text/plain": [
       "   baseline        cf       svd  neural_network_hr\n",
       "0  0.296561  0.439228  0.458413           0.488122\n",
       "1  0.297034  0.439001  0.460726           0.487022\n",
       "2  0.297715  0.438900  0.459328           0.488501\n",
       "3  0.298997  0.437977  0.460333           0.486388\n",
       "4  0.295871  0.439655  0.460662           0.487842\n",
       "5  0.298046  0.438874  0.459719           0.486011\n",
       "6  0.297368  0.439560  0.461304           0.487020\n",
       "7  0.298030  0.439275  0.460432           0.486285\n",
       "8  0.296864  0.438533  0.459555           0.487874\n",
       "9  0.298423  0.439623  0.459121           0.486775"
      ]
     },
     "execution_count": 35,
     "metadata": {},
     "output_type": "execute_result"
    }
   ],
   "source": [
    "hr_results_df_final"
   ]
  },
  {
   "cell_type": "code",
   "execution_count": 36,
   "id": "3f469f84-29e7-4675-9f61-405503e1e0d5",
   "metadata": {},
   "outputs": [],
   "source": [
    "hr_means = {}\n",
    "hr_stds = {}\n",
    "\n",
    "for col in hr_results_df_final.columns:\n",
    "    hr_means[col] = np.mean(hr_results_df_final[col].values)\n",
    "    hr_stds[col] = np.std(hr_results_df_final[col].values, ddof=1)\n",
    "\n"
   ]
  },
  {
   "cell_type": "code",
   "execution_count": 37,
   "id": "19f3a51e-ded3-4a9c-91ca-24ef90d3b2eb",
   "metadata": {},
   "outputs": [
    {
     "data": {
      "text/plain": [
       "{'baseline': 0.2974909388054058,\n",
       " 'cf': 0.43906257989659575,\n",
       " 'svd': 0.45995943789521176,\n",
       " 'neural_network_hr': 0.48718396105595063}"
      ]
     },
     "execution_count": 37,
     "metadata": {},
     "output_type": "execute_result"
    }
   ],
   "source": [
    "hr_means"
   ]
  },
  {
   "cell_type": "code",
   "execution_count": 38,
   "id": "70649f62-16ca-4a75-9903-f44ffb63cf59",
   "metadata": {},
   "outputs": [
    {
     "data": {
      "text/plain": [
       "{'baseline': 0.0009363190822027744,\n",
       " 'cf': 0.000528164959683763,\n",
       " 'svd': 0.0008797856905011649,\n",
       " 'neural_network_hr': 0.0008538506238907006}"
      ]
     },
     "execution_count": 38,
     "metadata": {},
     "output_type": "execute_result"
    }
   ],
   "source": [
    "hr_stds"
   ]
  },
  {
   "cell_type": "code",
   "execution_count": 39,
   "id": "573764e6-7545-43ef-810e-4a35433641f1",
   "metadata": {},
   "outputs": [
    {
     "data": {
      "text/html": [
       "<div>\n",
       "<style scoped>\n",
       "    .dataframe tbody tr th:only-of-type {\n",
       "        vertical-align: middle;\n",
       "    }\n",
       "\n",
       "    .dataframe tbody tr th {\n",
       "        vertical-align: top;\n",
       "    }\n",
       "\n",
       "    .dataframe thead th {\n",
       "        text-align: right;\n",
       "    }\n",
       "</style>\n",
       "<table border=\"1\" class=\"dataframe\">\n",
       "  <thead>\n",
       "    <tr style=\"text-align: right;\">\n",
       "      <th></th>\n",
       "      <th>baseline</th>\n",
       "      <th>cf</th>\n",
       "      <th>svd</th>\n",
       "      <th>neural_network_hr</th>\n",
       "    </tr>\n",
       "  </thead>\n",
       "  <tbody>\n",
       "    <tr>\n",
       "      <th>mean</th>\n",
       "      <td>0.297491</td>\n",
       "      <td>0.439063</td>\n",
       "      <td>0.459959</td>\n",
       "      <td>0.487184</td>\n",
       "    </tr>\n",
       "    <tr>\n",
       "      <th>standard deviation</th>\n",
       "      <td>0.000936</td>\n",
       "      <td>0.000528</td>\n",
       "      <td>0.000880</td>\n",
       "      <td>0.000854</td>\n",
       "    </tr>\n",
       "  </tbody>\n",
       "</table>\n",
       "</div>"
      ],
      "text/plain": [
       "                    baseline        cf       svd  neural_network_hr\n",
       "mean                0.297491  0.439063  0.459959           0.487184\n",
       "standard deviation  0.000936  0.000528  0.000880           0.000854"
      ]
     },
     "execution_count": 39,
     "metadata": {},
     "output_type": "execute_result"
    }
   ],
   "source": [
    "hr_means_df = pd.DataFrame(hr_means, index=['mean'])\n",
    "hr_stds_df = pd.DataFrame(hr_stds, index=['standard deviation'])\n",
    "\n",
    "hr_summary_statistics_final = pd.concat([hr_means_df, hr_stds_df], axis=0)\n",
    "\n",
    "hr_summary_statistics_final"
   ]
  },
  {
   "cell_type": "code",
   "execution_count": 40,
   "id": "272a3346-06b5-4a2e-93bb-2094a2b110a4",
   "metadata": {},
   "outputs": [],
   "source": [
    "hr_summary_statistics_final.to_csv(PATH + 'hr_summary_statistics_final.csv')\n",
    "hr_results_df_final.to_csv(PATH + 'hr_results_df_final.csv')\n",
    "t_test_results_hr_final.to_csv(PATH + 't_test_results_hr_final.csv')"
   ]
  },
  {
   "cell_type": "code",
   "execution_count": 41,
   "id": "fa647df6-5a1d-41c8-99bc-8dd0826f5d80",
   "metadata": {},
   "outputs": [
    {
     "data": {
      "text/html": [
       "<div>\n",
       "<style scoped>\n",
       "    .dataframe tbody tr th:only-of-type {\n",
       "        vertical-align: middle;\n",
       "    }\n",
       "\n",
       "    .dataframe tbody tr th {\n",
       "        vertical-align: top;\n",
       "    }\n",
       "\n",
       "    .dataframe thead th {\n",
       "        text-align: right;\n",
       "    }\n",
       "</style>\n",
       "<table border=\"1\" class=\"dataframe\">\n",
       "  <thead>\n",
       "    <tr style=\"text-align: right;\">\n",
       "      <th></th>\n",
       "      <th>user_id</th>\n",
       "      <th>movie_id</th>\n",
       "      <th>rating</th>\n",
       "    </tr>\n",
       "  </thead>\n",
       "  <tbody>\n",
       "    <tr>\n",
       "      <th>0</th>\n",
       "      <td>826574</td>\n",
       "      <td>9729</td>\n",
       "      <td>4.0</td>\n",
       "    </tr>\n",
       "    <tr>\n",
       "      <th>1</th>\n",
       "      <td>2200645</td>\n",
       "      <td>1719</td>\n",
       "      <td>4.0</td>\n",
       "    </tr>\n",
       "    <tr>\n",
       "      <th>2</th>\n",
       "      <td>2150434</td>\n",
       "      <td>5356</td>\n",
       "      <td>5.0</td>\n",
       "    </tr>\n",
       "    <tr>\n",
       "      <th>3</th>\n",
       "      <td>2142065</td>\n",
       "      <td>8753</td>\n",
       "      <td>3.0</td>\n",
       "    </tr>\n",
       "    <tr>\n",
       "      <th>4</th>\n",
       "      <td>867086</td>\n",
       "      <td>6721</td>\n",
       "      <td>4.0</td>\n",
       "    </tr>\n",
       "  </tbody>\n",
       "</table>\n",
       "</div>"
      ],
      "text/plain": [
       "   user_id  movie_id  rating\n",
       "0   826574      9729     4.0\n",
       "1  2200645      1719     4.0\n",
       "2  2150434      5356     5.0\n",
       "3  2142065      8753     3.0\n",
       "4   867086      6721     4.0"
      ]
     },
     "execution_count": 41,
     "metadata": {},
     "output_type": "execute_result"
    }
   ],
   "source": [
    "train_hr0.head()"
   ]
  },
  {
   "cell_type": "code",
   "execution_count": 42,
   "id": "12f14a6d-1da6-44cc-a8ea-f86f8eb339d6",
   "metadata": {},
   "outputs": [
    {
     "data": {
      "text/plain": [
       "0"
      ]
     },
     "execution_count": 42,
     "metadata": {},
     "output_type": "execute_result"
    }
   ],
   "source": [
    "train_hr0.duplicated().sum()"
   ]
  },
  {
   "cell_type": "code",
   "execution_count": null,
   "id": "7d099236-c6fb-4892-b822-7835032ae64d",
   "metadata": {},
   "outputs": [],
   "source": []
  }
 ],
 "metadata": {
  "kernelspec": {
   "display_name": "Python 3",
   "language": "python",
   "name": "python3"
  },
  "language_info": {
   "codemirror_mode": {
    "name": "ipython",
    "version": 3
   },
   "file_extension": ".py",
   "mimetype": "text/x-python",
   "name": "python",
   "nbconvert_exporter": "python",
   "pygments_lexer": "ipython3",
   "version": "3.8.8"
  }
 },
 "nbformat": 4,
 "nbformat_minor": 5
}
