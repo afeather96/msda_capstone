{
 "cells": [
  {
   "cell_type": "code",
   "execution_count": 27,
   "id": "f5c2bf19-9fdc-4535-8064-64df4035020d",
   "metadata": {},
   "outputs": [],
   "source": [
    "import pandas as pd\n",
    "import numpy as np\n",
    "import matplotlib.pyplot as plt\n",
    "import seaborn as sns\n",
    "from collections import deque\n",
    "from surprise import Dataset, NormalPredictor, Reader\n",
    "from surprise.model_selection import cross_validate\n",
    "import os\n",
    "from sklearn.model_selection import train_test_split\n",
    "import pickle"
   ]
  },
  {
   "cell_type": "code",
   "execution_count": 2,
   "id": "1fa3665e-f917-4920-96ff-d15a361ea506",
   "metadata": {},
   "outputs": [],
   "source": [
    "movie_titles = pd.read_csv('movie_titles.csv', header=None, encoding='ISO-8859-1', \n",
    "                          names=['movie_id', 'year', 'title', 'description1', 'description2',\n",
    "                                'description3'])"
   ]
  },
  {
   "cell_type": "code",
   "execution_count": 3,
   "id": "225c3f0f-59cf-4e55-ba65-87dd7e404e4d",
   "metadata": {},
   "outputs": [],
   "source": [
    "movie_titles = movie_titles.drop(columns=['description1', 'description2', 'description3'], axis=1)"
   ]
  },
  {
   "cell_type": "code",
   "execution_count": 4,
   "id": "874776bf-f0eb-4d02-bd55-7c34fc4fb579",
   "metadata": {},
   "outputs": [
    {
     "data": {
      "text/html": [
       "<div>\n",
       "<style scoped>\n",
       "    .dataframe tbody tr th:only-of-type {\n",
       "        vertical-align: middle;\n",
       "    }\n",
       "\n",
       "    .dataframe tbody tr th {\n",
       "        vertical-align: top;\n",
       "    }\n",
       "\n",
       "    .dataframe thead th {\n",
       "        text-align: right;\n",
       "    }\n",
       "</style>\n",
       "<table border=\"1\" class=\"dataframe\">\n",
       "  <thead>\n",
       "    <tr style=\"text-align: right;\">\n",
       "      <th></th>\n",
       "      <th>Unnamed: 0</th>\n",
       "      <th>user_id</th>\n",
       "      <th>rating</th>\n",
       "      <th>date</th>\n",
       "      <th>movie_id</th>\n",
       "    </tr>\n",
       "  </thead>\n",
       "  <tbody>\n",
       "    <tr>\n",
       "      <th>0</th>\n",
       "      <td>36420325</td>\n",
       "      <td>841872</td>\n",
       "      <td>3.0</td>\n",
       "      <td>2003-03-21</td>\n",
       "      <td>6464</td>\n",
       "    </tr>\n",
       "    <tr>\n",
       "      <th>1</th>\n",
       "      <td>42791681</td>\n",
       "      <td>689085</td>\n",
       "      <td>2.0</td>\n",
       "      <td>2004-05-19</td>\n",
       "      <td>7590</td>\n",
       "    </tr>\n",
       "    <tr>\n",
       "      <th>2</th>\n",
       "      <td>64859971</td>\n",
       "      <td>2529854</td>\n",
       "      <td>4.0</td>\n",
       "      <td>2005-10-22</td>\n",
       "      <td>11837</td>\n",
       "    </tr>\n",
       "    <tr>\n",
       "      <th>3</th>\n",
       "      <td>59155484</td>\n",
       "      <td>2597445</td>\n",
       "      <td>4.0</td>\n",
       "      <td>2005-01-25</td>\n",
       "      <td>10886</td>\n",
       "    </tr>\n",
       "    <tr>\n",
       "      <th>4</th>\n",
       "      <td>30218564</td>\n",
       "      <td>2336656</td>\n",
       "      <td>3.0</td>\n",
       "      <td>2005-07-01</td>\n",
       "      <td>5522</td>\n",
       "    </tr>\n",
       "  </tbody>\n",
       "</table>\n",
       "</div>"
      ],
      "text/plain": [
       "   Unnamed: 0  user_id  rating        date  movie_id\n",
       "0    36420325   841872     3.0  2003-03-21      6464\n",
       "1    42791681   689085     2.0  2004-05-19      7590\n",
       "2    64859971  2529854     4.0  2005-10-22     11837\n",
       "3    59155484  2597445     4.0  2005-01-25     10886\n",
       "4    30218564  2336656     3.0  2005-07-01      5522"
      ]
     },
     "execution_count": 4,
     "metadata": {},
     "output_type": "execute_result"
    }
   ],
   "source": [
    "df_ratings = pd.read_csv('netflix_sample.csv')\n",
    "df_ratings.head()"
   ]
  },
  {
   "cell_type": "code",
   "execution_count": 5,
   "id": "1c9189de-5b58-4960-885f-71561b87b8f6",
   "metadata": {},
   "outputs": [
    {
     "data": {
      "text/html": [
       "<div>\n",
       "<style scoped>\n",
       "    .dataframe tbody tr th:only-of-type {\n",
       "        vertical-align: middle;\n",
       "    }\n",
       "\n",
       "    .dataframe tbody tr th {\n",
       "        vertical-align: top;\n",
       "    }\n",
       "\n",
       "    .dataframe thead th {\n",
       "        text-align: right;\n",
       "    }\n",
       "</style>\n",
       "<table border=\"1\" class=\"dataframe\">\n",
       "  <thead>\n",
       "    <tr style=\"text-align: right;\">\n",
       "      <th></th>\n",
       "      <th>user_id</th>\n",
       "      <th>rating</th>\n",
       "      <th>date</th>\n",
       "      <th>movie_id</th>\n",
       "    </tr>\n",
       "  </thead>\n",
       "  <tbody>\n",
       "    <tr>\n",
       "      <th>0</th>\n",
       "      <td>841872</td>\n",
       "      <td>3.0</td>\n",
       "      <td>2003-03-21</td>\n",
       "      <td>6464</td>\n",
       "    </tr>\n",
       "    <tr>\n",
       "      <th>1</th>\n",
       "      <td>689085</td>\n",
       "      <td>2.0</td>\n",
       "      <td>2004-05-19</td>\n",
       "      <td>7590</td>\n",
       "    </tr>\n",
       "    <tr>\n",
       "      <th>2</th>\n",
       "      <td>2529854</td>\n",
       "      <td>4.0</td>\n",
       "      <td>2005-10-22</td>\n",
       "      <td>11837</td>\n",
       "    </tr>\n",
       "    <tr>\n",
       "      <th>3</th>\n",
       "      <td>2597445</td>\n",
       "      <td>4.0</td>\n",
       "      <td>2005-01-25</td>\n",
       "      <td>10886</td>\n",
       "    </tr>\n",
       "    <tr>\n",
       "      <th>4</th>\n",
       "      <td>2336656</td>\n",
       "      <td>3.0</td>\n",
       "      <td>2005-07-01</td>\n",
       "      <td>5522</td>\n",
       "    </tr>\n",
       "  </tbody>\n",
       "</table>\n",
       "</div>"
      ],
      "text/plain": [
       "   user_id  rating        date  movie_id\n",
       "0   841872     3.0  2003-03-21      6464\n",
       "1   689085     2.0  2004-05-19      7590\n",
       "2  2529854     4.0  2005-10-22     11837\n",
       "3  2597445     4.0  2005-01-25     10886\n",
       "4  2336656     3.0  2005-07-01      5522"
      ]
     },
     "execution_count": 5,
     "metadata": {},
     "output_type": "execute_result"
    }
   ],
   "source": [
    "df_ratings = df_ratings.drop('Unnamed: 0', axis=1)\n",
    "df_ratings.head()"
   ]
  },
  {
   "cell_type": "code",
   "execution_count": 6,
   "id": "f3f96ea5-be7c-4f3a-ad00-688adef88fb5",
   "metadata": {},
   "outputs": [
    {
     "data": {
      "text/html": [
       "<div>\n",
       "<style scoped>\n",
       "    .dataframe tbody tr th:only-of-type {\n",
       "        vertical-align: middle;\n",
       "    }\n",
       "\n",
       "    .dataframe tbody tr th {\n",
       "        vertical-align: top;\n",
       "    }\n",
       "\n",
       "    .dataframe thead th {\n",
       "        text-align: right;\n",
       "    }\n",
       "</style>\n",
       "<table border=\"1\" class=\"dataframe\">\n",
       "  <thead>\n",
       "    <tr style=\"text-align: right;\">\n",
       "      <th></th>\n",
       "      <th>movie_id</th>\n",
       "      <th>year</th>\n",
       "      <th>title</th>\n",
       "    </tr>\n",
       "  </thead>\n",
       "  <tbody>\n",
       "    <tr>\n",
       "      <th>0</th>\n",
       "      <td>1</td>\n",
       "      <td>2003.0</td>\n",
       "      <td>Dinosaur Planet</td>\n",
       "    </tr>\n",
       "    <tr>\n",
       "      <th>1</th>\n",
       "      <td>2</td>\n",
       "      <td>2004.0</td>\n",
       "      <td>Isle of Man TT 2004 Review</td>\n",
       "    </tr>\n",
       "    <tr>\n",
       "      <th>2</th>\n",
       "      <td>3</td>\n",
       "      <td>1997.0</td>\n",
       "      <td>Character</td>\n",
       "    </tr>\n",
       "    <tr>\n",
       "      <th>3</th>\n",
       "      <td>4</td>\n",
       "      <td>1994.0</td>\n",
       "      <td>Paula Abdul's Get Up &amp; Dance</td>\n",
       "    </tr>\n",
       "    <tr>\n",
       "      <th>4</th>\n",
       "      <td>5</td>\n",
       "      <td>2004.0</td>\n",
       "      <td>The Rise and Fall of ECW</td>\n",
       "    </tr>\n",
       "  </tbody>\n",
       "</table>\n",
       "</div>"
      ],
      "text/plain": [
       "   movie_id    year                         title\n",
       "0         1  2003.0               Dinosaur Planet\n",
       "1         2  2004.0    Isle of Man TT 2004 Review\n",
       "2         3  1997.0                     Character\n",
       "3         4  1994.0  Paula Abdul's Get Up & Dance\n",
       "4         5  2004.0      The Rise and Fall of ECW"
      ]
     },
     "execution_count": 6,
     "metadata": {},
     "output_type": "execute_result"
    }
   ],
   "source": [
    "movie_titles.head()"
   ]
  },
  {
   "cell_type": "code",
   "execution_count": 7,
   "id": "5422c0c1-14b2-4471-8207-5c3eab306556",
   "metadata": {},
   "outputs": [
    {
     "name": "stdout",
     "output_type": "stream",
     "text": [
      "/Users/alecclarkfeather/capstone_project\n"
     ]
    }
   ],
   "source": [
    "#!pwd"
   ]
  },
  {
   "cell_type": "code",
   "execution_count": 9,
   "id": "fdd384c3-6bcc-41b1-b173-716a002accf1",
   "metadata": {},
   "outputs": [],
   "source": [
    "PATH = '/Users/alecclarkfeather/capstone_project'\n",
    "\n",
    "os.mkdir(PATH + '/rmse_train_test_folds')"
   ]
  },
  {
   "cell_type": "code",
   "execution_count": 12,
   "id": "6d9e2d56-1683-4119-8390-f6ca2c70b38d",
   "metadata": {},
   "outputs": [],
   "source": [
    "RMSE_PATH = PATH + '/rmse_train_test_folds'\n",
    "states = [10, 20, 30, 40, 50]\n",
    "\n",
    "for i, state in enumerate(states):\n",
    "    train_df, test_df = train_test_split(df_ratings, test_size=0.5, random_state=state)\n",
    "    train_df.to_csv(RMSE_PATH + f'/train_df{i}.csv')\n",
    "    test_df.to_csv(RMSE_PATH + f'/test_df{i}.csv')\n"
   ]
  },
  {
   "cell_type": "code",
   "execution_count": 13,
   "id": "385bac4f-16ff-4043-87e1-461a68754add",
   "metadata": {},
   "outputs": [
    {
     "data": {
      "text/plain": [
       "264059"
      ]
     },
     "execution_count": 13,
     "metadata": {},
     "output_type": "execute_result"
    }
   ],
   "source": [
    "#df_ratings['user_id'].nunique()"
   ]
  },
  {
   "cell_type": "code",
   "execution_count": 14,
   "id": "97846488-4e59-4425-8f45-2d97f34c33d4",
   "metadata": {},
   "outputs": [
    {
     "data": {
      "text/plain": [
       "0"
      ]
     },
     "execution_count": 14,
     "metadata": {},
     "output_type": "execute_result"
    }
   ],
   "source": [
    "df_ratings.duplicated().sum()"
   ]
  },
  {
   "cell_type": "code",
   "execution_count": 17,
   "id": "4845c076-eaf8-4024-9c29-e3b06fa0b4bf",
   "metadata": {},
   "outputs": [
    {
     "data": {
      "text/plain": [
       "user_id  movie_id\n",
       "8        1202        5.0\n",
       "         2152        3.0\n",
       "         3106        4.0\n",
       "         4306        5.0\n",
       "         4996        4.0\n",
       "Name: rating, dtype: float64"
      ]
     },
     "execution_count": 17,
     "metadata": {},
     "output_type": "execute_result"
    }
   ],
   "source": [
    "#top_rated_per_user = df_ratings.groupby(['user_id', 'movie_id'])['rating'].max()\n",
    "#top_rated_per_user.head()"
   ]
  },
  {
   "cell_type": "code",
   "execution_count": 20,
   "id": "a95e2a18-5416-4960-a474-a638463d68d5",
   "metadata": {},
   "outputs": [
    {
     "data": {
      "text/plain": [
       "5.0"
      ]
     },
     "execution_count": 20,
     "metadata": {},
     "output_type": "execute_result"
    }
   ],
   "source": [
    "#temp = df_ratings[df_ratings['user_id']==841872].groupby('user_id')['rating'].max()\n",
    "#temp.values[0]"
   ]
  },
  {
   "cell_type": "code",
   "execution_count": 21,
   "id": "6410195e-a1e9-4130-b3dd-cebab4f48112",
   "metadata": {},
   "outputs": [],
   "source": [
    "top_user_rating_dict = {}\n",
    "\n",
    "unique_users = list(df_ratings['user_id'].unique())\n",
    "\n",
    "for user in unique_users:\n",
    "    top_rating_for_user = df_ratings[df_ratings['user_id']==user].groupby('user_id')['rating'].max()\n",
    "    top_movie_for_user = df_ratings[(df_ratings['user_id']==user)&\n",
    "                                    (df_ratings['rating']==top_rating_for_user.values[0])]['movie_id']\n",
    "    single_top_movie_for_user = top_movie_for_user.values[0]\n",
    "    top_user_rating_dict[user] = single_top_movie_for_user\n",
    "    \n"
   ]
  },
  {
   "cell_type": "code",
   "execution_count": 25,
   "id": "144e07e1-5636-4335-8a89-659770b811fd",
   "metadata": {},
   "outputs": [
    {
     "data": {
      "text/plain": [
       "14313"
      ]
     },
     "execution_count": 25,
     "metadata": {},
     "output_type": "execute_result"
    }
   ],
   "source": [
    "#top_user_rating_dict[250]"
   ]
  },
  {
   "cell_type": "code",
   "execution_count": 26,
   "id": "2b118aa0-5f28-48b1-a6b0-7a186982138e",
   "metadata": {},
   "outputs": [
    {
     "data": {
      "text/html": [
       "<div>\n",
       "<style scoped>\n",
       "    .dataframe tbody tr th:only-of-type {\n",
       "        vertical-align: middle;\n",
       "    }\n",
       "\n",
       "    .dataframe tbody tr th {\n",
       "        vertical-align: top;\n",
       "    }\n",
       "\n",
       "    .dataframe thead th {\n",
       "        text-align: right;\n",
       "    }\n",
       "</style>\n",
       "<table border=\"1\" class=\"dataframe\">\n",
       "  <thead>\n",
       "    <tr style=\"text-align: right;\">\n",
       "      <th></th>\n",
       "      <th>user_id</th>\n",
       "      <th>rating</th>\n",
       "      <th>date</th>\n",
       "      <th>movie_id</th>\n",
       "    </tr>\n",
       "  </thead>\n",
       "  <tbody>\n",
       "    <tr>\n",
       "      <th>781211</th>\n",
       "      <td>250</td>\n",
       "      <td>5.0</td>\n",
       "      <td>2005-12-16</td>\n",
       "      <td>14313</td>\n",
       "    </tr>\n",
       "  </tbody>\n",
       "</table>\n",
       "</div>"
      ],
      "text/plain": [
       "        user_id  rating        date  movie_id\n",
       "781211      250     5.0  2005-12-16     14313"
      ]
     },
     "execution_count": 26,
     "metadata": {},
     "output_type": "execute_result"
    }
   ],
   "source": [
    "#df_ratings[(df_ratings['user_id']==250)&(df_ratings['movie_id']==14313)]"
   ]
  },
  {
   "cell_type": "code",
   "execution_count": 28,
   "id": "de79dc79-4b4c-4ab1-952e-ed680c5dc07e",
   "metadata": {},
   "outputs": [],
   "source": [
    "#unique_users_array = np.array(unique_users)\n",
    "#unique_users_count = len(unique_users)\n",
    "#users_per_partition = unique_users_count // 5\n",
    "\n",
    "#user_bin1 = np.random.choice(unique_users_array, size=users_per_partition, replace=False)\n",
    "\n",
    "#unique_users2 = [user for user in unique_users if user not in list(user_bin1)]\n",
    "#unique_users_array2 = np.array(unique_users2)\n",
    "\n",
    "#user_bin2 = np.random.choice(unique_users_array2, size=users_per_partition, replace=False)\n",
    "\n",
    "#unique_users3 = [user for user in unique_users2 if user not in list(user_bin2)]\n",
    "#unique_users_array3 = np.array(unique_users3)\n",
    "\n",
    "#user_bin3 = np.random.choice(unique_users_array3, size=users_per_partition, replace=False)\n",
    "\n",
    "#unique_users4 = [user for user in unique_users3 if user not in list(user_bin3)]\n",
    "#unique_users_array4 = np.array(unique_users4)\n",
    "\n",
    "#user_bin4 = np.random.choice(unique_users_array4, size=users_per_partition, replace=False)\n",
    "\n",
    "#unique_users5 = [user for user in unique_users4 if user not in list(user_bin4)]\n",
    "#user_bin5 = np.array(unique_users5)"
   ]
  },
  {
   "cell_type": "code",
   "execution_count": 29,
   "id": "bcd77ba9-eb8e-466e-9f9f-c30ddf6d8d8a",
   "metadata": {},
   "outputs": [],
   "source": [
    "#print(len(user_bin1), len(user_bin2), len(user_bin3), len(user_bin4), len(user_bin5))"
   ]
  },
  {
   "cell_type": "code",
   "execution_count": 30,
   "id": "7c6749d1-1c14-4981-8059-4c04cfd315c3",
   "metadata": {},
   "outputs": [],
   "source": [
    "#os.mkdir(PATH + '/hit_rate_train_test_folds')"
   ]
  },
  {
   "cell_type": "code",
   "execution_count": 31,
   "id": "989de13a-6717-4e10-b613-4e79b4a49c96",
   "metadata": {},
   "outputs": [],
   "source": [
    "#train_hit_rate1 = df_ratings[~df_ratings['user_id'].isin(list(user_bin1))]\n",
    "#test_hit_rate1 = df_ratings[df_ratings['user_id'].isin(list(user_bin1))]\n",
    "\n",
    "#train_hit_rate2 = df_ratings[~df_ratings['user_id'].isin(list(user_bin2))]\n",
    "#test_hit_rate2 = df_ratings[df_ratings['user_id'].isin(list(user_bin2))]\n",
    "\n",
    "#train_hit_rate3 = df_ratings[~df_ratings['user_id'].isin(list(user_bin3))]\n",
    "#test_hit_rate3 = df_ratings[df_ratings['user_id'].isin(list(user_bin3))]\n",
    "\n",
    "#train_hit_rate4 = df_ratings[~df_ratings['user_id'].isin(list(user_bin4))]\n",
    "#test_hit_rate4 = df_ratings[df_ratings['user_id'].isin(list(user_bin4))]\n",
    "\n",
    "#train_hit_rate5 = df_ratings[~df_ratings['user_id'].isin(list(user_bin5))]\n",
    "#test_hit_rate5 = df_ratings[df_ratings['user_id'].isin(list(user_bin5))]"
   ]
  },
  {
   "cell_type": "code",
   "execution_count": 32,
   "id": "89b0086b-8ff0-4401-8c20-95780594b7ce",
   "metadata": {},
   "outputs": [],
   "source": [
    "#"
   ]
  },
  {
   "cell_type": "code",
   "execution_count": 33,
   "id": "776143f5-43a7-4f3b-9846-af022f74dd65",
   "metadata": {},
   "outputs": [],
   "source": [
    "#HIT_RATE_PATH = PATH + '/hit_rate_train_test_folds'\n",
    "\n",
    "#train_hit_rate1.to_csv(HIT_RATE_PATH + '/train_hit_rate1.csv')\n",
    "#test_hit_rate1.to_csv(HIT_RATE_PATH + '/test_hit_rate1.csv')\n",
    "\n",
    "#train_hit_rate2.to_csv(HIT_RATE_PATH + '/train_hit_rate2.csv')\n",
    "#test_hit_rate2.to_csv(HIT_RATE_PATH + '/test_hit_rate2.csv')\n",
    "\n",
    "#train_hit_rate3.to_csv(HIT_RATE_PATH + '/train_hit_rate3.csv')\n",
    "#test_hit_rate3.to_csv(HIT_RATE_PATH + '/test_hit_rate3.csv')\n",
    "\n",
    "#train_hit_rate4.to_csv(HIT_RATE_PATH + '/train_hit_rate4.csv')\n",
    "#test_hit_rate4.to_csv(HIT_RATE_PATH + '/test_hit_rate4.csv')\n",
    "\n",
    "#train_hit_rate5.to_csv(HIT_RATE_PATH + '/train_hit_rate5.csv')\n",
    "#test_hit_rate5.to_csv(HIT_RATE_PATH + '/test_hit_rate5.csv')"
   ]
  },
  {
   "cell_type": "code",
   "execution_count": 34,
   "id": "645195bb-7d2c-4354-a893-3fd377803d97",
   "metadata": {},
   "outputs": [],
   "source": [
    "with open(PATH + '/top_user_ratings.pkl', 'wb') as location:\n",
    "    pickle.dump(top_user_rating_dict, location)"
   ]
  },
  {
   "cell_type": "code",
   "execution_count": 35,
   "id": "f96a2747-81d3-444c-8c57-8813428e1ad8",
   "metadata": {},
   "outputs": [],
   "source": [
    "df_hit_rate = df_ratings.copy()"
   ]
  },
  {
   "cell_type": "code",
   "execution_count": 39,
   "id": "b9370ded-1ea7-4dbb-9e93-b7c2e207cf3d",
   "metadata": {},
   "outputs": [],
   "source": [
    "#def is_top(user_id):\n",
    "    #top_movie = top_user_rating_dict[user_id]\n",
    "    #if df_hit_rate['movie_id'].values == top_movie and df_hit_rate['user_id'].values == user_id:\n",
    "        #return 1\n",
    "    #else:\n",
    "        #return 0\n",
    "    "
   ]
  },
  {
   "cell_type": "code",
   "execution_count": 41,
   "id": "79fedb7f-f793-466b-9497-f181dad2a5c3",
   "metadata": {},
   "outputs": [
    {
     "data": {
      "text/html": [
       "<div>\n",
       "<style scoped>\n",
       "    .dataframe tbody tr th:only-of-type {\n",
       "        vertical-align: middle;\n",
       "    }\n",
       "\n",
       "    .dataframe tbody tr th {\n",
       "        vertical-align: top;\n",
       "    }\n",
       "\n",
       "    .dataframe thead th {\n",
       "        text-align: right;\n",
       "    }\n",
       "</style>\n",
       "<table border=\"1\" class=\"dataframe\">\n",
       "  <thead>\n",
       "    <tr style=\"text-align: right;\">\n",
       "      <th></th>\n",
       "      <th>user_id</th>\n",
       "      <th>rating</th>\n",
       "      <th>date</th>\n",
       "      <th>movie_id</th>\n",
       "      <th>top_rated</th>\n",
       "    </tr>\n",
       "  </thead>\n",
       "  <tbody>\n",
       "    <tr>\n",
       "      <th>0</th>\n",
       "      <td>841872</td>\n",
       "      <td>3.0</td>\n",
       "      <td>2003-03-21</td>\n",
       "      <td>6464</td>\n",
       "      <td>0</td>\n",
       "    </tr>\n",
       "    <tr>\n",
       "      <th>1</th>\n",
       "      <td>689085</td>\n",
       "      <td>2.0</td>\n",
       "      <td>2004-05-19</td>\n",
       "      <td>7590</td>\n",
       "      <td>0</td>\n",
       "    </tr>\n",
       "    <tr>\n",
       "      <th>2</th>\n",
       "      <td>2529854</td>\n",
       "      <td>4.0</td>\n",
       "      <td>2005-10-22</td>\n",
       "      <td>11837</td>\n",
       "      <td>0</td>\n",
       "    </tr>\n",
       "    <tr>\n",
       "      <th>3</th>\n",
       "      <td>2597445</td>\n",
       "      <td>4.0</td>\n",
       "      <td>2005-01-25</td>\n",
       "      <td>10886</td>\n",
       "      <td>0</td>\n",
       "    </tr>\n",
       "    <tr>\n",
       "      <th>4</th>\n",
       "      <td>2336656</td>\n",
       "      <td>3.0</td>\n",
       "      <td>2005-07-01</td>\n",
       "      <td>5522</td>\n",
       "      <td>0</td>\n",
       "    </tr>\n",
       "  </tbody>\n",
       "</table>\n",
       "</div>"
      ],
      "text/plain": [
       "   user_id  rating        date  movie_id  top_rated\n",
       "0   841872     3.0  2003-03-21      6464          0\n",
       "1   689085     2.0  2004-05-19      7590          0\n",
       "2  2529854     4.0  2005-10-22     11837          0\n",
       "3  2597445     4.0  2005-01-25     10886          0\n",
       "4  2336656     3.0  2005-07-01      5522          0"
      ]
     },
     "execution_count": 41,
     "metadata": {},
     "output_type": "execute_result"
    }
   ],
   "source": [
    "df_hit_rate['top_rated'] = 0\n",
    "#df_hit_rate.head()"
   ]
  },
  {
   "cell_type": "code",
   "execution_count": 45,
   "id": "437b4279-f759-4fbc-9153-5cee668f396e",
   "metadata": {},
   "outputs": [
    {
     "data": {
      "text/html": [
       "<div>\n",
       "<style scoped>\n",
       "    .dataframe tbody tr th:only-of-type {\n",
       "        vertical-align: middle;\n",
       "    }\n",
       "\n",
       "    .dataframe tbody tr th {\n",
       "        vertical-align: top;\n",
       "    }\n",
       "\n",
       "    .dataframe thead th {\n",
       "        text-align: right;\n",
       "    }\n",
       "</style>\n",
       "<table border=\"1\" class=\"dataframe\">\n",
       "  <thead>\n",
       "    <tr style=\"text-align: right;\">\n",
       "      <th></th>\n",
       "      <th>user_id</th>\n",
       "      <th>rating</th>\n",
       "      <th>date</th>\n",
       "      <th>movie_id</th>\n",
       "      <th>top_rated</th>\n",
       "    </tr>\n",
       "  </thead>\n",
       "  <tbody>\n",
       "    <tr>\n",
       "      <th>0</th>\n",
       "      <td>841872</td>\n",
       "      <td>3.0</td>\n",
       "      <td>2003-03-21</td>\n",
       "      <td>6464</td>\n",
       "      <td>0</td>\n",
       "    </tr>\n",
       "    <tr>\n",
       "      <th>1</th>\n",
       "      <td>689085</td>\n",
       "      <td>2.0</td>\n",
       "      <td>2004-05-19</td>\n",
       "      <td>7590</td>\n",
       "      <td>0</td>\n",
       "    </tr>\n",
       "    <tr>\n",
       "      <th>2</th>\n",
       "      <td>2529854</td>\n",
       "      <td>4.0</td>\n",
       "      <td>2005-10-22</td>\n",
       "      <td>11837</td>\n",
       "      <td>0</td>\n",
       "    </tr>\n",
       "    <tr>\n",
       "      <th>3</th>\n",
       "      <td>2597445</td>\n",
       "      <td>4.0</td>\n",
       "      <td>2005-01-25</td>\n",
       "      <td>10886</td>\n",
       "      <td>0</td>\n",
       "    </tr>\n",
       "    <tr>\n",
       "      <th>4</th>\n",
       "      <td>2336656</td>\n",
       "      <td>3.0</td>\n",
       "      <td>2005-07-01</td>\n",
       "      <td>5522</td>\n",
       "      <td>0</td>\n",
       "    </tr>\n",
       "  </tbody>\n",
       "</table>\n",
       "</div>"
      ],
      "text/plain": [
       "   user_id  rating        date  movie_id  top_rated\n",
       "0   841872     3.0  2003-03-21      6464          0\n",
       "1   689085     2.0  2004-05-19      7590          0\n",
       "2  2529854     4.0  2005-10-22     11837          0\n",
       "3  2597445     4.0  2005-01-25     10886          0\n",
       "4  2336656     3.0  2005-07-01      5522          0"
      ]
     },
     "execution_count": 45,
     "metadata": {},
     "output_type": "execute_result"
    }
   ],
   "source": [
    "#df_hit_rate.head()"
   ]
  },
  {
   "cell_type": "code",
   "execution_count": 46,
   "id": "a02ab5c3-39ab-4c3c-ba07-5588725b96bf",
   "metadata": {},
   "outputs": [],
   "source": [
    "for i, row in df_hit_rate.iterrows():\n",
    "    user = row['user_id']\n",
    "    top_movie = top_user_rating_dict[user]\n",
    "    if row['user_id'] == user and row['movie_id'] == top_movie:\n",
    "        df_hit_rate.loc[i, 'top_rated'] = 1\n",
    "    \n",
    "    "
   ]
  },
  {
   "cell_type": "code",
   "execution_count": 47,
   "id": "249dd6f3-fab6-4e66-9d1e-40dc56d87abc",
   "metadata": {},
   "outputs": [
    {
     "data": {
      "text/plain": [
       "0    4666444\n",
       "1     264059\n",
       "Name: top_rated, dtype: int64"
      ]
     },
     "execution_count": 47,
     "metadata": {},
     "output_type": "execute_result"
    }
   ],
   "source": [
    "#df_hit_rate['top_rated'].value_counts()"
   ]
  },
  {
   "cell_type": "code",
   "execution_count": 48,
   "id": "b7d729f2-bdfa-4346-a2c9-f206303b41f5",
   "metadata": {},
   "outputs": [
    {
     "data": {
      "text/plain": [
       "264059"
      ]
     },
     "execution_count": 48,
     "metadata": {},
     "output_type": "execute_result"
    }
   ],
   "source": [
    "#len(top_user_rating_dict)"
   ]
  },
  {
   "cell_type": "code",
   "execution_count": 49,
   "id": "9d91fa6f-774e-4b26-8845-a24ff51d85ff",
   "metadata": {},
   "outputs": [
    {
     "data": {
      "text/html": [
       "<div>\n",
       "<style scoped>\n",
       "    .dataframe tbody tr th:only-of-type {\n",
       "        vertical-align: middle;\n",
       "    }\n",
       "\n",
       "    .dataframe tbody tr th {\n",
       "        vertical-align: top;\n",
       "    }\n",
       "\n",
       "    .dataframe thead th {\n",
       "        text-align: right;\n",
       "    }\n",
       "</style>\n",
       "<table border=\"1\" class=\"dataframe\">\n",
       "  <thead>\n",
       "    <tr style=\"text-align: right;\">\n",
       "      <th></th>\n",
       "      <th>user_id</th>\n",
       "      <th>rating</th>\n",
       "      <th>date</th>\n",
       "      <th>movie_id</th>\n",
       "      <th>top_rated</th>\n",
       "    </tr>\n",
       "  </thead>\n",
       "  <tbody>\n",
       "    <tr>\n",
       "      <th>781211</th>\n",
       "      <td>250</td>\n",
       "      <td>5.0</td>\n",
       "      <td>2005-12-16</td>\n",
       "      <td>14313</td>\n",
       "      <td>1</td>\n",
       "    </tr>\n",
       "  </tbody>\n",
       "</table>\n",
       "</div>"
      ],
      "text/plain": [
       "        user_id  rating        date  movie_id  top_rated\n",
       "781211      250     5.0  2005-12-16     14313          1"
      ]
     },
     "execution_count": 49,
     "metadata": {},
     "output_type": "execute_result"
    }
   ],
   "source": [
    "#df_hit_rate[(df_hit_rate['user_id']==250)&(df_hit_rate['movie_id']==14313)]"
   ]
  },
  {
   "cell_type": "code",
   "execution_count": 50,
   "id": "b642e1a3-47b7-4725-8fe3-4a27a255fa04",
   "metadata": {},
   "outputs": [],
   "source": [
    "df_hit_rate_reduced = df_hit_rate[df_hit_rate['top_rated']==0]"
   ]
  },
  {
   "cell_type": "code",
   "execution_count": 51,
   "id": "0ea94a98-f36a-460a-9887-a21795126bed",
   "metadata": {},
   "outputs": [],
   "source": [
    "os.mkdir(PATH + '/hit_rate_train_test_folds')"
   ]
  },
  {
   "cell_type": "code",
   "execution_count": 52,
   "id": "35fba44d-62e0-4b48-b045-0411e76e9346",
   "metadata": {},
   "outputs": [],
   "source": [
    "HIT_RATE_PATH = PATH + '/hit_rate_train_test_folds'\n",
    "states = [100, 200, 300, 400, 500]\n",
    "\n",
    "for i, state in enumerate(states):\n",
    "    train_df, test_df = train_test_split(df_hit_rate_reduced, test_size=0.5, random_state=state)\n",
    "    train_df.to_csv(HIT_RATE_PATH + f'/train_df_hit_rate{i}.csv')\n",
    "    test_df.to_csv(HIT_RATE_PATH + f'/test_df_hit_rate{i}.csv')"
   ]
  },
  {
   "cell_type": "code",
   "execution_count": null,
   "id": "b3759d97-c0eb-433f-9ef2-7a87408d4c86",
   "metadata": {},
   "outputs": [],
   "source": []
  }
 ],
 "metadata": {
  "kernelspec": {
   "display_name": "Python 3",
   "language": "python",
   "name": "python3"
  },
  "language_info": {
   "codemirror_mode": {
    "name": "ipython",
    "version": 3
   },
   "file_extension": ".py",
   "mimetype": "text/x-python",
   "name": "python",
   "nbconvert_exporter": "python",
   "pygments_lexer": "ipython3",
   "version": "3.8.8"
  }
 },
 "nbformat": 4,
 "nbformat_minor": 5
}
