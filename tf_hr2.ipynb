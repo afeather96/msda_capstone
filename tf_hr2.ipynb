{
 "cells": [
  {
   "cell_type": "code",
   "execution_count": 1,
   "id": "4ab5e579-b0e7-4e44-be98-7ac2b39d12c1",
   "metadata": {},
   "outputs": [
    {
     "name": "stdout",
     "output_type": "stream",
     "text": [
      "\u001b[33mWARNING: Running pip as the 'root' user can result in broken permissions and conflicting behaviour with the system package manager. It is recommended to use a virtual environment instead: https://pip.pypa.io/warnings/venv\u001b[0m\u001b[33m\n",
      "\u001b[0m"
     ]
    }
   ],
   "source": [
    "!pip install -q tensorflow-recommenders"
   ]
  },
  {
   "cell_type": "code",
   "execution_count": 33,
   "id": "5c3699c4-8920-4441-8cf5-fb44389cd17a",
   "metadata": {},
   "outputs": [],
   "source": [
    "import pandas as pd\n",
    "import numpy as np\n",
    "import matplotlib.pyplot as plt\n",
    "import seaborn as sns\n",
    "from collections import deque\n",
    "#from surprise import Dataset, NormalPredictor, Reader\n",
    "#from surprise.model_selection import cross_validate\n",
    "import os\n",
    "from sklearn.model_selection import train_test_split\n",
    "import pickle\n",
    "#from surprise import accuracy\n",
    "#from surprise import accuracy, Dataset, Reader, SVD, KNNBaseline\n",
    "#from surprise.model_selection import PredefinedKFold\n",
    "import pprint\n",
    "import tempfile\n",
    "from typing import Dict, Text\n",
    "import tensorflow as tf\n",
    "import tensorflow_recommenders as tfrs\n",
    "from collections import defaultdict\n",
    "import joblib"
   ]
  },
  {
   "cell_type": "code",
   "execution_count": 21,
   "id": "56e5cb46-c6b4-42dd-8776-bf9108bd72c2",
   "metadata": {},
   "outputs": [],
   "source": [
    "train_hr0 = pd.read_csv('rmse/hit_rate_folds_actual/train_hr0.csv', header=None)\n",
    "test_hr0 = pd.read_csv('rmse/hit_rate_folds_actual/test_hr0.csv', header=None)"
   ]
  },
  {
   "cell_type": "code",
   "execution_count": 23,
   "id": "44660747-a314-4324-94a0-1c8457ea2b53",
   "metadata": {},
   "outputs": [
    {
     "data": {
      "text/html": [
       "<div>\n",
       "<style scoped>\n",
       "    .dataframe tbody tr th:only-of-type {\n",
       "        vertical-align: middle;\n",
       "    }\n",
       "\n",
       "    .dataframe tbody tr th {\n",
       "        vertical-align: top;\n",
       "    }\n",
       "\n",
       "    .dataframe thead th {\n",
       "        text-align: right;\n",
       "    }\n",
       "</style>\n",
       "<table border=\"1\" class=\"dataframe\">\n",
       "  <thead>\n",
       "    <tr style=\"text-align: right;\">\n",
       "      <th></th>\n",
       "      <th>0</th>\n",
       "      <th>1</th>\n",
       "      <th>2</th>\n",
       "    </tr>\n",
       "  </thead>\n",
       "  <tbody>\n",
       "    <tr>\n",
       "      <th>0</th>\n",
       "      <td>826574</td>\n",
       "      <td>9729</td>\n",
       "      <td>4.0</td>\n",
       "    </tr>\n",
       "    <tr>\n",
       "      <th>1</th>\n",
       "      <td>2200645</td>\n",
       "      <td>1719</td>\n",
       "      <td>4.0</td>\n",
       "    </tr>\n",
       "    <tr>\n",
       "      <th>2</th>\n",
       "      <td>2150434</td>\n",
       "      <td>5356</td>\n",
       "      <td>5.0</td>\n",
       "    </tr>\n",
       "    <tr>\n",
       "      <th>3</th>\n",
       "      <td>2142065</td>\n",
       "      <td>8753</td>\n",
       "      <td>3.0</td>\n",
       "    </tr>\n",
       "    <tr>\n",
       "      <th>4</th>\n",
       "      <td>867086</td>\n",
       "      <td>6721</td>\n",
       "      <td>4.0</td>\n",
       "    </tr>\n",
       "  </tbody>\n",
       "</table>\n",
       "</div>"
      ],
      "text/plain": [
       "         0     1    2\n",
       "0   826574  9729  4.0\n",
       "1  2200645  1719  4.0\n",
       "2  2150434  5356  5.0\n",
       "3  2142065  8753  3.0\n",
       "4   867086  6721  4.0"
      ]
     },
     "execution_count": 23,
     "metadata": {},
     "output_type": "execute_result"
    }
   ],
   "source": [
    "train_hr0.head()"
   ]
  },
  {
   "cell_type": "code",
   "execution_count": 24,
   "id": "e06e0065-1a2a-4651-a86a-27baed7407da",
   "metadata": {},
   "outputs": [],
   "source": [
    "train_hr0.columns = ['user_id', 'movie_id', 'rating']\n",
    "test_hr0.columns = ['user_id', 'movie_id', 'rating']"
   ]
  },
  {
   "cell_type": "code",
   "execution_count": 25,
   "id": "3041cf36-e3e4-4e5a-8a58-f4cbb7a33d68",
   "metadata": {},
   "outputs": [],
   "source": [
    "train_movie_ids = list(train_hr0['movie_id'].unique())\n",
    "train_user_ids = list(train_hr0['user_id'].unique())"
   ]
  },
  {
   "cell_type": "code",
   "execution_count": 26,
   "id": "29bc5c0e-3b72-4a0d-a123-90cac5e2e01f",
   "metadata": {},
   "outputs": [],
   "source": [
    "class DeepRecRmseModel(tf.keras.Model):\n",
    "    \n",
    "    def __init__(self):\n",
    "        super().__init__()\n",
    "        embedding_dimension = 16\n",
    "        \n",
    "        self.user_embeddings = tf.keras.Sequential([\n",
    "            tf.keras.layers.IntegerLookup(vocabulary=train_user_ids, mask_token=None),\n",
    "            tf.keras.layers.Embedding(len(train_user_ids)+1, embedding_dimension)\n",
    "        ])\n",
    "        \n",
    "        self.movie_embeddings = tf.keras.Sequential([\n",
    "            tf.keras.layers.IntegerLookup(vocabulary=train_movie_ids, mask_token=None),\n",
    "            tf.keras.layers.Embedding(len(train_movie_ids)+1, embedding_dimension)\n",
    "        ])\n",
    "        \n",
    "        self.ratings = tf.keras.Sequential([\n",
    "            tf.keras.layers.Dense(32, activation='relu'),\n",
    "            tf.keras.layers.Dense(16, activation='relu'),\n",
    "            tf.keras.layers.Dense(1)\n",
    "        ])\n",
    "        \n",
    "    def call(self, inputs):\n",
    "        user_id, movie_id = inputs\n",
    "        user_embedding = self.user_embeddings(user_id)\n",
    "        movie_embedding = self.movie_embeddings(movie_id)\n",
    "        return self.ratings(tf.concat([user_embedding, movie_embedding], axis=1))\n",
    "    \n",
    "    "
   ]
  },
  {
   "cell_type": "code",
   "execution_count": 27,
   "id": "30364068-adaf-477f-a6e5-8c9dd8c4c0ae",
   "metadata": {},
   "outputs": [],
   "source": [
    "class NetflixRmseModel(tfrs.models.Model):\n",
    "    \n",
    "    def __init__(self):\n",
    "        super().__init__()\n",
    "        self.rmse_model: tf.keras.Model = DeepRecRmseModel()\n",
    "        self.task: tf.keras.layers.Layer = tfrs.tasks.Ranking(loss=tf.keras.losses.MeanSquaredError(),\n",
    "                                                             metrics=[tf.keras.metrics.RootMeanSquaredError()])\n",
    "        \n",
    "    def call(self, features: Dict[str, tf.Tensor]) -> tf.Tensor:\n",
    "        return self.rmse_model((features['user_id'], features['movie_id']))\n",
    "    \n",
    "    def compute_loss(self, features: Dict[Text, tf.Tensor], training=False) -> tf.Tensor:\n",
    "        labels = features.pop('rating')\n",
    "        predicted_ratings = self(features)\n",
    "        return self.task(labels=labels, predictions=predicted_ratings)"
   ]
  },
  {
   "cell_type": "code",
   "execution_count": 8,
   "id": "8fcc2555-012b-4785-b130-d0ca15f918bc",
   "metadata": {},
   "outputs": [],
   "source": [
    "#deep_baseline_model = NetflixRmseModel()\n",
    "#deep_baseline_model.compile(optimizer=tf.keras.optimizers.Adagrad(learning_rate=0.1))"
   ]
  },
  {
   "cell_type": "code",
   "execution_count": 10,
   "id": "5251a37b-2e32-44d4-be89-d5bdbdc3f699",
   "metadata": {},
   "outputs": [],
   "source": [
    "#train_hr0_tf = tf.data.Dataset.from_tensor_slices(dict(train_hr0))\n",
    "#test_hr0_tf = tf.data.Dataset.from_tensor_slices(dict(test_hr0))"
   ]
  },
  {
   "cell_type": "code",
   "execution_count": 11,
   "id": "d75d9842-e952-4816-bbb3-552013450f09",
   "metadata": {},
   "outputs": [],
   "source": [
    "train_hr0_tf = train_hr0_tf.map(lambda x: {'user_id': x['user_id'],\n",
    "  #  'movie_id': x['movie_id'],\n",
    "  #  'rating': x['rating']\n",
    "#})\n",
    "\n",
    "test_hr0_tf = test_hr0_tf.map(lambda x: {'user_id': x['user_id'],\n",
    "    'movie_id': x['movie_id'],\n",
    "    'rating': x['rating']\n",
    "})"
   ]
  },
  {
   "cell_type": "code",
   "execution_count": 12,
   "id": "4b6d67f9-ac77-40e1-99c6-9c998ac44b6f",
   "metadata": {},
   "outputs": [],
   "source": [
    "#train_hr0_tf = train_hr0_tf.batch(8192).cache()\n",
    "test_hr0_tf = test_hr0_tf.batch(8192).cache()"
   ]
  },
  {
   "cell_type": "code",
   "execution_count": 13,
   "id": "5716ed00-0653-4697-9534-760385429acc",
   "metadata": {},
   "outputs": [
    {
     "name": "stdout",
     "output_type": "stream",
     "text": [
      "Epoch 1/10\n",
      "285/285 [==============================] - 83s 265ms/step - root_mean_squared_error: 1.1055 - loss: 1.2216 - regularization_loss: 0.0000e+00 - total_loss: 1.2216\n",
      "Epoch 2/10\n",
      "285/285 [==============================] - 67s 236ms/step - root_mean_squared_error: 1.0381 - loss: 1.0777 - regularization_loss: 0.0000e+00 - total_loss: 1.0777\n",
      "Epoch 3/10\n",
      "285/285 [==============================] - 66s 233ms/step - root_mean_squared_error: 1.0332 - loss: 1.0675 - regularization_loss: 0.0000e+00 - total_loss: 1.0675\n",
      "Epoch 4/10\n",
      "285/285 [==============================] - 68s 238ms/step - root_mean_squared_error: 1.0305 - loss: 1.0619 - regularization_loss: 0.0000e+00 - total_loss: 1.0619\n",
      "Epoch 5/10\n",
      "285/285 [==============================] - 68s 237ms/step - root_mean_squared_error: 1.0285 - loss: 1.0578 - regularization_loss: 0.0000e+00 - total_loss: 1.0578\n",
      "Epoch 6/10\n",
      "285/285 [==============================] - 68s 239ms/step - root_mean_squared_error: 1.0269 - loss: 1.0544 - regularization_loss: 0.0000e+00 - total_loss: 1.0544\n",
      "Epoch 7/10\n",
      "285/285 [==============================] - 68s 240ms/step - root_mean_squared_error: 1.0252 - loss: 1.0509 - regularization_loss: 0.0000e+00 - total_loss: 1.0509\n",
      "Epoch 8/10\n",
      "285/285 [==============================] - 68s 240ms/step - root_mean_squared_error: 1.0232 - loss: 1.0469 - regularization_loss: 0.0000e+00 - total_loss: 1.0469\n",
      "Epoch 9/10\n",
      "285/285 [==============================] - 67s 234ms/step - root_mean_squared_error: 1.0207 - loss: 1.0417 - regularization_loss: 0.0000e+00 - total_loss: 1.0417\n",
      "Epoch 10/10\n",
      "285/285 [==============================] - 67s 236ms/step - root_mean_squared_error: 1.0172 - loss: 1.0346 - regularization_loss: 0.0000e+00 - total_loss: 1.0346\n"
     ]
    }
   ],
   "source": [
    "#history_baseline = deep_baseline_model.fit(train_hr0_tf, epochs=10)"
   ]
  },
  {
   "cell_type": "code",
   "execution_count": 14,
   "id": "64aba3dd-052a-4825-96c6-a8a40b7fdbb7",
   "metadata": {},
   "outputs": [],
   "source": [
    "#deep_baseline_model2 = NetflixRmseModel()\n",
    "#deep_baseline_model2.compile(optimizer=tf.keras.optimizers.Adagrad(learning_rate=0.1))"
   ]
  },
  {
   "cell_type": "code",
   "execution_count": 15,
   "id": "c13cf132-1289-471a-936e-7f42463261a5",
   "metadata": {},
   "outputs": [
    {
     "name": "stdout",
     "output_type": "stream",
     "text": [
      "Epoch 1/10\n",
      "285/285 [==============================] - 81s 267ms/step - root_mean_squared_error: 1.0986 - loss: 1.2064 - regularization_loss: 0.0000e+00 - total_loss: 1.2064\n",
      "Epoch 2/10\n",
      "285/285 [==============================] - 66s 232ms/step - root_mean_squared_error: 1.0368 - loss: 1.0750 - regularization_loss: 0.0000e+00 - total_loss: 1.0750\n",
      "Epoch 3/10\n",
      "285/285 [==============================] - 67s 235ms/step - root_mean_squared_error: 1.0322 - loss: 1.0654 - regularization_loss: 0.0000e+00 - total_loss: 1.0654\n",
      "Epoch 4/10\n",
      "285/285 [==============================] - 66s 233ms/step - root_mean_squared_error: 1.0297 - loss: 1.0603 - regularization_loss: 0.0000e+00 - total_loss: 1.0603\n",
      "Epoch 5/10\n",
      "285/285 [==============================] - 66s 231ms/step - root_mean_squared_error: 1.0280 - loss: 1.0568 - regularization_loss: 0.0000e+00 - total_loss: 1.0568\n",
      "Epoch 6/10\n",
      "285/285 [==============================] - 68s 237ms/step - root_mean_squared_error: 1.0268 - loss: 1.0543 - regularization_loss: 0.0000e+00 - total_loss: 1.0543\n",
      "Epoch 7/10\n",
      "285/285 [==============================] - 67s 236ms/step - root_mean_squared_error: 1.0257 - loss: 1.0522 - regularization_loss: 0.0000e+00 - total_loss: 1.0522\n",
      "Epoch 8/10\n",
      "285/285 [==============================] - 67s 235ms/step - root_mean_squared_error: 1.0248 - loss: 1.0503 - regularization_loss: 0.0000e+00 - total_loss: 1.0503\n",
      "Epoch 9/10\n",
      "285/285 [==============================] - 66s 233ms/step - root_mean_squared_error: 1.0238 - loss: 1.0482 - regularization_loss: 0.0000e+00 - total_loss: 1.0482\n",
      "Epoch 10/10\n",
      "285/285 [==============================] - 66s 233ms/step - root_mean_squared_error: 1.0226 - loss: 1.0458 - regularization_loss: 0.0000e+00 - total_loss: 1.0458\n"
     ]
    }
   ],
   "source": [
    "#history_baseline2 = deep_baseline_model2.fit(test_hr0_tf, epochs=10)"
   ]
  },
  {
   "cell_type": "code",
   "execution_count": 19,
   "id": "8be55260-0d1f-4a25-afd5-48ef82d1e8f2",
   "metadata": {},
   "outputs": [],
   "source": [
    "#predictions_1a = defaultdict(list)\n",
    "\n",
    "#for i, row in test_hr0.iterrows():\n",
    "    #user = row['user_id']\n",
    "   # movie = row['movie_id']\n",
    "   # predicted_rating = deep_baseline_model({'user_id': np.array([user]),\n",
    "                                           #'movie_id': np.array([movie])})\n",
    "   # predictions_1a[user].append((movie, predicted_rating[0][0]))"
   ]
  },
  {
   "cell_type": "code",
   "execution_count": null,
   "id": "cffaff78-8930-4dca-8028-b4f8c3673f2d",
   "metadata": {},
   "outputs": [],
   "source": [
    "predictions_1b = defaultdict(list)\n",
    "\n",
    "for i, row in train_hr0.iterrows():\n",
    "    user = row['user_id']\n",
    "    movie = row['movie_id']\n",
    "    predicted_rating = deep_baseline_model2({'user_id': np.array([user]),\n",
    "                                           'movie_id': np.array([movie])})\n",
    "    predictions_1b[user].append((movie, predicted_rating[0][0]))"
   ]
  },
  {
   "cell_type": "code",
   "execution_count": null,
   "id": "a3da9a3f-66b4-45bb-a583-7311d99145ef",
   "metadata": {},
   "outputs": [],
   "source": [
    "for user_id, user_ratings in predictions_1a.items():\n",
    "    user_ratings.sort(key=lambda x: x[1], reverse=True)\n",
    "    predictions_1a[user_id] = user_ratings[:100]"
   ]
  },
  {
   "cell_type": "code",
   "execution_count": null,
   "id": "d3fb5ccd-f663-4b00-a573-bc98781349ef",
   "metadata": {},
   "outputs": [],
   "source": [
    "for user_id, user_ratings in predictions_1b.items():\n",
    "    user_ratings.sort(key=lambda x: x[1], reverse=True)\n",
    "    predictions_1b[user_id] = user_ratings[:100]"
   ]
  },
  {
   "cell_type": "code",
   "execution_count": 29,
   "id": "26b85b3b-e62e-42d5-a4fe-c7d626598c22",
   "metadata": {},
   "outputs": [
    {
     "data": {
      "text/html": [
       "<div>\n",
       "<style scoped>\n",
       "    .dataframe tbody tr th:only-of-type {\n",
       "        vertical-align: middle;\n",
       "    }\n",
       "\n",
       "    .dataframe tbody tr th {\n",
       "        vertical-align: top;\n",
       "    }\n",
       "\n",
       "    .dataframe thead th {\n",
       "        text-align: right;\n",
       "    }\n",
       "</style>\n",
       "<table border=\"1\" class=\"dataframe\">\n",
       "  <thead>\n",
       "    <tr style=\"text-align: right;\">\n",
       "      <th></th>\n",
       "      <th>user_id</th>\n",
       "      <th>movie_id</th>\n",
       "      <th>rating</th>\n",
       "    </tr>\n",
       "  </thead>\n",
       "  <tbody>\n",
       "    <tr>\n",
       "      <th>0</th>\n",
       "      <td>841872</td>\n",
       "      <td>14454</td>\n",
       "      <td>5.0</td>\n",
       "    </tr>\n",
       "    <tr>\n",
       "      <th>1</th>\n",
       "      <td>689085</td>\n",
       "      <td>299</td>\n",
       "      <td>5.0</td>\n",
       "    </tr>\n",
       "    <tr>\n",
       "      <th>2</th>\n",
       "      <td>2529854</td>\n",
       "      <td>11165</td>\n",
       "      <td>5.0</td>\n",
       "    </tr>\n",
       "    <tr>\n",
       "      <th>3</th>\n",
       "      <td>2597445</td>\n",
       "      <td>10886</td>\n",
       "      <td>4.0</td>\n",
       "    </tr>\n",
       "    <tr>\n",
       "      <th>4</th>\n",
       "      <td>2336656</td>\n",
       "      <td>3282</td>\n",
       "      <td>5.0</td>\n",
       "    </tr>\n",
       "  </tbody>\n",
       "</table>\n",
       "</div>"
      ],
      "text/plain": [
       "   user_id  movie_id  rating\n",
       "0   841872     14454     5.0\n",
       "1   689085       299     5.0\n",
       "2  2529854     11165     5.0\n",
       "3  2597445     10886     4.0\n",
       "4  2336656      3282     5.0"
      ]
     },
     "execution_count": 29,
     "metadata": {},
     "output_type": "execute_result"
    }
   ],
   "source": [
    "top_ratings_df = pd.read_csv('rmse/top_ratings_df.csv')\n",
    "top_ratings_df.head()"
   ]
  },
  {
   "cell_type": "code",
   "execution_count": null,
   "id": "56b4c3bd-62d9-45f7-bd5a-fa52add5de73",
   "metadata": {},
   "outputs": [],
   "source": [
    "num_users = 0\n",
    "hits = 0\n",
    "\n",
    "for user_id in predictions_1a.keys():\n",
    "    top_movie = top_ratings_df[top_ratings_df['user_id']==user_id]['movie_id']\n",
    "    num_users += 1\n",
    "    num_recs = len(predictions_1a[user_id])\n",
    "    top_number = int(num_recs*0.25)\n",
    "    boundary_for_user = [rec[1] for rec in predictions_1a[user_id]][top_number]\n",
    "    pred_top_movie = deep_baseline_model({'user_id': np.array([user_id]),\n",
    "                                         'movie_id': np.array([top_movie])})\n",
    "    if pred_top_movie[0][0] > boundary_for_user:\n",
    "        hits += 1\n",
    "        \n",
    "hit_rate_1a = hits / num_users\n",
    "print(hit_rate_1a)"
   ]
  },
  {
   "cell_type": "code",
   "execution_count": null,
   "id": "0149b964-319f-4b9b-acfa-83c5e63136a9",
   "metadata": {},
   "outputs": [],
   "source": [
    "num_users = 0\n",
    "hits = 0\n",
    "\n",
    "for user_id in predictions_1b.keys():\n",
    "    top_movie = top_ratings_df[top_ratings_df['user_id']==user_id]['movie_id']\n",
    "    num_users += 1\n",
    "    num_recs = len(predictions_1b[user_id])\n",
    "    top_number = int(num_recs*0.25)\n",
    "    boundary_for_user = [rec[1] for rec in predictions_1b[user_id]][top_number]\n",
    "    pred_top_movie = deep_baseline_model2({'user_id': np.array([user_id]),\n",
    "                                         'movie_id': np.array([top_movie])})\n",
    "    if pred_top_movie[0][0] > boundary_for_user:\n",
    "        hits += 1\n",
    "        \n",
    "hit_rate_1b = hits / num_users\n",
    "print(hit_rate_1b)"
   ]
  },
  {
   "cell_type": "code",
   "execution_count": 32,
   "id": "5c8bf4cb-b797-4d23-a34d-6c4bdff0768d",
   "metadata": {},
   "outputs": [
    {
     "name": "stdout",
     "output_type": "stream",
     "text": [
      "Training fold 0a\n",
      "Epoch 1/10\n",
      "285/285 [==============================] - 78s 257ms/step - root_mean_squared_error: 1.1092 - loss: 1.2297 - regularization_loss: 0.0000e+00 - total_loss: 1.2297\n",
      "Epoch 2/10\n",
      "285/285 [==============================] - 66s 232ms/step - root_mean_squared_error: 1.0383 - loss: 1.0780 - regularization_loss: 0.0000e+00 - total_loss: 1.0780\n",
      "Epoch 3/10\n",
      "285/285 [==============================] - 67s 234ms/step - root_mean_squared_error: 1.0334 - loss: 1.0679 - regularization_loss: 0.0000e+00 - total_loss: 1.0679\n",
      "Epoch 4/10\n",
      "285/285 [==============================] - 66s 232ms/step - root_mean_squared_error: 1.0308 - loss: 1.0626 - regularization_loss: 0.0000e+00 - total_loss: 1.0626\n",
      "Epoch 5/10\n",
      "285/285 [==============================] - 66s 232ms/step - root_mean_squared_error: 1.0291 - loss: 1.0590 - regularization_loss: 0.0000e+00 - total_loss: 1.0590\n",
      "Epoch 6/10\n",
      "285/285 [==============================] - 67s 234ms/step - root_mean_squared_error: 1.0277 - loss: 1.0561 - regularization_loss: 0.0000e+00 - total_loss: 1.0561\n",
      "Epoch 7/10\n",
      "285/285 [==============================] - 66s 232ms/step - root_mean_squared_error: 1.0265 - loss: 1.0536 - regularization_loss: 0.0000e+00 - total_loss: 1.0536\n",
      "Epoch 8/10\n",
      "285/285 [==============================] - 68s 237ms/step - root_mean_squared_error: 1.0252 - loss: 1.0510 - regularization_loss: 0.0000e+00 - total_loss: 1.0510\n",
      "Epoch 9/10\n",
      "285/285 [==============================] - 66s 231ms/step - root_mean_squared_error: 1.0238 - loss: 1.0481 - regularization_loss: 0.0000e+00 - total_loss: 1.0481\n",
      "Epoch 10/10\n",
      "285/285 [==============================] - 68s 238ms/step - root_mean_squared_error: 1.0220 - loss: 1.0444 - regularization_loss: 0.0000e+00 - total_loss: 1.0444\n",
      "Training fold 0b\n",
      "Epoch 1/10\n",
      "285/285 [==============================] - 78s 256ms/step - root_mean_squared_error: 1.1041 - loss: 1.2186 - regularization_loss: 0.0000e+00 - total_loss: 1.2186\n",
      "Epoch 2/10\n",
      "285/285 [==============================] - 66s 232ms/step - root_mean_squared_error: 1.0375 - loss: 1.0765 - regularization_loss: 0.0000e+00 - total_loss: 1.0765\n",
      "Epoch 3/10\n",
      "285/285 [==============================] - 66s 232ms/step - root_mean_squared_error: 1.0325 - loss: 1.0662 - regularization_loss: 0.0000e+00 - total_loss: 1.0662\n",
      "Epoch 4/10\n",
      "285/285 [==============================] - 68s 237ms/step - root_mean_squared_error: 1.0298 - loss: 1.0606 - regularization_loss: 0.0000e+00 - total_loss: 1.0606\n",
      "Epoch 5/10\n",
      "285/285 [==============================] - 66s 231ms/step - root_mean_squared_error: 1.0280 - loss: 1.0568 - regularization_loss: 0.0000e+00 - total_loss: 1.0568\n",
      "Epoch 6/10\n",
      "285/285 [==============================] - 67s 235ms/step - root_mean_squared_error: 1.0265 - loss: 1.0537 - regularization_loss: 0.0000e+00 - total_loss: 1.0537\n",
      "Epoch 7/10\n",
      "285/285 [==============================] - 66s 232ms/step - root_mean_squared_error: 1.0251 - loss: 1.0508 - regularization_loss: 0.0000e+00 - total_loss: 1.0508\n",
      "Epoch 8/10\n",
      "285/285 [==============================] - 67s 233ms/step - root_mean_squared_error: 1.0235 - loss: 1.0477 - regularization_loss: 0.0000e+00 - total_loss: 1.0477\n",
      "Epoch 9/10\n",
      "285/285 [==============================] - 68s 237ms/step - root_mean_squared_error: 1.0216 - loss: 1.0438 - regularization_loss: 0.0000e+00 - total_loss: 1.0438\n",
      "Epoch 10/10\n",
      "285/285 [==============================] - 69s 243ms/step - root_mean_squared_error: 1.0191 - loss: 1.0386 - regularization_loss: 0.0000e+00 - total_loss: 1.0386\n",
      "Iterating through first dataframe\n"
     ]
    },
    {
     "ename": "KeyboardInterrupt",
     "evalue": "",
     "output_type": "error",
     "traceback": [
      "\u001b[0;31m---------------------------------------------------------------------------\u001b[0m",
      "\u001b[0;31mKeyboardInterrupt\u001b[0m                         Traceback (most recent call last)",
      "Input \u001b[0;32mIn [32]\u001b[0m, in \u001b[0;36m<cell line: 6>\u001b[0;34m()\u001b[0m\n\u001b[1;32m     50\u001b[0m     user \u001b[38;5;241m=\u001b[39m row[\u001b[38;5;124m'\u001b[39m\u001b[38;5;124muser_id\u001b[39m\u001b[38;5;124m'\u001b[39m]\n\u001b[1;32m     51\u001b[0m     movie \u001b[38;5;241m=\u001b[39m row[\u001b[38;5;124m'\u001b[39m\u001b[38;5;124mmovie_id\u001b[39m\u001b[38;5;124m'\u001b[39m]\n\u001b[0;32m---> 52\u001b[0m     predicted_rating \u001b[38;5;241m=\u001b[39m \u001b[43mdeep_model1\u001b[49m\u001b[43m(\u001b[49m\u001b[43m{\u001b[49m\u001b[38;5;124;43m'\u001b[39;49m\u001b[38;5;124;43muser_id\u001b[39;49m\u001b[38;5;124;43m'\u001b[39;49m\u001b[43m:\u001b[49m\u001b[43m \u001b[49m\u001b[43mnp\u001b[49m\u001b[38;5;241;43m.\u001b[39;49m\u001b[43marray\u001b[49m\u001b[43m(\u001b[49m\u001b[43m[\u001b[49m\u001b[43muser\u001b[49m\u001b[43m]\u001b[49m\u001b[43m)\u001b[49m\u001b[43m,\u001b[49m\n\u001b[1;32m     53\u001b[0m \u001b[43m                                       \u001b[49m\u001b[38;5;124;43m'\u001b[39;49m\u001b[38;5;124;43mmovie_id\u001b[39;49m\u001b[38;5;124;43m'\u001b[39;49m\u001b[43m:\u001b[49m\u001b[43m \u001b[49m\u001b[43mnp\u001b[49m\u001b[38;5;241;43m.\u001b[39;49m\u001b[43marray\u001b[49m\u001b[43m(\u001b[49m\u001b[43m[\u001b[49m\u001b[43mmovie\u001b[49m\u001b[43m]\u001b[49m\u001b[43m)\u001b[49m\u001b[43m}\u001b[49m\u001b[43m)\u001b[49m\n\u001b[1;32m     54\u001b[0m     predictions_1a[user]\u001b[38;5;241m.\u001b[39mappend((movie, predicted_rating[\u001b[38;5;241m0\u001b[39m][\u001b[38;5;241m0\u001b[39m]))\n\u001b[1;32m     56\u001b[0m \u001b[38;5;28;01mfor\u001b[39;00m user_id, user_ratings \u001b[38;5;129;01min\u001b[39;00m predictions_1a\u001b[38;5;241m.\u001b[39mitems():\n",
      "File \u001b[0;32m/usr/local/lib/python3.9/dist-packages/keras/utils/traceback_utils.py:64\u001b[0m, in \u001b[0;36mfilter_traceback.<locals>.error_handler\u001b[0;34m(*args, **kwargs)\u001b[0m\n\u001b[1;32m     62\u001b[0m filtered_tb \u001b[38;5;241m=\u001b[39m \u001b[38;5;28;01mNone\u001b[39;00m\n\u001b[1;32m     63\u001b[0m \u001b[38;5;28;01mtry\u001b[39;00m:\n\u001b[0;32m---> 64\u001b[0m   \u001b[38;5;28;01mreturn\u001b[39;00m \u001b[43mfn\u001b[49m\u001b[43m(\u001b[49m\u001b[38;5;241;43m*\u001b[39;49m\u001b[43margs\u001b[49m\u001b[43m,\u001b[49m\u001b[43m \u001b[49m\u001b[38;5;241;43m*\u001b[39;49m\u001b[38;5;241;43m*\u001b[39;49m\u001b[43mkwargs\u001b[49m\u001b[43m)\u001b[49m\n\u001b[1;32m     65\u001b[0m \u001b[38;5;28;01mexcept\u001b[39;00m \u001b[38;5;167;01mException\u001b[39;00m \u001b[38;5;28;01mas\u001b[39;00m e:  \u001b[38;5;66;03m# pylint: disable=broad-except\u001b[39;00m\n\u001b[1;32m     66\u001b[0m   filtered_tb \u001b[38;5;241m=\u001b[39m _process_traceback_frames(e\u001b[38;5;241m.\u001b[39m__traceback__)\n",
      "File \u001b[0;32m/usr/local/lib/python3.9/dist-packages/keras/engine/training.py:490\u001b[0m, in \u001b[0;36mModel.__call__\u001b[0;34m(self, *args, **kwargs)\u001b[0m\n\u001b[1;32m    486\u001b[0m     \u001b[38;5;28msuper\u001b[39m()\u001b[38;5;241m.\u001b[39m\u001b[38;5;21m__call__\u001b[39m(inputs, \u001b[38;5;241m*\u001b[39mcopied_args, \u001b[38;5;241m*\u001b[39m\u001b[38;5;241m*\u001b[39mcopied_kwargs)\n\u001b[1;32m    488\u001b[0m   layout_map_lib\u001b[38;5;241m.\u001b[39m_map_subclass_model_variable(\u001b[38;5;28mself\u001b[39m, \u001b[38;5;28mself\u001b[39m\u001b[38;5;241m.\u001b[39m_layout_map)\n\u001b[0;32m--> 490\u001b[0m \u001b[38;5;28;01mreturn\u001b[39;00m \u001b[38;5;28;43msuper\u001b[39;49m\u001b[43m(\u001b[49m\u001b[43m)\u001b[49m\u001b[38;5;241;43m.\u001b[39;49m\u001b[38;5;21;43m__call__\u001b[39;49m\u001b[43m(\u001b[49m\u001b[38;5;241;43m*\u001b[39;49m\u001b[43margs\u001b[49m\u001b[43m,\u001b[49m\u001b[43m \u001b[49m\u001b[38;5;241;43m*\u001b[39;49m\u001b[38;5;241;43m*\u001b[39;49m\u001b[43mkwargs\u001b[49m\u001b[43m)\u001b[49m\n",
      "File \u001b[0;32m/usr/local/lib/python3.9/dist-packages/keras/utils/traceback_utils.py:64\u001b[0m, in \u001b[0;36mfilter_traceback.<locals>.error_handler\u001b[0;34m(*args, **kwargs)\u001b[0m\n\u001b[1;32m     62\u001b[0m filtered_tb \u001b[38;5;241m=\u001b[39m \u001b[38;5;28;01mNone\u001b[39;00m\n\u001b[1;32m     63\u001b[0m \u001b[38;5;28;01mtry\u001b[39;00m:\n\u001b[0;32m---> 64\u001b[0m   \u001b[38;5;28;01mreturn\u001b[39;00m \u001b[43mfn\u001b[49m\u001b[43m(\u001b[49m\u001b[38;5;241;43m*\u001b[39;49m\u001b[43margs\u001b[49m\u001b[43m,\u001b[49m\u001b[43m \u001b[49m\u001b[38;5;241;43m*\u001b[39;49m\u001b[38;5;241;43m*\u001b[39;49m\u001b[43mkwargs\u001b[49m\u001b[43m)\u001b[49m\n\u001b[1;32m     65\u001b[0m \u001b[38;5;28;01mexcept\u001b[39;00m \u001b[38;5;167;01mException\u001b[39;00m \u001b[38;5;28;01mas\u001b[39;00m e:  \u001b[38;5;66;03m# pylint: disable=broad-except\u001b[39;00m\n\u001b[1;32m     66\u001b[0m   filtered_tb \u001b[38;5;241m=\u001b[39m _process_traceback_frames(e\u001b[38;5;241m.\u001b[39m__traceback__)\n",
      "File \u001b[0;32m/usr/local/lib/python3.9/dist-packages/keras/engine/base_layer.py:979\u001b[0m, in \u001b[0;36mLayer.__call__\u001b[0;34m(self, *args, **kwargs)\u001b[0m\n\u001b[1;32m    975\u001b[0m \u001b[38;5;66;03m# Losses are cleared for all sublayers on the outermost `Layer.call`.\u001b[39;00m\n\u001b[1;32m    976\u001b[0m \u001b[38;5;66;03m# Losses are not cleared on inner `Layer.call`s, because sublayers can be\u001b[39;00m\n\u001b[1;32m    977\u001b[0m \u001b[38;5;66;03m# called multiple times.\u001b[39;00m\n\u001b[1;32m    978\u001b[0m \u001b[38;5;28;01mif\u001b[39;00m \u001b[38;5;129;01mnot\u001b[39;00m call_context\u001b[38;5;241m.\u001b[39min_call:\n\u001b[0;32m--> 979\u001b[0m   \u001b[38;5;28;43mself\u001b[39;49m\u001b[38;5;241;43m.\u001b[39;49m\u001b[43m_clear_losses\u001b[49m\u001b[43m(\u001b[49m\u001b[43m)\u001b[49m\n\u001b[1;32m    981\u001b[0m eager \u001b[38;5;241m=\u001b[39m tf\u001b[38;5;241m.\u001b[39mexecuting_eagerly()\n\u001b[1;32m    982\u001b[0m \u001b[38;5;28;01mwith\u001b[39;00m call_context\u001b[38;5;241m.\u001b[39menter(\n\u001b[1;32m    983\u001b[0m     layer\u001b[38;5;241m=\u001b[39m\u001b[38;5;28mself\u001b[39m,\n\u001b[1;32m    984\u001b[0m     inputs\u001b[38;5;241m=\u001b[39minputs,\n\u001b[1;32m    985\u001b[0m     build_graph\u001b[38;5;241m=\u001b[39m\u001b[38;5;129;01mnot\u001b[39;00m eager,\n\u001b[1;32m    986\u001b[0m     training\u001b[38;5;241m=\u001b[39mtraining_mode):\n",
      "File \u001b[0;32m/usr/local/lib/python3.9/dist-packages/keras/engine/base_layer.py:2169\u001b[0m, in \u001b[0;36mLayer._clear_losses\u001b[0;34m(self)\u001b[0m\n\u001b[1;32m   2167\u001b[0m   \u001b[38;5;28mself\u001b[39m\u001b[38;5;241m.\u001b[39m_thread_local\u001b[38;5;241m.\u001b[39m_eager_losses \u001b[38;5;241m=\u001b[39m []\n\u001b[1;32m   2168\u001b[0m \u001b[38;5;28;01melse\u001b[39;00m:\n\u001b[0;32m-> 2169\u001b[0m   \u001b[38;5;28;01mfor\u001b[39;00m layer \u001b[38;5;129;01min\u001b[39;00m \u001b[38;5;28mself\u001b[39m\u001b[38;5;241m.\u001b[39m_flatten_layers():\n\u001b[1;32m   2170\u001b[0m     layer\u001b[38;5;241m.\u001b[39m_thread_local\u001b[38;5;241m.\u001b[39m_eager_losses \u001b[38;5;241m=\u001b[39m []\n",
      "File \u001b[0;32m/usr/local/lib/python3.9/dist-packages/keras/engine/base_layer.py:2944\u001b[0m, in \u001b[0;36mLayer._flatten_layers\u001b[0;34m(self, recursive, include_self)\u001b[0m\n\u001b[1;32m   2943\u001b[0m \u001b[38;5;28;01mdef\u001b[39;00m \u001b[38;5;21m_flatten_layers\u001b[39m(\u001b[38;5;28mself\u001b[39m, recursive\u001b[38;5;241m=\u001b[39m\u001b[38;5;28;01mTrue\u001b[39;00m, include_self\u001b[38;5;241m=\u001b[39m\u001b[38;5;28;01mTrue\u001b[39;00m):\n\u001b[0;32m-> 2944\u001b[0m   \u001b[38;5;28;01mfor\u001b[39;00m m \u001b[38;5;129;01min\u001b[39;00m \u001b[38;5;28mself\u001b[39m\u001b[38;5;241m.\u001b[39m_flatten_modules(\n\u001b[1;32m   2945\u001b[0m       recursive\u001b[38;5;241m=\u001b[39mrecursive, include_self\u001b[38;5;241m=\u001b[39minclude_self):\n\u001b[1;32m   2946\u001b[0m     \u001b[38;5;28;01mif\u001b[39;00m \u001b[38;5;28misinstance\u001b[39m(m, Layer):\n\u001b[1;32m   2947\u001b[0m       \u001b[38;5;28;01myield\u001b[39;00m m\n",
      "\u001b[0;31mKeyboardInterrupt\u001b[0m: "
     ]
    }
   ],
   "source": [
    "PATH = 'rmse/hit_rate_folds_actual/'\n",
    "\n",
    "hit_rates_nn = []\n",
    "\n",
    "\n",
    "for i in range(5):\n",
    "    train_file1 = PATH + f'train_hr{i}.csv'\n",
    "    test_file1 = PATH + f'test_hr{i}.csv'\n",
    "    df_train1 = pd.read_csv(train_file1, header=None)\n",
    "    df_test1 = pd.read_csv(test_file1, header=None)\n",
    "    df_train1.columns = ['user_id', 'movie_id', 'rating']\n",
    "    df_test1.columns = ['user_id', 'movie_id', 'rating']\n",
    "    \n",
    "    deep_model1 = NetflixRmseModel()\n",
    "    deep_model1.compile(optimizer=tf.keras.optimizers.Adagrad(learning_rate=0.1))\n",
    "    \n",
    "    deep_model2 = NetflixRmseModel()\n",
    "    deep_model2.compile(optimizer=tf.keras.optimizers.Adagrad(learning_rate=0.1))\n",
    "    \n",
    "    df_train_tf1 = tf.data.Dataset.from_tensor_slices(dict(df_train1))\n",
    "    df_test_tf1 = tf.data.Dataset.from_tensor_slices(dict(df_test1))\n",
    "    \n",
    "    df_train_tf1 = df_train_tf1.map(lambda x: {'user_id': x['user_id'],\n",
    "    'movie_id': x['movie_id'],\n",
    "    'rating': x['rating']})\n",
    "    \n",
    "    df_test_tf1 = df_test_tf1.map(lambda x: {'user_id': x['user_id'],\n",
    "    'movie_id': x['movie_id'],\n",
    "    'rating': x['rating']})\n",
    "    \n",
    "    df_train_tf1 = df_train_tf1.batch(8192).cache()\n",
    "    df_test_tf1 = df_test_tf1.batch(8192).cache()\n",
    "    \n",
    "    print(f'Training fold {i}a')\n",
    "    history_baseline1 = deep_model1.fit(df_train_tf1, epochs=10)\n",
    "    \n",
    "    print(f'Training fold {i}b')\n",
    "    history_baseline2 = deep_model2.fit(df_test_tf1, epochs=10)\n",
    "    \n",
    "    num_users1 = 0\n",
    "    num_users2 = 0\n",
    "    num_hits1 = 0\n",
    "    num_hits2 = 0\n",
    "    \n",
    "    predictions_1a = defaultdict(list)\n",
    "          \n",
    "    print('Iterating through first dataframe')\n",
    "\n",
    "    for i, row in df_test1.iterrows():\n",
    "        user = row['user_id']\n",
    "        movie = row['movie_id']\n",
    "        predicted_rating = deep_model1({'user_id': np.array([user]),\n",
    "                                           'movie_id': np.array([movie])})\n",
    "        predictions_1a[user].append((movie, predicted_rating[0][0]))\n",
    "        \n",
    "    for user_id, user_ratings in predictions_1a.items():\n",
    "        user_ratings.sort(key=lambda x: x[1], reverse=True)\n",
    "        predictions_1a[user_id] = user_ratings[:100]\n",
    "        \n",
    "    predictions_1b = defaultdict(list)\n",
    "          \n",
    "    print('Iterating through second dataframe')\n",
    "\n",
    "    for i, row in df_train1.iterrows():\n",
    "        user = row['user_id']\n",
    "        movie = row['movie_id']\n",
    "        predicted_rating = deep_model2({'user_id': np.array([user]),\n",
    "                                           'movie_id': np.array([movie])})\n",
    "        predictions_1b[user].append((movie, predicted_rating[0][0]))\n",
    "        \n",
    "    for user_id in predictions_1a.keys():\n",
    "        top_movie = top_ratings_df[top_ratings_df['user_id']==user_id]['movie_id']\n",
    "        num_users1 += 1\n",
    "        num_recs = len(predictions_1a[user_id])\n",
    "        top_number = int(num_recs*0.25)\n",
    "        boundary_for_user = [rec[1] for rec in predictions_1a[user_id]][top_number]\n",
    "        pred_top_movie = deep_model1({'user_id': np.array([user_id]),\n",
    "                                         'movie_id': np.array([top_movie])})\n",
    "        if pred_top_movie[0][0] > boundary_for_user:\n",
    "            num_hits1 += 1\n",
    "            \n",
    "    for user_id in predictions_1b.keys():\n",
    "        top_movie = top_ratings_df[top_ratings_df['user_id']==user_id]['movie_id']\n",
    "        num_users2 += 1\n",
    "        num_recs = len(predictions_1b[user_id])\n",
    "        top_number = int(num_recs*0.25)\n",
    "        boundary_for_user = [rec[1] for rec in predictions_1b[user_id]][top_number]\n",
    "        pred_top_movie = deep_model2({'user_id': np.array([user_id]),\n",
    "                                         'movie_id': np.array([top_movie])})\n",
    "        if pred_top_movie[0][0] > boundary_for_user:\n",
    "            num_hits2 += 1\n",
    "            \n",
    "            \n",
    "    hit_rates_nn.append(num_hits1 / num_users1)\n",
    "    hit_rates_nn.append(num_hits2 / num_users2)\n",
    "    \n",
    "    "
   ]
  },
  {
   "cell_type": "code",
   "execution_count": 34,
   "id": "6644ad8c-011b-4a3d-ae91-e85bc48b3e2b",
   "metadata": {},
   "outputs": [
    {
     "name": "stdout",
     "output_type": "stream",
     "text": [
      "Epoch 1/10\n",
      "285/285 [==============================] - 80s 264ms/step - root_mean_squared_error: 1.1114 - loss: 1.2345 - regularization_loss: 0.0000e+00 - total_loss: 1.2345\n",
      "Epoch 2/10\n",
      "285/285 [==============================] - 65s 230ms/step - root_mean_squared_error: 1.0396 - loss: 1.0807 - regularization_loss: 0.0000e+00 - total_loss: 1.0807\n",
      "Epoch 3/10\n",
      "285/285 [==============================] - 66s 231ms/step - root_mean_squared_error: 1.0341 - loss: 1.0693 - regularization_loss: 0.0000e+00 - total_loss: 1.0693\n",
      "Epoch 4/10\n",
      "285/285 [==============================] - 66s 231ms/step - root_mean_squared_error: 1.0312 - loss: 1.0633 - regularization_loss: 0.0000e+00 - total_loss: 1.0633\n",
      "Epoch 5/10\n",
      "285/285 [==============================] - 65s 229ms/step - root_mean_squared_error: 1.0292 - loss: 1.0592 - regularization_loss: 0.0000e+00 - total_loss: 1.0592\n",
      "Epoch 6/10\n",
      "285/285 [==============================] - 66s 232ms/step - root_mean_squared_error: 1.0276 - loss: 1.0560 - regularization_loss: 0.0000e+00 - total_loss: 1.0560\n",
      "Epoch 7/10\n",
      "285/285 [==============================] - 67s 234ms/step - root_mean_squared_error: 1.0262 - loss: 1.0530 - regularization_loss: 0.0000e+00 - total_loss: 1.0530\n",
      "Epoch 8/10\n",
      "285/285 [==============================] - 66s 231ms/step - root_mean_squared_error: 1.0246 - loss: 1.0498 - regularization_loss: 0.0000e+00 - total_loss: 1.0498\n",
      "Epoch 9/10\n",
      "285/285 [==============================] - 66s 231ms/step - root_mean_squared_error: 1.0227 - loss: 1.0460 - regularization_loss: 0.0000e+00 - total_loss: 1.0460\n",
      "Epoch 10/10\n",
      "285/285 [==============================] - 66s 233ms/step - root_mean_squared_error: 1.0202 - loss: 1.0408 - regularization_loss: 0.0000e+00 - total_loss: 1.0408\n"
     ]
    },
    {
     "name": "stderr",
     "output_type": "stream",
     "text": [
      "WARNING:absl:Found untraced functions such as ranking_4_layer_call_fn, ranking_4_layer_call_and_return_conditional_losses while saving (showing 2 of 2). These functions will not be directly callable after loading.\n"
     ]
    },
    {
     "name": "stdout",
     "output_type": "stream",
     "text": [
      "INFO:tensorflow:Assets written to: ram://64cafc07-d2a4-4730-8afd-760a7e532178/assets\n"
     ]
    },
    {
     "name": "stderr",
     "output_type": "stream",
     "text": [
      "INFO:tensorflow:Assets written to: ram://64cafc07-d2a4-4730-8afd-760a7e532178/assets\n"
     ]
    },
    {
     "name": "stdout",
     "output_type": "stream",
     "text": [
      "Epoch 1/10\n",
      "285/285 [==============================] - 80s 265ms/step - root_mean_squared_error: 1.1065 - loss: 1.2238 - regularization_loss: 0.0000e+00 - total_loss: 1.2238\n",
      "Epoch 2/10\n",
      "285/285 [==============================] - 67s 234ms/step - root_mean_squared_error: 1.0377 - loss: 1.0768 - regularization_loss: 0.0000e+00 - total_loss: 1.0768\n",
      "Epoch 3/10\n",
      "285/285 [==============================] - 67s 235ms/step - root_mean_squared_error: 1.0327 - loss: 1.0664 - regularization_loss: 0.0000e+00 - total_loss: 1.0664\n",
      "Epoch 4/10\n",
      "285/285 [==============================] - 67s 234ms/step - root_mean_squared_error: 1.0300 - loss: 1.0609 - regularization_loss: 0.0000e+00 - total_loss: 1.0609\n",
      "Epoch 5/10\n",
      "285/285 [==============================] - 66s 231ms/step - root_mean_squared_error: 1.0282 - loss: 1.0573 - regularization_loss: 0.0000e+00 - total_loss: 1.0573\n",
      "Epoch 6/10\n",
      "285/285 [==============================] - 68s 237ms/step - root_mean_squared_error: 1.0268 - loss: 1.0544 - regularization_loss: 0.0000e+00 - total_loss: 1.0544\n",
      "Epoch 7/10\n",
      "285/285 [==============================] - 67s 235ms/step - root_mean_squared_error: 1.0256 - loss: 1.0520 - regularization_loss: 0.0000e+00 - total_loss: 1.0520\n",
      "Epoch 8/10\n",
      "285/285 [==============================] - 66s 233ms/step - root_mean_squared_error: 1.0244 - loss: 1.0495 - regularization_loss: 0.0000e+00 - total_loss: 1.0495\n",
      "Epoch 9/10\n",
      "285/285 [==============================] - 65s 230ms/step - root_mean_squared_error: 1.0231 - loss: 1.0468 - regularization_loss: 0.0000e+00 - total_loss: 1.0468\n",
      "Epoch 10/10\n",
      "285/285 [==============================] - 67s 234ms/step - root_mean_squared_error: 1.0214 - loss: 1.0433 - regularization_loss: 0.0000e+00 - total_loss: 1.0433\n"
     ]
    },
    {
     "name": "stderr",
     "output_type": "stream",
     "text": [
      "WARNING:absl:Found untraced functions such as ranking_5_layer_call_fn, ranking_5_layer_call_and_return_conditional_losses while saving (showing 2 of 2). These functions will not be directly callable after loading.\n"
     ]
    },
    {
     "name": "stdout",
     "output_type": "stream",
     "text": [
      "INFO:tensorflow:Assets written to: ram://51a3ecac-d4e7-4839-9469-3cccf2018f04/assets\n"
     ]
    },
    {
     "name": "stderr",
     "output_type": "stream",
     "text": [
      "INFO:tensorflow:Assets written to: ram://51a3ecac-d4e7-4839-9469-3cccf2018f04/assets\n"
     ]
    },
    {
     "name": "stdout",
     "output_type": "stream",
     "text": [
      "Epoch 1/10\n",
      "285/285 [==============================] - 81s 265ms/step - root_mean_squared_error: 1.1114 - loss: 1.2347 - regularization_loss: 0.0000e+00 - total_loss: 1.2347\n",
      "Epoch 2/10\n",
      "285/285 [==============================] - 67s 234ms/step - root_mean_squared_error: 1.0391 - loss: 1.0797 - regularization_loss: 0.0000e+00 - total_loss: 1.0797\n",
      "Epoch 3/10\n",
      "285/285 [==============================] - 67s 236ms/step - root_mean_squared_error: 1.0335 - loss: 1.0680 - regularization_loss: 0.0000e+00 - total_loss: 1.0680\n",
      "Epoch 4/10\n",
      "285/285 [==============================] - 69s 243ms/step - root_mean_squared_error: 1.0305 - loss: 1.0620 - regularization_loss: 0.0000e+00 - total_loss: 1.0620\n",
      "Epoch 5/10\n",
      "285/285 [==============================] - 67s 234ms/step - root_mean_squared_error: 1.0286 - loss: 1.0579 - regularization_loss: 0.0000e+00 - total_loss: 1.0579\n",
      "Epoch 6/10\n",
      "285/285 [==============================] - 66s 233ms/step - root_mean_squared_error: 1.0270 - loss: 1.0547 - regularization_loss: 0.0000e+00 - total_loss: 1.0547\n",
      "Epoch 7/10\n",
      "285/285 [==============================] - 67s 234ms/step - root_mean_squared_error: 1.0256 - loss: 1.0518 - regularization_loss: 0.0000e+00 - total_loss: 1.0518\n",
      "Epoch 8/10\n",
      "285/285 [==============================] - 66s 233ms/step - root_mean_squared_error: 1.0241 - loss: 1.0488 - regularization_loss: 0.0000e+00 - total_loss: 1.0488\n",
      "Epoch 9/10\n",
      "285/285 [==============================] - 66s 233ms/step - root_mean_squared_error: 1.0223 - loss: 1.0451 - regularization_loss: 0.0000e+00 - total_loss: 1.0451\n",
      "Epoch 10/10\n",
      "285/285 [==============================] - 67s 234ms/step - root_mean_squared_error: 1.0199 - loss: 1.0402 - regularization_loss: 0.0000e+00 - total_loss: 1.0402\n"
     ]
    },
    {
     "name": "stderr",
     "output_type": "stream",
     "text": [
      "WARNING:absl:Found untraced functions such as ranking_6_layer_call_fn, ranking_6_layer_call_and_return_conditional_losses while saving (showing 2 of 2). These functions will not be directly callable after loading.\n"
     ]
    },
    {
     "name": "stdout",
     "output_type": "stream",
     "text": [
      "INFO:tensorflow:Assets written to: ram://7d61a8da-a866-4033-943d-1a2a9e813bba/assets\n"
     ]
    },
    {
     "name": "stderr",
     "output_type": "stream",
     "text": [
      "INFO:tensorflow:Assets written to: ram://7d61a8da-a866-4033-943d-1a2a9e813bba/assets\n"
     ]
    },
    {
     "name": "stdout",
     "output_type": "stream",
     "text": [
      "Epoch 1/10\n",
      "285/285 [==============================] - 78s 256ms/step - root_mean_squared_error: 1.1190 - loss: 1.2515 - regularization_loss: 0.0000e+00 - total_loss: 1.2515\n",
      "Epoch 2/10\n",
      "285/285 [==============================] - 67s 235ms/step - root_mean_squared_error: 1.0388 - loss: 1.0790 - regularization_loss: 0.0000e+00 - total_loss: 1.0790\n",
      "Epoch 3/10\n",
      "285/285 [==============================] - 66s 230ms/step - root_mean_squared_error: 1.0338 - loss: 1.0687 - regularization_loss: 0.0000e+00 - total_loss: 1.0687\n",
      "Epoch 4/10\n",
      "285/285 [==============================] - 67s 236ms/step - root_mean_squared_error: 1.0310 - loss: 1.0629 - regularization_loss: 0.0000e+00 - total_loss: 1.0629\n",
      "Epoch 5/10\n",
      "285/285 [==============================] - 66s 232ms/step - root_mean_squared_error: 1.0291 - loss: 1.0589 - regularization_loss: 0.0000e+00 - total_loss: 1.0589\n",
      "Epoch 6/10\n",
      "285/285 [==============================] - 66s 233ms/step - root_mean_squared_error: 1.0275 - loss: 1.0557 - regularization_loss: 0.0000e+00 - total_loss: 1.0557\n",
      "Epoch 7/10\n",
      "285/285 [==============================] - 66s 230ms/step - root_mean_squared_error: 1.0260 - loss: 1.0527 - regularization_loss: 0.0000e+00 - total_loss: 1.0527\n",
      "Epoch 8/10\n",
      "285/285 [==============================] - 67s 235ms/step - root_mean_squared_error: 1.0244 - loss: 1.0494 - regularization_loss: 0.0000e+00 - total_loss: 1.0494\n",
      "Epoch 9/10\n",
      "285/285 [==============================] - 66s 232ms/step - root_mean_squared_error: 1.0226 - loss: 1.0456 - regularization_loss: 0.0000e+00 - total_loss: 1.0456\n",
      "Epoch 10/10\n",
      "285/285 [==============================] - 66s 230ms/step - root_mean_squared_error: 1.0201 - loss: 1.0405 - regularization_loss: 0.0000e+00 - total_loss: 1.0405\n"
     ]
    },
    {
     "name": "stderr",
     "output_type": "stream",
     "text": [
      "WARNING:absl:Found untraced functions such as ranking_7_layer_call_fn, ranking_7_layer_call_and_return_conditional_losses while saving (showing 2 of 2). These functions will not be directly callable after loading.\n"
     ]
    },
    {
     "name": "stdout",
     "output_type": "stream",
     "text": [
      "INFO:tensorflow:Assets written to: ram://7e11df5b-152e-4959-b64c-ea82fd1a9f8f/assets\n"
     ]
    },
    {
     "name": "stderr",
     "output_type": "stream",
     "text": [
      "INFO:tensorflow:Assets written to: ram://7e11df5b-152e-4959-b64c-ea82fd1a9f8f/assets\n"
     ]
    },
    {
     "name": "stdout",
     "output_type": "stream",
     "text": [
      "Epoch 1/10\n",
      "285/285 [==============================] - 78s 256ms/step - root_mean_squared_error: 1.1065 - loss: 1.2238 - regularization_loss: 0.0000e+00 - total_loss: 1.2238\n",
      "Epoch 2/10\n",
      "285/285 [==============================] - 66s 231ms/step - root_mean_squared_error: 1.0387 - loss: 1.0791 - regularization_loss: 0.0000e+00 - total_loss: 1.0791\n",
      "Epoch 3/10\n",
      "285/285 [==============================] - 67s 235ms/step - root_mean_squared_error: 1.0336 - loss: 1.0684 - regularization_loss: 0.0000e+00 - total_loss: 1.0684\n",
      "Epoch 4/10\n",
      "285/285 [==============================] - 66s 233ms/step - root_mean_squared_error: 1.0308 - loss: 1.0627 - regularization_loss: 0.0000e+00 - total_loss: 1.0627\n",
      "Epoch 5/10\n",
      "285/285 [==============================] - 65s 227ms/step - root_mean_squared_error: 1.0290 - loss: 1.0589 - regularization_loss: 0.0000e+00 - total_loss: 1.0589\n",
      "Epoch 6/10\n",
      "285/285 [==============================] - 66s 233ms/step - root_mean_squared_error: 1.0276 - loss: 1.0561 - regularization_loss: 0.0000e+00 - total_loss: 1.0561\n",
      "Epoch 7/10\n",
      "285/285 [==============================] - 66s 233ms/step - root_mean_squared_error: 1.0264 - loss: 1.0536 - regularization_loss: 0.0000e+00 - total_loss: 1.0536\n",
      "Epoch 8/10\n",
      "285/285 [==============================] - 65s 229ms/step - root_mean_squared_error: 1.0252 - loss: 1.0512 - regularization_loss: 0.0000e+00 - total_loss: 1.0512\n",
      "Epoch 9/10\n",
      "285/285 [==============================] - 66s 231ms/step - root_mean_squared_error: 1.0240 - loss: 1.0487 - regularization_loss: 0.0000e+00 - total_loss: 1.0487\n",
      "Epoch 10/10\n",
      "285/285 [==============================] - 66s 232ms/step - root_mean_squared_error: 1.0225 - loss: 1.0456 - regularization_loss: 0.0000e+00 - total_loss: 1.0456\n"
     ]
    },
    {
     "name": "stderr",
     "output_type": "stream",
     "text": [
      "WARNING:absl:Found untraced functions such as ranking_8_layer_call_fn, ranking_8_layer_call_and_return_conditional_losses while saving (showing 2 of 2). These functions will not be directly callable after loading.\n"
     ]
    },
    {
     "name": "stdout",
     "output_type": "stream",
     "text": [
      "INFO:tensorflow:Assets written to: ram://980855ca-068f-4ea4-bca4-ce51c671c555/assets\n"
     ]
    },
    {
     "name": "stderr",
     "output_type": "stream",
     "text": [
      "INFO:tensorflow:Assets written to: ram://980855ca-068f-4ea4-bca4-ce51c671c555/assets\n"
     ]
    },
    {
     "name": "stdout",
     "output_type": "stream",
     "text": [
      "Epoch 1/10\n",
      "285/285 [==============================] - 79s 260ms/step - root_mean_squared_error: 1.1192 - loss: 1.2518 - regularization_loss: 0.0000e+00 - total_loss: 1.2518\n",
      "Epoch 2/10\n",
      "285/285 [==============================] - 66s 233ms/step - root_mean_squared_error: 1.0389 - loss: 1.0792 - regularization_loss: 0.0000e+00 - total_loss: 1.0792\n",
      "Epoch 3/10\n",
      "285/285 [==============================] - 66s 232ms/step - root_mean_squared_error: 1.0336 - loss: 1.0682 - regularization_loss: 0.0000e+00 - total_loss: 1.0682\n",
      "Epoch 4/10\n",
      "285/285 [==============================] - 67s 236ms/step - root_mean_squared_error: 1.0308 - loss: 1.0625 - regularization_loss: 0.0000e+00 - total_loss: 1.0625\n",
      "Epoch 5/10\n",
      "285/285 [==============================] - 67s 235ms/step - root_mean_squared_error: 1.0290 - loss: 1.0588 - regularization_loss: 0.0000e+00 - total_loss: 1.0588\n",
      "Epoch 6/10\n",
      "285/285 [==============================] - 66s 232ms/step - root_mean_squared_error: 1.0277 - loss: 1.0560 - regularization_loss: 0.0000e+00 - total_loss: 1.0560\n",
      "Epoch 7/10\n",
      "285/285 [==============================] - 66s 232ms/step - root_mean_squared_error: 1.0265 - loss: 1.0537 - regularization_loss: 0.0000e+00 - total_loss: 1.0537\n",
      "Epoch 8/10\n",
      "285/285 [==============================] - 66s 232ms/step - root_mean_squared_error: 1.0255 - loss: 1.0516 - regularization_loss: 0.0000e+00 - total_loss: 1.0516\n",
      "Epoch 9/10\n",
      "285/285 [==============================] - 67s 234ms/step - root_mean_squared_error: 1.0245 - loss: 1.0494 - regularization_loss: 0.0000e+00 - total_loss: 1.0494\n",
      "Epoch 10/10\n",
      "285/285 [==============================] - 67s 236ms/step - root_mean_squared_error: 1.0232 - loss: 1.0469 - regularization_loss: 0.0000e+00 - total_loss: 1.0469\n"
     ]
    },
    {
     "name": "stderr",
     "output_type": "stream",
     "text": [
      "WARNING:absl:Found untraced functions such as ranking_9_layer_call_fn, ranking_9_layer_call_and_return_conditional_losses while saving (showing 2 of 2). These functions will not be directly callable after loading.\n"
     ]
    },
    {
     "name": "stdout",
     "output_type": "stream",
     "text": [
      "INFO:tensorflow:Assets written to: ram://0620fb4c-50a2-41c9-8a33-6afa1f680a33/assets\n"
     ]
    },
    {
     "name": "stderr",
     "output_type": "stream",
     "text": [
      "INFO:tensorflow:Assets written to: ram://0620fb4c-50a2-41c9-8a33-6afa1f680a33/assets\n"
     ]
    },
    {
     "name": "stdout",
     "output_type": "stream",
     "text": [
      "Epoch 1/10\n",
      "285/285 [==============================] - 79s 261ms/step - root_mean_squared_error: 1.1255 - loss: 1.2662 - regularization_loss: 0.0000e+00 - total_loss: 1.2662\n",
      "Epoch 2/10\n",
      "285/285 [==============================] - 65s 230ms/step - root_mean_squared_error: 1.0398 - loss: 1.0812 - regularization_loss: 0.0000e+00 - total_loss: 1.0812\n",
      "Epoch 3/10\n",
      "285/285 [==============================] - 65s 229ms/step - root_mean_squared_error: 1.0339 - loss: 1.0690 - regularization_loss: 0.0000e+00 - total_loss: 1.0690\n",
      "Epoch 4/10\n",
      "285/285 [==============================] - 66s 232ms/step - root_mean_squared_error: 1.0309 - loss: 1.0629 - regularization_loss: 0.0000e+00 - total_loss: 1.0629\n",
      "Epoch 5/10\n",
      "285/285 [==============================] - 65s 230ms/step - root_mean_squared_error: 1.0290 - loss: 1.0588 - regularization_loss: 0.0000e+00 - total_loss: 1.0588\n",
      "Epoch 6/10\n",
      "285/285 [==============================] - 66s 232ms/step - root_mean_squared_error: 1.0275 - loss: 1.0558 - regularization_loss: 0.0000e+00 - total_loss: 1.0558\n",
      "Epoch 7/10\n",
      "285/285 [==============================] - 65s 229ms/step - root_mean_squared_error: 1.0263 - loss: 1.0532 - regularization_loss: 0.0000e+00 - total_loss: 1.0532\n",
      "Epoch 8/10\n",
      "285/285 [==============================] - 65s 227ms/step - root_mean_squared_error: 1.0251 - loss: 1.0508 - regularization_loss: 0.0000e+00 - total_loss: 1.0508\n",
      "Epoch 9/10\n",
      "285/285 [==============================] - 66s 231ms/step - root_mean_squared_error: 1.0238 - loss: 1.0481 - regularization_loss: 0.0000e+00 - total_loss: 1.0481\n",
      "Epoch 10/10\n",
      "285/285 [==============================] - 65s 227ms/step - root_mean_squared_error: 1.0222 - loss: 1.0449 - regularization_loss: 0.0000e+00 - total_loss: 1.0449\n"
     ]
    },
    {
     "name": "stderr",
     "output_type": "stream",
     "text": [
      "WARNING:absl:Found untraced functions such as ranking_10_layer_call_fn, ranking_10_layer_call_and_return_conditional_losses while saving (showing 2 of 2). These functions will not be directly callable after loading.\n"
     ]
    },
    {
     "name": "stdout",
     "output_type": "stream",
     "text": [
      "INFO:tensorflow:Assets written to: ram://82ec3ea8-014e-4f74-9fbe-e7cc4f43b749/assets\n"
     ]
    },
    {
     "name": "stderr",
     "output_type": "stream",
     "text": [
      "INFO:tensorflow:Assets written to: ram://82ec3ea8-014e-4f74-9fbe-e7cc4f43b749/assets\n"
     ]
    },
    {
     "name": "stdout",
     "output_type": "stream",
     "text": [
      "Epoch 1/10\n",
      "285/285 [==============================] - 78s 255ms/step - root_mean_squared_error: 1.1149 - loss: 1.2422 - regularization_loss: 0.0000e+00 - total_loss: 1.2422\n",
      "Epoch 2/10\n",
      "285/285 [==============================] - 67s 234ms/step - root_mean_squared_error: 1.0383 - loss: 1.0778 - regularization_loss: 0.0000e+00 - total_loss: 1.0778\n",
      "Epoch 3/10\n",
      "285/285 [==============================] - 67s 235ms/step - root_mean_squared_error: 1.0333 - loss: 1.0674 - regularization_loss: 0.0000e+00 - total_loss: 1.0674\n",
      "Epoch 4/10\n",
      "285/285 [==============================] - 66s 232ms/step - root_mean_squared_error: 1.0306 - loss: 1.0619 - regularization_loss: 0.0000e+00 - total_loss: 1.0619\n",
      "Epoch 5/10\n",
      "285/285 [==============================] - 67s 234ms/step - root_mean_squared_error: 1.0288 - loss: 1.0582 - regularization_loss: 0.0000e+00 - total_loss: 1.0582\n",
      "Epoch 6/10\n",
      "285/285 [==============================] - 66s 231ms/step - root_mean_squared_error: 1.0274 - loss: 1.0553 - regularization_loss: 0.0000e+00 - total_loss: 1.0553\n",
      "Epoch 7/10\n",
      "285/285 [==============================] - 66s 231ms/step - root_mean_squared_error: 1.0261 - loss: 1.0527 - regularization_loss: 0.0000e+00 - total_loss: 1.0527\n",
      "Epoch 8/10\n",
      "285/285 [==============================] - 66s 231ms/step - root_mean_squared_error: 1.0248 - loss: 1.0500 - regularization_loss: 0.0000e+00 - total_loss: 1.0500\n",
      "Epoch 9/10\n",
      "285/285 [==============================] - 66s 231ms/step - root_mean_squared_error: 1.0233 - loss: 1.0469 - regularization_loss: 0.0000e+00 - total_loss: 1.0469\n",
      "Epoch 10/10\n",
      "285/285 [==============================] - 66s 232ms/step - root_mean_squared_error: 1.0213 - loss: 1.0430 - regularization_loss: 0.0000e+00 - total_loss: 1.0430\n"
     ]
    },
    {
     "name": "stderr",
     "output_type": "stream",
     "text": [
      "WARNING:absl:Found untraced functions such as ranking_11_layer_call_fn, ranking_11_layer_call_and_return_conditional_losses while saving (showing 2 of 2). These functions will not be directly callable after loading.\n"
     ]
    },
    {
     "name": "stdout",
     "output_type": "stream",
     "text": [
      "INFO:tensorflow:Assets written to: ram://f8c0262e-ad70-49aa-98fb-80bf51451ec8/assets\n"
     ]
    },
    {
     "name": "stderr",
     "output_type": "stream",
     "text": [
      "INFO:tensorflow:Assets written to: ram://f8c0262e-ad70-49aa-98fb-80bf51451ec8/assets\n"
     ]
    },
    {
     "name": "stdout",
     "output_type": "stream",
     "text": [
      "Epoch 1/10\n",
      "285/285 [==============================] - 79s 259ms/step - root_mean_squared_error: 1.1096 - loss: 1.2307 - regularization_loss: 0.0000e+00 - total_loss: 1.2307\n",
      "Epoch 2/10\n",
      "285/285 [==============================] - 68s 238ms/step - root_mean_squared_error: 1.0380 - loss: 1.0775 - regularization_loss: 0.0000e+00 - total_loss: 1.0775\n",
      "Epoch 3/10\n",
      "285/285 [==============================] - 69s 241ms/step - root_mean_squared_error: 1.0330 - loss: 1.0671 - regularization_loss: 0.0000e+00 - total_loss: 1.0671\n",
      "Epoch 4/10\n",
      "285/285 [==============================] - 72s 251ms/step - root_mean_squared_error: 1.0303 - loss: 1.0616 - regularization_loss: 0.0000e+00 - total_loss: 1.0616\n",
      "Epoch 5/10\n",
      "285/285 [==============================] - 73s 255ms/step - root_mean_squared_error: 1.0284 - loss: 1.0578 - regularization_loss: 0.0000e+00 - total_loss: 1.0578\n",
      "Epoch 6/10\n",
      "285/285 [==============================] - 72s 254ms/step - root_mean_squared_error: 1.0270 - loss: 1.0549 - regularization_loss: 0.0000e+00 - total_loss: 1.0549\n",
      "Epoch 7/10\n",
      "285/285 [==============================] - 75s 263ms/step - root_mean_squared_error: 1.0257 - loss: 1.0523 - regularization_loss: 0.0000e+00 - total_loss: 1.0523\n",
      "Epoch 8/10\n",
      "285/285 [==============================] - 76s 268ms/step - root_mean_squared_error: 1.0244 - loss: 1.0496 - regularization_loss: 0.0000e+00 - total_loss: 1.0496\n",
      "Epoch 9/10\n",
      "285/285 [==============================] - 75s 265ms/step - root_mean_squared_error: 1.0229 - loss: 1.0465 - regularization_loss: 0.0000e+00 - total_loss: 1.0465\n",
      "Epoch 10/10\n",
      "285/285 [==============================] - 74s 261ms/step - root_mean_squared_error: 1.0209 - loss: 1.0424 - regularization_loss: 0.0000e+00 - total_loss: 1.0424\n"
     ]
    },
    {
     "name": "stderr",
     "output_type": "stream",
     "text": [
      "WARNING:absl:Found untraced functions such as ranking_12_layer_call_fn, ranking_12_layer_call_and_return_conditional_losses while saving (showing 2 of 2). These functions will not be directly callable after loading.\n"
     ]
    },
    {
     "name": "stdout",
     "output_type": "stream",
     "text": [
      "INFO:tensorflow:Assets written to: ram://6539461c-7eb0-477d-b35a-2621fc75a129/assets\n"
     ]
    },
    {
     "name": "stderr",
     "output_type": "stream",
     "text": [
      "INFO:tensorflow:Assets written to: ram://6539461c-7eb0-477d-b35a-2621fc75a129/assets\n"
     ]
    },
    {
     "name": "stdout",
     "output_type": "stream",
     "text": [
      "Epoch 1/10\n",
      "285/285 [==============================] - 90s 295ms/step - root_mean_squared_error: 1.1107 - loss: 1.2331 - regularization_loss: 0.0000e+00 - total_loss: 1.2331\n",
      "Epoch 2/10\n",
      "285/285 [==============================] - 76s 268ms/step - root_mean_squared_error: 1.0386 - loss: 1.0788 - regularization_loss: 0.0000e+00 - total_loss: 1.0788\n",
      "Epoch 3/10\n",
      "285/285 [==============================] - 76s 266ms/step - root_mean_squared_error: 1.0335 - loss: 1.0681 - regularization_loss: 0.0000e+00 - total_loss: 1.0681\n",
      "Epoch 4/10\n",
      "285/285 [==============================] - 76s 268ms/step - root_mean_squared_error: 1.0308 - loss: 1.0624 - regularization_loss: 0.0000e+00 - total_loss: 1.0624\n",
      "Epoch 5/10\n",
      "285/285 [==============================] - 73s 257ms/step - root_mean_squared_error: 1.0289 - loss: 1.0586 - regularization_loss: 0.0000e+00 - total_loss: 1.0586\n",
      "Epoch 6/10\n",
      "285/285 [==============================] - 76s 267ms/step - root_mean_squared_error: 1.0274 - loss: 1.0556 - regularization_loss: 0.0000e+00 - total_loss: 1.0556\n",
      "Epoch 7/10\n",
      "285/285 [==============================] - 74s 258ms/step - root_mean_squared_error: 1.0262 - loss: 1.0530 - regularization_loss: 0.0000e+00 - total_loss: 1.0530\n",
      "Epoch 8/10\n",
      "285/285 [==============================] - 73s 256ms/step - root_mean_squared_error: 1.0248 - loss: 1.0503 - regularization_loss: 0.0000e+00 - total_loss: 1.0503\n",
      "Epoch 9/10\n",
      "285/285 [==============================] - 73s 255ms/step - root_mean_squared_error: 1.0233 - loss: 1.0472 - regularization_loss: 0.0000e+00 - total_loss: 1.0472\n",
      "Epoch 10/10\n",
      "285/285 [==============================] - 75s 262ms/step - root_mean_squared_error: 1.0214 - loss: 1.0432 - regularization_loss: 0.0000e+00 - total_loss: 1.0432\n"
     ]
    },
    {
     "name": "stderr",
     "output_type": "stream",
     "text": [
      "WARNING:absl:Found untraced functions such as ranking_13_layer_call_fn, ranking_13_layer_call_and_return_conditional_losses while saving (showing 2 of 2). These functions will not be directly callable after loading.\n"
     ]
    },
    {
     "name": "stdout",
     "output_type": "stream",
     "text": [
      "INFO:tensorflow:Assets written to: ram://77e9fef5-8ff4-412a-a0ee-035534dfe2be/assets\n"
     ]
    },
    {
     "name": "stderr",
     "output_type": "stream",
     "text": [
      "INFO:tensorflow:Assets written to: ram://77e9fef5-8ff4-412a-a0ee-035534dfe2be/assets\n"
     ]
    }
   ],
   "source": [
    "for i in range(5):\n",
    "    train_file1 = PATH + f'train_hr{i}.csv'\n",
    "    test_file1 = PATH + f'test_hr{i}.csv'\n",
    "    df_train1 = pd.read_csv(train_file1, header=None)\n",
    "    df_test1 = pd.read_csv(test_file1, header=None)\n",
    "    df_train1.columns = ['user_id', 'movie_id', 'rating']\n",
    "    df_test1.columns = ['user_id', 'movie_id', 'rating']\n",
    "    \n",
    "    deep_model1 = NetflixRmseModel()\n",
    "    deep_model1.compile(optimizer=tf.keras.optimizers.Adagrad(learning_rate=0.1))\n",
    "    \n",
    "    deep_model2 = NetflixRmseModel()\n",
    "    deep_model2.compile(optimizer=tf.keras.optimizers.Adagrad(learning_rate=0.1))\n",
    "    \n",
    "    df_train_tf1 = tf.data.Dataset.from_tensor_slices(dict(df_train1))\n",
    "    df_test_tf1 = tf.data.Dataset.from_tensor_slices(dict(df_test1))\n",
    "    \n",
    "    df_train_tf1 = df_train_tf1.map(lambda x: {'user_id': x['user_id'],\n",
    "    'movie_id': x['movie_id'],\n",
    "    'rating': x['rating']})\n",
    "    \n",
    "    df_test_tf1 = df_test_tf1.map(lambda x: {'user_id': x['user_id'],\n",
    "    'movie_id': x['movie_id'],\n",
    "    'rating': x['rating']})\n",
    "    \n",
    "    df_train_tf1 = df_train_tf1.batch(8192).cache()\n",
    "    df_test_tf1 = df_test_tf1.batch(8192).cache()\n",
    "    \n",
    "    history_baseline1 = deep_model1.fit(df_train_tf1, epochs=10)\n",
    "    joblib.dump(deep_model1, f'model{i}a.pkl')\n",
    "    \n",
    "    history_baseline2 = deep_model2.fit(df_test_tf1, epochs=10)\n",
    "    joblib.dump(deep_model2, f'model{i}b.pkl')\n",
    "    \n",
    " "
   ]
  },
  {
   "cell_type": "code",
   "execution_count": null,
   "id": "17e6baca-613e-42f3-bacd-aa8fa03251a6",
   "metadata": {},
   "outputs": [],
   "source": []
  }
 ],
 "metadata": {
  "kernelspec": {
   "display_name": "Python 3",
   "language": "python",
   "name": "python3"
  },
  "language_info": {
   "codemirror_mode": {
    "name": "ipython",
    "version": 3
   },
   "file_extension": ".py",
   "mimetype": "text/x-python",
   "name": "python",
   "nbconvert_exporter": "python",
   "pygments_lexer": "ipython3",
   "version": "3.8.8"
  }
 },
 "nbformat": 4,
 "nbformat_minor": 5
}
