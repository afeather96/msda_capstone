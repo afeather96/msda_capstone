{
 "cells": [
  {
   "cell_type": "code",
   "execution_count": 41,
   "id": "0c1d370c-5396-495d-8624-0c2ad6dfdb53",
   "metadata": {},
   "outputs": [],
   "source": [
    "import pandas as pd\n",
    "import numpy as np\n",
    "import matplotlib.pyplot as plt\n",
    "import seaborn as sns\n",
    "from collections import deque\n",
    "from surprise import Dataset, NormalPredictor, Reader\n",
    "from surprise.model_selection import cross_validate\n",
    "import os\n",
    "from sklearn.model_selection import train_test_split\n",
    "import pickle\n",
    "from surprise import accuracy\n",
    "from surprise import accuracy, Dataset, Reader, SVD, KNNBaseline\n",
    "from surprise.model_selection import PredefinedKFold\n",
    "import pprint\n",
    "import tempfile\n",
    "from typing import Dict, Text\n",
    "import tensorflow as tf\n",
    "import tensorflow_recommenders as tfrs"
   ]
  },
  {
   "cell_type": "code",
   "execution_count": 2,
   "id": "2db9d4c0-eee9-456b-bd11-b27f7f0a44f0",
   "metadata": {},
   "outputs": [
    {
     "name": "stdout",
     "output_type": "stream",
     "text": [
      "/Users/alecclarkfeather/capstone_project\n"
     ]
    }
   ],
   "source": [
    "#!pwd"
   ]
  },
  {
   "cell_type": "code",
   "execution_count": 3,
   "id": "8675bb0e-c105-47ac-b15e-6c04b8333278",
   "metadata": {},
   "outputs": [],
   "source": [
    "movie_titles = pd.read_csv('movie_titles.csv', header=None, encoding='ISO-8859-1', \n",
    "                          names=['movie_id', 'year', 'title', 'description1', 'description2',\n",
    "                                'description3'])"
   ]
  },
  {
   "cell_type": "code",
   "execution_count": 4,
   "id": "b9ae97b2-4403-4ce8-81cc-22dd90e65a9b",
   "metadata": {},
   "outputs": [],
   "source": [
    "movie_titles = movie_titles.drop(columns=['description1', 'description2', 'description3'], axis=1)"
   ]
  },
  {
   "cell_type": "code",
   "execution_count": 5,
   "id": "3c0d849a-7231-4e6e-b46f-b507ab3bd178",
   "metadata": {},
   "outputs": [],
   "source": [
    "RMSE_PATH = '/Users/alecclarkfeather/capstone_project/rmse_train_test_folds/'\n",
    "\n",
    "df_rmse_train0 = pd.read_csv(RMSE_PATH + 'train_df0.csv')\n",
    "df_rmse_test0 = pd.read_csv(RMSE_PATH + 'test_df0.csv')"
   ]
  },
  {
   "cell_type": "code",
   "execution_count": 6,
   "id": "0c9d3e5a-5206-4874-88c9-243eddee84f5",
   "metadata": {},
   "outputs": [
    {
     "data": {
      "text/html": [
       "<div>\n",
       "<style scoped>\n",
       "    .dataframe tbody tr th:only-of-type {\n",
       "        vertical-align: middle;\n",
       "    }\n",
       "\n",
       "    .dataframe tbody tr th {\n",
       "        vertical-align: top;\n",
       "    }\n",
       "\n",
       "    .dataframe thead th {\n",
       "        text-align: right;\n",
       "    }\n",
       "</style>\n",
       "<table border=\"1\" class=\"dataframe\">\n",
       "  <thead>\n",
       "    <tr style=\"text-align: right;\">\n",
       "      <th></th>\n",
       "      <th>Unnamed: 0</th>\n",
       "      <th>user_id</th>\n",
       "      <th>rating</th>\n",
       "      <th>date</th>\n",
       "      <th>movie_id</th>\n",
       "    </tr>\n",
       "  </thead>\n",
       "  <tbody>\n",
       "    <tr>\n",
       "      <th>0</th>\n",
       "      <td>4544200</td>\n",
       "      <td>1590329</td>\n",
       "      <td>3.0</td>\n",
       "      <td>2004-06-24</td>\n",
       "      <td>7627</td>\n",
       "    </tr>\n",
       "    <tr>\n",
       "      <th>1</th>\n",
       "      <td>1880455</td>\n",
       "      <td>576570</td>\n",
       "      <td>4.0</td>\n",
       "      <td>2005-01-26</td>\n",
       "      <td>14606</td>\n",
       "    </tr>\n",
       "    <tr>\n",
       "      <th>2</th>\n",
       "      <td>3723821</td>\n",
       "      <td>1757599</td>\n",
       "      <td>3.0</td>\n",
       "      <td>2005-06-03</td>\n",
       "      <td>9156</td>\n",
       "    </tr>\n",
       "    <tr>\n",
       "      <th>3</th>\n",
       "      <td>2798566</td>\n",
       "      <td>1048852</td>\n",
       "      <td>4.0</td>\n",
       "      <td>2003-12-02</td>\n",
       "      <td>15107</td>\n",
       "    </tr>\n",
       "    <tr>\n",
       "      <th>4</th>\n",
       "      <td>4760187</td>\n",
       "      <td>2187348</td>\n",
       "      <td>3.0</td>\n",
       "      <td>2005-07-18</td>\n",
       "      <td>14644</td>\n",
       "    </tr>\n",
       "    <tr>\n",
       "      <th>5</th>\n",
       "      <td>1788227</td>\n",
       "      <td>1029245</td>\n",
       "      <td>3.0</td>\n",
       "      <td>2005-10-10</td>\n",
       "      <td>17169</td>\n",
       "    </tr>\n",
       "    <tr>\n",
       "      <th>6</th>\n",
       "      <td>633589</td>\n",
       "      <td>1090134</td>\n",
       "      <td>4.0</td>\n",
       "      <td>2005-05-08</td>\n",
       "      <td>7620</td>\n",
       "    </tr>\n",
       "    <tr>\n",
       "      <th>7</th>\n",
       "      <td>3071715</td>\n",
       "      <td>529406</td>\n",
       "      <td>2.0</td>\n",
       "      <td>2005-01-11</td>\n",
       "      <td>15582</td>\n",
       "    </tr>\n",
       "    <tr>\n",
       "      <th>8</th>\n",
       "      <td>1933360</td>\n",
       "      <td>138807</td>\n",
       "      <td>1.0</td>\n",
       "      <td>2005-10-20</td>\n",
       "      <td>4979</td>\n",
       "    </tr>\n",
       "    <tr>\n",
       "      <th>9</th>\n",
       "      <td>1840081</td>\n",
       "      <td>1096013</td>\n",
       "      <td>4.0</td>\n",
       "      <td>2005-08-23</td>\n",
       "      <td>13763</td>\n",
       "    </tr>\n",
       "  </tbody>\n",
       "</table>\n",
       "</div>"
      ],
      "text/plain": [
       "   Unnamed: 0  user_id  rating        date  movie_id\n",
       "0     4544200  1590329     3.0  2004-06-24      7627\n",
       "1     1880455   576570     4.0  2005-01-26     14606\n",
       "2     3723821  1757599     3.0  2005-06-03      9156\n",
       "3     2798566  1048852     4.0  2003-12-02     15107\n",
       "4     4760187  2187348     3.0  2005-07-18     14644\n",
       "5     1788227  1029245     3.0  2005-10-10     17169\n",
       "6      633589  1090134     4.0  2005-05-08      7620\n",
       "7     3071715   529406     2.0  2005-01-11     15582\n",
       "8     1933360   138807     1.0  2005-10-20      4979\n",
       "9     1840081  1096013     4.0  2005-08-23     13763"
      ]
     },
     "execution_count": 6,
     "metadata": {},
     "output_type": "execute_result"
    }
   ],
   "source": [
    "#df_rmse_train0.head(10)"
   ]
  },
  {
   "cell_type": "code",
   "execution_count": 7,
   "id": "efbb6d31-82ee-409c-9f18-d5699e1bdbcb",
   "metadata": {},
   "outputs": [
    {
     "data": {
      "text/html": [
       "<div>\n",
       "<style scoped>\n",
       "    .dataframe tbody tr th:only-of-type {\n",
       "        vertical-align: middle;\n",
       "    }\n",
       "\n",
       "    .dataframe tbody tr th {\n",
       "        vertical-align: top;\n",
       "    }\n",
       "\n",
       "    .dataframe thead th {\n",
       "        text-align: right;\n",
       "    }\n",
       "</style>\n",
       "<table border=\"1\" class=\"dataframe\">\n",
       "  <thead>\n",
       "    <tr style=\"text-align: right;\">\n",
       "      <th></th>\n",
       "      <th>Unnamed: 0</th>\n",
       "      <th>user_id</th>\n",
       "      <th>rating</th>\n",
       "      <th>date</th>\n",
       "      <th>movie_id</th>\n",
       "    </tr>\n",
       "  </thead>\n",
       "  <tbody>\n",
       "    <tr>\n",
       "      <th>0</th>\n",
       "      <td>642740</td>\n",
       "      <td>573762</td>\n",
       "      <td>4.0</td>\n",
       "      <td>2003-08-26</td>\n",
       "      <td>9438</td>\n",
       "    </tr>\n",
       "    <tr>\n",
       "      <th>1</th>\n",
       "      <td>2737204</td>\n",
       "      <td>1560019</td>\n",
       "      <td>4.0</td>\n",
       "      <td>2004-02-03</td>\n",
       "      <td>5760</td>\n",
       "    </tr>\n",
       "    <tr>\n",
       "      <th>2</th>\n",
       "      <td>4489424</td>\n",
       "      <td>2120159</td>\n",
       "      <td>1.0</td>\n",
       "      <td>2005-10-04</td>\n",
       "      <td>1542</td>\n",
       "    </tr>\n",
       "    <tr>\n",
       "      <th>3</th>\n",
       "      <td>2771061</td>\n",
       "      <td>1388182</td>\n",
       "      <td>1.0</td>\n",
       "      <td>2005-03-12</td>\n",
       "      <td>12034</td>\n",
       "    </tr>\n",
       "    <tr>\n",
       "      <th>4</th>\n",
       "      <td>2590429</td>\n",
       "      <td>142077</td>\n",
       "      <td>3.0</td>\n",
       "      <td>2005-10-10</td>\n",
       "      <td>15755</td>\n",
       "    </tr>\n",
       "    <tr>\n",
       "      <th>5</th>\n",
       "      <td>1877955</td>\n",
       "      <td>2139511</td>\n",
       "      <td>4.0</td>\n",
       "      <td>2005-10-10</td>\n",
       "      <td>4432</td>\n",
       "    </tr>\n",
       "    <tr>\n",
       "      <th>6</th>\n",
       "      <td>2821818</td>\n",
       "      <td>567989</td>\n",
       "      <td>4.0</td>\n",
       "      <td>2005-07-06</td>\n",
       "      <td>15758</td>\n",
       "    </tr>\n",
       "    <tr>\n",
       "      <th>7</th>\n",
       "      <td>4095949</td>\n",
       "      <td>2231354</td>\n",
       "      <td>3.0</td>\n",
       "      <td>2005-01-25</td>\n",
       "      <td>16668</td>\n",
       "    </tr>\n",
       "    <tr>\n",
       "      <th>8</th>\n",
       "      <td>952879</td>\n",
       "      <td>975377</td>\n",
       "      <td>4.0</td>\n",
       "      <td>2005-09-08</td>\n",
       "      <td>4432</td>\n",
       "    </tr>\n",
       "    <tr>\n",
       "      <th>9</th>\n",
       "      <td>2859300</td>\n",
       "      <td>1441072</td>\n",
       "      <td>4.0</td>\n",
       "      <td>2004-05-31</td>\n",
       "      <td>14218</td>\n",
       "    </tr>\n",
       "  </tbody>\n",
       "</table>\n",
       "</div>"
      ],
      "text/plain": [
       "   Unnamed: 0  user_id  rating        date  movie_id\n",
       "0      642740   573762     4.0  2003-08-26      9438\n",
       "1     2737204  1560019     4.0  2004-02-03      5760\n",
       "2     4489424  2120159     1.0  2005-10-04      1542\n",
       "3     2771061  1388182     1.0  2005-03-12     12034\n",
       "4     2590429   142077     3.0  2005-10-10     15755\n",
       "5     1877955  2139511     4.0  2005-10-10      4432\n",
       "6     2821818   567989     4.0  2005-07-06     15758\n",
       "7     4095949  2231354     3.0  2005-01-25     16668\n",
       "8      952879   975377     4.0  2005-09-08      4432\n",
       "9     2859300  1441072     4.0  2004-05-31     14218"
      ]
     },
     "execution_count": 7,
     "metadata": {},
     "output_type": "execute_result"
    }
   ],
   "source": [
    "#df_rmse_test0.head(10)"
   ]
  },
  {
   "cell_type": "code",
   "execution_count": 8,
   "id": "7ee3255e-3e77-49f9-a06e-16a57b1edeb6",
   "metadata": {},
   "outputs": [],
   "source": [
    "df_rmse_train0 = df_rmse_train0.drop('Unnamed: 0', axis=1)\n",
    "df_rmse_test0 = df_rmse_test0.drop('Unnamed: 0', axis=1)"
   ]
  },
  {
   "cell_type": "code",
   "execution_count": 9,
   "id": "6a2cefb5-b520-4861-8d27-6ff4e28d0a2e",
   "metadata": {},
   "outputs": [
    {
     "data": {
      "text/html": [
       "<div>\n",
       "<style scoped>\n",
       "    .dataframe tbody tr th:only-of-type {\n",
       "        vertical-align: middle;\n",
       "    }\n",
       "\n",
       "    .dataframe tbody tr th {\n",
       "        vertical-align: top;\n",
       "    }\n",
       "\n",
       "    .dataframe thead th {\n",
       "        text-align: right;\n",
       "    }\n",
       "</style>\n",
       "<table border=\"1\" class=\"dataframe\">\n",
       "  <thead>\n",
       "    <tr style=\"text-align: right;\">\n",
       "      <th></th>\n",
       "      <th>user_id</th>\n",
       "      <th>rating</th>\n",
       "      <th>date</th>\n",
       "      <th>movie_id</th>\n",
       "    </tr>\n",
       "  </thead>\n",
       "  <tbody>\n",
       "    <tr>\n",
       "      <th>0</th>\n",
       "      <td>1590329</td>\n",
       "      <td>3.0</td>\n",
       "      <td>2004-06-24</td>\n",
       "      <td>7627</td>\n",
       "    </tr>\n",
       "    <tr>\n",
       "      <th>1</th>\n",
       "      <td>576570</td>\n",
       "      <td>4.0</td>\n",
       "      <td>2005-01-26</td>\n",
       "      <td>14606</td>\n",
       "    </tr>\n",
       "    <tr>\n",
       "      <th>2</th>\n",
       "      <td>1757599</td>\n",
       "      <td>3.0</td>\n",
       "      <td>2005-06-03</td>\n",
       "      <td>9156</td>\n",
       "    </tr>\n",
       "    <tr>\n",
       "      <th>3</th>\n",
       "      <td>1048852</td>\n",
       "      <td>4.0</td>\n",
       "      <td>2003-12-02</td>\n",
       "      <td>15107</td>\n",
       "    </tr>\n",
       "    <tr>\n",
       "      <th>4</th>\n",
       "      <td>2187348</td>\n",
       "      <td>3.0</td>\n",
       "      <td>2005-07-18</td>\n",
       "      <td>14644</td>\n",
       "    </tr>\n",
       "  </tbody>\n",
       "</table>\n",
       "</div>"
      ],
      "text/plain": [
       "   user_id  rating        date  movie_id\n",
       "0  1590329     3.0  2004-06-24      7627\n",
       "1   576570     4.0  2005-01-26     14606\n",
       "2  1757599     3.0  2005-06-03      9156\n",
       "3  1048852     4.0  2003-12-02     15107\n",
       "4  2187348     3.0  2005-07-18     14644"
      ]
     },
     "execution_count": 9,
     "metadata": {},
     "output_type": "execute_result"
    }
   ],
   "source": [
    "#df_rmse_train0.head()"
   ]
  },
  {
   "cell_type": "code",
   "execution_count": 10,
   "id": "c8ba2b2f-fa2b-4e45-ba69-3cf75b662bbe",
   "metadata": {},
   "outputs": [
    {
     "data": {
      "text/html": [
       "<div>\n",
       "<style scoped>\n",
       "    .dataframe tbody tr th:only-of-type {\n",
       "        vertical-align: middle;\n",
       "    }\n",
       "\n",
       "    .dataframe tbody tr th {\n",
       "        vertical-align: top;\n",
       "    }\n",
       "\n",
       "    .dataframe thead th {\n",
       "        text-align: right;\n",
       "    }\n",
       "</style>\n",
       "<table border=\"1\" class=\"dataframe\">\n",
       "  <thead>\n",
       "    <tr style=\"text-align: right;\">\n",
       "      <th></th>\n",
       "      <th>user_id</th>\n",
       "      <th>rating</th>\n",
       "      <th>date</th>\n",
       "      <th>movie_id</th>\n",
       "    </tr>\n",
       "  </thead>\n",
       "  <tbody>\n",
       "    <tr>\n",
       "      <th>0</th>\n",
       "      <td>573762</td>\n",
       "      <td>4.0</td>\n",
       "      <td>2003-08-26</td>\n",
       "      <td>9438</td>\n",
       "    </tr>\n",
       "    <tr>\n",
       "      <th>1</th>\n",
       "      <td>1560019</td>\n",
       "      <td>4.0</td>\n",
       "      <td>2004-02-03</td>\n",
       "      <td>5760</td>\n",
       "    </tr>\n",
       "    <tr>\n",
       "      <th>2</th>\n",
       "      <td>2120159</td>\n",
       "      <td>1.0</td>\n",
       "      <td>2005-10-04</td>\n",
       "      <td>1542</td>\n",
       "    </tr>\n",
       "    <tr>\n",
       "      <th>3</th>\n",
       "      <td>1388182</td>\n",
       "      <td>1.0</td>\n",
       "      <td>2005-03-12</td>\n",
       "      <td>12034</td>\n",
       "    </tr>\n",
       "    <tr>\n",
       "      <th>4</th>\n",
       "      <td>142077</td>\n",
       "      <td>3.0</td>\n",
       "      <td>2005-10-10</td>\n",
       "      <td>15755</td>\n",
       "    </tr>\n",
       "  </tbody>\n",
       "</table>\n",
       "</div>"
      ],
      "text/plain": [
       "   user_id  rating        date  movie_id\n",
       "0   573762     4.0  2003-08-26      9438\n",
       "1  1560019     4.0  2004-02-03      5760\n",
       "2  2120159     1.0  2005-10-04      1542\n",
       "3  1388182     1.0  2005-03-12     12034\n",
       "4   142077     3.0  2005-10-10     15755"
      ]
     },
     "execution_count": 10,
     "metadata": {},
     "output_type": "execute_result"
    }
   ],
   "source": [
    "#df_rmse_test0.head()"
   ]
  },
  {
   "cell_type": "code",
   "execution_count": 12,
   "id": "1d5ee2b5-2cdf-4a7b-8166-5fe09ed94064",
   "metadata": {},
   "outputs": [],
   "source": [
    "df_rmse_train0 = df_rmse_train0[['user_id', 'movie_id', 'rating']]\n",
    "df_rmse_test0 = df_rmse_test0[['user_id', 'movie_id', 'rating']]"
   ]
  },
  {
   "cell_type": "code",
   "execution_count": 13,
   "id": "a2ab0b9e-ac1f-4c3a-bb36-272679b2afbe",
   "metadata": {},
   "outputs": [
    {
     "data": {
      "text/html": [
       "<div>\n",
       "<style scoped>\n",
       "    .dataframe tbody tr th:only-of-type {\n",
       "        vertical-align: middle;\n",
       "    }\n",
       "\n",
       "    .dataframe tbody tr th {\n",
       "        vertical-align: top;\n",
       "    }\n",
       "\n",
       "    .dataframe thead th {\n",
       "        text-align: right;\n",
       "    }\n",
       "</style>\n",
       "<table border=\"1\" class=\"dataframe\">\n",
       "  <thead>\n",
       "    <tr style=\"text-align: right;\">\n",
       "      <th></th>\n",
       "      <th>user_id</th>\n",
       "      <th>movie_id</th>\n",
       "      <th>rating</th>\n",
       "    </tr>\n",
       "  </thead>\n",
       "  <tbody>\n",
       "    <tr>\n",
       "      <th>0</th>\n",
       "      <td>1590329</td>\n",
       "      <td>7627</td>\n",
       "      <td>3.0</td>\n",
       "    </tr>\n",
       "    <tr>\n",
       "      <th>1</th>\n",
       "      <td>576570</td>\n",
       "      <td>14606</td>\n",
       "      <td>4.0</td>\n",
       "    </tr>\n",
       "    <tr>\n",
       "      <th>2</th>\n",
       "      <td>1757599</td>\n",
       "      <td>9156</td>\n",
       "      <td>3.0</td>\n",
       "    </tr>\n",
       "    <tr>\n",
       "      <th>3</th>\n",
       "      <td>1048852</td>\n",
       "      <td>15107</td>\n",
       "      <td>4.0</td>\n",
       "    </tr>\n",
       "    <tr>\n",
       "      <th>4</th>\n",
       "      <td>2187348</td>\n",
       "      <td>14644</td>\n",
       "      <td>3.0</td>\n",
       "    </tr>\n",
       "  </tbody>\n",
       "</table>\n",
       "</div>"
      ],
      "text/plain": [
       "   user_id  movie_id  rating\n",
       "0  1590329      7627     3.0\n",
       "1   576570     14606     4.0\n",
       "2  1757599      9156     3.0\n",
       "3  1048852     15107     4.0\n",
       "4  2187348     14644     3.0"
      ]
     },
     "execution_count": 13,
     "metadata": {},
     "output_type": "execute_result"
    }
   ],
   "source": [
    "#df_rmse_train0.head()"
   ]
  },
  {
   "cell_type": "code",
   "execution_count": 14,
   "id": "1729b1ee-a55b-4077-983a-b315aec97671",
   "metadata": {},
   "outputs": [
    {
     "data": {
      "text/html": [
       "<div>\n",
       "<style scoped>\n",
       "    .dataframe tbody tr th:only-of-type {\n",
       "        vertical-align: middle;\n",
       "    }\n",
       "\n",
       "    .dataframe tbody tr th {\n",
       "        vertical-align: top;\n",
       "    }\n",
       "\n",
       "    .dataframe thead th {\n",
       "        text-align: right;\n",
       "    }\n",
       "</style>\n",
       "<table border=\"1\" class=\"dataframe\">\n",
       "  <thead>\n",
       "    <tr style=\"text-align: right;\">\n",
       "      <th></th>\n",
       "      <th>user_id</th>\n",
       "      <th>movie_id</th>\n",
       "      <th>rating</th>\n",
       "    </tr>\n",
       "  </thead>\n",
       "  <tbody>\n",
       "    <tr>\n",
       "      <th>0</th>\n",
       "      <td>573762</td>\n",
       "      <td>9438</td>\n",
       "      <td>4.0</td>\n",
       "    </tr>\n",
       "    <tr>\n",
       "      <th>1</th>\n",
       "      <td>1560019</td>\n",
       "      <td>5760</td>\n",
       "      <td>4.0</td>\n",
       "    </tr>\n",
       "    <tr>\n",
       "      <th>2</th>\n",
       "      <td>2120159</td>\n",
       "      <td>1542</td>\n",
       "      <td>1.0</td>\n",
       "    </tr>\n",
       "    <tr>\n",
       "      <th>3</th>\n",
       "      <td>1388182</td>\n",
       "      <td>12034</td>\n",
       "      <td>1.0</td>\n",
       "    </tr>\n",
       "    <tr>\n",
       "      <th>4</th>\n",
       "      <td>142077</td>\n",
       "      <td>15755</td>\n",
       "      <td>3.0</td>\n",
       "    </tr>\n",
       "  </tbody>\n",
       "</table>\n",
       "</div>"
      ],
      "text/plain": [
       "   user_id  movie_id  rating\n",
       "0   573762      9438     4.0\n",
       "1  1560019      5760     4.0\n",
       "2  2120159      1542     1.0\n",
       "3  1388182     12034     1.0\n",
       "4   142077     15755     3.0"
      ]
     },
     "execution_count": 14,
     "metadata": {},
     "output_type": "execute_result"
    }
   ],
   "source": [
    "#df_rmse_test0.head()"
   ]
  },
  {
   "cell_type": "code",
   "execution_count": 21,
   "id": "913b9b7f-d3f2-4c0b-860a-1b2af8ccd7c7",
   "metadata": {},
   "outputs": [],
   "source": [
    "#df_rmse_train0['rating'] = df_rmse_train0['rating'].astype(float)\n",
    "#df_rmse_test0['rating'] = df_rmse_test0['rating'].astype(float)"
   ]
  },
  {
   "cell_type": "code",
   "execution_count": 18,
   "id": "1cae551b-62d4-4a57-9278-3cb12066f886",
   "metadata": {},
   "outputs": [],
   "source": [
    "#reader = Reader(rating_scale=(1,5))\n",
    "#train_rmse0 = Dataset.load_from_df(df_rmse_train0, reader)\n",
    "#test_rmse0 = Dataset.load_from_df(df_rmse_test0, reader)"
   ]
  },
  {
   "cell_type": "code",
   "execution_count": 20,
   "id": "9ec403d1-c142-403e-917b-5279e5a0ad7e",
   "metadata": {},
   "outputs": [],
   "source": [
    "#baseline_algo_1a = NormalPredictor()\n",
    "\n",
    "#baseline_algo_1a.fit(train_rmse0)\n",
    "#preds_1a = baseline_algo1a.test(test_rmse0)\n",
    "\n",
    "#baseline_algo_1b = NormalPredictor()\n",
    "\n",
    "#baseline_algo_1b.fit(test_rmse0)\n",
    "#preds_1b = baseline_algo_1b.test(train_rmse0)\n",
    "\n",
    "#rmse_1a = accuracy.rmse(preds_1a)\n",
    "#rmse_1b = accuracy.rmse(preds_1b)\n",
    "\n",
    "#print(rmse_1a)\n",
    "#print(rmse_1b)"
   ]
  },
  {
   "cell_type": "code",
   "execution_count": 22,
   "id": "f714ecb3-025e-43d1-b1cf-b7d647154030",
   "metadata": {},
   "outputs": [
    {
     "name": "stdout",
     "output_type": "stream",
     "text": [
      "/Users/alecclarkfeather/capstone_project\n"
     ]
    }
   ],
   "source": [
    "#!pwd"
   ]
  },
  {
   "cell_type": "code",
   "execution_count": 27,
   "id": "8c90d79a-c2bb-4de4-b532-d8f7e6f6d00a",
   "metadata": {},
   "outputs": [],
   "source": [
    "PATH = '/Users/alecclarkfeather/capstone_project/'\n",
    "\n",
    "os.mkdir(PATH + 'rmse_folds_actual')"
   ]
  },
  {
   "cell_type": "code",
   "execution_count": 28,
   "id": "fa245502-d2b8-4f6c-b2d0-bc08271f6ca0",
   "metadata": {},
   "outputs": [],
   "source": [
    "RMSE_PATH_ACTUAL = PATH + 'rmse_folds_actual/'\n",
    "df_rmse_train0.to_csv(RMSE_PATH_ACTUAL + 'actual_rmse_train0.csv', index=False, header=None)\n",
    "df_rmse_test0.to_csv(RMSE_PATH_ACTUAL + 'actual_rmse_test0.csv', index=False, header=None)"
   ]
  },
  {
   "cell_type": "code",
   "execution_count": 30,
   "id": "7967f9c1-8cc4-4bc3-80ee-96eade13ac0b",
   "metadata": {},
   "outputs": [
    {
     "name": "stdout",
     "output_type": "stream",
     "text": [
      "RMSE: 1.4778\n"
     ]
    }
   ],
   "source": [
    "reader = Reader(sep=',',rating_scale=(1,5))\n",
    "\n",
    "train_file = RMSE_PATH_ACTUAL + 'actual_rmse_train0.csv'\n",
    "test_file = RMSE_PATH_ACTUAL + 'actual_rmse_test0.csv'\n",
    "folds_files = [(train_file, test_file)]\n",
    "\n",
    "data = Dataset.load_from_folds(folds_files, reader=reader)\n",
    "\n",
    "pkf = PredefinedKFold()\n",
    "\n",
    "baseline_algo = NormalPredictor()\n",
    "\n",
    "for trainset, testset in pkf.split(data):\n",
    "    baseline_algo.fit(trainset)\n",
    "    preds = baseline_algo.test(testset)\n",
    "    accuracy.rmse(preds, verbose=True)"
   ]
  },
  {
   "cell_type": "code",
   "execution_count": 31,
   "id": "fc15ae4d-be15-4a90-ac9a-a9c6a08c9f0a",
   "metadata": {},
   "outputs": [
    {
     "name": "stdout",
     "output_type": "stream",
     "text": [
      "RMSE: 1.4775\n"
     ]
    }
   ],
   "source": [
    "reader = Reader(sep=',',rating_scale=(1,5))\n",
    "\n",
    "test_file = RMSE_PATH_ACTUAL + 'actual_rmse_train0.csv'\n",
    "train_file = RMSE_PATH_ACTUAL + 'actual_rmse_test0.csv'\n",
    "folds_files = [(train_file, test_file)]\n",
    "\n",
    "data = Dataset.load_from_folds(folds_files, reader=reader)\n",
    "\n",
    "pkf = PredefinedKFold()\n",
    "\n",
    "baseline_algo = NormalPredictor()\n",
    "\n",
    "for trainset, testset in pkf.split(data):\n",
    "    baseline_algo.fit(trainset)\n",
    "    preds = baseline_algo.test(testset)\n",
    "    accuracy.rmse(preds, verbose=True)"
   ]
  },
  {
   "cell_type": "code",
   "execution_count": 33,
   "id": "f4d3cfbd-92c8-4045-9806-d0cc5a76da96",
   "metadata": {},
   "outputs": [
    {
     "name": "stdout",
     "output_type": "stream",
     "text": [
      "Estimating biases using als...\n",
      "Computing the pearson_baseline similarity matrix...\n",
      "Done computing similarity matrix.\n",
      "RMSE: 1.0669\n"
     ]
    }
   ],
   "source": [
    "reader = Reader(sep=',',rating_scale=(1,5))\n",
    "\n",
    "train_file = RMSE_PATH_ACTUAL + 'actual_rmse_train0.csv'\n",
    "test_file = RMSE_PATH_ACTUAL + 'actual_rmse_test0.csv'\n",
    "folds_files = [(train_file, test_file)]\n",
    "\n",
    "data = Dataset.load_from_folds(folds_files, reader=reader)\n",
    "\n",
    "pkf = PredefinedKFold()\n",
    "\n",
    "sim_options = {\"name\": \"pearson_baseline\", \"user_based\": False}\n",
    "baseline_algo = KNNBaseline(sim_options=sim_options)\n",
    "\n",
    "for trainset, testset in pkf.split(data):\n",
    "    baseline_algo.fit(trainset)\n",
    "    preds = baseline_algo.test(testset)\n",
    "    accuracy.rmse(preds, verbose=True)"
   ]
  },
  {
   "cell_type": "code",
   "execution_count": 34,
   "id": "beaa307a-9c23-4e5c-b09c-88ce62987917",
   "metadata": {},
   "outputs": [
    {
     "name": "stdout",
     "output_type": "stream",
     "text": [
      "Estimating biases using als...\n",
      "Computing the pearson_baseline similarity matrix...\n",
      "Done computing similarity matrix.\n",
      "RMSE: 1.0674\n"
     ]
    }
   ],
   "source": [
    "reader = Reader(sep=',',rating_scale=(1,5))\n",
    "\n",
    "test_file = RMSE_PATH_ACTUAL + 'actual_rmse_train0.csv'\n",
    "train_file = RMSE_PATH_ACTUAL + 'actual_rmse_test0.csv'\n",
    "folds_files = [(train_file, test_file)]\n",
    "\n",
    "data = Dataset.load_from_folds(folds_files, reader=reader)\n",
    "\n",
    "pkf = PredefinedKFold()\n",
    "\n",
    "sim_options = {\"name\": \"pearson_baseline\", \"user_based\": False}\n",
    "baseline_algo = KNNBaseline(sim_options=sim_options)\n",
    "\n",
    "for trainset, testset in pkf.split(data):\n",
    "    baseline_algo.fit(trainset)\n",
    "    preds = baseline_algo.test(testset)\n",
    "    accuracy.rmse(preds, verbose=True)"
   ]
  },
  {
   "cell_type": "code",
   "execution_count": 35,
   "id": "dde1a0fd-8b3a-4e6f-bc02-a2ef96155330",
   "metadata": {},
   "outputs": [
    {
     "name": "stdout",
     "output_type": "stream",
     "text": [
      "RMSE: 1.0063\n"
     ]
    }
   ],
   "source": [
    "reader = Reader(sep=',',rating_scale=(1,5))\n",
    "\n",
    "train_file = RMSE_PATH_ACTUAL + 'actual_rmse_train0.csv'\n",
    "test_file = RMSE_PATH_ACTUAL + 'actual_rmse_test0.csv'\n",
    "folds_files = [(train_file, test_file)]\n",
    "\n",
    "data = Dataset.load_from_folds(folds_files, reader=reader)\n",
    "\n",
    "pkf = PredefinedKFold()\n",
    "\n",
    "#sim_options = {\"name\": \"pearson_baseline\", \"user_based\": False}\n",
    "baseline_algo = SVD()\n",
    "\n",
    "for trainset, testset in pkf.split(data):\n",
    "    baseline_algo.fit(trainset)\n",
    "    preds = baseline_algo.test(testset)\n",
    "    accuracy.rmse(preds, verbose=True)"
   ]
  },
  {
   "cell_type": "code",
   "execution_count": 36,
   "id": "3b823285-f54c-46b4-a4aa-8e35c1cbf182",
   "metadata": {},
   "outputs": [
    {
     "name": "stdout",
     "output_type": "stream",
     "text": [
      "RMSE: 1.0065\n"
     ]
    }
   ],
   "source": [
    "reader = Reader(sep=',',rating_scale=(1,5))\n",
    "\n",
    "test_file = RMSE_PATH_ACTUAL + 'actual_rmse_train0.csv'\n",
    "train_file = RMSE_PATH_ACTUAL + 'actual_rmse_test0.csv'\n",
    "folds_files = [(train_file, test_file)]\n",
    "\n",
    "data = Dataset.load_from_folds(folds_files, reader=reader)\n",
    "\n",
    "pkf = PredefinedKFold()\n",
    "\n",
    "#sim_options = {\"name\": \"pearson_baseline\", \"user_based\": False}\n",
    "baseline_algo = SVD()\n",
    "\n",
    "for trainset, testset in pkf.split(data):\n",
    "    baseline_algo.fit(trainset)\n",
    "    preds = baseline_algo.test(testset)\n",
    "    accuracy.rmse(preds, verbose=True)"
   ]
  },
  {
   "cell_type": "code",
   "execution_count": 37,
   "id": "77b9430e-c982-46be-9307-4123bb1b911a",
   "metadata": {},
   "outputs": [
    {
     "name": "stdout",
     "output_type": "stream",
     "text": [
      "RMSE: 1.0068\n"
     ]
    }
   ],
   "source": [
    "reader = Reader(sep=',',rating_scale=(1,5))\n",
    "\n",
    "test_file = RMSE_PATH_ACTUAL + 'actual_rmse_train0.csv'\n",
    "train_file = RMSE_PATH_ACTUAL + 'actual_rmse_test0.csv'\n",
    "folds_files = [(train_file, test_file)]\n",
    "\n",
    "data = Dataset.load_from_folds(folds_files, reader=reader)\n",
    "\n",
    "pkf = PredefinedKFold()\n",
    "\n",
    "#sim_options = {\"name\": \"pearson_baseline\", \"user_based\": False}\n",
    "baseline_algo = SVD()\n",
    "scores = []\n",
    "\n",
    "for trainset, testset in pkf.split(data):\n",
    "    baseline_algo.fit(trainset)\n",
    "    preds = baseline_algo.test(testset)\n",
    "    score = accuracy.rmse(preds, verbose=True)\n",
    "    scores.append(score)"
   ]
  },
  {
   "cell_type": "code",
   "execution_count": 38,
   "id": "5f30fbf1-f345-498b-98e4-266e314ef8d7",
   "metadata": {},
   "outputs": [
    {
     "data": {
      "text/plain": [
       "[1.0068391121351412]"
      ]
     },
     "execution_count": 38,
     "metadata": {},
     "output_type": "execute_result"
    }
   ],
   "source": [
    "#scores"
   ]
  },
  {
   "cell_type": "code",
   "execution_count": 44,
   "id": "761f4bdd-94cb-4949-97a4-7fad9d4d17b7",
   "metadata": {},
   "outputs": [],
   "source": [
    "train_rmse0 = pd.read_csv(RMSE_PATH_ACTUAL + 'actual_rmse_train0.csv', header=None)\n",
    "test_rmse0 = pd.read_csv(RMSE_PATH_ACTUAL + 'actual_rmse_test0.csv', header=None)"
   ]
  },
  {
   "cell_type": "code",
   "execution_count": 45,
   "id": "e3d177e9-bb5b-4201-94cd-42b9ebfd3340",
   "metadata": {},
   "outputs": [
    {
     "data": {
      "text/html": [
       "<div>\n",
       "<style scoped>\n",
       "    .dataframe tbody tr th:only-of-type {\n",
       "        vertical-align: middle;\n",
       "    }\n",
       "\n",
       "    .dataframe tbody tr th {\n",
       "        vertical-align: top;\n",
       "    }\n",
       "\n",
       "    .dataframe thead th {\n",
       "        text-align: right;\n",
       "    }\n",
       "</style>\n",
       "<table border=\"1\" class=\"dataframe\">\n",
       "  <thead>\n",
       "    <tr style=\"text-align: right;\">\n",
       "      <th></th>\n",
       "      <th>0</th>\n",
       "      <th>1</th>\n",
       "      <th>2</th>\n",
       "    </tr>\n",
       "  </thead>\n",
       "  <tbody>\n",
       "    <tr>\n",
       "      <th>0</th>\n",
       "      <td>1590329</td>\n",
       "      <td>7627</td>\n",
       "      <td>3.0</td>\n",
       "    </tr>\n",
       "    <tr>\n",
       "      <th>1</th>\n",
       "      <td>576570</td>\n",
       "      <td>14606</td>\n",
       "      <td>4.0</td>\n",
       "    </tr>\n",
       "    <tr>\n",
       "      <th>2</th>\n",
       "      <td>1757599</td>\n",
       "      <td>9156</td>\n",
       "      <td>3.0</td>\n",
       "    </tr>\n",
       "    <tr>\n",
       "      <th>3</th>\n",
       "      <td>1048852</td>\n",
       "      <td>15107</td>\n",
       "      <td>4.0</td>\n",
       "    </tr>\n",
       "    <tr>\n",
       "      <th>4</th>\n",
       "      <td>2187348</td>\n",
       "      <td>14644</td>\n",
       "      <td>3.0</td>\n",
       "    </tr>\n",
       "  </tbody>\n",
       "</table>\n",
       "</div>"
      ],
      "text/plain": [
       "         0      1    2\n",
       "0  1590329   7627  3.0\n",
       "1   576570  14606  4.0\n",
       "2  1757599   9156  3.0\n",
       "3  1048852  15107  4.0\n",
       "4  2187348  14644  3.0"
      ]
     },
     "execution_count": 45,
     "metadata": {},
     "output_type": "execute_result"
    }
   ],
   "source": [
    "#train_rmse0.head()"
   ]
  },
  {
   "cell_type": "code",
   "execution_count": 46,
   "id": "eb3a3925-d89e-4a0d-8068-ecdff0973ac3",
   "metadata": {},
   "outputs": [
    {
     "data": {
      "text/html": [
       "<div>\n",
       "<style scoped>\n",
       "    .dataframe tbody tr th:only-of-type {\n",
       "        vertical-align: middle;\n",
       "    }\n",
       "\n",
       "    .dataframe tbody tr th {\n",
       "        vertical-align: top;\n",
       "    }\n",
       "\n",
       "    .dataframe thead th {\n",
       "        text-align: right;\n",
       "    }\n",
       "</style>\n",
       "<table border=\"1\" class=\"dataframe\">\n",
       "  <thead>\n",
       "    <tr style=\"text-align: right;\">\n",
       "      <th></th>\n",
       "      <th>0</th>\n",
       "      <th>1</th>\n",
       "      <th>2</th>\n",
       "    </tr>\n",
       "  </thead>\n",
       "  <tbody>\n",
       "    <tr>\n",
       "      <th>0</th>\n",
       "      <td>573762</td>\n",
       "      <td>9438</td>\n",
       "      <td>4.0</td>\n",
       "    </tr>\n",
       "    <tr>\n",
       "      <th>1</th>\n",
       "      <td>1560019</td>\n",
       "      <td>5760</td>\n",
       "      <td>4.0</td>\n",
       "    </tr>\n",
       "    <tr>\n",
       "      <th>2</th>\n",
       "      <td>2120159</td>\n",
       "      <td>1542</td>\n",
       "      <td>1.0</td>\n",
       "    </tr>\n",
       "    <tr>\n",
       "      <th>3</th>\n",
       "      <td>1388182</td>\n",
       "      <td>12034</td>\n",
       "      <td>1.0</td>\n",
       "    </tr>\n",
       "    <tr>\n",
       "      <th>4</th>\n",
       "      <td>142077</td>\n",
       "      <td>15755</td>\n",
       "      <td>3.0</td>\n",
       "    </tr>\n",
       "  </tbody>\n",
       "</table>\n",
       "</div>"
      ],
      "text/plain": [
       "         0      1    2\n",
       "0   573762   9438  4.0\n",
       "1  1560019   5760  4.0\n",
       "2  2120159   1542  1.0\n",
       "3  1388182  12034  1.0\n",
       "4   142077  15755  3.0"
      ]
     },
     "execution_count": 46,
     "metadata": {},
     "output_type": "execute_result"
    }
   ],
   "source": [
    "#test_rmse0.head()"
   ]
  },
  {
   "cell_type": "code",
   "execution_count": 47,
   "id": "007ad4f2-2d5a-44ba-8d11-6a1f22a36234",
   "metadata": {},
   "outputs": [],
   "source": [
    "train_rmse0.columns = ['user_id', 'movie_id', 'rating']\n",
    "test_rmse0.columns = ['user_id', 'movie_id', 'rating']"
   ]
  },
  {
   "cell_type": "code",
   "execution_count": 50,
   "id": "ad4bb815-704f-485c-8497-42d49322e8f8",
   "metadata": {},
   "outputs": [],
   "source": [
    "train_movie_ids = list(train_rmse0['movie_id'].unique())\n",
    "test_movie_ids = list(test_rmse0['movie_id'].unique())\n",
    "\n",
    "#print(set(train_movie_ids)==set(test_movie_ids))"
   ]
  },
  {
   "cell_type": "code",
   "execution_count": 51,
   "id": "d758cd58-4154-451c-ac48-4c0c7dc3ee01",
   "metadata": {},
   "outputs": [],
   "source": [
    "#train_movie_ids"
   ]
  },
  {
   "cell_type": "code",
   "execution_count": 53,
   "id": "f895f119-b6af-493b-8bb1-72d195bf0fbf",
   "metadata": {},
   "outputs": [],
   "source": [
    "#set(train_movie_ids).difference(set(test_movie_ids))"
   ]
  },
  {
   "cell_type": "code",
   "execution_count": 54,
   "id": "d8b4657d-d4bd-441d-91d9-4b803c78b2a5",
   "metadata": {},
   "outputs": [],
   "source": [
    "#all_movie_ids = set(train_movie_ids).union(set(test_movie_ids))"
   ]
  },
  {
   "cell_type": "code",
   "execution_count": 55,
   "id": "3f60ae60-d5cc-4915-8356-b2a2958c3d47",
   "metadata": {},
   "outputs": [],
   "source": [
    "#all_movie_ids = np.array(all_movie_ids)"
   ]
  },
  {
   "cell_type": "code",
   "execution_count": 56,
   "id": "fe7676bd-a70e-4df6-adf5-87a738f61f9f",
   "metadata": {},
   "outputs": [],
   "source": [
    "train_user_ids = list(train_rmse0['user_id'].unique())\n",
    "test_user_ids = list(test_rmse0['user_id'].unique())"
   ]
  },
  {
   "cell_type": "code",
   "execution_count": 57,
   "id": "8d7f7dde-c398-49dd-97ce-892c723e15cb",
   "metadata": {},
   "outputs": [
    {
     "name": "stdout",
     "output_type": "stream",
     "text": [
      "False\n"
     ]
    }
   ],
   "source": [
    "#print(set(train_user_ids)==set(test_user_ids))"
   ]
  },
  {
   "cell_type": "code",
   "execution_count": 61,
   "id": "30971e77-2813-445d-bd05-526acf84f8ee",
   "metadata": {},
   "outputs": [
    {
     "data": {
      "text/plain": [
       "883"
      ]
     },
     "execution_count": 61,
     "metadata": {},
     "output_type": "execute_result"
    }
   ],
   "source": [
    "#len(set(train_user_ids).difference(set(test_user_ids)))"
   ]
  },
  {
   "cell_type": "code",
   "execution_count": 62,
   "id": "7c71d9af-4e9b-484a-bb43-f3ac332b0eec",
   "metadata": {},
   "outputs": [],
   "source": [
    "#all_user_ids = set(train_user_ids).union(set(test_user_ids))"
   ]
  },
  {
   "cell_type": "code",
   "execution_count": 63,
   "id": "c55a48dd-46e2-484e-ab05-885e6974c4bc",
   "metadata": {},
   "outputs": [],
   "source": [
    "#all_user_ids = np.array(all_user_ids)"
   ]
  },
  {
   "cell_type": "code",
   "execution_count": 66,
   "id": "933c63ba-08b9-4333-a639-15d8a13537eb",
   "metadata": {},
   "outputs": [],
   "source": [
    "#all_user_ids"
   ]
  },
  {
   "cell_type": "code",
   "execution_count": 70,
   "id": "18ee9b82-35b2-4f64-b348-8df62e98e24d",
   "metadata": {},
   "outputs": [],
   "source": [
    "#all_user_ids = list(all_user_ids)\n",
    "#all_user_ids"
   ]
  },
  {
   "cell_type": "code",
   "execution_count": 75,
   "id": "d3ace6dc-c6e7-4b6b-b1f4-57c396783c40",
   "metadata": {},
   "outputs": [],
   "source": [
    "for movie in test_movie_ids:\n",
    "    if movie not in train_movie_ids:\n",
    "        train_movie_ids.append(movie)"
   ]
  },
  {
   "cell_type": "code",
   "execution_count": 76,
   "id": "449af281-09ed-4de9-8fd6-98cf5179932f",
   "metadata": {},
   "outputs": [],
   "source": [
    "for user in test_user_ids:\n",
    "    if user not in train_user_ids:\n",
    "        train_user_ids.append(user)"
   ]
  },
  {
   "cell_type": "code",
   "execution_count": 78,
   "id": "09b04261-4740-4ce8-ad4e-32ddd5d1e13d",
   "metadata": {},
   "outputs": [
    {
     "data": {
      "text/plain": [
       "15639"
      ]
     },
     "execution_count": 78,
     "metadata": {},
     "output_type": "execute_result"
    }
   ],
   "source": [
    "#len(train_movie_ids)"
   ]
  },
  {
   "cell_type": "code",
   "execution_count": 162,
   "id": "8475d1b9-5c9b-439f-ac6b-2e0ca30c5348",
   "metadata": {},
   "outputs": [],
   "source": [
    "class DeepRecRmseModel(tf.keras.Model):\n",
    "    \n",
    "    def __init__(self):\n",
    "        super().__init__()\n",
    "        embedding_dimension = 16\n",
    "        \n",
    "        self.user_embeddings = tf.keras.Sequential([\n",
    "            tf.keras.layers.IntegerLookup(vocabulary=train_user_ids, mask_token=None),\n",
    "            tf.keras.layers.Embedding(len(train_user_ids)+1, embedding_dimension)\n",
    "        ])\n",
    "        \n",
    "        self.movie_embeddings = tf.keras.Sequential([\n",
    "            tf.keras.layers.IntegerLookup(vocabulary=train_movie_ids, mask_token=None),\n",
    "            tf.keras.layers.Embedding(len(train_movie_ids)+1, embedding_dimension)\n",
    "        ])\n",
    "        \n",
    "        self.ratings = tf.keras.Sequential([\n",
    "            tf.keras.layers.Dense(32, activation='relu'),\n",
    "            tf.keras.layers.Dense(16, activation='relu'),\n",
    "            tf.keras.layers.Dense(1)\n",
    "        ])\n",
    "        \n",
    "    def call(self, inputs):\n",
    "        user_id, movie_id = inputs\n",
    "        user_embedding = self.user_embeddings(user_id)\n",
    "        movie_embedding = self.movie_embeddings(movie_id)\n",
    "        return self.ratings(tf.concat([tf.reshape(user_embedding, shape=[-1,1]), \n",
    "                                       tf.reshape(movie_embedding, shape=[-1,1])], axis=1))"
   ]
  },
  {
   "cell_type": "code",
   "execution_count": null,
   "id": "5ecbaede-fe8c-47e0-a2cd-64b4ed0c3fc0",
   "metadata": {},
   "outputs": [],
   "source": [
    "#task = tfrs.tasks.Ranking(loss=tf.keras.losses.MeanSquaredError(),\n",
    "                         #metrics=[tf.keras.metrics.RootMeanSquaredError()])"
   ]
  },
  {
   "cell_type": "code",
   "execution_count": 163,
   "id": "b6f8055d-72ee-498a-97bd-72be891a5d44",
   "metadata": {},
   "outputs": [],
   "source": [
    "class NetflixRmseModel(tfrs.models.Model):\n",
    "    \n",
    "    def __init__(self):\n",
    "        super().__init__()\n",
    "        self.rmse_model: tf.keras.Model = DeepRecRmseModel()\n",
    "        self.task: tf.keras.layers.Layer = tfrs.tasks.Ranking(loss=tf.keras.losses.MeanSquaredError(),\n",
    "                                                             metrics=[tf.keras.metrics.RootMeanSquaredError()])\n",
    "        \n",
    "    def call(self, features: Dict[str, tf.Tensor]) -> tf.Tensor:\n",
    "        return self.rmse_model((features['user_id'], features['movie_id']))\n",
    "    \n",
    "    def compute_loss(self, features: Dict[Text, tf.Tensor], training=False) -> tf.Tensor:\n",
    "        labels = features.pop('rating')\n",
    "        predicted_ratings = self(features)\n",
    "        return self.task(labels=labels, predictions=predicted_ratings)\n",
    "    "
   ]
  },
  {
   "cell_type": "code",
   "execution_count": 164,
   "id": "48167337-d4fd-42ba-bea5-8902dae972a4",
   "metadata": {},
   "outputs": [],
   "source": [
    "deep_baseline_model = NetflixRmseModel()\n",
    "deep_baseline_model.compile(optimizer=tf.keras.optimizers.Adagrad(learning_rate=0.3))"
   ]
  },
  {
   "cell_type": "code",
   "execution_count": 87,
   "id": "e68a0612-10e4-4c25-85da-afd6f342c628",
   "metadata": {},
   "outputs": [],
   "source": [
    "#train_rmse0_tf = train_rmse0.map(lambda x: {\n",
    "    #'user_id': x['user_id'],\n",
    "   # 'movie_id': x['movie_id'],\n",
    "    #'rating': x['rating']\n",
    "#})"
   ]
  },
  {
   "cell_type": "code",
   "execution_count": 86,
   "id": "fa0cde44-9912-43c9-a63a-e280f4282928",
   "metadata": {},
   "outputs": [],
   "source": [
    "#history_baseline = deep_baseline_model.fit(tf.convert_to_tensor(train_rmse0.values), epochs=3, verbose=2)"
   ]
  },
  {
   "cell_type": "code",
   "execution_count": 165,
   "id": "f9cf5182-de9e-41a8-83e1-4c10917ae078",
   "metadata": {},
   "outputs": [],
   "source": [
    "train_rmse0_tf = tf.data.Dataset.from_tensor_slices(dict(train_rmse0))"
   ]
  },
  {
   "cell_type": "code",
   "execution_count": 166,
   "id": "7f2b1ee0-3546-44ff-8b8c-50c81c1d5066",
   "metadata": {},
   "outputs": [
    {
     "name": "stdout",
     "output_type": "stream",
     "text": [
      "{'user_id': <tf.Tensor: shape=(), dtype=int64, numpy=1590329>, 'movie_id': <tf.Tensor: shape=(), dtype=int64, numpy=7627>, 'rating': <tf.Tensor: shape=(), dtype=float64, numpy=3.0>}\n",
      "{'user_id': <tf.Tensor: shape=(), dtype=int64, numpy=576570>, 'movie_id': <tf.Tensor: shape=(), dtype=int64, numpy=14606>, 'rating': <tf.Tensor: shape=(), dtype=float64, numpy=4.0>}\n",
      "{'user_id': <tf.Tensor: shape=(), dtype=int64, numpy=1757599>, 'movie_id': <tf.Tensor: shape=(), dtype=int64, numpy=9156>, 'rating': <tf.Tensor: shape=(), dtype=float64, numpy=3.0>}\n",
      "{'user_id': <tf.Tensor: shape=(), dtype=int64, numpy=1048852>, 'movie_id': <tf.Tensor: shape=(), dtype=int64, numpy=15107>, 'rating': <tf.Tensor: shape=(), dtype=float64, numpy=4.0>}\n",
      "{'user_id': <tf.Tensor: shape=(), dtype=int64, numpy=2187348>, 'movie_id': <tf.Tensor: shape=(), dtype=int64, numpy=14644>, 'rating': <tf.Tensor: shape=(), dtype=float64, numpy=3.0>}\n"
     ]
    }
   ],
   "source": [
    "for x in train_rmse0_tf.take(5):\n",
    "    print(x)"
   ]
  },
  {
   "cell_type": "code",
   "execution_count": 167,
   "id": "a3de3450-0414-4b66-813d-c53a55f3f54e",
   "metadata": {},
   "outputs": [],
   "source": [
    "train_rmse0_tf = train_rmse0_tf.map(lambda x: {'user_id': x['user_id'],\n",
    "    'movie_id': x['movie_id'],\n",
    "    'rating': x['rating']\n",
    "})"
   ]
  },
  {
   "cell_type": "code",
   "execution_count": 152,
   "id": "50de3f2a-c6c9-47df-9c92-f9376cd88987",
   "metadata": {},
   "outputs": [],
   "source": [
    "#train_rmse0_tf_cache = train_rmse0_tf.cache()"
   ]
  },
  {
   "cell_type": "code",
   "execution_count": 169,
   "id": "23167211-7df5-437a-b31b-a20e11b614b0",
   "metadata": {},
   "outputs": [],
   "source": [
    "#history_baseline = deep_baseline_model.fit(train_rmse0_tf, epochs=1, batch_size=20000)"
   ]
  },
  {
   "cell_type": "code",
   "execution_count": null,
   "id": "0a86a159-dda7-40e8-a1a6-6b6aa6cf6b1f",
   "metadata": {},
   "outputs": [],
   "source": []
  }
 ],
 "metadata": {
  "kernelspec": {
   "display_name": "Python 3",
   "language": "python",
   "name": "python3"
  },
  "language_info": {
   "codemirror_mode": {
    "name": "ipython",
    "version": 3
   },
   "file_extension": ".py",
   "mimetype": "text/x-python",
   "name": "python",
   "nbconvert_exporter": "python",
   "pygments_lexer": "ipython3",
   "version": "3.8.8"
  }
 },
 "nbformat": 4,
 "nbformat_minor": 5
}
