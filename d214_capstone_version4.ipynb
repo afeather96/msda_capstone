{
 "cells": [
  {
   "cell_type": "code",
   "execution_count": 17,
   "id": "e85aefb9-5b8a-49f4-afb6-19cfe84bf0db",
   "metadata": {},
   "outputs": [],
   "source": [
    "import pandas as pd\n",
    "import numpy as np\n",
    "import matplotlib.pyplot as plt\n",
    "import seaborn as sns\n",
    "from collections import deque\n",
    "from surprise import Dataset, NormalPredictor, Reader\n",
    "from surprise.model_selection import cross_validate\n",
    "import os\n",
    "from sklearn.model_selection import train_test_split\n",
    "import pickle\n",
    "from surprise import accuracy\n",
    "from surprise import accuracy, Dataset, Reader, SVD, KNNBaseline\n",
    "from surprise.model_selection import PredefinedKFold\n",
    "import pprint\n",
    "import tempfile\n",
    "from typing import Dict, Text\n",
    "import tensorflow as tf\n",
    "import tensorflow_recommenders as tfrs\n",
    "from collections import defaultdict"
   ]
  },
  {
   "cell_type": "code",
   "execution_count": 2,
   "id": "e045073d-0bb1-4de5-b849-5902819cce24",
   "metadata": {},
   "outputs": [],
   "source": [
    "movie_titles = pd.read_csv('movie_titles.csv', header=None, encoding='ISO-8859-1', \n",
    "                          names=['movie_id', 'year', 'title', 'description1', 'description2',\n",
    "                                'description3'])\n",
    "\n",
    "movie_titles = movie_titles.drop(columns=['description1', 'description2', 'description3'], axis=1)"
   ]
  },
  {
   "cell_type": "code",
   "execution_count": 3,
   "id": "9d4acf32-52c3-4246-92aa-3d8a9cf1d0f0",
   "metadata": {},
   "outputs": [
    {
     "name": "stdout",
     "output_type": "stream",
     "text": [
      "/Users/alecclarkfeather/capstone_project\n"
     ]
    }
   ],
   "source": [
    "#!pwd"
   ]
  },
  {
   "cell_type": "code",
   "execution_count": 4,
   "id": "2d8a230a-2446-4668-8803-e246252cdf0a",
   "metadata": {},
   "outputs": [],
   "source": [
    "PATH = '/Users/alecclarkfeather/capstone_project/'\n",
    "\n",
    "train_hit_rate0 = pd.read_csv(PATH + 'hit_rate_train_test_folds/train_df_hit_rate0.csv')\n",
    "test_hit_rate0 = pd.read_csv(PATH + 'hit_rate_train_test_folds/test_df_hit_rate0.csv')"
   ]
  },
  {
   "cell_type": "code",
   "execution_count": 5,
   "id": "88167924-ca19-4db5-831d-bb403829421d",
   "metadata": {},
   "outputs": [
    {
     "data": {
      "text/html": [
       "<div>\n",
       "<style scoped>\n",
       "    .dataframe tbody tr th:only-of-type {\n",
       "        vertical-align: middle;\n",
       "    }\n",
       "\n",
       "    .dataframe tbody tr th {\n",
       "        vertical-align: top;\n",
       "    }\n",
       "\n",
       "    .dataframe thead th {\n",
       "        text-align: right;\n",
       "    }\n",
       "</style>\n",
       "<table border=\"1\" class=\"dataframe\">\n",
       "  <thead>\n",
       "    <tr style=\"text-align: right;\">\n",
       "      <th></th>\n",
       "      <th>Unnamed: 0</th>\n",
       "      <th>user_id</th>\n",
       "      <th>rating</th>\n",
       "      <th>date</th>\n",
       "      <th>movie_id</th>\n",
       "      <th>top_rated</th>\n",
       "    </tr>\n",
       "  </thead>\n",
       "  <tbody>\n",
       "    <tr>\n",
       "      <th>0</th>\n",
       "      <td>653142</td>\n",
       "      <td>826574</td>\n",
       "      <td>4.0</td>\n",
       "      <td>2003-11-06</td>\n",
       "      <td>9729</td>\n",
       "      <td>0</td>\n",
       "    </tr>\n",
       "    <tr>\n",
       "      <th>1</th>\n",
       "      <td>4513338</td>\n",
       "      <td>2200645</td>\n",
       "      <td>4.0</td>\n",
       "      <td>2005-11-06</td>\n",
       "      <td>1719</td>\n",
       "      <td>0</td>\n",
       "    </tr>\n",
       "    <tr>\n",
       "      <th>2</th>\n",
       "      <td>3242458</td>\n",
       "      <td>2150434</td>\n",
       "      <td>5.0</td>\n",
       "      <td>2005-09-30</td>\n",
       "      <td>5356</td>\n",
       "      <td>0</td>\n",
       "    </tr>\n",
       "    <tr>\n",
       "      <th>3</th>\n",
       "      <td>3874119</td>\n",
       "      <td>2142065</td>\n",
       "      <td>3.0</td>\n",
       "      <td>2003-02-12</td>\n",
       "      <td>8753</td>\n",
       "      <td>0</td>\n",
       "    </tr>\n",
       "    <tr>\n",
       "      <th>4</th>\n",
       "      <td>2493566</td>\n",
       "      <td>867086</td>\n",
       "      <td>4.0</td>\n",
       "      <td>2005-04-24</td>\n",
       "      <td>6721</td>\n",
       "      <td>0</td>\n",
       "    </tr>\n",
       "  </tbody>\n",
       "</table>\n",
       "</div>"
      ],
      "text/plain": [
       "   Unnamed: 0  user_id  rating        date  movie_id  top_rated\n",
       "0      653142   826574     4.0  2003-11-06      9729          0\n",
       "1     4513338  2200645     4.0  2005-11-06      1719          0\n",
       "2     3242458  2150434     5.0  2005-09-30      5356          0\n",
       "3     3874119  2142065     3.0  2003-02-12      8753          0\n",
       "4     2493566   867086     4.0  2005-04-24      6721          0"
      ]
     },
     "execution_count": 5,
     "metadata": {},
     "output_type": "execute_result"
    }
   ],
   "source": [
    "#train_hit_rate0.head()"
   ]
  },
  {
   "cell_type": "code",
   "execution_count": 6,
   "id": "89bf3c81-5315-4aa5-97ef-3e7b50a999d2",
   "metadata": {},
   "outputs": [
    {
     "data": {
      "text/html": [
       "<div>\n",
       "<style scoped>\n",
       "    .dataframe tbody tr th:only-of-type {\n",
       "        vertical-align: middle;\n",
       "    }\n",
       "\n",
       "    .dataframe tbody tr th {\n",
       "        vertical-align: top;\n",
       "    }\n",
       "\n",
       "    .dataframe thead th {\n",
       "        text-align: right;\n",
       "    }\n",
       "</style>\n",
       "<table border=\"1\" class=\"dataframe\">\n",
       "  <thead>\n",
       "    <tr style=\"text-align: right;\">\n",
       "      <th></th>\n",
       "      <th>Unnamed: 0</th>\n",
       "      <th>user_id</th>\n",
       "      <th>rating</th>\n",
       "      <th>date</th>\n",
       "      <th>movie_id</th>\n",
       "      <th>top_rated</th>\n",
       "    </tr>\n",
       "  </thead>\n",
       "  <tbody>\n",
       "    <tr>\n",
       "      <th>0</th>\n",
       "      <td>3407090</td>\n",
       "      <td>1667994</td>\n",
       "      <td>3.0</td>\n",
       "      <td>2004-05-08</td>\n",
       "      <td>7904</td>\n",
       "      <td>0</td>\n",
       "    </tr>\n",
       "    <tr>\n",
       "      <th>1</th>\n",
       "      <td>1201432</td>\n",
       "      <td>1105606</td>\n",
       "      <td>2.0</td>\n",
       "      <td>2004-07-05</td>\n",
       "      <td>10359</td>\n",
       "      <td>0</td>\n",
       "    </tr>\n",
       "    <tr>\n",
       "      <th>2</th>\n",
       "      <td>1313034</td>\n",
       "      <td>2129781</td>\n",
       "      <td>4.0</td>\n",
       "      <td>2004-12-06</td>\n",
       "      <td>8636</td>\n",
       "      <td>0</td>\n",
       "    </tr>\n",
       "    <tr>\n",
       "      <th>3</th>\n",
       "      <td>2478179</td>\n",
       "      <td>1129575</td>\n",
       "      <td>4.0</td>\n",
       "      <td>2005-08-22</td>\n",
       "      <td>2519</td>\n",
       "      <td>0</td>\n",
       "    </tr>\n",
       "    <tr>\n",
       "      <th>4</th>\n",
       "      <td>4818390</td>\n",
       "      <td>1001105</td>\n",
       "      <td>4.0</td>\n",
       "      <td>2004-03-16</td>\n",
       "      <td>8966</td>\n",
       "      <td>0</td>\n",
       "    </tr>\n",
       "  </tbody>\n",
       "</table>\n",
       "</div>"
      ],
      "text/plain": [
       "   Unnamed: 0  user_id  rating        date  movie_id  top_rated\n",
       "0     3407090  1667994     3.0  2004-05-08      7904          0\n",
       "1     1201432  1105606     2.0  2004-07-05     10359          0\n",
       "2     1313034  2129781     4.0  2004-12-06      8636          0\n",
       "3     2478179  1129575     4.0  2005-08-22      2519          0\n",
       "4     4818390  1001105     4.0  2004-03-16      8966          0"
      ]
     },
     "execution_count": 6,
     "metadata": {},
     "output_type": "execute_result"
    }
   ],
   "source": [
    "#test_hit_rate0.head()"
   ]
  },
  {
   "cell_type": "code",
   "execution_count": 7,
   "id": "dcd2edc9-1c28-438d-98d0-af3fde67bc3c",
   "metadata": {},
   "outputs": [
    {
     "data": {
      "text/plain": [
       "0    2333222\n",
       "Name: top_rated, dtype: int64"
      ]
     },
     "execution_count": 7,
     "metadata": {},
     "output_type": "execute_result"
    }
   ],
   "source": [
    "#train_hit_rate0['top_rated'].value_counts()"
   ]
  },
  {
   "cell_type": "code",
   "execution_count": 8,
   "id": "133fa9ee-ad36-4bae-a52b-cfb73fa0b5a3",
   "metadata": {},
   "outputs": [],
   "source": [
    "train_hit_rate0 = train_hit_rate0.drop(columns=['Unnamed: 0', 'top_rated', 'date'], axis=1)\n",
    "test_hit_rate0 = test_hit_rate0.drop(columns=['Unnamed: 0', 'top_rated', 'date'], axis=1)"
   ]
  },
  {
   "cell_type": "code",
   "execution_count": 9,
   "id": "2658974a-523d-4195-b8f2-b07f06557273",
   "metadata": {},
   "outputs": [],
   "source": [
    "train_hit_rate0 = train_hit_rate0[['user_id', 'movie_id', 'rating']]\n",
    "test_hit_rate0 = test_hit_rate0[['user_id', 'movie_id', 'rating']]"
   ]
  },
  {
   "cell_type": "code",
   "execution_count": 10,
   "id": "42032f61-fdcd-4b16-bba2-9d521d524791",
   "metadata": {},
   "outputs": [
    {
     "data": {
      "text/html": [
       "<div>\n",
       "<style scoped>\n",
       "    .dataframe tbody tr th:only-of-type {\n",
       "        vertical-align: middle;\n",
       "    }\n",
       "\n",
       "    .dataframe tbody tr th {\n",
       "        vertical-align: top;\n",
       "    }\n",
       "\n",
       "    .dataframe thead th {\n",
       "        text-align: right;\n",
       "    }\n",
       "</style>\n",
       "<table border=\"1\" class=\"dataframe\">\n",
       "  <thead>\n",
       "    <tr style=\"text-align: right;\">\n",
       "      <th></th>\n",
       "      <th>user_id</th>\n",
       "      <th>movie_id</th>\n",
       "      <th>rating</th>\n",
       "    </tr>\n",
       "  </thead>\n",
       "  <tbody>\n",
       "    <tr>\n",
       "      <th>0</th>\n",
       "      <td>826574</td>\n",
       "      <td>9729</td>\n",
       "      <td>4.0</td>\n",
       "    </tr>\n",
       "    <tr>\n",
       "      <th>1</th>\n",
       "      <td>2200645</td>\n",
       "      <td>1719</td>\n",
       "      <td>4.0</td>\n",
       "    </tr>\n",
       "    <tr>\n",
       "      <th>2</th>\n",
       "      <td>2150434</td>\n",
       "      <td>5356</td>\n",
       "      <td>5.0</td>\n",
       "    </tr>\n",
       "    <tr>\n",
       "      <th>3</th>\n",
       "      <td>2142065</td>\n",
       "      <td>8753</td>\n",
       "      <td>3.0</td>\n",
       "    </tr>\n",
       "    <tr>\n",
       "      <th>4</th>\n",
       "      <td>867086</td>\n",
       "      <td>6721</td>\n",
       "      <td>4.0</td>\n",
       "    </tr>\n",
       "  </tbody>\n",
       "</table>\n",
       "</div>"
      ],
      "text/plain": [
       "   user_id  movie_id  rating\n",
       "0   826574      9729     4.0\n",
       "1  2200645      1719     4.0\n",
       "2  2150434      5356     5.0\n",
       "3  2142065      8753     3.0\n",
       "4   867086      6721     4.0"
      ]
     },
     "execution_count": 10,
     "metadata": {},
     "output_type": "execute_result"
    }
   ],
   "source": [
    "#train_hit_rate0.head()"
   ]
  },
  {
   "cell_type": "code",
   "execution_count": 11,
   "id": "1cafa813-d45e-4867-af01-ca4dbb426d2f",
   "metadata": {},
   "outputs": [
    {
     "data": {
      "text/html": [
       "<div>\n",
       "<style scoped>\n",
       "    .dataframe tbody tr th:only-of-type {\n",
       "        vertical-align: middle;\n",
       "    }\n",
       "\n",
       "    .dataframe tbody tr th {\n",
       "        vertical-align: top;\n",
       "    }\n",
       "\n",
       "    .dataframe thead th {\n",
       "        text-align: right;\n",
       "    }\n",
       "</style>\n",
       "<table border=\"1\" class=\"dataframe\">\n",
       "  <thead>\n",
       "    <tr style=\"text-align: right;\">\n",
       "      <th></th>\n",
       "      <th>user_id</th>\n",
       "      <th>movie_id</th>\n",
       "      <th>rating</th>\n",
       "    </tr>\n",
       "  </thead>\n",
       "  <tbody>\n",
       "    <tr>\n",
       "      <th>0</th>\n",
       "      <td>1667994</td>\n",
       "      <td>7904</td>\n",
       "      <td>3.0</td>\n",
       "    </tr>\n",
       "    <tr>\n",
       "      <th>1</th>\n",
       "      <td>1105606</td>\n",
       "      <td>10359</td>\n",
       "      <td>2.0</td>\n",
       "    </tr>\n",
       "    <tr>\n",
       "      <th>2</th>\n",
       "      <td>2129781</td>\n",
       "      <td>8636</td>\n",
       "      <td>4.0</td>\n",
       "    </tr>\n",
       "    <tr>\n",
       "      <th>3</th>\n",
       "      <td>1129575</td>\n",
       "      <td>2519</td>\n",
       "      <td>4.0</td>\n",
       "    </tr>\n",
       "    <tr>\n",
       "      <th>4</th>\n",
       "      <td>1001105</td>\n",
       "      <td>8966</td>\n",
       "      <td>4.0</td>\n",
       "    </tr>\n",
       "  </tbody>\n",
       "</table>\n",
       "</div>"
      ],
      "text/plain": [
       "   user_id  movie_id  rating\n",
       "0  1667994      7904     3.0\n",
       "1  1105606     10359     2.0\n",
       "2  2129781      8636     4.0\n",
       "3  1129575      2519     4.0\n",
       "4  1001105      8966     4.0"
      ]
     },
     "execution_count": 11,
     "metadata": {},
     "output_type": "execute_result"
    }
   ],
   "source": [
    "#test_hit_rate0.head()"
   ]
  },
  {
   "cell_type": "code",
   "execution_count": 12,
   "id": "d632c8ae-7a61-4093-9306-91eff5b31580",
   "metadata": {},
   "outputs": [],
   "source": [
    "#os.mkdir(PATH + 'hit_rate_folds_actual')"
   ]
  },
  {
   "cell_type": "code",
   "execution_count": 13,
   "id": "53e7c1d2-a34a-4a71-8ee6-2f010fba2695",
   "metadata": {},
   "outputs": [],
   "source": [
    "HIT_RATE_PATH_ACTUAL = PATH + 'hit_rate_folds_actual'\n",
    "\n",
    "#train_hit_rate0.to_csv(HIT_RATE_PATH_ACTUAL + '/train_hr0.csv', index=False, header=None)\n",
    "#test_hit_rate0.to_csv(HIT_RATE_PATH_ACTUAL + '/test_hr0.csv', index=False, header=None)"
   ]
  },
  {
   "cell_type": "code",
   "execution_count": 14,
   "id": "4635c1d1-aa52-4a1e-ad5d-4ffc3388b5d5",
   "metadata": {},
   "outputs": [],
   "source": [
    "top_user_ratings_dict = pickle.load(open(PATH + 'top_user_ratings.pkl', 'rb'))"
   ]
  },
  {
   "cell_type": "code",
   "execution_count": 16,
   "id": "e56536fa-83ea-4fd2-a42b-20fd6828068d",
   "metadata": {},
   "outputs": [
    {
     "data": {
      "text/plain": [
       "10378"
      ]
     },
     "execution_count": 16,
     "metadata": {},
     "output_type": "execute_result"
    }
   ],
   "source": [
    "#top_user_ratings_dict[2129781]"
   ]
  },
  {
   "cell_type": "code",
   "execution_count": 48,
   "id": "13311937-31b7-40a8-8ac3-e0b2e0dccbe5",
   "metadata": {},
   "outputs": [],
   "source": [
    "def get_top_n(predictions, n=100):\n",
    "    top_n = defaultdict(list)\n",
    "    for uid, iid, true_r, est, _ in predictions:\n",
    "        top_n[uid].append((iid, est))\n",
    "    for uid, user_ratings in top_n.items():\n",
    "        user_ratings.sort(key=lambda x: x[1], reverse=True)\n",
    "        top_n[uid] = user_ratings[:n]\n",
    "    return top_n"
   ]
  },
  {
   "cell_type": "code",
   "execution_count": 49,
   "id": "b238e6e2-e31a-4a3e-bc19-dd130fc48b50",
   "metadata": {},
   "outputs": [],
   "source": [
    "reader = Reader(sep=',',rating_scale=(1,5))\n",
    "\n",
    "train_file = HIT_RATE_PATH_ACTUAL + '/train_hr0.csv'\n",
    "test_file = HIT_RATE_PATH_ACTUAL + '/test_hr0.csv'\n",
    "folds_files = [(train_file, test_file)]\n",
    "\n",
    "data = Dataset.load_from_folds(folds_files, reader=reader)\n",
    "\n",
    "pkf = PredefinedKFold()\n",
    "\n",
    "baseline_algo = NormalPredictor()\n",
    "\n",
    "for trainset, testset in pkf.split(data):\n",
    "    baseline_algo.fit(trainset)\n",
    "    preds = baseline_algo.test(testset)\n",
    "    \n",
    "top_n_baseline1a = get_top_n(preds)\n",
    "    "
   ]
  },
  {
   "cell_type": "code",
   "execution_count": 78,
   "id": "d36bfdf2-be5f-4d91-b40f-edd0d09f4da1",
   "metadata": {},
   "outputs": [
    {
     "data": {
      "text/plain": [
       "6"
      ]
     },
     "execution_count": 78,
     "metadata": {},
     "output_type": "execute_result"
    }
   ],
   "source": [
    "len(top_n_baseline1a['2129781'])"
   ]
  },
  {
   "cell_type": "code",
   "execution_count": 50,
   "id": "2c7805e3-1364-43d5-b922-338c5dc9aeec",
   "metadata": {},
   "outputs": [
    {
     "name": "stdout",
     "output_type": "stream",
     "text": [
      "0.0\n"
     ]
    }
   ],
   "source": [
    "total_users = 0\n",
    "recs_with_top_movie = 0\n",
    "\n",
    "for user_id in top_n_baseline1a.keys():\n",
    "    top_movie_id = top_user_ratings_dict[int(user_id)]\n",
    "    total_users += 1\n",
    "    recs_for_user = [int(rec[0]) for rec in top_n_baseline1a[user_id]]\n",
    "    if top_movie_id in recs_for_user:\n",
    "        recs_with_top_movie += 1\n",
    "\n",
    "hit_rate1a = recs_with_top_movie / total_users\n",
    "print(hit_rate1a)"
   ]
  },
  {
   "cell_type": "code",
   "execution_count": 51,
   "id": "a8180c35-327b-4fc8-a329-dacbb9834078",
   "metadata": {},
   "outputs": [],
   "source": [
    "reader = Reader(sep=',',rating_scale=(1,5))\n",
    "\n",
    "test_file = HIT_RATE_PATH_ACTUAL + '/train_hr0.csv'\n",
    "train_file = HIT_RATE_PATH_ACTUAL + '/test_hr0.csv'\n",
    "folds_files = [(train_file, test_file)]\n",
    "\n",
    "data = Dataset.load_from_folds(folds_files, reader=reader)\n",
    "\n",
    "pkf = PredefinedKFold()\n",
    "\n",
    "baseline_algo = NormalPredictor()\n",
    "\n",
    "for trainset, testset in pkf.split(data):\n",
    "    baseline_algo.fit(trainset)\n",
    "    preds = baseline_algo.test(testset)\n",
    "    \n",
    "top_n_baseline1b = get_top_n(preds)"
   ]
  },
  {
   "cell_type": "code",
   "execution_count": 52,
   "id": "37aab744-d2a0-412e-b022-671405ff2c2d",
   "metadata": {},
   "outputs": [
    {
     "name": "stdout",
     "output_type": "stream",
     "text": [
      "0.0\n"
     ]
    }
   ],
   "source": [
    "total_users = 0\n",
    "recs_with_top_movie = 0\n",
    "\n",
    "for user_id in top_n_baseline1b.keys():\n",
    "    top_movie_id = top_user_ratings_dict[int(user_id)]\n",
    "    total_users += 1\n",
    "    recs_for_user = [int(rec[0]) for rec in top_n_baseline1b[user_id]]\n",
    "    if top_movie_id in recs_for_user:\n",
    "        recs_with_top_movie += 1\n",
    "\n",
    "hit_rate1b = recs_with_top_movie / total_users\n",
    "print(hit_rate1b)"
   ]
  },
  {
   "cell_type": "code",
   "execution_count": 53,
   "id": "f0c2f179-170d-48b6-9278-99170188b47c",
   "metadata": {},
   "outputs": [
    {
     "name": "stdout",
     "output_type": "stream",
     "text": [
      "Estimating biases using als...\n",
      "Computing the pearson_baseline similarity matrix...\n",
      "Done computing similarity matrix.\n"
     ]
    }
   ],
   "source": [
    "reader = Reader(sep=',',rating_scale=(1,5))\n",
    "\n",
    "train_file = HIT_RATE_PATH_ACTUAL + '/train_hr0.csv'\n",
    "test_file = HIT_RATE_PATH_ACTUAL + '/test_hr0.csv'\n",
    "folds_files = [(train_file, test_file)]\n",
    "\n",
    "data = Dataset.load_from_folds(folds_files, reader=reader)\n",
    "\n",
    "pkf = PredefinedKFold()\n",
    "\n",
    "sim_options = {\"name\": \"pearson_baseline\", \"user_based\": False}\n",
    "baseline_algo = KNNBaseline(sim_options=sim_options)\n",
    "\n",
    "for trainset, testset in pkf.split(data):\n",
    "    baseline_algo.fit(trainset)\n",
    "    preds = baseline_algo.test(testset)\n",
    "    \n",
    "top_n_baseline2a = get_top_n(preds)"
   ]
  },
  {
   "cell_type": "code",
   "execution_count": 54,
   "id": "e1cb3237-fd21-4e24-909d-f7e53cee3660",
   "metadata": {},
   "outputs": [
    {
     "name": "stdout",
     "output_type": "stream",
     "text": [
      "0.0\n"
     ]
    }
   ],
   "source": [
    "total_users = 0\n",
    "recs_with_top_movie = 0\n",
    "\n",
    "for user_id in top_n_baseline2a.keys():\n",
    "    top_movie_id = top_user_ratings_dict[int(user_id)]\n",
    "    total_users += 1\n",
    "    recs_for_user = [int(rec[0]) for rec in top_n_baseline2a[user_id]]\n",
    "    if top_movie_id in recs_for_user:\n",
    "        recs_with_top_movie += 1\n",
    "\n",
    "hit_rate2a = recs_with_top_movie / total_users\n",
    "print(hit_rate2a)"
   ]
  },
  {
   "cell_type": "code",
   "execution_count": 55,
   "id": "eebef508-58a3-4ced-b969-cfb928f9dfc8",
   "metadata": {},
   "outputs": [
    {
     "name": "stdout",
     "output_type": "stream",
     "text": [
      "Estimating biases using als...\n",
      "Computing the pearson_baseline similarity matrix...\n",
      "Done computing similarity matrix.\n"
     ]
    }
   ],
   "source": [
    "reader = Reader(sep=',',rating_scale=(1,5))\n",
    "\n",
    "test_file = HIT_RATE_PATH_ACTUAL + '/train_hr0.csv'\n",
    "train_file = HIT_RATE_PATH_ACTUAL + '/test_hr0.csv'\n",
    "folds_files = [(train_file, test_file)]\n",
    "\n",
    "data = Dataset.load_from_folds(folds_files, reader=reader)\n",
    "\n",
    "pkf = PredefinedKFold()\n",
    "\n",
    "sim_options = {\"name\": \"pearson_baseline\", \"user_based\": False}\n",
    "baseline_algo = KNNBaseline(sim_options=sim_options)\n",
    "\n",
    "for trainset, testset in pkf.split(data):\n",
    "    baseline_algo.fit(trainset)\n",
    "    preds = baseline_algo.test(testset)\n",
    "    \n",
    "top_n_baseline2b = get_top_n(preds)"
   ]
  },
  {
   "cell_type": "code",
   "execution_count": 56,
   "id": "d52cca0a-6475-4fad-806f-03340c948591",
   "metadata": {},
   "outputs": [
    {
     "name": "stdout",
     "output_type": "stream",
     "text": [
      "0.0\n"
     ]
    }
   ],
   "source": [
    "total_users = 0\n",
    "recs_with_top_movie = 0\n",
    "\n",
    "for user_id in top_n_baseline2b.keys():\n",
    "    top_movie_id = top_user_ratings_dict[int(user_id)]\n",
    "    total_users += 1\n",
    "    recs_for_user = [int(rec[0]) for rec in top_n_baseline2b[user_id]]\n",
    "    if top_movie_id in recs_for_user:\n",
    "        recs_with_top_movie += 1\n",
    "\n",
    "hit_rate2b = recs_with_top_movie / total_users\n",
    "print(hit_rate2b)"
   ]
  },
  {
   "cell_type": "code",
   "execution_count": 57,
   "id": "029d236f-bfbd-46b6-beec-e26fe8be4934",
   "metadata": {},
   "outputs": [],
   "source": [
    "reader = Reader(sep=',',rating_scale=(1,5))\n",
    "\n",
    "train_file = HIT_RATE_PATH_ACTUAL + '/train_hr0.csv'\n",
    "test_file = HIT_RATE_PATH_ACTUAL + '/test_hr0.csv'\n",
    "folds_files = [(train_file, test_file)]\n",
    "\n",
    "data = Dataset.load_from_folds(folds_files, reader=reader)\n",
    "\n",
    "pkf = PredefinedKFold()\n",
    "\n",
    "baseline_algo = SVD()\n",
    "\n",
    "for trainset, testset in pkf.split(data):\n",
    "    baseline_algo.fit(trainset)\n",
    "    preds = baseline_algo.test(testset)\n",
    "    \n",
    "top_n_baseline3a = get_top_n(preds)"
   ]
  },
  {
   "cell_type": "code",
   "execution_count": 58,
   "id": "44ae61e8-209f-4175-811f-958460af4d7f",
   "metadata": {},
   "outputs": [
    {
     "name": "stdout",
     "output_type": "stream",
     "text": [
      "0.0\n"
     ]
    }
   ],
   "source": [
    "total_users = 0\n",
    "recs_with_top_movie = 0\n",
    "\n",
    "for user_id in top_n_baseline3a.keys():\n",
    "    top_movie_id = top_user_ratings_dict[int(user_id)]\n",
    "    total_users += 1\n",
    "    recs_for_user = [int(rec[0]) for rec in top_n_baseline3a[user_id]]\n",
    "    if top_movie_id in recs_for_user:\n",
    "        recs_with_top_movie += 1\n",
    "\n",
    "hit_rate3a = recs_with_top_movie / total_users\n",
    "print(hit_rate3a)"
   ]
  },
  {
   "cell_type": "code",
   "execution_count": 79,
   "id": "3efefd45-6d26-4e0e-ad74-179c1ae530af",
   "metadata": {},
   "outputs": [],
   "source": [
    "reader = Reader(sep=',',rating_scale=(1,5))\n",
    "\n",
    "test_file = HIT_RATE_PATH_ACTUAL + '/train_hr0.csv'\n",
    "train_file = HIT_RATE_PATH_ACTUAL + '/test_hr0.csv'\n",
    "folds_files = [(train_file, test_file)]\n",
    "\n",
    "data = Dataset.load_from_folds(folds_files, reader=reader)\n",
    "\n",
    "pkf = PredefinedKFold()\n",
    "\n",
    "baseline_algo = SVD()\n",
    "\n",
    "for trainset, testset in pkf.split(data):\n",
    "    baseline_algo.fit(trainset)\n",
    "    preds = baseline_algo.test(testset)\n",
    "    \n",
    "top_n_baseline3b = get_top_n(preds)"
   ]
  },
  {
   "cell_type": "code",
   "execution_count": 80,
   "id": "479f01c8-126b-4d1f-9338-108c9facbe9e",
   "metadata": {},
   "outputs": [
    {
     "data": {
      "text/plain": [
       "<surprise.prediction_algorithms.matrix_factorization.SVD at 0x7f8b73686730>"
      ]
     },
     "execution_count": 80,
     "metadata": {},
     "output_type": "execute_result"
    }
   ],
   "source": [
    "baseline_algo"
   ]
  },
  {
   "cell_type": "code",
   "execution_count": 86,
   "id": "fa1c0852-5fc8-46f0-89a7-e3216ffc0e73",
   "metadata": {},
   "outputs": [
    {
     "data": {
      "text/html": [
       "<div>\n",
       "<style scoped>\n",
       "    .dataframe tbody tr th:only-of-type {\n",
       "        vertical-align: middle;\n",
       "    }\n",
       "\n",
       "    .dataframe tbody tr th {\n",
       "        vertical-align: top;\n",
       "    }\n",
       "\n",
       "    .dataframe thead th {\n",
       "        text-align: right;\n",
       "    }\n",
       "</style>\n",
       "<table border=\"1\" class=\"dataframe\">\n",
       "  <thead>\n",
       "    <tr style=\"text-align: right;\">\n",
       "      <th></th>\n",
       "      <th>0</th>\n",
       "    </tr>\n",
       "  </thead>\n",
       "  <tbody>\n",
       "    <tr>\n",
       "      <th>841872</th>\n",
       "      <td>14454</td>\n",
       "    </tr>\n",
       "    <tr>\n",
       "      <th>689085</th>\n",
       "      <td>299</td>\n",
       "    </tr>\n",
       "    <tr>\n",
       "      <th>2529854</th>\n",
       "      <td>11165</td>\n",
       "    </tr>\n",
       "    <tr>\n",
       "      <th>2597445</th>\n",
       "      <td>10886</td>\n",
       "    </tr>\n",
       "    <tr>\n",
       "      <th>2336656</th>\n",
       "      <td>3282</td>\n",
       "    </tr>\n",
       "  </tbody>\n",
       "</table>\n",
       "</div>"
      ],
      "text/plain": [
       "             0\n",
       "841872   14454\n",
       "689085     299\n",
       "2529854  11165\n",
       "2597445  10886\n",
       "2336656   3282"
      ]
     },
     "execution_count": 86,
     "metadata": {},
     "output_type": "execute_result"
    }
   ],
   "source": [
    "top_user_ratings_df = pd.DataFrame.from_dict(top_user_ratings_dict, orient='index')\n",
    "top_user_ratings_df.head()"
   ]
  },
  {
   "cell_type": "code",
   "execution_count": 87,
   "id": "26195164-1eb5-440d-bd20-a6d8f660d02f",
   "metadata": {},
   "outputs": [
    {
     "data": {
      "text/plain": [
       "264059"
      ]
     },
     "execution_count": 87,
     "metadata": {},
     "output_type": "execute_result"
    }
   ],
   "source": [
    "len(top_user_ratings_df)"
   ]
  },
  {
   "cell_type": "code",
   "execution_count": 88,
   "id": "0b4d81ef-1baa-43a2-b4c4-699c4e1d0592",
   "metadata": {},
   "outputs": [
    {
     "data": {
      "text/html": [
       "<div>\n",
       "<style scoped>\n",
       "    .dataframe tbody tr th:only-of-type {\n",
       "        vertical-align: middle;\n",
       "    }\n",
       "\n",
       "    .dataframe tbody tr th {\n",
       "        vertical-align: top;\n",
       "    }\n",
       "\n",
       "    .dataframe thead th {\n",
       "        text-align: right;\n",
       "    }\n",
       "</style>\n",
       "<table border=\"1\" class=\"dataframe\">\n",
       "  <thead>\n",
       "    <tr style=\"text-align: right;\">\n",
       "      <th></th>\n",
       "      <th>index</th>\n",
       "      <th>0</th>\n",
       "    </tr>\n",
       "  </thead>\n",
       "  <tbody>\n",
       "    <tr>\n",
       "      <th>0</th>\n",
       "      <td>841872</td>\n",
       "      <td>14454</td>\n",
       "    </tr>\n",
       "    <tr>\n",
       "      <th>1</th>\n",
       "      <td>689085</td>\n",
       "      <td>299</td>\n",
       "    </tr>\n",
       "    <tr>\n",
       "      <th>2</th>\n",
       "      <td>2529854</td>\n",
       "      <td>11165</td>\n",
       "    </tr>\n",
       "    <tr>\n",
       "      <th>3</th>\n",
       "      <td>2597445</td>\n",
       "      <td>10886</td>\n",
       "    </tr>\n",
       "    <tr>\n",
       "      <th>4</th>\n",
       "      <td>2336656</td>\n",
       "      <td>3282</td>\n",
       "    </tr>\n",
       "  </tbody>\n",
       "</table>\n",
       "</div>"
      ],
      "text/plain": [
       "     index      0\n",
       "0   841872  14454\n",
       "1   689085    299\n",
       "2  2529854  11165\n",
       "3  2597445  10886\n",
       "4  2336656   3282"
      ]
     },
     "execution_count": 88,
     "metadata": {},
     "output_type": "execute_result"
    }
   ],
   "source": [
    "top_user_ratings_df = top_user_ratings_df.reset_index()\n",
    "top_user_ratings_df.head()"
   ]
  },
  {
   "cell_type": "code",
   "execution_count": 89,
   "id": "d96c030a-37e5-4efb-a0cb-01d17b4f4771",
   "metadata": {},
   "outputs": [
    {
     "data": {
      "text/html": [
       "<div>\n",
       "<style scoped>\n",
       "    .dataframe tbody tr th:only-of-type {\n",
       "        vertical-align: middle;\n",
       "    }\n",
       "\n",
       "    .dataframe tbody tr th {\n",
       "        vertical-align: top;\n",
       "    }\n",
       "\n",
       "    .dataframe thead th {\n",
       "        text-align: right;\n",
       "    }\n",
       "</style>\n",
       "<table border=\"1\" class=\"dataframe\">\n",
       "  <thead>\n",
       "    <tr style=\"text-align: right;\">\n",
       "      <th></th>\n",
       "      <th>user_id</th>\n",
       "      <th>movie_id</th>\n",
       "    </tr>\n",
       "  </thead>\n",
       "  <tbody>\n",
       "    <tr>\n",
       "      <th>0</th>\n",
       "      <td>841872</td>\n",
       "      <td>14454</td>\n",
       "    </tr>\n",
       "    <tr>\n",
       "      <th>1</th>\n",
       "      <td>689085</td>\n",
       "      <td>299</td>\n",
       "    </tr>\n",
       "    <tr>\n",
       "      <th>2</th>\n",
       "      <td>2529854</td>\n",
       "      <td>11165</td>\n",
       "    </tr>\n",
       "    <tr>\n",
       "      <th>3</th>\n",
       "      <td>2597445</td>\n",
       "      <td>10886</td>\n",
       "    </tr>\n",
       "    <tr>\n",
       "      <th>4</th>\n",
       "      <td>2336656</td>\n",
       "      <td>3282</td>\n",
       "    </tr>\n",
       "  </tbody>\n",
       "</table>\n",
       "</div>"
      ],
      "text/plain": [
       "   user_id  movie_id\n",
       "0   841872     14454\n",
       "1   689085       299\n",
       "2  2529854     11165\n",
       "3  2597445     10886\n",
       "4  2336656      3282"
      ]
     },
     "execution_count": 89,
     "metadata": {},
     "output_type": "execute_result"
    }
   ],
   "source": [
    "top_user_ratings_df.columns = ['user_id', 'movie_id']\n",
    "top_user_ratings_df.head()"
   ]
  },
  {
   "cell_type": "code",
   "execution_count": 90,
   "id": "f41beb83-d022-4a51-b267-80aa5ad67039",
   "metadata": {},
   "outputs": [
    {
     "data": {
      "text/html": [
       "<div>\n",
       "<style scoped>\n",
       "    .dataframe tbody tr th:only-of-type {\n",
       "        vertical-align: middle;\n",
       "    }\n",
       "\n",
       "    .dataframe tbody tr th {\n",
       "        vertical-align: top;\n",
       "    }\n",
       "\n",
       "    .dataframe thead th {\n",
       "        text-align: right;\n",
       "    }\n",
       "</style>\n",
       "<table border=\"1\" class=\"dataframe\">\n",
       "  <thead>\n",
       "    <tr style=\"text-align: right;\">\n",
       "      <th></th>\n",
       "      <th>Unnamed: 0</th>\n",
       "      <th>user_id</th>\n",
       "      <th>rating</th>\n",
       "      <th>date</th>\n",
       "      <th>movie_id</th>\n",
       "    </tr>\n",
       "  </thead>\n",
       "  <tbody>\n",
       "    <tr>\n",
       "      <th>0</th>\n",
       "      <td>36420325</td>\n",
       "      <td>841872</td>\n",
       "      <td>3.0</td>\n",
       "      <td>2003-03-21</td>\n",
       "      <td>6464</td>\n",
       "    </tr>\n",
       "    <tr>\n",
       "      <th>1</th>\n",
       "      <td>42791681</td>\n",
       "      <td>689085</td>\n",
       "      <td>2.0</td>\n",
       "      <td>2004-05-19</td>\n",
       "      <td>7590</td>\n",
       "    </tr>\n",
       "    <tr>\n",
       "      <th>2</th>\n",
       "      <td>64859971</td>\n",
       "      <td>2529854</td>\n",
       "      <td>4.0</td>\n",
       "      <td>2005-10-22</td>\n",
       "      <td>11837</td>\n",
       "    </tr>\n",
       "    <tr>\n",
       "      <th>3</th>\n",
       "      <td>59155484</td>\n",
       "      <td>2597445</td>\n",
       "      <td>4.0</td>\n",
       "      <td>2005-01-25</td>\n",
       "      <td>10886</td>\n",
       "    </tr>\n",
       "    <tr>\n",
       "      <th>4</th>\n",
       "      <td>30218564</td>\n",
       "      <td>2336656</td>\n",
       "      <td>3.0</td>\n",
       "      <td>2005-07-01</td>\n",
       "      <td>5522</td>\n",
       "    </tr>\n",
       "  </tbody>\n",
       "</table>\n",
       "</div>"
      ],
      "text/plain": [
       "   Unnamed: 0  user_id  rating        date  movie_id\n",
       "0    36420325   841872     3.0  2003-03-21      6464\n",
       "1    42791681   689085     2.0  2004-05-19      7590\n",
       "2    64859971  2529854     4.0  2005-10-22     11837\n",
       "3    59155484  2597445     4.0  2005-01-25     10886\n",
       "4    30218564  2336656     3.0  2005-07-01      5522"
      ]
     },
     "execution_count": 90,
     "metadata": {},
     "output_type": "execute_result"
    }
   ],
   "source": [
    "df_ratings = pd.read_csv('netflix_sample.csv')\n",
    "df_ratings.head()"
   ]
  },
  {
   "cell_type": "code",
   "execution_count": 91,
   "id": "81080cf6-02f1-41a4-844b-996672505fb6",
   "metadata": {},
   "outputs": [
    {
     "data": {
      "text/html": [
       "<div>\n",
       "<style scoped>\n",
       "    .dataframe tbody tr th:only-of-type {\n",
       "        vertical-align: middle;\n",
       "    }\n",
       "\n",
       "    .dataframe tbody tr th {\n",
       "        vertical-align: top;\n",
       "    }\n",
       "\n",
       "    .dataframe thead th {\n",
       "        text-align: right;\n",
       "    }\n",
       "</style>\n",
       "<table border=\"1\" class=\"dataframe\">\n",
       "  <thead>\n",
       "    <tr style=\"text-align: right;\">\n",
       "      <th></th>\n",
       "      <th>user_id</th>\n",
       "      <th>rating</th>\n",
       "      <th>date</th>\n",
       "      <th>movie_id</th>\n",
       "    </tr>\n",
       "  </thead>\n",
       "  <tbody>\n",
       "    <tr>\n",
       "      <th>0</th>\n",
       "      <td>841872</td>\n",
       "      <td>3.0</td>\n",
       "      <td>2003-03-21</td>\n",
       "      <td>6464</td>\n",
       "    </tr>\n",
       "    <tr>\n",
       "      <th>1</th>\n",
       "      <td>689085</td>\n",
       "      <td>2.0</td>\n",
       "      <td>2004-05-19</td>\n",
       "      <td>7590</td>\n",
       "    </tr>\n",
       "    <tr>\n",
       "      <th>2</th>\n",
       "      <td>2529854</td>\n",
       "      <td>4.0</td>\n",
       "      <td>2005-10-22</td>\n",
       "      <td>11837</td>\n",
       "    </tr>\n",
       "    <tr>\n",
       "      <th>3</th>\n",
       "      <td>2597445</td>\n",
       "      <td>4.0</td>\n",
       "      <td>2005-01-25</td>\n",
       "      <td>10886</td>\n",
       "    </tr>\n",
       "    <tr>\n",
       "      <th>4</th>\n",
       "      <td>2336656</td>\n",
       "      <td>3.0</td>\n",
       "      <td>2005-07-01</td>\n",
       "      <td>5522</td>\n",
       "    </tr>\n",
       "  </tbody>\n",
       "</table>\n",
       "</div>"
      ],
      "text/plain": [
       "   user_id  rating        date  movie_id\n",
       "0   841872     3.0  2003-03-21      6464\n",
       "1   689085     2.0  2004-05-19      7590\n",
       "2  2529854     4.0  2005-10-22     11837\n",
       "3  2597445     4.0  2005-01-25     10886\n",
       "4  2336656     3.0  2005-07-01      5522"
      ]
     },
     "execution_count": 91,
     "metadata": {},
     "output_type": "execute_result"
    }
   ],
   "source": [
    "df_ratings = df_ratings.drop('Unnamed: 0', axis=1)\n",
    "df_ratings.head()"
   ]
  },
  {
   "cell_type": "code",
   "execution_count": 92,
   "id": "c5896013-7798-43f0-adbd-38a2390c17bd",
   "metadata": {},
   "outputs": [
    {
     "data": {
      "text/html": [
       "<div>\n",
       "<style scoped>\n",
       "    .dataframe tbody tr th:only-of-type {\n",
       "        vertical-align: middle;\n",
       "    }\n",
       "\n",
       "    .dataframe tbody tr th {\n",
       "        vertical-align: top;\n",
       "    }\n",
       "\n",
       "    .dataframe thead th {\n",
       "        text-align: right;\n",
       "    }\n",
       "</style>\n",
       "<table border=\"1\" class=\"dataframe\">\n",
       "  <thead>\n",
       "    <tr style=\"text-align: right;\">\n",
       "      <th></th>\n",
       "      <th>user_id</th>\n",
       "      <th>movie_id</th>\n",
       "      <th>rating</th>\n",
       "      <th>date</th>\n",
       "    </tr>\n",
       "  </thead>\n",
       "  <tbody>\n",
       "    <tr>\n",
       "      <th>0</th>\n",
       "      <td>841872</td>\n",
       "      <td>14454</td>\n",
       "      <td>5.0</td>\n",
       "      <td>2004-04-25</td>\n",
       "    </tr>\n",
       "    <tr>\n",
       "      <th>1</th>\n",
       "      <td>689085</td>\n",
       "      <td>299</td>\n",
       "      <td>5.0</td>\n",
       "      <td>2003-12-02</td>\n",
       "    </tr>\n",
       "    <tr>\n",
       "      <th>2</th>\n",
       "      <td>2529854</td>\n",
       "      <td>11165</td>\n",
       "      <td>5.0</td>\n",
       "      <td>2005-10-22</td>\n",
       "    </tr>\n",
       "    <tr>\n",
       "      <th>3</th>\n",
       "      <td>2597445</td>\n",
       "      <td>10886</td>\n",
       "      <td>4.0</td>\n",
       "      <td>2005-01-25</td>\n",
       "    </tr>\n",
       "    <tr>\n",
       "      <th>4</th>\n",
       "      <td>2336656</td>\n",
       "      <td>3282</td>\n",
       "      <td>5.0</td>\n",
       "      <td>2005-06-11</td>\n",
       "    </tr>\n",
       "  </tbody>\n",
       "</table>\n",
       "</div>"
      ],
      "text/plain": [
       "   user_id  movie_id  rating        date\n",
       "0   841872     14454     5.0  2004-04-25\n",
       "1   689085       299     5.0  2003-12-02\n",
       "2  2529854     11165     5.0  2005-10-22\n",
       "3  2597445     10886     4.0  2005-01-25\n",
       "4  2336656      3282     5.0  2005-06-11"
      ]
     },
     "execution_count": 92,
     "metadata": {},
     "output_type": "execute_result"
    }
   ],
   "source": [
    "top_ratings_df = pd.merge(top_user_ratings_df, df_ratings, on=['user_id', 'movie_id'], how='left')\n",
    "top_ratings_df.head()"
   ]
  },
  {
   "cell_type": "code",
   "execution_count": 93,
   "id": "c94ebe17-4efa-4391-a509-b7f3e189fe8e",
   "metadata": {},
   "outputs": [
    {
     "data": {
      "text/html": [
       "<div>\n",
       "<style scoped>\n",
       "    .dataframe tbody tr th:only-of-type {\n",
       "        vertical-align: middle;\n",
       "    }\n",
       "\n",
       "    .dataframe tbody tr th {\n",
       "        vertical-align: top;\n",
       "    }\n",
       "\n",
       "    .dataframe thead th {\n",
       "        text-align: right;\n",
       "    }\n",
       "</style>\n",
       "<table border=\"1\" class=\"dataframe\">\n",
       "  <thead>\n",
       "    <tr style=\"text-align: right;\">\n",
       "      <th></th>\n",
       "      <th>user_id</th>\n",
       "      <th>movie_id</th>\n",
       "    </tr>\n",
       "  </thead>\n",
       "  <tbody>\n",
       "    <tr>\n",
       "      <th>0</th>\n",
       "      <td>841872</td>\n",
       "      <td>14454</td>\n",
       "    </tr>\n",
       "    <tr>\n",
       "      <th>1</th>\n",
       "      <td>689085</td>\n",
       "      <td>299</td>\n",
       "    </tr>\n",
       "    <tr>\n",
       "      <th>2</th>\n",
       "      <td>2529854</td>\n",
       "      <td>11165</td>\n",
       "    </tr>\n",
       "    <tr>\n",
       "      <th>3</th>\n",
       "      <td>2597445</td>\n",
       "      <td>10886</td>\n",
       "    </tr>\n",
       "    <tr>\n",
       "      <th>4</th>\n",
       "      <td>2336656</td>\n",
       "      <td>3282</td>\n",
       "    </tr>\n",
       "  </tbody>\n",
       "</table>\n",
       "</div>"
      ],
      "text/plain": [
       "   user_id  movie_id\n",
       "0   841872     14454\n",
       "1   689085       299\n",
       "2  2529854     11165\n",
       "3  2597445     10886\n",
       "4  2336656      3282"
      ]
     },
     "execution_count": 93,
     "metadata": {},
     "output_type": "execute_result"
    }
   ],
   "source": [
    "top_user_ratings_df.head()"
   ]
  },
  {
   "cell_type": "code",
   "execution_count": 94,
   "id": "2574c411-9be4-4a11-9fb3-44912cce69b4",
   "metadata": {},
   "outputs": [
    {
     "data": {
      "text/plain": [
       "10886"
      ]
     },
     "execution_count": 94,
     "metadata": {},
     "output_type": "execute_result"
    }
   ],
   "source": [
    "top_user_ratings_dict[2597445]"
   ]
  },
  {
   "cell_type": "code",
   "execution_count": 95,
   "id": "300802ac-c3da-4ed2-9ae4-c7b8b4c989dd",
   "metadata": {},
   "outputs": [
    {
     "data": {
      "text/html": [
       "<div>\n",
       "<style scoped>\n",
       "    .dataframe tbody tr th:only-of-type {\n",
       "        vertical-align: middle;\n",
       "    }\n",
       "\n",
       "    .dataframe tbody tr th {\n",
       "        vertical-align: top;\n",
       "    }\n",
       "\n",
       "    .dataframe thead th {\n",
       "        text-align: right;\n",
       "    }\n",
       "</style>\n",
       "<table border=\"1\" class=\"dataframe\">\n",
       "  <thead>\n",
       "    <tr style=\"text-align: right;\">\n",
       "      <th></th>\n",
       "      <th>user_id</th>\n",
       "      <th>movie_id</th>\n",
       "      <th>rating</th>\n",
       "    </tr>\n",
       "  </thead>\n",
       "  <tbody>\n",
       "    <tr>\n",
       "      <th>0</th>\n",
       "      <td>841872</td>\n",
       "      <td>14454</td>\n",
       "      <td>5.0</td>\n",
       "    </tr>\n",
       "    <tr>\n",
       "      <th>1</th>\n",
       "      <td>689085</td>\n",
       "      <td>299</td>\n",
       "      <td>5.0</td>\n",
       "    </tr>\n",
       "    <tr>\n",
       "      <th>2</th>\n",
       "      <td>2529854</td>\n",
       "      <td>11165</td>\n",
       "      <td>5.0</td>\n",
       "    </tr>\n",
       "    <tr>\n",
       "      <th>3</th>\n",
       "      <td>2597445</td>\n",
       "      <td>10886</td>\n",
       "      <td>4.0</td>\n",
       "    </tr>\n",
       "    <tr>\n",
       "      <th>4</th>\n",
       "      <td>2336656</td>\n",
       "      <td>3282</td>\n",
       "      <td>5.0</td>\n",
       "    </tr>\n",
       "  </tbody>\n",
       "</table>\n",
       "</div>"
      ],
      "text/plain": [
       "   user_id  movie_id  rating\n",
       "0   841872     14454     5.0\n",
       "1   689085       299     5.0\n",
       "2  2529854     11165     5.0\n",
       "3  2597445     10886     4.0\n",
       "4  2336656      3282     5.0"
      ]
     },
     "execution_count": 95,
     "metadata": {},
     "output_type": "execute_result"
    }
   ],
   "source": [
    "top_ratings_df = top_ratings_df[['user_id', 'movie_id', 'rating']]\n",
    "top_ratings_df.head()"
   ]
  },
  {
   "cell_type": "code",
   "execution_count": 102,
   "id": "72b79d3d-5b13-4904-82f0-73be8cf1ffe0",
   "metadata": {},
   "outputs": [],
   "source": [
    "#preds_idk = []\n",
    "\n",
    "pred_idk = baseline_algo.predict(str(top_ratings_df.loc[0]['user_id']),\n",
    "                     str(top_ratings_df.loc[0]['movie_id']),\n",
    "                     top_ratings_df.loc[0]['rating'])"
   ]
  },
  {
   "cell_type": "code",
   "execution_count": 106,
   "id": "8c066257-daaf-4e0c-8364-105bfdf18f52",
   "metadata": {},
   "outputs": [
    {
     "data": {
      "text/plain": [
       "3.6324884644495894"
      ]
     },
     "execution_count": 106,
     "metadata": {},
     "output_type": "execute_result"
    }
   ],
   "source": [
    "pred_idk[3]"
   ]
  },
  {
   "cell_type": "code",
   "execution_count": 101,
   "id": "45f72566-7378-44f7-bf9c-5391732536e8",
   "metadata": {},
   "outputs": [
    {
     "data": {
      "text/plain": [
       "[('1110', 4.162051742128112),\n",
       " ('14766', 3.8500097325128944),\n",
       " ('482', 3.8320850742477948),\n",
       " ('13651', 3.8071741374251546),\n",
       " ('1428', 3.7867858068428064),\n",
       " ('30', 3.7856255844736633),\n",
       " ('6037', 3.6776904450835737),\n",
       " ('12299', 3.6049011570635288),\n",
       " ('2015', 3.594508651448337),\n",
       " ('14254', 3.593241683130565),\n",
       " ('10621', 3.5725821717022455),\n",
       " ('2699', 3.400001833126414),\n",
       " ('14545', 3.3688461630852915),\n",
       " ('13342', 3.3638076728643638),\n",
       " ('4420', 3.209981818700854),\n",
       " ('4951', 3.1818164641556432),\n",
       " ('2112', 3.137173230056924),\n",
       " ('15555', 3.0809482131922463),\n",
       " ('11677', 3.0799486449830975),\n",
       " ('7991', 2.969385034387851),\n",
       " ('16242', 2.8911099924555947),\n",
       " ('13466', 2.6534115578855255)]"
      ]
     },
     "execution_count": 101,
     "metadata": {},
     "output_type": "execute_result"
    }
   ],
   "source": [
    "top_n_baseline3b['841872']"
   ]
  },
  {
   "cell_type": "code",
   "execution_count": 109,
   "id": "9a9aee33-e646-4df6-999f-37e22cbcadc4",
   "metadata": {},
   "outputs": [
    {
     "name": "stdout",
     "output_type": "stream",
     "text": [
      "0.4611265265051608\n"
     ]
    }
   ],
   "source": [
    "total_users = 0\n",
    "recs_with_top_movie = 0\n",
    "\n",
    "for user_id in top_n_baseline3b.keys():\n",
    "    top_movie_id = top_user_ratings_dict[int(user_id)]\n",
    "    total_users += 1\n",
    "    num_recs = len(top_n_baseline3b[user_id])\n",
    "    top_number = int(num_recs * 0.25)\n",
    "    boundary_for_user = [rec[1] for rec in top_n_baseline3b[user_id]][top_number]\n",
    "    pred_top_movie = baseline_algo.predict(user_id, \n",
    "                                           str(top_movie_id), \n",
    "                                           top_ratings_df[(top_ratings_df['user_id']==int(user_id)) &\n",
    "                                                         (top_ratings_df['movie_id']==top_movie_id)]['rating'])\n",
    "    if float(pred_top_movie[3]) > boundary_for_user:\n",
    "        recs_with_top_movie += 1\n",
    "    \n",
    "\n",
    "hit_rate3b = recs_with_top_movie / total_users\n",
    "print(hit_rate3b)"
   ]
  },
  {
   "cell_type": "code",
   "execution_count": 110,
   "id": "2b5617b8-123f-40ce-9e83-bb465a2d38f8",
   "metadata": {},
   "outputs": [],
   "source": [
    "top_ratings_df.to_csv(PATH + 'top_ratings_df.csv', index=False)"
   ]
  },
  {
   "cell_type": "code",
   "execution_count": 76,
   "id": "9d977594-6df6-4b23-a9b5-c0015094824f",
   "metadata": {},
   "outputs": [
    {
     "data": {
      "text/plain": [
       "14"
      ]
     },
     "execution_count": 76,
     "metadata": {},
     "output_type": "execute_result"
    }
   ],
   "source": [
    "len([int(rec[0]) for rec in top_n_baseline3b['']])"
   ]
  },
  {
   "cell_type": "code",
   "execution_count": null,
   "id": "6cac65c7-e98a-4a90-94e5-40ab368c44eb",
   "metadata": {},
   "outputs": [],
   "source": [
    "train_hr0 = pd.read_csv(HIT_RATE_PATH_ACTUAL + '/train_hr0.csv', header=None)\n",
    "test_hr0 = pd.read_csv(HIT_RATE_PATH_ACTUAL + '/test_hr0.csv', header=None)"
   ]
  },
  {
   "cell_type": "code",
   "execution_count": null,
   "id": "70eddeb4-3626-47a3-9ce2-31794b8f478d",
   "metadata": {},
   "outputs": [],
   "source": [
    "train_hr0.columns = ['user_id', 'movie_id', 'rating']\n",
    "test_hr0.columns = ['user_id', 'movie_id', 'rating']"
   ]
  },
  {
   "cell_type": "code",
   "execution_count": null,
   "id": "6793fb66-63d8-43de-9510-99751f913529",
   "metadata": {},
   "outputs": [],
   "source": [
    "train_movie_ids = list(train_hr0['movie_id'].unique())\n",
    "test_movie_ids = list(test_hr0['movie_id'].unique())"
   ]
  },
  {
   "cell_type": "code",
   "execution_count": null,
   "id": "56ee4bf9-ef33-429d-a0eb-b765313ed5a9",
   "metadata": {},
   "outputs": [],
   "source": [
    "train_user_ids = list(train_hr0['user_id'].unique())\n",
    "test_user_ids = list(test_hr0['user_id'].unique())"
   ]
  },
  {
   "cell_type": "code",
   "execution_count": null,
   "id": "daf8d77e-775e-436e-aed3-ec747895775a",
   "metadata": {},
   "outputs": [],
   "source": [
    "class DeepRecRmseModel(tf.keras.Model):\n",
    "    \n",
    "    def __init__(self):\n",
    "        super().__init__()\n",
    "        embedding_dimension = 16\n",
    "        \n",
    "        self.user_embeddings = tf.keras.Sequential([\n",
    "            tf.keras.layers.IntegerLookup(vocabulary=train_user_ids, mask_token=None),\n",
    "            tf.keras.layers.Embedding(len(train_user_ids)+1, embedding_dimension)\n",
    "        ])\n",
    "        \n",
    "        self.movie_embeddings = tf.keras.Sequential([\n",
    "            tf.keras.layers.IntegerLookup(vocabulary=train_movie_ids, mask_token=None),\n",
    "            tf.keras.layers.Embedding(len(train_movie_ids)+1, embedding_dimension)\n",
    "        ])\n",
    "        \n",
    "        self.ratings = tf.keras.Sequential([\n",
    "            tf.keras.layers.Dense(32, activation='relu'),\n",
    "            tf.keras.layers.Dense(16, activation='relu'),\n",
    "            tf.keras.layers.Dense(1)\n",
    "        ])\n",
    "        \n",
    "    def call(self, inputs):\n",
    "        user_id, movie_id = inputs\n",
    "        user_embedding = self.user_embeddings(user_id)\n",
    "        movie_embedding = self.movie_embeddings(movie_id)\n",
    "        return self.ratings(tf.concat([tf.reshape(user_embedding, shape=[-1,1]), \n",
    "                                       tf.reshape(movie_embedding, shape=[-1,1])], axis=1))"
   ]
  },
  {
   "cell_type": "code",
   "execution_count": null,
   "id": "782fd563-9574-44af-b008-a6c1937d7a28",
   "metadata": {},
   "outputs": [],
   "source": [
    "class NetflixRmseModel(tfrs.models.Model):\n",
    "    \n",
    "    def __init__(self):\n",
    "        super().__init__()\n",
    "        self.rmse_model: tf.keras.Model = DeepRecRmseModel()\n",
    "        self.task: tf.keras.layers.Layer = tfrs.tasks.Ranking(loss=tf.keras.losses.MeanSquaredError(),\n",
    "                                                             metrics=[tf.keras.metrics.RootMeanSquaredError()])\n",
    "        \n",
    "    def call(self, features: Dict[str, tf.Tensor]) -> tf.Tensor:\n",
    "        return self.rmse_model((features['user_id'], features['movie_id']))\n",
    "    \n",
    "    def compute_loss(self, features: Dict[Text, tf.Tensor], training=False) -> tf.Tensor:\n",
    "        labels = features.pop('rating')\n",
    "        predicted_ratings = self(features)\n",
    "        return self.task(labels=labels, predictions=predicted_ratings)"
   ]
  },
  {
   "cell_type": "code",
   "execution_count": null,
   "id": "9b5832dc-48dc-476a-8fcf-b66eca906d64",
   "metadata": {},
   "outputs": [],
   "source": [
    "deep_baseline_model = NetflixRmseModel()\n",
    "deep_baseline_model.compile(optimizer=tf.keras.optimizers.Adagrad(learning_rate=0.3))"
   ]
  },
  {
   "cell_type": "code",
   "execution_count": null,
   "id": "22b63b87-b535-4a7c-ad5e-2c42a0aa8593",
   "metadata": {},
   "outputs": [],
   "source": [
    "train_hr0_tf = tf.data.Dataset.from_tensor_slices(dict(train_hr0))\n",
    "\n",
    "for x in train_rmse0_tf.take(5):\n",
    "    print(x)"
   ]
  },
  {
   "cell_type": "code",
   "execution_count": null,
   "id": "290b803b-e607-476b-ab4c-da22e3c72749",
   "metadata": {},
   "outputs": [],
   "source": [
    "train_rmse0_tf = train_rmse0_tf.map(lambda x: {'user_id': x['user_id'],\n",
    "    'movie_id': x['movie_id'],\n",
    "    'rating': x['rating']\n",
    "})"
   ]
  },
  {
   "cell_type": "code",
   "execution_count": null,
   "id": "8b141de5-a27f-4140-8083-6fc1b60a5eb1",
   "metadata": {},
   "outputs": [],
   "source": [
    "history_baseline = deep_baseline_model.fit(train_rmse0_tf, epochs=1, batch_size=20000)"
   ]
  }
 ],
 "metadata": {
  "kernelspec": {
   "display_name": "Python 3",
   "language": "python",
   "name": "python3"
  },
  "language_info": {
   "codemirror_mode": {
    "name": "ipython",
    "version": 3
   },
   "file_extension": ".py",
   "mimetype": "text/x-python",
   "name": "python",
   "nbconvert_exporter": "python",
   "pygments_lexer": "ipython3",
   "version": "3.8.8"
  }
 },
 "nbformat": 4,
 "nbformat_minor": 5
}
